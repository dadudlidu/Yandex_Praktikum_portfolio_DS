{
 "cells": [
  {
   "cell_type": "markdown",
   "metadata": {},
   "source": [
    "# Рекомендация тарифов"
   ]
  },
  {
   "cell_type": "markdown",
   "metadata": {},
   "source": [
    "В вашем распоряжении данные о поведении клиентов, которые уже перешли на эти тарифы (из проекта курса «Статистический анализ данных»). Нужно построить модель для задачи классификации, которая выберет подходящий тариф. Предобработка данных не понадобится — вы её уже сделали.\n",
    "\n",
    "Постройте модель с максимально большим значением *accuracy*. Чтобы сдать проект успешно, нужно довести долю правильных ответов по крайней мере до 0.75. Проверьте *accuracy* на тестовой выборке самостоятельно."
   ]
  },
  {
   "cell_type": "markdown",
   "metadata": {},
   "source": [
    "## План действий:\n",
    "1. *Открыть файл и изучить его*\n",
    "2. *Разделить исходные данные на обучающую, валидационную и тестовую выборки*\n",
    "3. *Исследовать качество разных моделей, меняя гиперпараметры*\n",
    "4. *Проверить качество модели*\n",
    "5. *Gроверить модели на вменяемость*"
   ]
  },
  {
   "cell_type": "markdown",
   "metadata": {},
   "source": [
    "## 1. Откройте и изучите файл"
   ]
  },
  {
   "cell_type": "markdown",
   "metadata": {},
   "source": [
    "### Импорт нужных библиотек"
   ]
  },
  {
   "cell_type": "code",
   "execution_count": 1,
   "metadata": {},
   "outputs": [],
   "source": [
    "import pandas as pd\n",
    "import matplotlib.pyplot as plt\n",
    "import seaborn as sns\n",
    "\n",
    "from sklearn.tree import DecisionTreeClassifier\n",
    "from sklearn.ensemble import RandomForestClassifier\n",
    "from sklearn.linear_model import LogisticRegression\n",
    "from sklearn.dummy import DummyClassifier\n",
    "\n",
    "from sklearn.model_selection import train_test_split\n",
    "from sklearn.metrics import accuracy_score\n",
    "\n",
    "import warnings"
   ]
  },
  {
   "cell_type": "code",
   "execution_count": 2,
   "metadata": {},
   "outputs": [],
   "source": [
    "warnings.filterwarnings('ignore') \n",
    "\n",
    "pd.options.display.max_rows = 100\n",
    "pd.options.display.max_columns = 100\n",
    "\n",
    "%matplotlib inline"
   ]
  },
  {
   "cell_type": "code",
   "execution_count": 3,
   "metadata": {},
   "outputs": [],
   "source": [
    "# Функция для вывода общей информации о датасете\n",
    "def df_info(df):\n",
    "    df.info()\n",
    "    display(df.head(10))\n",
    "    print(f'Кол-во дубликатов: {df.duplicated().sum()}')\n",
    "    print()\n",
    "    print(f'Кол-во пропусков: {df.isnull().sum()}')\n",
    "\n",
    "\n",
    "def diff(df, column, title, xlabel=None, ylabel=None):\n",
    "    plt.figure(figsize=(10, 6))\n",
    "    sns.countplot(x=column, data = df, palette = 'husl')\n",
    "    plt.title(title,fontsize=20)\n",
    "    plt.xlabel(xlabel, fontsize=15)\n",
    "    plt.ylabel(ylabel, fontsize=15)\n",
    "    plt.grid(True)\n",
    "    plt.show()"
   ]
  },
  {
   "cell_type": "markdown",
   "metadata": {},
   "source": [
    "### Краткий обзор данных"
   ]
  },
  {
   "cell_type": "code",
   "execution_count": 4,
   "metadata": {},
   "outputs": [],
   "source": [
    "#users_behavior = pd.read_csv('/datasets/users_behavior.csv')\n",
    "\n",
    "users_behavior = pd.read_csv(r'D:\\Яндекс Практикум\\Projects\\Project 5\\users_behavior.csv')"
   ]
  },
  {
   "cell_type": "code",
   "execution_count": 5,
   "metadata": {},
   "outputs": [
    {
     "name": "stdout",
     "output_type": "stream",
     "text": [
      "<class 'pandas.core.frame.DataFrame'>\n",
      "RangeIndex: 3214 entries, 0 to 3213\n",
      "Data columns (total 5 columns):\n",
      " #   Column    Non-Null Count  Dtype  \n",
      "---  ------    --------------  -----  \n",
      " 0   calls     3214 non-null   float64\n",
      " 1   minutes   3214 non-null   float64\n",
      " 2   messages  3214 non-null   float64\n",
      " 3   mb_used   3214 non-null   float64\n",
      " 4   is_ultra  3214 non-null   int64  \n",
      "dtypes: float64(4), int64(1)\n",
      "memory usage: 125.7 KB\n"
     ]
    },
    {
     "data": {
      "text/html": [
       "<div>\n",
       "<style scoped>\n",
       "    .dataframe tbody tr th:only-of-type {\n",
       "        vertical-align: middle;\n",
       "    }\n",
       "\n",
       "    .dataframe tbody tr th {\n",
       "        vertical-align: top;\n",
       "    }\n",
       "\n",
       "    .dataframe thead th {\n",
       "        text-align: right;\n",
       "    }\n",
       "</style>\n",
       "<table border=\"1\" class=\"dataframe\">\n",
       "  <thead>\n",
       "    <tr style=\"text-align: right;\">\n",
       "      <th></th>\n",
       "      <th>calls</th>\n",
       "      <th>minutes</th>\n",
       "      <th>messages</th>\n",
       "      <th>mb_used</th>\n",
       "      <th>is_ultra</th>\n",
       "    </tr>\n",
       "  </thead>\n",
       "  <tbody>\n",
       "    <tr>\n",
       "      <th>0</th>\n",
       "      <td>40.0</td>\n",
       "      <td>311.90</td>\n",
       "      <td>83.0</td>\n",
       "      <td>19915.42</td>\n",
       "      <td>0</td>\n",
       "    </tr>\n",
       "    <tr>\n",
       "      <th>1</th>\n",
       "      <td>85.0</td>\n",
       "      <td>516.75</td>\n",
       "      <td>56.0</td>\n",
       "      <td>22696.96</td>\n",
       "      <td>0</td>\n",
       "    </tr>\n",
       "    <tr>\n",
       "      <th>2</th>\n",
       "      <td>77.0</td>\n",
       "      <td>467.66</td>\n",
       "      <td>86.0</td>\n",
       "      <td>21060.45</td>\n",
       "      <td>0</td>\n",
       "    </tr>\n",
       "    <tr>\n",
       "      <th>3</th>\n",
       "      <td>106.0</td>\n",
       "      <td>745.53</td>\n",
       "      <td>81.0</td>\n",
       "      <td>8437.39</td>\n",
       "      <td>1</td>\n",
       "    </tr>\n",
       "    <tr>\n",
       "      <th>4</th>\n",
       "      <td>66.0</td>\n",
       "      <td>418.74</td>\n",
       "      <td>1.0</td>\n",
       "      <td>14502.75</td>\n",
       "      <td>0</td>\n",
       "    </tr>\n",
       "    <tr>\n",
       "      <th>5</th>\n",
       "      <td>58.0</td>\n",
       "      <td>344.56</td>\n",
       "      <td>21.0</td>\n",
       "      <td>15823.37</td>\n",
       "      <td>0</td>\n",
       "    </tr>\n",
       "    <tr>\n",
       "      <th>6</th>\n",
       "      <td>57.0</td>\n",
       "      <td>431.64</td>\n",
       "      <td>20.0</td>\n",
       "      <td>3738.90</td>\n",
       "      <td>1</td>\n",
       "    </tr>\n",
       "    <tr>\n",
       "      <th>7</th>\n",
       "      <td>15.0</td>\n",
       "      <td>132.40</td>\n",
       "      <td>6.0</td>\n",
       "      <td>21911.60</td>\n",
       "      <td>0</td>\n",
       "    </tr>\n",
       "    <tr>\n",
       "      <th>8</th>\n",
       "      <td>7.0</td>\n",
       "      <td>43.39</td>\n",
       "      <td>3.0</td>\n",
       "      <td>2538.67</td>\n",
       "      <td>1</td>\n",
       "    </tr>\n",
       "    <tr>\n",
       "      <th>9</th>\n",
       "      <td>90.0</td>\n",
       "      <td>665.41</td>\n",
       "      <td>38.0</td>\n",
       "      <td>17358.61</td>\n",
       "      <td>0</td>\n",
       "    </tr>\n",
       "  </tbody>\n",
       "</table>\n",
       "</div>"
      ],
      "text/plain": [
       "   calls  minutes  messages   mb_used  is_ultra\n",
       "0   40.0   311.90      83.0  19915.42         0\n",
       "1   85.0   516.75      56.0  22696.96         0\n",
       "2   77.0   467.66      86.0  21060.45         0\n",
       "3  106.0   745.53      81.0   8437.39         1\n",
       "4   66.0   418.74       1.0  14502.75         0\n",
       "5   58.0   344.56      21.0  15823.37         0\n",
       "6   57.0   431.64      20.0   3738.90         1\n",
       "7   15.0   132.40       6.0  21911.60         0\n",
       "8    7.0    43.39       3.0   2538.67         1\n",
       "9   90.0   665.41      38.0  17358.61         0"
      ]
     },
     "metadata": {},
     "output_type": "display_data"
    },
    {
     "name": "stdout",
     "output_type": "stream",
     "text": [
      "Кол-во дубликатов: 0\n",
      "\n",
      "Кол-во пропусков: calls       0\n",
      "minutes     0\n",
      "messages    0\n",
      "mb_used     0\n",
      "is_ultra    0\n",
      "dtype: int64\n"
     ]
    }
   ],
   "source": [
    "df_info(users_behavior)"
   ]
  },
  {
   "cell_type": "code",
   "execution_count": 6,
   "metadata": {},
   "outputs": [
    {
     "name": "stdout",
     "output_type": "stream",
     "text": [
      "0    2229\n",
      "1     985\n",
      "Name: is_ultra, dtype: int64\n"
     ]
    },
    {
     "data": {
      "image/png": "[encoded data removed]",
      "text/plain": [
       "<Figure size 720x432 with 1 Axes>"
      ]
     },
     "metadata": {
      "needs_background": "light"
     },
     "output_type": "display_data"
    }
   ],
   "source": [
    "print(users_behavior['is_ultra'].value_counts())\n",
    "diff(users_behavior, 'is_ultra', 'Распределение целевого признака')"
   ]
  },
  {
   "cell_type": "markdown",
   "metadata": {},
   "source": [
    "*Присутствует дисбаланс классов*"
   ]
  },
  {
   "cell_type": "markdown",
   "metadata": {},
   "source": [
    "### Вывод"
   ]
  },
  {
   "cell_type": "markdown",
   "metadata": {},
   "source": [
    "*Результат показал, что мы работаем с переработанным файлом. Известно, что клиенты с тарифом \"Ультра\" 985 строк, с тарифом \"Смарт\" - 2229*\n",
    "\n",
    "*Имеется 5 признаков, из них \"is_ultra\" является целевым*"
   ]
  },
  {
   "cell_type": "markdown",
   "metadata": {},
   "source": [
    "## 2. Разбейте данные на выборки"
   ]
  },
  {
   "cell_type": "markdown",
   "metadata": {},
   "source": [
    "*Спрятанной тестовой выборки нет. Значит, данные нужно разбить на три части: обучающую, валидационную и тестовую. Размеры тестового и валидационного наборов обычно равны. Исходные данные разбивают в соотношении 3:1:1.*"
   ]
  },
  {
   "cell_type": "code",
   "execution_count": 7,
   "metadata": {},
   "outputs": [
    {
     "name": "stdout",
     "output_type": "stream",
     "text": [
      "Исходник: 3214\n",
      "Обучающая: 1928\n",
      "Валидационная: 643\n",
      "Тестовая: 643\n"
     ]
    }
   ],
   "source": [
    "#60% отведем под обучение\n",
    "df_train, df_valid = train_test_split(users_behavior, test_size = 0.4, random_state = 12345)\n",
    "\n",
    "#Оставшиеся 40% разделим поровну между валидационной и тестовой\n",
    "df_valid, df_test = train_test_split(df_valid, test_size = 0.5, random_state = 12345)\n",
    "\n",
    "print(\"Исходник:\", len(users_behavior))\n",
    "print(\"Обучающая:\", len(df_train))\n",
    "print(\"Валидационная:\", len(df_valid))\n",
    "print(\"Тестовая:\", len(df_test))\n"
   ]
  },
  {
   "cell_type": "markdown",
   "metadata": {},
   "source": [
    "*Видно, что разделили правильно*"
   ]
  },
  {
   "cell_type": "markdown",
   "metadata": {},
   "source": [
    "### Разберем данные на признаки и целевой признак для тестовой и валидационной выборок"
   ]
  },
  {
   "cell_type": "code",
   "execution_count": 8,
   "metadata": {},
   "outputs": [],
   "source": [
    "features_train = df_train.drop(['is_ultra'], axis=1)\n",
    "target_train = df_train['is_ultra']\n",
    "\n",
    "features_valid = df_valid.drop(['is_ultra'], axis=1)\n",
    "target_valid = df_valid['is_ultra']"
   ]
  },
  {
   "cell_type": "markdown",
   "metadata": {},
   "source": [
    "### Вывод"
   ]
  },
  {
   "cell_type": "markdown",
   "metadata": {},
   "source": [
    "*Получили следующее соотношение: 3:1:1 для обучающей, валидационной и тестовой выборок*\n",
    "\n",
    "*Для тестовой и валидационной выборок разделили на признаки и целевой признак*"
   ]
  },
  {
   "cell_type": "markdown",
   "metadata": {},
   "source": [
    "## 3. Исследуйте модели"
   ]
  },
  {
   "cell_type": "markdown",
   "metadata": {},
   "source": [
    "*Нам известные на данный момент следующие методы:*\n",
    "    - *Дерево решений*\n",
    "    - *Случайный лес*\n",
    "    - *Логистическую регрессию*"
   ]
  },
  {
   "cell_type": "code",
   "execution_count": 9,
   "metadata": {},
   "outputs": [],
   "source": [
    "from pycaret.classification import *"
   ]
  },
  {
   "cell_type": "code",
   "execution_count": 10,
   "metadata": {},
   "outputs": [
    {
     "data": {
      "text/html": [
       "<style  type=\"text/css\" >\n",
       "</style><table id=\"T_2b47bbec_9c1f_11eb_b92c_b42e991e0817\" ><thead>    <tr>        <th class=\"blank level0\" ></th>        <th class=\"col_heading level0 col0\" >Description</th>        <th class=\"col_heading level0 col1\" >Value</th>    </tr></thead><tbody>\n",
       "                <tr>\n",
       "                        <th id=\"T_2b47bbec_9c1f_11eb_b92c_b42e991e0817level0_row0\" class=\"row_heading level0 row0\" >0</th>\n",
       "                        <td id=\"T_2b47bbec_9c1f_11eb_b92c_b42e991e0817row0_col0\" class=\"data row0 col0\" >session_id</td>\n",
       "                        <td id=\"T_2b47bbec_9c1f_11eb_b92c_b42e991e0817row0_col1\" class=\"data row0 col1\" >8565</td>\n",
       "            </tr>\n",
       "            <tr>\n",
       "                        <th id=\"T_2b47bbec_9c1f_11eb_b92c_b42e991e0817level0_row1\" class=\"row_heading level0 row1\" >1</th>\n",
       "                        <td id=\"T_2b47bbec_9c1f_11eb_b92c_b42e991e0817row1_col0\" class=\"data row1 col0\" >Target</td>\n",
       "                        <td id=\"T_2b47bbec_9c1f_11eb_b92c_b42e991e0817row1_col1\" class=\"data row1 col1\" >is_ultra</td>\n",
       "            </tr>\n",
       "            <tr>\n",
       "                        <th id=\"T_2b47bbec_9c1f_11eb_b92c_b42e991e0817level0_row2\" class=\"row_heading level0 row2\" >2</th>\n",
       "                        <td id=\"T_2b47bbec_9c1f_11eb_b92c_b42e991e0817row2_col0\" class=\"data row2 col0\" >Target Type</td>\n",
       "                        <td id=\"T_2b47bbec_9c1f_11eb_b92c_b42e991e0817row2_col1\" class=\"data row2 col1\" >Binary</td>\n",
       "            </tr>\n",
       "            <tr>\n",
       "                        <th id=\"T_2b47bbec_9c1f_11eb_b92c_b42e991e0817level0_row3\" class=\"row_heading level0 row3\" >3</th>\n",
       "                        <td id=\"T_2b47bbec_9c1f_11eb_b92c_b42e991e0817row3_col0\" class=\"data row3 col0\" >Label Encoded</td>\n",
       "                        <td id=\"T_2b47bbec_9c1f_11eb_b92c_b42e991e0817row3_col1\" class=\"data row3 col1\" >0: 0, 1: 1</td>\n",
       "            </tr>\n",
       "            <tr>\n",
       "                        <th id=\"T_2b47bbec_9c1f_11eb_b92c_b42e991e0817level0_row4\" class=\"row_heading level0 row4\" >4</th>\n",
       "                        <td id=\"T_2b47bbec_9c1f_11eb_b92c_b42e991e0817row4_col0\" class=\"data row4 col0\" >Original Data</td>\n",
       "                        <td id=\"T_2b47bbec_9c1f_11eb_b92c_b42e991e0817row4_col1\" class=\"data row4 col1\" >(3214, 5)</td>\n",
       "            </tr>\n",
       "            <tr>\n",
       "                        <th id=\"T_2b47bbec_9c1f_11eb_b92c_b42e991e0817level0_row5\" class=\"row_heading level0 row5\" >5</th>\n",
       "                        <td id=\"T_2b47bbec_9c1f_11eb_b92c_b42e991e0817row5_col0\" class=\"data row5 col0\" >Missing Values</td>\n",
       "                        <td id=\"T_2b47bbec_9c1f_11eb_b92c_b42e991e0817row5_col1\" class=\"data row5 col1\" >False</td>\n",
       "            </tr>\n",
       "            <tr>\n",
       "                        <th id=\"T_2b47bbec_9c1f_11eb_b92c_b42e991e0817level0_row6\" class=\"row_heading level0 row6\" >6</th>\n",
       "                        <td id=\"T_2b47bbec_9c1f_11eb_b92c_b42e991e0817row6_col0\" class=\"data row6 col0\" >Numeric Features</td>\n",
       "                        <td id=\"T_2b47bbec_9c1f_11eb_b92c_b42e991e0817row6_col1\" class=\"data row6 col1\" >4</td>\n",
       "            </tr>\n",
       "            <tr>\n",
       "                        <th id=\"T_2b47bbec_9c1f_11eb_b92c_b42e991e0817level0_row7\" class=\"row_heading level0 row7\" >7</th>\n",
       "                        <td id=\"T_2b47bbec_9c1f_11eb_b92c_b42e991e0817row7_col0\" class=\"data row7 col0\" >Categorical Features</td>\n",
       "                        <td id=\"T_2b47bbec_9c1f_11eb_b92c_b42e991e0817row7_col1\" class=\"data row7 col1\" >0</td>\n",
       "            </tr>\n",
       "            <tr>\n",
       "                        <th id=\"T_2b47bbec_9c1f_11eb_b92c_b42e991e0817level0_row8\" class=\"row_heading level0 row8\" >8</th>\n",
       "                        <td id=\"T_2b47bbec_9c1f_11eb_b92c_b42e991e0817row8_col0\" class=\"data row8 col0\" >Ordinal Features</td>\n",
       "                        <td id=\"T_2b47bbec_9c1f_11eb_b92c_b42e991e0817row8_col1\" class=\"data row8 col1\" >False</td>\n",
       "            </tr>\n",
       "            <tr>\n",
       "                        <th id=\"T_2b47bbec_9c1f_11eb_b92c_b42e991e0817level0_row9\" class=\"row_heading level0 row9\" >9</th>\n",
       "                        <td id=\"T_2b47bbec_9c1f_11eb_b92c_b42e991e0817row9_col0\" class=\"data row9 col0\" >High Cardinality Features</td>\n",
       "                        <td id=\"T_2b47bbec_9c1f_11eb_b92c_b42e991e0817row9_col1\" class=\"data row9 col1\" >False</td>\n",
       "            </tr>\n",
       "            <tr>\n",
       "                        <th id=\"T_2b47bbec_9c1f_11eb_b92c_b42e991e0817level0_row10\" class=\"row_heading level0 row10\" >10</th>\n",
       "                        <td id=\"T_2b47bbec_9c1f_11eb_b92c_b42e991e0817row10_col0\" class=\"data row10 col0\" >High Cardinality Method</td>\n",
       "                        <td id=\"T_2b47bbec_9c1f_11eb_b92c_b42e991e0817row10_col1\" class=\"data row10 col1\" >None</td>\n",
       "            </tr>\n",
       "            <tr>\n",
       "                        <th id=\"T_2b47bbec_9c1f_11eb_b92c_b42e991e0817level0_row11\" class=\"row_heading level0 row11\" >11</th>\n",
       "                        <td id=\"T_2b47bbec_9c1f_11eb_b92c_b42e991e0817row11_col0\" class=\"data row11 col0\" >Transformed Train Set</td>\n",
       "                        <td id=\"T_2b47bbec_9c1f_11eb_b92c_b42e991e0817row11_col1\" class=\"data row11 col1\" >(2571, 4)</td>\n",
       "            </tr>\n",
       "            <tr>\n",
       "                        <th id=\"T_2b47bbec_9c1f_11eb_b92c_b42e991e0817level0_row12\" class=\"row_heading level0 row12\" >12</th>\n",
       "                        <td id=\"T_2b47bbec_9c1f_11eb_b92c_b42e991e0817row12_col0\" class=\"data row12 col0\" >Transformed Test Set</td>\n",
       "                        <td id=\"T_2b47bbec_9c1f_11eb_b92c_b42e991e0817row12_col1\" class=\"data row12 col1\" >(643, 4)</td>\n",
       "            </tr>\n",
       "            <tr>\n",
       "                        <th id=\"T_2b47bbec_9c1f_11eb_b92c_b42e991e0817level0_row13\" class=\"row_heading level0 row13\" >13</th>\n",
       "                        <td id=\"T_2b47bbec_9c1f_11eb_b92c_b42e991e0817row13_col0\" class=\"data row13 col0\" >Shuffle Train-Test</td>\n",
       "                        <td id=\"T_2b47bbec_9c1f_11eb_b92c_b42e991e0817row13_col1\" class=\"data row13 col1\" >True</td>\n",
       "            </tr>\n",
       "            <tr>\n",
       "                        <th id=\"T_2b47bbec_9c1f_11eb_b92c_b42e991e0817level0_row14\" class=\"row_heading level0 row14\" >14</th>\n",
       "                        <td id=\"T_2b47bbec_9c1f_11eb_b92c_b42e991e0817row14_col0\" class=\"data row14 col0\" >Stratify Train-Test</td>\n",
       "                        <td id=\"T_2b47bbec_9c1f_11eb_b92c_b42e991e0817row14_col1\" class=\"data row14 col1\" >False</td>\n",
       "            </tr>\n",
       "            <tr>\n",
       "                        <th id=\"T_2b47bbec_9c1f_11eb_b92c_b42e991e0817level0_row15\" class=\"row_heading level0 row15\" >15</th>\n",
       "                        <td id=\"T_2b47bbec_9c1f_11eb_b92c_b42e991e0817row15_col0\" class=\"data row15 col0\" >Fold Generator</td>\n",
       "                        <td id=\"T_2b47bbec_9c1f_11eb_b92c_b42e991e0817row15_col1\" class=\"data row15 col1\" >StratifiedKFold</td>\n",
       "            </tr>\n",
       "            <tr>\n",
       "                        <th id=\"T_2b47bbec_9c1f_11eb_b92c_b42e991e0817level0_row16\" class=\"row_heading level0 row16\" >16</th>\n",
       "                        <td id=\"T_2b47bbec_9c1f_11eb_b92c_b42e991e0817row16_col0\" class=\"data row16 col0\" >Fold Number</td>\n",
       "                        <td id=\"T_2b47bbec_9c1f_11eb_b92c_b42e991e0817row16_col1\" class=\"data row16 col1\" >10</td>\n",
       "            </tr>\n",
       "            <tr>\n",
       "                        <th id=\"T_2b47bbec_9c1f_11eb_b92c_b42e991e0817level0_row17\" class=\"row_heading level0 row17\" >17</th>\n",
       "                        <td id=\"T_2b47bbec_9c1f_11eb_b92c_b42e991e0817row17_col0\" class=\"data row17 col0\" >CPU Jobs</td>\n",
       "                        <td id=\"T_2b47bbec_9c1f_11eb_b92c_b42e991e0817row17_col1\" class=\"data row17 col1\" >-1</td>\n",
       "            </tr>\n",
       "            <tr>\n",
       "                        <th id=\"T_2b47bbec_9c1f_11eb_b92c_b42e991e0817level0_row18\" class=\"row_heading level0 row18\" >18</th>\n",
       "                        <td id=\"T_2b47bbec_9c1f_11eb_b92c_b42e991e0817row18_col0\" class=\"data row18 col0\" >Use GPU</td>\n",
       "                        <td id=\"T_2b47bbec_9c1f_11eb_b92c_b42e991e0817row18_col1\" class=\"data row18 col1\" >False</td>\n",
       "            </tr>\n",
       "            <tr>\n",
       "                        <th id=\"T_2b47bbec_9c1f_11eb_b92c_b42e991e0817level0_row19\" class=\"row_heading level0 row19\" >19</th>\n",
       "                        <td id=\"T_2b47bbec_9c1f_11eb_b92c_b42e991e0817row19_col0\" class=\"data row19 col0\" >Log Experiment</td>\n",
       "                        <td id=\"T_2b47bbec_9c1f_11eb_b92c_b42e991e0817row19_col1\" class=\"data row19 col1\" >False</td>\n",
       "            </tr>\n",
       "            <tr>\n",
       "                        <th id=\"T_2b47bbec_9c1f_11eb_b92c_b42e991e0817level0_row20\" class=\"row_heading level0 row20\" >20</th>\n",
       "                        <td id=\"T_2b47bbec_9c1f_11eb_b92c_b42e991e0817row20_col0\" class=\"data row20 col0\" >Experiment Name</td>\n",
       "                        <td id=\"T_2b47bbec_9c1f_11eb_b92c_b42e991e0817row20_col1\" class=\"data row20 col1\" >clf-default-name</td>\n",
       "            </tr>\n",
       "            <tr>\n",
       "                        <th id=\"T_2b47bbec_9c1f_11eb_b92c_b42e991e0817level0_row21\" class=\"row_heading level0 row21\" >21</th>\n",
       "                        <td id=\"T_2b47bbec_9c1f_11eb_b92c_b42e991e0817row21_col0\" class=\"data row21 col0\" >USI</td>\n",
       "                        <td id=\"T_2b47bbec_9c1f_11eb_b92c_b42e991e0817row21_col1\" class=\"data row21 col1\" >3840</td>\n",
       "            </tr>\n",
       "            <tr>\n",
       "                        <th id=\"T_2b47bbec_9c1f_11eb_b92c_b42e991e0817level0_row22\" class=\"row_heading level0 row22\" >22</th>\n",
       "                        <td id=\"T_2b47bbec_9c1f_11eb_b92c_b42e991e0817row22_col0\" class=\"data row22 col0\" >Imputation Type</td>\n",
       "                        <td id=\"T_2b47bbec_9c1f_11eb_b92c_b42e991e0817row22_col1\" class=\"data row22 col1\" >simple</td>\n",
       "            </tr>\n",
       "            <tr>\n",
       "                        <th id=\"T_2b47bbec_9c1f_11eb_b92c_b42e991e0817level0_row23\" class=\"row_heading level0 row23\" >23</th>\n",
       "                        <td id=\"T_2b47bbec_9c1f_11eb_b92c_b42e991e0817row23_col0\" class=\"data row23 col0\" >Iterative Imputation Iteration</td>\n",
       "                        <td id=\"T_2b47bbec_9c1f_11eb_b92c_b42e991e0817row23_col1\" class=\"data row23 col1\" >None</td>\n",
       "            </tr>\n",
       "            <tr>\n",
       "                        <th id=\"T_2b47bbec_9c1f_11eb_b92c_b42e991e0817level0_row24\" class=\"row_heading level0 row24\" >24</th>\n",
       "                        <td id=\"T_2b47bbec_9c1f_11eb_b92c_b42e991e0817row24_col0\" class=\"data row24 col0\" >Numeric Imputer</td>\n",
       "                        <td id=\"T_2b47bbec_9c1f_11eb_b92c_b42e991e0817row24_col1\" class=\"data row24 col1\" >mean</td>\n",
       "            </tr>\n",
       "            <tr>\n",
       "                        <th id=\"T_2b47bbec_9c1f_11eb_b92c_b42e991e0817level0_row25\" class=\"row_heading level0 row25\" >25</th>\n",
       "                        <td id=\"T_2b47bbec_9c1f_11eb_b92c_b42e991e0817row25_col0\" class=\"data row25 col0\" >Iterative Imputation Numeric Model</td>\n",
       "                        <td id=\"T_2b47bbec_9c1f_11eb_b92c_b42e991e0817row25_col1\" class=\"data row25 col1\" >None</td>\n",
       "            </tr>\n",
       "            <tr>\n",
       "                        <th id=\"T_2b47bbec_9c1f_11eb_b92c_b42e991e0817level0_row26\" class=\"row_heading level0 row26\" >26</th>\n",
       "                        <td id=\"T_2b47bbec_9c1f_11eb_b92c_b42e991e0817row26_col0\" class=\"data row26 col0\" >Categorical Imputer</td>\n",
       "                        <td id=\"T_2b47bbec_9c1f_11eb_b92c_b42e991e0817row26_col1\" class=\"data row26 col1\" >constant</td>\n",
       "            </tr>\n",
       "            <tr>\n",
       "                        <th id=\"T_2b47bbec_9c1f_11eb_b92c_b42e991e0817level0_row27\" class=\"row_heading level0 row27\" >27</th>\n",
       "                        <td id=\"T_2b47bbec_9c1f_11eb_b92c_b42e991e0817row27_col0\" class=\"data row27 col0\" >Iterative Imputation Categorical Model</td>\n",
       "                        <td id=\"T_2b47bbec_9c1f_11eb_b92c_b42e991e0817row27_col1\" class=\"data row27 col1\" >None</td>\n",
       "            </tr>\n",
       "            <tr>\n",
       "                        <th id=\"T_2b47bbec_9c1f_11eb_b92c_b42e991e0817level0_row28\" class=\"row_heading level0 row28\" >28</th>\n",
       "                        <td id=\"T_2b47bbec_9c1f_11eb_b92c_b42e991e0817row28_col0\" class=\"data row28 col0\" >Unknown Categoricals Handling</td>\n",
       "                        <td id=\"T_2b47bbec_9c1f_11eb_b92c_b42e991e0817row28_col1\" class=\"data row28 col1\" >least_frequent</td>\n",
       "            </tr>\n",
       "            <tr>\n",
       "                        <th id=\"T_2b47bbec_9c1f_11eb_b92c_b42e991e0817level0_row29\" class=\"row_heading level0 row29\" >29</th>\n",
       "                        <td id=\"T_2b47bbec_9c1f_11eb_b92c_b42e991e0817row29_col0\" class=\"data row29 col0\" >Normalize</td>\n",
       "                        <td id=\"T_2b47bbec_9c1f_11eb_b92c_b42e991e0817row29_col1\" class=\"data row29 col1\" >False</td>\n",
       "            </tr>\n",
       "            <tr>\n",
       "                        <th id=\"T_2b47bbec_9c1f_11eb_b92c_b42e991e0817level0_row30\" class=\"row_heading level0 row30\" >30</th>\n",
       "                        <td id=\"T_2b47bbec_9c1f_11eb_b92c_b42e991e0817row30_col0\" class=\"data row30 col0\" >Normalize Method</td>\n",
       "                        <td id=\"T_2b47bbec_9c1f_11eb_b92c_b42e991e0817row30_col1\" class=\"data row30 col1\" >None</td>\n",
       "            </tr>\n",
       "            <tr>\n",
       "                        <th id=\"T_2b47bbec_9c1f_11eb_b92c_b42e991e0817level0_row31\" class=\"row_heading level0 row31\" >31</th>\n",
       "                        <td id=\"T_2b47bbec_9c1f_11eb_b92c_b42e991e0817row31_col0\" class=\"data row31 col0\" >Transformation</td>\n",
       "                        <td id=\"T_2b47bbec_9c1f_11eb_b92c_b42e991e0817row31_col1\" class=\"data row31 col1\" >False</td>\n",
       "            </tr>\n",
       "            <tr>\n",
       "                        <th id=\"T_2b47bbec_9c1f_11eb_b92c_b42e991e0817level0_row32\" class=\"row_heading level0 row32\" >32</th>\n",
       "                        <td id=\"T_2b47bbec_9c1f_11eb_b92c_b42e991e0817row32_col0\" class=\"data row32 col0\" >Transformation Method</td>\n",
       "                        <td id=\"T_2b47bbec_9c1f_11eb_b92c_b42e991e0817row32_col1\" class=\"data row32 col1\" >None</td>\n",
       "            </tr>\n",
       "            <tr>\n",
       "                        <th id=\"T_2b47bbec_9c1f_11eb_b92c_b42e991e0817level0_row33\" class=\"row_heading level0 row33\" >33</th>\n",
       "                        <td id=\"T_2b47bbec_9c1f_11eb_b92c_b42e991e0817row33_col0\" class=\"data row33 col0\" >PCA</td>\n",
       "                        <td id=\"T_2b47bbec_9c1f_11eb_b92c_b42e991e0817row33_col1\" class=\"data row33 col1\" >False</td>\n",
       "            </tr>\n",
       "            <tr>\n",
       "                        <th id=\"T_2b47bbec_9c1f_11eb_b92c_b42e991e0817level0_row34\" class=\"row_heading level0 row34\" >34</th>\n",
       "                        <td id=\"T_2b47bbec_9c1f_11eb_b92c_b42e991e0817row34_col0\" class=\"data row34 col0\" >PCA Method</td>\n",
       "                        <td id=\"T_2b47bbec_9c1f_11eb_b92c_b42e991e0817row34_col1\" class=\"data row34 col1\" >None</td>\n",
       "            </tr>\n",
       "            <tr>\n",
       "                        <th id=\"T_2b47bbec_9c1f_11eb_b92c_b42e991e0817level0_row35\" class=\"row_heading level0 row35\" >35</th>\n",
       "                        <td id=\"T_2b47bbec_9c1f_11eb_b92c_b42e991e0817row35_col0\" class=\"data row35 col0\" >PCA Components</td>\n",
       "                        <td id=\"T_2b47bbec_9c1f_11eb_b92c_b42e991e0817row35_col1\" class=\"data row35 col1\" >None</td>\n",
       "            </tr>\n",
       "            <tr>\n",
       "                        <th id=\"T_2b47bbec_9c1f_11eb_b92c_b42e991e0817level0_row36\" class=\"row_heading level0 row36\" >36</th>\n",
       "                        <td id=\"T_2b47bbec_9c1f_11eb_b92c_b42e991e0817row36_col0\" class=\"data row36 col0\" >Ignore Low Variance</td>\n",
       "                        <td id=\"T_2b47bbec_9c1f_11eb_b92c_b42e991e0817row36_col1\" class=\"data row36 col1\" >False</td>\n",
       "            </tr>\n",
       "            <tr>\n",
       "                        <th id=\"T_2b47bbec_9c1f_11eb_b92c_b42e991e0817level0_row37\" class=\"row_heading level0 row37\" >37</th>\n",
       "                        <td id=\"T_2b47bbec_9c1f_11eb_b92c_b42e991e0817row37_col0\" class=\"data row37 col0\" >Combine Rare Levels</td>\n",
       "                        <td id=\"T_2b47bbec_9c1f_11eb_b92c_b42e991e0817row37_col1\" class=\"data row37 col1\" >False</td>\n",
       "            </tr>\n",
       "            <tr>\n",
       "                        <th id=\"T_2b47bbec_9c1f_11eb_b92c_b42e991e0817level0_row38\" class=\"row_heading level0 row38\" >38</th>\n",
       "                        <td id=\"T_2b47bbec_9c1f_11eb_b92c_b42e991e0817row38_col0\" class=\"data row38 col0\" >Rare Level Threshold</td>\n",
       "                        <td id=\"T_2b47bbec_9c1f_11eb_b92c_b42e991e0817row38_col1\" class=\"data row38 col1\" >None</td>\n",
       "            </tr>\n",
       "            <tr>\n",
       "                        <th id=\"T_2b47bbec_9c1f_11eb_b92c_b42e991e0817level0_row39\" class=\"row_heading level0 row39\" >39</th>\n",
       "                        <td id=\"T_2b47bbec_9c1f_11eb_b92c_b42e991e0817row39_col0\" class=\"data row39 col0\" >Numeric Binning</td>\n",
       "                        <td id=\"T_2b47bbec_9c1f_11eb_b92c_b42e991e0817row39_col1\" class=\"data row39 col1\" >False</td>\n",
       "            </tr>\n",
       "            <tr>\n",
       "                        <th id=\"T_2b47bbec_9c1f_11eb_b92c_b42e991e0817level0_row40\" class=\"row_heading level0 row40\" >40</th>\n",
       "                        <td id=\"T_2b47bbec_9c1f_11eb_b92c_b42e991e0817row40_col0\" class=\"data row40 col0\" >Remove Outliers</td>\n",
       "                        <td id=\"T_2b47bbec_9c1f_11eb_b92c_b42e991e0817row40_col1\" class=\"data row40 col1\" >False</td>\n",
       "            </tr>\n",
       "            <tr>\n",
       "                        <th id=\"T_2b47bbec_9c1f_11eb_b92c_b42e991e0817level0_row41\" class=\"row_heading level0 row41\" >41</th>\n",
       "                        <td id=\"T_2b47bbec_9c1f_11eb_b92c_b42e991e0817row41_col0\" class=\"data row41 col0\" >Outliers Threshold</td>\n",
       "                        <td id=\"T_2b47bbec_9c1f_11eb_b92c_b42e991e0817row41_col1\" class=\"data row41 col1\" >None</td>\n",
       "            </tr>\n",
       "            <tr>\n",
       "                        <th id=\"T_2b47bbec_9c1f_11eb_b92c_b42e991e0817level0_row42\" class=\"row_heading level0 row42\" >42</th>\n",
       "                        <td id=\"T_2b47bbec_9c1f_11eb_b92c_b42e991e0817row42_col0\" class=\"data row42 col0\" >Remove Multicollinearity</td>\n",
       "                        <td id=\"T_2b47bbec_9c1f_11eb_b92c_b42e991e0817row42_col1\" class=\"data row42 col1\" >False</td>\n",
       "            </tr>\n",
       "            <tr>\n",
       "                        <th id=\"T_2b47bbec_9c1f_11eb_b92c_b42e991e0817level0_row43\" class=\"row_heading level0 row43\" >43</th>\n",
       "                        <td id=\"T_2b47bbec_9c1f_11eb_b92c_b42e991e0817row43_col0\" class=\"data row43 col0\" >Multicollinearity Threshold</td>\n",
       "                        <td id=\"T_2b47bbec_9c1f_11eb_b92c_b42e991e0817row43_col1\" class=\"data row43 col1\" >None</td>\n",
       "            </tr>\n",
       "            <tr>\n",
       "                        <th id=\"T_2b47bbec_9c1f_11eb_b92c_b42e991e0817level0_row44\" class=\"row_heading level0 row44\" >44</th>\n",
       "                        <td id=\"T_2b47bbec_9c1f_11eb_b92c_b42e991e0817row44_col0\" class=\"data row44 col0\" >Clustering</td>\n",
       "                        <td id=\"T_2b47bbec_9c1f_11eb_b92c_b42e991e0817row44_col1\" class=\"data row44 col1\" >False</td>\n",
       "            </tr>\n",
       "            <tr>\n",
       "                        <th id=\"T_2b47bbec_9c1f_11eb_b92c_b42e991e0817level0_row45\" class=\"row_heading level0 row45\" >45</th>\n",
       "                        <td id=\"T_2b47bbec_9c1f_11eb_b92c_b42e991e0817row45_col0\" class=\"data row45 col0\" >Clustering Iteration</td>\n",
       "                        <td id=\"T_2b47bbec_9c1f_11eb_b92c_b42e991e0817row45_col1\" class=\"data row45 col1\" >None</td>\n",
       "            </tr>\n",
       "            <tr>\n",
       "                        <th id=\"T_2b47bbec_9c1f_11eb_b92c_b42e991e0817level0_row46\" class=\"row_heading level0 row46\" >46</th>\n",
       "                        <td id=\"T_2b47bbec_9c1f_11eb_b92c_b42e991e0817row46_col0\" class=\"data row46 col0\" >Polynomial Features</td>\n",
       "                        <td id=\"T_2b47bbec_9c1f_11eb_b92c_b42e991e0817row46_col1\" class=\"data row46 col1\" >False</td>\n",
       "            </tr>\n",
       "            <tr>\n",
       "                        <th id=\"T_2b47bbec_9c1f_11eb_b92c_b42e991e0817level0_row47\" class=\"row_heading level0 row47\" >47</th>\n",
       "                        <td id=\"T_2b47bbec_9c1f_11eb_b92c_b42e991e0817row47_col0\" class=\"data row47 col0\" >Polynomial Degree</td>\n",
       "                        <td id=\"T_2b47bbec_9c1f_11eb_b92c_b42e991e0817row47_col1\" class=\"data row47 col1\" >None</td>\n",
       "            </tr>\n",
       "            <tr>\n",
       "                        <th id=\"T_2b47bbec_9c1f_11eb_b92c_b42e991e0817level0_row48\" class=\"row_heading level0 row48\" >48</th>\n",
       "                        <td id=\"T_2b47bbec_9c1f_11eb_b92c_b42e991e0817row48_col0\" class=\"data row48 col0\" >Trignometry Features</td>\n",
       "                        <td id=\"T_2b47bbec_9c1f_11eb_b92c_b42e991e0817row48_col1\" class=\"data row48 col1\" >False</td>\n",
       "            </tr>\n",
       "            <tr>\n",
       "                        <th id=\"T_2b47bbec_9c1f_11eb_b92c_b42e991e0817level0_row49\" class=\"row_heading level0 row49\" >49</th>\n",
       "                        <td id=\"T_2b47bbec_9c1f_11eb_b92c_b42e991e0817row49_col0\" class=\"data row49 col0\" >Polynomial Threshold</td>\n",
       "                        <td id=\"T_2b47bbec_9c1f_11eb_b92c_b42e991e0817row49_col1\" class=\"data row49 col1\" >None</td>\n",
       "            </tr>\n",
       "            <tr>\n",
       "                        <th id=\"T_2b47bbec_9c1f_11eb_b92c_b42e991e0817level0_row50\" class=\"row_heading level0 row50\" >50</th>\n",
       "                        <td id=\"T_2b47bbec_9c1f_11eb_b92c_b42e991e0817row50_col0\" class=\"data row50 col0\" >Group Features</td>\n",
       "                        <td id=\"T_2b47bbec_9c1f_11eb_b92c_b42e991e0817row50_col1\" class=\"data row50 col1\" >False</td>\n",
       "            </tr>\n",
       "            <tr>\n",
       "                        <th id=\"T_2b47bbec_9c1f_11eb_b92c_b42e991e0817level0_row51\" class=\"row_heading level0 row51\" >51</th>\n",
       "                        <td id=\"T_2b47bbec_9c1f_11eb_b92c_b42e991e0817row51_col0\" class=\"data row51 col0\" >Feature Selection</td>\n",
       "                        <td id=\"T_2b47bbec_9c1f_11eb_b92c_b42e991e0817row51_col1\" class=\"data row51 col1\" >False</td>\n",
       "            </tr>\n",
       "            <tr>\n",
       "                        <th id=\"T_2b47bbec_9c1f_11eb_b92c_b42e991e0817level0_row52\" class=\"row_heading level0 row52\" >52</th>\n",
       "                        <td id=\"T_2b47bbec_9c1f_11eb_b92c_b42e991e0817row52_col0\" class=\"data row52 col0\" >Features Selection Threshold</td>\n",
       "                        <td id=\"T_2b47bbec_9c1f_11eb_b92c_b42e991e0817row52_col1\" class=\"data row52 col1\" >None</td>\n",
       "            </tr>\n",
       "            <tr>\n",
       "                        <th id=\"T_2b47bbec_9c1f_11eb_b92c_b42e991e0817level0_row53\" class=\"row_heading level0 row53\" >53</th>\n",
       "                        <td id=\"T_2b47bbec_9c1f_11eb_b92c_b42e991e0817row53_col0\" class=\"data row53 col0\" >Feature Interaction</td>\n",
       "                        <td id=\"T_2b47bbec_9c1f_11eb_b92c_b42e991e0817row53_col1\" class=\"data row53 col1\" >False</td>\n",
       "            </tr>\n",
       "            <tr>\n",
       "                        <th id=\"T_2b47bbec_9c1f_11eb_b92c_b42e991e0817level0_row54\" class=\"row_heading level0 row54\" >54</th>\n",
       "                        <td id=\"T_2b47bbec_9c1f_11eb_b92c_b42e991e0817row54_col0\" class=\"data row54 col0\" >Feature Ratio</td>\n",
       "                        <td id=\"T_2b47bbec_9c1f_11eb_b92c_b42e991e0817row54_col1\" class=\"data row54 col1\" >False</td>\n",
       "            </tr>\n",
       "            <tr>\n",
       "                        <th id=\"T_2b47bbec_9c1f_11eb_b92c_b42e991e0817level0_row55\" class=\"row_heading level0 row55\" >55</th>\n",
       "                        <td id=\"T_2b47bbec_9c1f_11eb_b92c_b42e991e0817row55_col0\" class=\"data row55 col0\" >Interaction Threshold</td>\n",
       "                        <td id=\"T_2b47bbec_9c1f_11eb_b92c_b42e991e0817row55_col1\" class=\"data row55 col1\" >None</td>\n",
       "            </tr>\n",
       "            <tr>\n",
       "                        <th id=\"T_2b47bbec_9c1f_11eb_b92c_b42e991e0817level0_row56\" class=\"row_heading level0 row56\" >56</th>\n",
       "                        <td id=\"T_2b47bbec_9c1f_11eb_b92c_b42e991e0817row56_col0\" class=\"data row56 col0\" >Fix Imbalance</td>\n",
       "                        <td id=\"T_2b47bbec_9c1f_11eb_b92c_b42e991e0817row56_col1\" class=\"data row56 col1\" >False</td>\n",
       "            </tr>\n",
       "            <tr>\n",
       "                        <th id=\"T_2b47bbec_9c1f_11eb_b92c_b42e991e0817level0_row57\" class=\"row_heading level0 row57\" >57</th>\n",
       "                        <td id=\"T_2b47bbec_9c1f_11eb_b92c_b42e991e0817row57_col0\" class=\"data row57 col0\" >Fix Imbalance Method</td>\n",
       "                        <td id=\"T_2b47bbec_9c1f_11eb_b92c_b42e991e0817row57_col1\" class=\"data row57 col1\" >SMOTE</td>\n",
       "            </tr>\n",
       "    </tbody></table>"
      ],
      "text/plain": [
       "<pandas.io.formats.style.Styler at 0x2a0c8bdeaf0>"
      ]
     },
     "metadata": {},
     "output_type": "display_data"
    }
   ],
   "source": [
    "clf1 = setup(data = users_behavior, target = 'is_ultra', train_size = 0.8)"
   ]
  },
  {
   "cell_type": "code",
   "execution_count": 11,
   "metadata": {},
   "outputs": [
    {
     "data": {
      "text/html": [
       "<style  type=\"text/css\" >\n",
       "    #T_44093c1e_9c1f_11eb_87d1_b42e991e0817 th {\n",
       "          text-align: left;\n",
       "    }#T_44093c1e_9c1f_11eb_87d1_b42e991e0817row0_col0,#T_44093c1e_9c1f_11eb_87d1_b42e991e0817row0_col2,#T_44093c1e_9c1f_11eb_87d1_b42e991e0817row0_col3,#T_44093c1e_9c1f_11eb_87d1_b42e991e0817row0_col4,#T_44093c1e_9c1f_11eb_87d1_b42e991e0817row0_col5,#T_44093c1e_9c1f_11eb_87d1_b42e991e0817row0_col6,#T_44093c1e_9c1f_11eb_87d1_b42e991e0817row0_col7,#T_44093c1e_9c1f_11eb_87d1_b42e991e0817row1_col0,#T_44093c1e_9c1f_11eb_87d1_b42e991e0817row1_col3,#T_44093c1e_9c1f_11eb_87d1_b42e991e0817row1_col4,#T_44093c1e_9c1f_11eb_87d1_b42e991e0817row2_col0,#T_44093c1e_9c1f_11eb_87d1_b42e991e0817row2_col1,#T_44093c1e_9c1f_11eb_87d1_b42e991e0817row2_col2,#T_44093c1e_9c1f_11eb_87d1_b42e991e0817row2_col3,#T_44093c1e_9c1f_11eb_87d1_b42e991e0817row2_col4,#T_44093c1e_9c1f_11eb_87d1_b42e991e0817row2_col5,#T_44093c1e_9c1f_11eb_87d1_b42e991e0817row2_col6,#T_44093c1e_9c1f_11eb_87d1_b42e991e0817row2_col7,#T_44093c1e_9c1f_11eb_87d1_b42e991e0817row3_col0,#T_44093c1e_9c1f_11eb_87d1_b42e991e0817row3_col1,#T_44093c1e_9c1f_11eb_87d1_b42e991e0817row3_col2,#T_44093c1e_9c1f_11eb_87d1_b42e991e0817row3_col3,#T_44093c1e_9c1f_11eb_87d1_b42e991e0817row3_col4,#T_44093c1e_9c1f_11eb_87d1_b42e991e0817row3_col5,#T_44093c1e_9c1f_11eb_87d1_b42e991e0817row3_col6,#T_44093c1e_9c1f_11eb_87d1_b42e991e0817row3_col7,#T_44093c1e_9c1f_11eb_87d1_b42e991e0817row4_col0,#T_44093c1e_9c1f_11eb_87d1_b42e991e0817row4_col1,#T_44093c1e_9c1f_11eb_87d1_b42e991e0817row4_col2,#T_44093c1e_9c1f_11eb_87d1_b42e991e0817row4_col3,#T_44093c1e_9c1f_11eb_87d1_b42e991e0817row4_col4,#T_44093c1e_9c1f_11eb_87d1_b42e991e0817row4_col5,#T_44093c1e_9c1f_11eb_87d1_b42e991e0817row4_col6,#T_44093c1e_9c1f_11eb_87d1_b42e991e0817row4_col7,#T_44093c1e_9c1f_11eb_87d1_b42e991e0817row5_col0,#T_44093c1e_9c1f_11eb_87d1_b42e991e0817row5_col1,#T_44093c1e_9c1f_11eb_87d1_b42e991e0817row5_col2,#T_44093c1e_9c1f_11eb_87d1_b42e991e0817row5_col3,#T_44093c1e_9c1f_11eb_87d1_b42e991e0817row5_col4,#T_44093c1e_9c1f_11eb_87d1_b42e991e0817row5_col5,#T_44093c1e_9c1f_11eb_87d1_b42e991e0817row5_col6,#T_44093c1e_9c1f_11eb_87d1_b42e991e0817row5_col7,#T_44093c1e_9c1f_11eb_87d1_b42e991e0817row6_col0,#T_44093c1e_9c1f_11eb_87d1_b42e991e0817row6_col1,#T_44093c1e_9c1f_11eb_87d1_b42e991e0817row6_col2,#T_44093c1e_9c1f_11eb_87d1_b42e991e0817row6_col3,#T_44093c1e_9c1f_11eb_87d1_b42e991e0817row6_col4,#T_44093c1e_9c1f_11eb_87d1_b42e991e0817row6_col5,#T_44093c1e_9c1f_11eb_87d1_b42e991e0817row6_col6,#T_44093c1e_9c1f_11eb_87d1_b42e991e0817row6_col7,#T_44093c1e_9c1f_11eb_87d1_b42e991e0817row7_col0,#T_44093c1e_9c1f_11eb_87d1_b42e991e0817row7_col1,#T_44093c1e_9c1f_11eb_87d1_b42e991e0817row7_col2,#T_44093c1e_9c1f_11eb_87d1_b42e991e0817row7_col3,#T_44093c1e_9c1f_11eb_87d1_b42e991e0817row7_col4,#T_44093c1e_9c1f_11eb_87d1_b42e991e0817row7_col5,#T_44093c1e_9c1f_11eb_87d1_b42e991e0817row7_col6,#T_44093c1e_9c1f_11eb_87d1_b42e991e0817row7_col7,#T_44093c1e_9c1f_11eb_87d1_b42e991e0817row8_col0,#T_44093c1e_9c1f_11eb_87d1_b42e991e0817row8_col1,#T_44093c1e_9c1f_11eb_87d1_b42e991e0817row8_col2,#T_44093c1e_9c1f_11eb_87d1_b42e991e0817row8_col3,#T_44093c1e_9c1f_11eb_87d1_b42e991e0817row8_col4,#T_44093c1e_9c1f_11eb_87d1_b42e991e0817row8_col5,#T_44093c1e_9c1f_11eb_87d1_b42e991e0817row8_col6,#T_44093c1e_9c1f_11eb_87d1_b42e991e0817row8_col7,#T_44093c1e_9c1f_11eb_87d1_b42e991e0817row9_col0,#T_44093c1e_9c1f_11eb_87d1_b42e991e0817row9_col1,#T_44093c1e_9c1f_11eb_87d1_b42e991e0817row9_col2,#T_44093c1e_9c1f_11eb_87d1_b42e991e0817row9_col3,#T_44093c1e_9c1f_11eb_87d1_b42e991e0817row9_col4,#T_44093c1e_9c1f_11eb_87d1_b42e991e0817row9_col5,#T_44093c1e_9c1f_11eb_87d1_b42e991e0817row9_col6,#T_44093c1e_9c1f_11eb_87d1_b42e991e0817row9_col7,#T_44093c1e_9c1f_11eb_87d1_b42e991e0817row10_col0,#T_44093c1e_9c1f_11eb_87d1_b42e991e0817row10_col1,#T_44093c1e_9c1f_11eb_87d1_b42e991e0817row10_col2,#T_44093c1e_9c1f_11eb_87d1_b42e991e0817row10_col3,#T_44093c1e_9c1f_11eb_87d1_b42e991e0817row10_col4,#T_44093c1e_9c1f_11eb_87d1_b42e991e0817row10_col5,#T_44093c1e_9c1f_11eb_87d1_b42e991e0817row10_col6,#T_44093c1e_9c1f_11eb_87d1_b42e991e0817row10_col7,#T_44093c1e_9c1f_11eb_87d1_b42e991e0817row11_col0,#T_44093c1e_9c1f_11eb_87d1_b42e991e0817row11_col1,#T_44093c1e_9c1f_11eb_87d1_b42e991e0817row11_col2,#T_44093c1e_9c1f_11eb_87d1_b42e991e0817row11_col3,#T_44093c1e_9c1f_11eb_87d1_b42e991e0817row11_col5,#T_44093c1e_9c1f_11eb_87d1_b42e991e0817row11_col6,#T_44093c1e_9c1f_11eb_87d1_b42e991e0817row11_col7,#T_44093c1e_9c1f_11eb_87d1_b42e991e0817row12_col0,#T_44093c1e_9c1f_11eb_87d1_b42e991e0817row12_col1,#T_44093c1e_9c1f_11eb_87d1_b42e991e0817row12_col2,#T_44093c1e_9c1f_11eb_87d1_b42e991e0817row12_col3,#T_44093c1e_9c1f_11eb_87d1_b42e991e0817row12_col4,#T_44093c1e_9c1f_11eb_87d1_b42e991e0817row12_col5,#T_44093c1e_9c1f_11eb_87d1_b42e991e0817row12_col6,#T_44093c1e_9c1f_11eb_87d1_b42e991e0817row12_col7,#T_44093c1e_9c1f_11eb_87d1_b42e991e0817row13_col0,#T_44093c1e_9c1f_11eb_87d1_b42e991e0817row13_col1,#T_44093c1e_9c1f_11eb_87d1_b42e991e0817row13_col2,#T_44093c1e_9c1f_11eb_87d1_b42e991e0817row13_col4,#T_44093c1e_9c1f_11eb_87d1_b42e991e0817row13_col5,#T_44093c1e_9c1f_11eb_87d1_b42e991e0817row13_col6,#T_44093c1e_9c1f_11eb_87d1_b42e991e0817row13_col7,#T_44093c1e_9c1f_11eb_87d1_b42e991e0817row14_col0,#T_44093c1e_9c1f_11eb_87d1_b42e991e0817row14_col1,#T_44093c1e_9c1f_11eb_87d1_b42e991e0817row14_col2,#T_44093c1e_9c1f_11eb_87d1_b42e991e0817row14_col3,#T_44093c1e_9c1f_11eb_87d1_b42e991e0817row14_col4,#T_44093c1e_9c1f_11eb_87d1_b42e991e0817row14_col5,#T_44093c1e_9c1f_11eb_87d1_b42e991e0817row14_col6,#T_44093c1e_9c1f_11eb_87d1_b42e991e0817row14_col7{\n",
       "            text-align:  left;\n",
       "            text-align:  left;\n",
       "        }#T_44093c1e_9c1f_11eb_87d1_b42e991e0817row0_col1,#T_44093c1e_9c1f_11eb_87d1_b42e991e0817row1_col1,#T_44093c1e_9c1f_11eb_87d1_b42e991e0817row1_col2,#T_44093c1e_9c1f_11eb_87d1_b42e991e0817row1_col5,#T_44093c1e_9c1f_11eb_87d1_b42e991e0817row1_col6,#T_44093c1e_9c1f_11eb_87d1_b42e991e0817row1_col7,#T_44093c1e_9c1f_11eb_87d1_b42e991e0817row11_col4,#T_44093c1e_9c1f_11eb_87d1_b42e991e0817row13_col3{\n",
       "            text-align:  left;\n",
       "            text-align:  left;\n",
       "            background-color:  yellow;\n",
       "        }#T_44093c1e_9c1f_11eb_87d1_b42e991e0817row0_col8,#T_44093c1e_9c1f_11eb_87d1_b42e991e0817row1_col8,#T_44093c1e_9c1f_11eb_87d1_b42e991e0817row2_col8,#T_44093c1e_9c1f_11eb_87d1_b42e991e0817row3_col8,#T_44093c1e_9c1f_11eb_87d1_b42e991e0817row4_col8,#T_44093c1e_9c1f_11eb_87d1_b42e991e0817row5_col8,#T_44093c1e_9c1f_11eb_87d1_b42e991e0817row6_col8,#T_44093c1e_9c1f_11eb_87d1_b42e991e0817row9_col8,#T_44093c1e_9c1f_11eb_87d1_b42e991e0817row12_col8,#T_44093c1e_9c1f_11eb_87d1_b42e991e0817row13_col8,#T_44093c1e_9c1f_11eb_87d1_b42e991e0817row14_col8{\n",
       "            text-align:  left;\n",
       "            text-align:  left;\n",
       "            background-color:  lightgrey;\n",
       "        }#T_44093c1e_9c1f_11eb_87d1_b42e991e0817row7_col8,#T_44093c1e_9c1f_11eb_87d1_b42e991e0817row8_col8,#T_44093c1e_9c1f_11eb_87d1_b42e991e0817row10_col8,#T_44093c1e_9c1f_11eb_87d1_b42e991e0817row11_col8{\n",
       "            text-align:  left;\n",
       "            text-align:  left;\n",
       "            background-color:  yellow;\n",
       "            background-color:  lightgrey;\n",
       "        }</style><table id=\"T_44093c1e_9c1f_11eb_87d1_b42e991e0817\" ><thead>    <tr>        <th class=\"blank level0\" ></th>        <th class=\"col_heading level0 col0\" >Model</th>        <th class=\"col_heading level0 col1\" >Accuracy</th>        <th class=\"col_heading level0 col2\" >AUC</th>        <th class=\"col_heading level0 col3\" >Recall</th>        <th class=\"col_heading level0 col4\" >Prec.</th>        <th class=\"col_heading level0 col5\" >F1</th>        <th class=\"col_heading level0 col6\" >Kappa</th>        <th class=\"col_heading level0 col7\" >MCC</th>        <th class=\"col_heading level0 col8\" >TT (Sec)</th>    </tr></thead><tbody>\n",
       "                <tr>\n",
       "                        <th id=\"T_44093c1e_9c1f_11eb_87d1_b42e991e0817level0_row0\" class=\"row_heading level0 row0\" >gbc</th>\n",
       "                        <td id=\"T_44093c1e_9c1f_11eb_87d1_b42e991e0817row0_col0\" class=\"data row0 col0\" >Gradient Boosting Classifier</td>\n",
       "                        <td id=\"T_44093c1e_9c1f_11eb_87d1_b42e991e0817row0_col1\" class=\"data row0 col1\" >0.8125</td>\n",
       "                        <td id=\"T_44093c1e_9c1f_11eb_87d1_b42e991e0817row0_col2\" class=\"data row0 col2\" >0.8248</td>\n",
       "                        <td id=\"T_44093c1e_9c1f_11eb_87d1_b42e991e0817row0_col3\" class=\"data row0 col3\" >0.5433</td>\n",
       "                        <td id=\"T_44093c1e_9c1f_11eb_87d1_b42e991e0817row0_col4\" class=\"data row0 col4\" >0.7966</td>\n",
       "                        <td id=\"T_44093c1e_9c1f_11eb_87d1_b42e991e0817row0_col5\" class=\"data row0 col5\" >0.6448</td>\n",
       "                        <td id=\"T_44093c1e_9c1f_11eb_87d1_b42e991e0817row0_col6\" class=\"data row0 col6\" >0.5237</td>\n",
       "                        <td id=\"T_44093c1e_9c1f_11eb_87d1_b42e991e0817row0_col7\" class=\"data row0 col7\" >0.5421</td>\n",
       "                        <td id=\"T_44093c1e_9c1f_11eb_87d1_b42e991e0817row0_col8\" class=\"data row0 col8\" >0.0380</td>\n",
       "            </tr>\n",
       "            <tr>\n",
       "                        <th id=\"T_44093c1e_9c1f_11eb_87d1_b42e991e0817level0_row1\" class=\"row_heading level0 row1\" >catboost</th>\n",
       "                        <td id=\"T_44093c1e_9c1f_11eb_87d1_b42e991e0817row1_col0\" class=\"data row1 col0\" >CatBoost Classifier</td>\n",
       "                        <td id=\"T_44093c1e_9c1f_11eb_87d1_b42e991e0817row1_col1\" class=\"data row1 col1\" >0.8125</td>\n",
       "                        <td id=\"T_44093c1e_9c1f_11eb_87d1_b42e991e0817row1_col2\" class=\"data row1 col2\" >0.8286</td>\n",
       "                        <td id=\"T_44093c1e_9c1f_11eb_87d1_b42e991e0817row1_col3\" class=\"data row1 col3\" >0.5582</td>\n",
       "                        <td id=\"T_44093c1e_9c1f_11eb_87d1_b42e991e0817row1_col4\" class=\"data row1 col4\" >0.7843</td>\n",
       "                        <td id=\"T_44093c1e_9c1f_11eb_87d1_b42e991e0817row1_col5\" class=\"data row1 col5\" >0.6512</td>\n",
       "                        <td id=\"T_44093c1e_9c1f_11eb_87d1_b42e991e0817row1_col6\" class=\"data row1 col6\" >0.5280</td>\n",
       "                        <td id=\"T_44093c1e_9c1f_11eb_87d1_b42e991e0817row1_col7\" class=\"data row1 col7\" >0.5429</td>\n",
       "                        <td id=\"T_44093c1e_9c1f_11eb_87d1_b42e991e0817row1_col8\" class=\"data row1 col8\" >2.6440</td>\n",
       "            </tr>\n",
       "            <tr>\n",
       "                        <th id=\"T_44093c1e_9c1f_11eb_87d1_b42e991e0817level0_row2\" class=\"row_heading level0 row2\" >rf</th>\n",
       "                        <td id=\"T_44093c1e_9c1f_11eb_87d1_b42e991e0817row2_col0\" class=\"data row2 col0\" >Random Forest Classifier</td>\n",
       "                        <td id=\"T_44093c1e_9c1f_11eb_87d1_b42e991e0817row2_col1\" class=\"data row2 col1\" >0.8067</td>\n",
       "                        <td id=\"T_44093c1e_9c1f_11eb_87d1_b42e991e0817row2_col2\" class=\"data row2 col2\" >0.8117</td>\n",
       "                        <td id=\"T_44093c1e_9c1f_11eb_87d1_b42e991e0817row2_col3\" class=\"data row2 col3\" >0.5633</td>\n",
       "                        <td id=\"T_44093c1e_9c1f_11eb_87d1_b42e991e0817row2_col4\" class=\"data row2 col4\" >0.7616</td>\n",
       "                        <td id=\"T_44093c1e_9c1f_11eb_87d1_b42e991e0817row2_col5\" class=\"data row2 col5\" >0.6462</td>\n",
       "                        <td id=\"T_44093c1e_9c1f_11eb_87d1_b42e991e0817row2_col6\" class=\"data row2 col6\" >0.5174</td>\n",
       "                        <td id=\"T_44093c1e_9c1f_11eb_87d1_b42e991e0817row2_col7\" class=\"data row2 col7\" >0.5294</td>\n",
       "                        <td id=\"T_44093c1e_9c1f_11eb_87d1_b42e991e0817row2_col8\" class=\"data row2 col8\" >0.0840</td>\n",
       "            </tr>\n",
       "            <tr>\n",
       "                        <th id=\"T_44093c1e_9c1f_11eb_87d1_b42e991e0817level0_row3\" class=\"row_heading level0 row3\" >et</th>\n",
       "                        <td id=\"T_44093c1e_9c1f_11eb_87d1_b42e991e0817row3_col0\" class=\"data row3 col0\" >Extra Trees Classifier</td>\n",
       "                        <td id=\"T_44093c1e_9c1f_11eb_87d1_b42e991e0817row3_col1\" class=\"data row3 col1\" >0.8063</td>\n",
       "                        <td id=\"T_44093c1e_9c1f_11eb_87d1_b42e991e0817row3_col2\" class=\"data row3 col2\" >0.8063</td>\n",
       "                        <td id=\"T_44093c1e_9c1f_11eb_87d1_b42e991e0817row3_col3\" class=\"data row3 col3\" >0.5632</td>\n",
       "                        <td id=\"T_44093c1e_9c1f_11eb_87d1_b42e991e0817row3_col4\" class=\"data row3 col4\" >0.7616</td>\n",
       "                        <td id=\"T_44093c1e_9c1f_11eb_87d1_b42e991e0817row3_col5\" class=\"data row3 col5\" >0.6460</td>\n",
       "                        <td id=\"T_44093c1e_9c1f_11eb_87d1_b42e991e0817row3_col6\" class=\"data row3 col6\" >0.5168</td>\n",
       "                        <td id=\"T_44093c1e_9c1f_11eb_87d1_b42e991e0817row3_col7\" class=\"data row3 col7\" >0.5290</td>\n",
       "                        <td id=\"T_44093c1e_9c1f_11eb_87d1_b42e991e0817row3_col8\" class=\"data row3 col8\" >0.0660</td>\n",
       "            </tr>\n",
       "            <tr>\n",
       "                        <th id=\"T_44093c1e_9c1f_11eb_87d1_b42e991e0817level0_row4\" class=\"row_heading level0 row4\" >lightgbm</th>\n",
       "                        <td id=\"T_44093c1e_9c1f_11eb_87d1_b42e991e0817row4_col0\" class=\"data row4 col0\" >Light Gradient Boosting Machine</td>\n",
       "                        <td id=\"T_44093c1e_9c1f_11eb_87d1_b42e991e0817row4_col1\" class=\"data row4 col1\" >0.7977</td>\n",
       "                        <td id=\"T_44093c1e_9c1f_11eb_87d1_b42e991e0817row4_col2\" class=\"data row4 col2\" >0.8092</td>\n",
       "                        <td id=\"T_44093c1e_9c1f_11eb_87d1_b42e991e0817row4_col3\" class=\"data row4 col3\" >0.5557</td>\n",
       "                        <td id=\"T_44093c1e_9c1f_11eb_87d1_b42e991e0817row4_col4\" class=\"data row4 col4\" >0.7363</td>\n",
       "                        <td id=\"T_44093c1e_9c1f_11eb_87d1_b42e991e0817row4_col5\" class=\"data row4 col5\" >0.6325</td>\n",
       "                        <td id=\"T_44093c1e_9c1f_11eb_87d1_b42e991e0817row4_col6\" class=\"data row4 col6\" >0.4968</td>\n",
       "                        <td id=\"T_44093c1e_9c1f_11eb_87d1_b42e991e0817row4_col7\" class=\"data row4 col7\" >0.5067</td>\n",
       "                        <td id=\"T_44093c1e_9c1f_11eb_87d1_b42e991e0817row4_col8\" class=\"data row4 col8\" >0.0540</td>\n",
       "            </tr>\n",
       "            <tr>\n",
       "                        <th id=\"T_44093c1e_9c1f_11eb_87d1_b42e991e0817level0_row5\" class=\"row_heading level0 row5\" >ada</th>\n",
       "                        <td id=\"T_44093c1e_9c1f_11eb_87d1_b42e991e0817row5_col0\" class=\"data row5 col0\" >Ada Boost Classifier</td>\n",
       "                        <td id=\"T_44093c1e_9c1f_11eb_87d1_b42e991e0817row5_col1\" class=\"data row5 col1\" >0.7958</td>\n",
       "                        <td id=\"T_44093c1e_9c1f_11eb_87d1_b42e991e0817row5_col2\" class=\"data row5 col2\" >0.8046</td>\n",
       "                        <td id=\"T_44093c1e_9c1f_11eb_87d1_b42e991e0817row5_col3\" class=\"data row5 col3\" >0.5010</td>\n",
       "                        <td id=\"T_44093c1e_9c1f_11eb_87d1_b42e991e0817row5_col4\" class=\"data row5 col4\" >0.7667</td>\n",
       "                        <td id=\"T_44093c1e_9c1f_11eb_87d1_b42e991e0817row5_col5\" class=\"data row5 col5\" >0.6047</td>\n",
       "                        <td id=\"T_44093c1e_9c1f_11eb_87d1_b42e991e0817row5_col6\" class=\"data row5 col6\" >0.4755</td>\n",
       "                        <td id=\"T_44093c1e_9c1f_11eb_87d1_b42e991e0817row5_col7\" class=\"data row5 col7\" >0.4957</td>\n",
       "                        <td id=\"T_44093c1e_9c1f_11eb_87d1_b42e991e0817row5_col8\" class=\"data row5 col8\" >0.0270</td>\n",
       "            </tr>\n",
       "            <tr>\n",
       "                        <th id=\"T_44093c1e_9c1f_11eb_87d1_b42e991e0817level0_row6\" class=\"row_heading level0 row6\" >xgboost</th>\n",
       "                        <td id=\"T_44093c1e_9c1f_11eb_87d1_b42e991e0817row6_col0\" class=\"data row6 col0\" >Extreme Gradient Boosting</td>\n",
       "                        <td id=\"T_44093c1e_9c1f_11eb_87d1_b42e991e0817row6_col1\" class=\"data row6 col1\" >0.7927</td>\n",
       "                        <td id=\"T_44093c1e_9c1f_11eb_87d1_b42e991e0817row6_col2\" class=\"data row6 col2\" >0.7989</td>\n",
       "                        <td id=\"T_44093c1e_9c1f_11eb_87d1_b42e991e0817row6_col3\" class=\"data row6 col3\" >0.5570</td>\n",
       "                        <td id=\"T_44093c1e_9c1f_11eb_87d1_b42e991e0817row6_col4\" class=\"data row6 col4\" >0.7194</td>\n",
       "                        <td id=\"T_44093c1e_9c1f_11eb_87d1_b42e991e0817row6_col5\" class=\"data row6 col5\" >0.6273</td>\n",
       "                        <td id=\"T_44093c1e_9c1f_11eb_87d1_b42e991e0817row6_col6\" class=\"data row6 col6\" >0.4870</td>\n",
       "                        <td id=\"T_44093c1e_9c1f_11eb_87d1_b42e991e0817row6_col7\" class=\"data row6 col7\" >0.4950</td>\n",
       "                        <td id=\"T_44093c1e_9c1f_11eb_87d1_b42e991e0817row6_col8\" class=\"data row6 col8\" >0.1670</td>\n",
       "            </tr>\n",
       "            <tr>\n",
       "                        <th id=\"T_44093c1e_9c1f_11eb_87d1_b42e991e0817level0_row7\" class=\"row_heading level0 row7\" >qda</th>\n",
       "                        <td id=\"T_44093c1e_9c1f_11eb_87d1_b42e991e0817row7_col0\" class=\"data row7 col0\" >Quadratic Discriminant Analysis</td>\n",
       "                        <td id=\"T_44093c1e_9c1f_11eb_87d1_b42e991e0817row7_col1\" class=\"data row7 col1\" >0.7896</td>\n",
       "                        <td id=\"T_44093c1e_9c1f_11eb_87d1_b42e991e0817row7_col2\" class=\"data row7 col2\" >0.8071</td>\n",
       "                        <td id=\"T_44093c1e_9c1f_11eb_87d1_b42e991e0817row7_col3\" class=\"data row7 col3\" >0.4788</td>\n",
       "                        <td id=\"T_44093c1e_9c1f_11eb_87d1_b42e991e0817row7_col4\" class=\"data row7 col4\" >0.7654</td>\n",
       "                        <td id=\"T_44093c1e_9c1f_11eb_87d1_b42e991e0817row7_col5\" class=\"data row7 col5\" >0.5873</td>\n",
       "                        <td id=\"T_44093c1e_9c1f_11eb_87d1_b42e991e0817row7_col6\" class=\"data row7 col6\" >0.4562</td>\n",
       "                        <td id=\"T_44093c1e_9c1f_11eb_87d1_b42e991e0817row7_col7\" class=\"data row7 col7\" >0.4798</td>\n",
       "                        <td id=\"T_44093c1e_9c1f_11eb_87d1_b42e991e0817row7_col8\" class=\"data row7 col8\" >0.0070</td>\n",
       "            </tr>\n",
       "            <tr>\n",
       "                        <th id=\"T_44093c1e_9c1f_11eb_87d1_b42e991e0817level0_row8\" class=\"row_heading level0 row8\" >nb</th>\n",
       "                        <td id=\"T_44093c1e_9c1f_11eb_87d1_b42e991e0817row8_col0\" class=\"data row8 col0\" >Naive Bayes</td>\n",
       "                        <td id=\"T_44093c1e_9c1f_11eb_87d1_b42e991e0817row8_col1\" class=\"data row8 col1\" >0.7798</td>\n",
       "                        <td id=\"T_44093c1e_9c1f_11eb_87d1_b42e991e0817row8_col2\" class=\"data row8 col2\" >0.8001</td>\n",
       "                        <td id=\"T_44093c1e_9c1f_11eb_87d1_b42e991e0817row8_col3\" class=\"data row8 col3\" >0.4862</td>\n",
       "                        <td id=\"T_44093c1e_9c1f_11eb_87d1_b42e991e0817row8_col4\" class=\"data row8 col4\" >0.7198</td>\n",
       "                        <td id=\"T_44093c1e_9c1f_11eb_87d1_b42e991e0817row8_col5\" class=\"data row8 col5\" >0.5793</td>\n",
       "                        <td id=\"T_44093c1e_9c1f_11eb_87d1_b42e991e0817row8_col6\" class=\"data row8 col6\" >0.4382</td>\n",
       "                        <td id=\"T_44093c1e_9c1f_11eb_87d1_b42e991e0817row8_col7\" class=\"data row8 col7\" >0.4540</td>\n",
       "                        <td id=\"T_44093c1e_9c1f_11eb_87d1_b42e991e0817row8_col8\" class=\"data row8 col8\" >0.0070</td>\n",
       "            </tr>\n",
       "            <tr>\n",
       "                        <th id=\"T_44093c1e_9c1f_11eb_87d1_b42e991e0817level0_row9\" class=\"row_heading level0 row9\" >knn</th>\n",
       "                        <td id=\"T_44093c1e_9c1f_11eb_87d1_b42e991e0817row9_col0\" class=\"data row9 col0\" >K Neighbors Classifier</td>\n",
       "                        <td id=\"T_44093c1e_9c1f_11eb_87d1_b42e991e0817row9_col1\" class=\"data row9 col1\" >0.7573</td>\n",
       "                        <td id=\"T_44093c1e_9c1f_11eb_87d1_b42e991e0817row9_col2\" class=\"data row9 col2\" >0.7145</td>\n",
       "                        <td id=\"T_44093c1e_9c1f_11eb_87d1_b42e991e0817row9_col3\" class=\"data row9 col3\" >0.4093</td>\n",
       "                        <td id=\"T_44093c1e_9c1f_11eb_87d1_b42e991e0817row9_col4\" class=\"data row9 col4\" >0.6942</td>\n",
       "                        <td id=\"T_44093c1e_9c1f_11eb_87d1_b42e991e0817row9_col5\" class=\"data row9 col5\" >0.5136</td>\n",
       "                        <td id=\"T_44093c1e_9c1f_11eb_87d1_b42e991e0817row9_col6\" class=\"data row9 col6\" >0.3660</td>\n",
       "                        <td id=\"T_44093c1e_9c1f_11eb_87d1_b42e991e0817row9_col7\" class=\"data row9 col7\" >0.3894</td>\n",
       "                        <td id=\"T_44093c1e_9c1f_11eb_87d1_b42e991e0817row9_col8\" class=\"data row9 col8\" >0.2610</td>\n",
       "            </tr>\n",
       "            <tr>\n",
       "                        <th id=\"T_44093c1e_9c1f_11eb_87d1_b42e991e0817level0_row10\" class=\"row_heading level0 row10\" >lda</th>\n",
       "                        <td id=\"T_44093c1e_9c1f_11eb_87d1_b42e991e0817row10_col0\" class=\"data row10 col0\" >Linear Discriminant Analysis</td>\n",
       "                        <td id=\"T_44093c1e_9c1f_11eb_87d1_b42e991e0817row10_col1\" class=\"data row10 col1\" >0.7460</td>\n",
       "                        <td id=\"T_44093c1e_9c1f_11eb_87d1_b42e991e0817row10_col2\" class=\"data row10 col2\" >0.6629</td>\n",
       "                        <td id=\"T_44093c1e_9c1f_11eb_87d1_b42e991e0817row10_col3\" class=\"data row10 col3\" >0.2381</td>\n",
       "                        <td id=\"T_44093c1e_9c1f_11eb_87d1_b42e991e0817row10_col4\" class=\"data row10 col4\" >0.8323</td>\n",
       "                        <td id=\"T_44093c1e_9c1f_11eb_87d1_b42e991e0817row10_col5\" class=\"data row10 col5\" >0.3687</td>\n",
       "                        <td id=\"T_44093c1e_9c1f_11eb_87d1_b42e991e0817row10_col6\" class=\"data row10 col6\" >0.2674</td>\n",
       "                        <td id=\"T_44093c1e_9c1f_11eb_87d1_b42e991e0817row10_col7\" class=\"data row10 col7\" >0.3500</td>\n",
       "                        <td id=\"T_44093c1e_9c1f_11eb_87d1_b42e991e0817row10_col8\" class=\"data row10 col8\" >0.0070</td>\n",
       "            </tr>\n",
       "            <tr>\n",
       "                        <th id=\"T_44093c1e_9c1f_11eb_87d1_b42e991e0817level0_row11\" class=\"row_heading level0 row11\" >ridge</th>\n",
       "                        <td id=\"T_44093c1e_9c1f_11eb_87d1_b42e991e0817row11_col0\" class=\"data row11 col0\" >Ridge Classifier</td>\n",
       "                        <td id=\"T_44093c1e_9c1f_11eb_87d1_b42e991e0817row11_col1\" class=\"data row11 col1\" >0.7441</td>\n",
       "                        <td id=\"T_44093c1e_9c1f_11eb_87d1_b42e991e0817row11_col2\" class=\"data row11 col2\" >0.0000</td>\n",
       "                        <td id=\"T_44093c1e_9c1f_11eb_87d1_b42e991e0817row11_col3\" class=\"data row11 col3\" >0.2195</td>\n",
       "                        <td id=\"T_44093c1e_9c1f_11eb_87d1_b42e991e0817row11_col4\" class=\"data row11 col4\" >0.8623</td>\n",
       "                        <td id=\"T_44093c1e_9c1f_11eb_87d1_b42e991e0817row11_col5\" class=\"data row11 col5\" >0.3483</td>\n",
       "                        <td id=\"T_44093c1e_9c1f_11eb_87d1_b42e991e0817row11_col6\" class=\"data row11 col6\" >0.2541</td>\n",
       "                        <td id=\"T_44093c1e_9c1f_11eb_87d1_b42e991e0817row11_col7\" class=\"data row11 col7\" >0.3470</td>\n",
       "                        <td id=\"T_44093c1e_9c1f_11eb_87d1_b42e991e0817row11_col8\" class=\"data row11 col8\" >0.0070</td>\n",
       "            </tr>\n",
       "            <tr>\n",
       "                        <th id=\"T_44093c1e_9c1f_11eb_87d1_b42e991e0817level0_row12\" class=\"row_heading level0 row12\" >lr</th>\n",
       "                        <td id=\"T_44093c1e_9c1f_11eb_87d1_b42e991e0817row12_col0\" class=\"data row12 col0\" >Logistic Regression</td>\n",
       "                        <td id=\"T_44093c1e_9c1f_11eb_87d1_b42e991e0817row12_col1\" class=\"data row12 col1\" >0.7293</td>\n",
       "                        <td id=\"T_44093c1e_9c1f_11eb_87d1_b42e991e0817row12_col2\" class=\"data row12 col2\" >0.5972</td>\n",
       "                        <td id=\"T_44093c1e_9c1f_11eb_87d1_b42e991e0817row12_col3\" class=\"data row12 col3\" >0.1812</td>\n",
       "                        <td id=\"T_44093c1e_9c1f_11eb_87d1_b42e991e0817row12_col4\" class=\"data row12 col4\" >0.7432</td>\n",
       "                        <td id=\"T_44093c1e_9c1f_11eb_87d1_b42e991e0817row12_col5\" class=\"data row12 col5\" >0.2843</td>\n",
       "                        <td id=\"T_44093c1e_9c1f_11eb_87d1_b42e991e0817row12_col6\" class=\"data row12 col6\" >0.1998</td>\n",
       "                        <td id=\"T_44093c1e_9c1f_11eb_87d1_b42e991e0817row12_col7\" class=\"data row12 col7\" >0.2706</td>\n",
       "                        <td id=\"T_44093c1e_9c1f_11eb_87d1_b42e991e0817row12_col8\" class=\"data row12 col8\" >0.4640</td>\n",
       "            </tr>\n",
       "            <tr>\n",
       "                        <th id=\"T_44093c1e_9c1f_11eb_87d1_b42e991e0817level0_row13\" class=\"row_heading level0 row13\" >dt</th>\n",
       "                        <td id=\"T_44093c1e_9c1f_11eb_87d1_b42e991e0817row13_col0\" class=\"data row13 col0\" >Decision Tree Classifier</td>\n",
       "                        <td id=\"T_44093c1e_9c1f_11eb_87d1_b42e991e0817row13_col1\" class=\"data row13 col1\" >0.7285</td>\n",
       "                        <td id=\"T_44093c1e_9c1f_11eb_87d1_b42e991e0817row13_col2\" class=\"data row13 col2\" >0.6890</td>\n",
       "                        <td id=\"T_44093c1e_9c1f_11eb_87d1_b42e991e0817row13_col3\" class=\"data row13 col3\" >0.5831</td>\n",
       "                        <td id=\"T_44093c1e_9c1f_11eb_87d1_b42e991e0817row13_col4\" class=\"data row13 col4\" >0.5655</td>\n",
       "                        <td id=\"T_44093c1e_9c1f_11eb_87d1_b42e991e0817row13_col5\" class=\"data row13 col5\" >0.5734</td>\n",
       "                        <td id=\"T_44093c1e_9c1f_11eb_87d1_b42e991e0817row13_col6\" class=\"data row13 col6\" >0.3745</td>\n",
       "                        <td id=\"T_44093c1e_9c1f_11eb_87d1_b42e991e0817row13_col7\" class=\"data row13 col7\" >0.3751</td>\n",
       "                        <td id=\"T_44093c1e_9c1f_11eb_87d1_b42e991e0817row13_col8\" class=\"data row13 col8\" >0.0080</td>\n",
       "            </tr>\n",
       "            <tr>\n",
       "                        <th id=\"T_44093c1e_9c1f_11eb_87d1_b42e991e0817level0_row14\" class=\"row_heading level0 row14\" >svm</th>\n",
       "                        <td id=\"T_44093c1e_9c1f_11eb_87d1_b42e991e0817row14_col0\" class=\"data row14 col0\" >SVM - Linear Kernel</td>\n",
       "                        <td id=\"T_44093c1e_9c1f_11eb_87d1_b42e991e0817row14_col1\" class=\"data row14 col1\" >0.6180</td>\n",
       "                        <td id=\"T_44093c1e_9c1f_11eb_87d1_b42e991e0817row14_col2\" class=\"data row14 col2\" >0.0000</td>\n",
       "                        <td id=\"T_44093c1e_9c1f_11eb_87d1_b42e991e0817row14_col3\" class=\"data row14 col3\" >0.2272</td>\n",
       "                        <td id=\"T_44093c1e_9c1f_11eb_87d1_b42e991e0817row14_col4\" class=\"data row14 col4\" >0.4996</td>\n",
       "                        <td id=\"T_44093c1e_9c1f_11eb_87d1_b42e991e0817row14_col5\" class=\"data row14 col5\" >0.1452</td>\n",
       "                        <td id=\"T_44093c1e_9c1f_11eb_87d1_b42e991e0817row14_col6\" class=\"data row14 col6\" >0.0316</td>\n",
       "                        <td id=\"T_44093c1e_9c1f_11eb_87d1_b42e991e0817row14_col7\" class=\"data row14 col7\" >0.0748</td>\n",
       "                        <td id=\"T_44093c1e_9c1f_11eb_87d1_b42e991e0817row14_col8\" class=\"data row14 col8\" >0.0100</td>\n",
       "            </tr>\n",
       "    </tbody></table>"
      ],
      "text/plain": [
       "<pandas.io.formats.style.Styler at 0x2a0c7dacfd0>"
      ]
     },
     "metadata": {},
     "output_type": "display_data"
    },
    {
     "data": {
      "text/plain": [
       "GradientBoostingClassifier(ccp_alpha=0.0, criterion='friedman_mse', init=None,\n",
       "                           learning_rate=0.1, loss='deviance', max_depth=3,\n",
       "                           max_features=None, max_leaf_nodes=None,\n",
       "                           min_impurity_decrease=0.0, min_impurity_split=None,\n",
       "                           min_samples_leaf=1, min_samples_split=2,\n",
       "                           min_weight_fraction_leaf=0.0, n_estimators=100,\n",
       "                           n_iter_no_change=None, presort='deprecated',\n",
       "                           random_state=8565, subsample=1.0, tol=0.0001,\n",
       "                           validation_fraction=0.1, verbose=0,\n",
       "                           warm_start=False)"
      ]
     },
     "execution_count": 11,
     "metadata": {},
     "output_type": "execute_result"
    }
   ],
   "source": [
    "compare_models()"
   ]
  },
  {
   "cell_type": "code",
   "execution_count": 12,
   "metadata": {},
   "outputs": [
    {
     "data": {
      "text/html": [
       "<style  type=\"text/css\" >\n",
       "#T_4d7b52b1_9c1f_11eb_a591_b42e991e0817row5_col0,#T_4d7b52b1_9c1f_11eb_a591_b42e991e0817row5_col1,#T_4d7b52b1_9c1f_11eb_a591_b42e991e0817row5_col2,#T_4d7b52b1_9c1f_11eb_a591_b42e991e0817row5_col3,#T_4d7b52b1_9c1f_11eb_a591_b42e991e0817row5_col4,#T_4d7b52b1_9c1f_11eb_a591_b42e991e0817row5_col5,#T_4d7b52b1_9c1f_11eb_a591_b42e991e0817row5_col6{\n",
       "            background:  yellow;\n",
       "        }</style><table id=\"T_4d7b52b1_9c1f_11eb_a591_b42e991e0817\" ><thead>    <tr>        <th class=\"blank level0\" ></th>        <th class=\"col_heading level0 col0\" >Accuracy</th>        <th class=\"col_heading level0 col1\" >AUC</th>        <th class=\"col_heading level0 col2\" >Recall</th>        <th class=\"col_heading level0 col3\" >Prec.</th>        <th class=\"col_heading level0 col4\" >F1</th>        <th class=\"col_heading level0 col5\" >Kappa</th>        <th class=\"col_heading level0 col6\" >MCC</th>    </tr></thead><tbody>\n",
       "                <tr>\n",
       "                        <th id=\"T_4d7b52b1_9c1f_11eb_a591_b42e991e0817level0_row0\" class=\"row_heading level0 row0\" >0</th>\n",
       "                        <td id=\"T_4d7b52b1_9c1f_11eb_a591_b42e991e0817row0_col0\" class=\"data row0 col0\" >0.7922</td>\n",
       "                        <td id=\"T_4d7b52b1_9c1f_11eb_a591_b42e991e0817row0_col1\" class=\"data row0 col1\" >0.8392</td>\n",
       "                        <td id=\"T_4d7b52b1_9c1f_11eb_a591_b42e991e0817row0_col2\" class=\"data row0 col2\" >0.5494</td>\n",
       "                        <td id=\"T_4d7b52b1_9c1f_11eb_a591_b42e991e0817row0_col3\" class=\"data row0 col3\" >0.7236</td>\n",
       "                        <td id=\"T_4d7b52b1_9c1f_11eb_a591_b42e991e0817row0_col4\" class=\"data row0 col4\" >0.6246</td>\n",
       "                        <td id=\"T_4d7b52b1_9c1f_11eb_a591_b42e991e0817row0_col5\" class=\"data row0 col5\" >0.4846</td>\n",
       "                        <td id=\"T_4d7b52b1_9c1f_11eb_a591_b42e991e0817row0_col6\" class=\"data row0 col6\" >0.4934</td>\n",
       "            </tr>\n",
       "            <tr>\n",
       "                        <th id=\"T_4d7b52b1_9c1f_11eb_a591_b42e991e0817level0_row1\" class=\"row_heading level0 row1\" >1</th>\n",
       "                        <td id=\"T_4d7b52b1_9c1f_11eb_a591_b42e991e0817row1_col0\" class=\"data row1 col0\" >0.8113</td>\n",
       "                        <td id=\"T_4d7b52b1_9c1f_11eb_a591_b42e991e0817row1_col1\" class=\"data row1 col1\" >0.8119</td>\n",
       "                        <td id=\"T_4d7b52b1_9c1f_11eb_a591_b42e991e0817row1_col2\" class=\"data row1 col2\" >0.5652</td>\n",
       "                        <td id=\"T_4d7b52b1_9c1f_11eb_a591_b42e991e0817row1_col3\" class=\"data row1 col3\" >0.7712</td>\n",
       "                        <td id=\"T_4d7b52b1_9c1f_11eb_a591_b42e991e0817row1_col4\" class=\"data row1 col4\" >0.6523</td>\n",
       "                        <td id=\"T_4d7b52b1_9c1f_11eb_a591_b42e991e0817row1_col5\" class=\"data row1 col5\" >0.5270</td>\n",
       "                        <td id=\"T_4d7b52b1_9c1f_11eb_a591_b42e991e0817row1_col6\" class=\"data row1 col6\" >0.5390</td>\n",
       "            </tr>\n",
       "            <tr>\n",
       "                        <th id=\"T_4d7b52b1_9c1f_11eb_a591_b42e991e0817level0_row2\" class=\"row_heading level0 row2\" >2</th>\n",
       "                        <td id=\"T_4d7b52b1_9c1f_11eb_a591_b42e991e0817row2_col0\" class=\"data row2 col0\" >0.8288</td>\n",
       "                        <td id=\"T_4d7b52b1_9c1f_11eb_a591_b42e991e0817row2_col1\" class=\"data row2 col1\" >0.8378</td>\n",
       "                        <td id=\"T_4d7b52b1_9c1f_11eb_a591_b42e991e0817row2_col2\" class=\"data row2 col2\" >0.5776</td>\n",
       "                        <td id=\"T_4d7b52b1_9c1f_11eb_a591_b42e991e0817row2_col3\" class=\"data row2 col3\" >0.8230</td>\n",
       "                        <td id=\"T_4d7b52b1_9c1f_11eb_a591_b42e991e0817row2_col4\" class=\"data row2 col4\" >0.6788</td>\n",
       "                        <td id=\"T_4d7b52b1_9c1f_11eb_a591_b42e991e0817row2_col5\" class=\"data row2 col5\" >0.5670</td>\n",
       "                        <td id=\"T_4d7b52b1_9c1f_11eb_a591_b42e991e0817row2_col6\" class=\"data row2 col6\" >0.5835</td>\n",
       "            </tr>\n",
       "            <tr>\n",
       "                        <th id=\"T_4d7b52b1_9c1f_11eb_a591_b42e991e0817level0_row3\" class=\"row_heading level0 row3\" >3</th>\n",
       "                        <td id=\"T_4d7b52b1_9c1f_11eb_a591_b42e991e0817row3_col0\" class=\"data row3 col0\" >0.7996</td>\n",
       "                        <td id=\"T_4d7b52b1_9c1f_11eb_a591_b42e991e0817row3_col1\" class=\"data row3 col1\" >0.8193</td>\n",
       "                        <td id=\"T_4d7b52b1_9c1f_11eb_a591_b42e991e0817row3_col2\" class=\"data row3 col2\" >0.5217</td>\n",
       "                        <td id=\"T_4d7b52b1_9c1f_11eb_a591_b42e991e0817row3_col3\" class=\"data row3 col3\" >0.7636</td>\n",
       "                        <td id=\"T_4d7b52b1_9c1f_11eb_a591_b42e991e0817row3_col4\" class=\"data row3 col4\" >0.6199</td>\n",
       "                        <td id=\"T_4d7b52b1_9c1f_11eb_a591_b42e991e0817row3_col5\" class=\"data row3 col5\" >0.4903</td>\n",
       "                        <td id=\"T_4d7b52b1_9c1f_11eb_a591_b42e991e0817row3_col6\" class=\"data row3 col6\" >0.5067</td>\n",
       "            </tr>\n",
       "            <tr>\n",
       "                        <th id=\"T_4d7b52b1_9c1f_11eb_a591_b42e991e0817level0_row4\" class=\"row_heading level0 row4\" >4</th>\n",
       "                        <td id=\"T_4d7b52b1_9c1f_11eb_a591_b42e991e0817row4_col0\" class=\"data row4 col0\" >0.8016</td>\n",
       "                        <td id=\"T_4d7b52b1_9c1f_11eb_a591_b42e991e0817row4_col1\" class=\"data row4 col1\" >0.8181</td>\n",
       "                        <td id=\"T_4d7b52b1_9c1f_11eb_a591_b42e991e0817row4_col2\" class=\"data row4 col2\" >0.5280</td>\n",
       "                        <td id=\"T_4d7b52b1_9c1f_11eb_a591_b42e991e0817row4_col3\" class=\"data row4 col3\" >0.7658</td>\n",
       "                        <td id=\"T_4d7b52b1_9c1f_11eb_a591_b42e991e0817row4_col4\" class=\"data row4 col4\" >0.6250</td>\n",
       "                        <td id=\"T_4d7b52b1_9c1f_11eb_a591_b42e991e0817row4_col5\" class=\"data row4 col5\" >0.4962</td>\n",
       "                        <td id=\"T_4d7b52b1_9c1f_11eb_a591_b42e991e0817row4_col6\" class=\"data row4 col6\" >0.5121</td>\n",
       "            </tr>\n",
       "            <tr>\n",
       "                        <th id=\"T_4d7b52b1_9c1f_11eb_a591_b42e991e0817level0_row5\" class=\"row_heading level0 row5\" >Mean</th>\n",
       "                        <td id=\"T_4d7b52b1_9c1f_11eb_a591_b42e991e0817row5_col0\" class=\"data row5 col0\" >0.8067</td>\n",
       "                        <td id=\"T_4d7b52b1_9c1f_11eb_a591_b42e991e0817row5_col1\" class=\"data row5 col1\" >0.8253</td>\n",
       "                        <td id=\"T_4d7b52b1_9c1f_11eb_a591_b42e991e0817row5_col2\" class=\"data row5 col2\" >0.5484</td>\n",
       "                        <td id=\"T_4d7b52b1_9c1f_11eb_a591_b42e991e0817row5_col3\" class=\"data row5 col3\" >0.7694</td>\n",
       "                        <td id=\"T_4d7b52b1_9c1f_11eb_a591_b42e991e0817row5_col4\" class=\"data row5 col4\" >0.6401</td>\n",
       "                        <td id=\"T_4d7b52b1_9c1f_11eb_a591_b42e991e0817row5_col5\" class=\"data row5 col5\" >0.5130</td>\n",
       "                        <td id=\"T_4d7b52b1_9c1f_11eb_a591_b42e991e0817row5_col6\" class=\"data row5 col6\" >0.5269</td>\n",
       "            </tr>\n",
       "            <tr>\n",
       "                        <th id=\"T_4d7b52b1_9c1f_11eb_a591_b42e991e0817level0_row6\" class=\"row_heading level0 row6\" >SD</th>\n",
       "                        <td id=\"T_4d7b52b1_9c1f_11eb_a591_b42e991e0817row6_col0\" class=\"data row6 col0\" >0.0126</td>\n",
       "                        <td id=\"T_4d7b52b1_9c1f_11eb_a591_b42e991e0817row6_col1\" class=\"data row6 col1\" >0.0111</td>\n",
       "                        <td id=\"T_4d7b52b1_9c1f_11eb_a591_b42e991e0817row6_col2\" class=\"data row6 col2\" >0.0213</td>\n",
       "                        <td id=\"T_4d7b52b1_9c1f_11eb_a591_b42e991e0817row6_col3\" class=\"data row6 col3\" >0.0317</td>\n",
       "                        <td id=\"T_4d7b52b1_9c1f_11eb_a591_b42e991e0817row6_col4\" class=\"data row6 col4\" >0.0225</td>\n",
       "                        <td id=\"T_4d7b52b1_9c1f_11eb_a591_b42e991e0817row6_col5\" class=\"data row6 col5\" >0.0307</td>\n",
       "                        <td id=\"T_4d7b52b1_9c1f_11eb_a591_b42e991e0817row6_col6\" class=\"data row6 col6\" >0.0319</td>\n",
       "            </tr>\n",
       "    </tbody></table>"
      ],
      "text/plain": [
       "<pandas.io.formats.style.Styler at 0x2a0c8cda5e0>"
      ]
     },
     "metadata": {},
     "output_type": "display_data"
    }
   ],
   "source": [
    "cb = create_model('catboost', fold = 5)"
   ]
  },
  {
   "cell_type": "code",
   "execution_count": 13,
   "metadata": {},
   "outputs": [
    {
     "data": {
      "text/html": [
       "<style  type=\"text/css\" >\n",
       "#T_7748d0aa_9c1f_11eb_b562_b42e991e0817row10_col0,#T_7748d0aa_9c1f_11eb_b562_b42e991e0817row10_col1,#T_7748d0aa_9c1f_11eb_b562_b42e991e0817row10_col2,#T_7748d0aa_9c1f_11eb_b562_b42e991e0817row10_col3,#T_7748d0aa_9c1f_11eb_b562_b42e991e0817row10_col4,#T_7748d0aa_9c1f_11eb_b562_b42e991e0817row10_col5,#T_7748d0aa_9c1f_11eb_b562_b42e991e0817row10_col6{\n",
       "            background:  yellow;\n",
       "        }</style><table id=\"T_7748d0aa_9c1f_11eb_b562_b42e991e0817\" ><thead>    <tr>        <th class=\"blank level0\" ></th>        <th class=\"col_heading level0 col0\" >Accuracy</th>        <th class=\"col_heading level0 col1\" >AUC</th>        <th class=\"col_heading level0 col2\" >Recall</th>        <th class=\"col_heading level0 col3\" >Prec.</th>        <th class=\"col_heading level0 col4\" >F1</th>        <th class=\"col_heading level0 col5\" >Kappa</th>        <th class=\"col_heading level0 col6\" >MCC</th>    </tr></thead><tbody>\n",
       "                <tr>\n",
       "                        <th id=\"T_7748d0aa_9c1f_11eb_b562_b42e991e0817level0_row0\" class=\"row_heading level0 row0\" >0</th>\n",
       "                        <td id=\"T_7748d0aa_9c1f_11eb_b562_b42e991e0817row0_col0\" class=\"data row0 col0\" >0.7984</td>\n",
       "                        <td id=\"T_7748d0aa_9c1f_11eb_b562_b42e991e0817row0_col1\" class=\"data row0 col1\" >0.8297</td>\n",
       "                        <td id=\"T_7748d0aa_9c1f_11eb_b562_b42e991e0817row0_col2\" class=\"data row0 col2\" >0.5926</td>\n",
       "                        <td id=\"T_7748d0aa_9c1f_11eb_b562_b42e991e0817row0_col3\" class=\"data row0 col3\" >0.7164</td>\n",
       "                        <td id=\"T_7748d0aa_9c1f_11eb_b562_b42e991e0817row0_col4\" class=\"data row0 col4\" >0.6486</td>\n",
       "                        <td id=\"T_7748d0aa_9c1f_11eb_b562_b42e991e0817row0_col5\" class=\"data row0 col5\" >0.5091</td>\n",
       "                        <td id=\"T_7748d0aa_9c1f_11eb_b562_b42e991e0817row0_col6\" class=\"data row0 col6\" >0.5136</td>\n",
       "            </tr>\n",
       "            <tr>\n",
       "                        <th id=\"T_7748d0aa_9c1f_11eb_b562_b42e991e0817level0_row1\" class=\"row_heading level0 row1\" >1</th>\n",
       "                        <td id=\"T_7748d0aa_9c1f_11eb_b562_b42e991e0817row1_col0\" class=\"data row1 col0\" >0.8093</td>\n",
       "                        <td id=\"T_7748d0aa_9c1f_11eb_b562_b42e991e0817row1_col1\" class=\"data row1 col1\" >0.8536</td>\n",
       "                        <td id=\"T_7748d0aa_9c1f_11eb_b562_b42e991e0817row1_col2\" class=\"data row1 col2\" >0.5062</td>\n",
       "                        <td id=\"T_7748d0aa_9c1f_11eb_b562_b42e991e0817row1_col3\" class=\"data row1 col3\" >0.8200</td>\n",
       "                        <td id=\"T_7748d0aa_9c1f_11eb_b562_b42e991e0817row1_col4\" class=\"data row1 col4\" >0.6260</td>\n",
       "                        <td id=\"T_7748d0aa_9c1f_11eb_b562_b42e991e0817row1_col5\" class=\"data row1 col5\" >0.5075</td>\n",
       "                        <td id=\"T_7748d0aa_9c1f_11eb_b562_b42e991e0817row1_col6\" class=\"data row1 col6\" >0.5340</td>\n",
       "            </tr>\n",
       "            <tr>\n",
       "                        <th id=\"T_7748d0aa_9c1f_11eb_b562_b42e991e0817level0_row2\" class=\"row_heading level0 row2\" >2</th>\n",
       "                        <td id=\"T_7748d0aa_9c1f_11eb_b562_b42e991e0817row2_col0\" class=\"data row2 col0\" >0.8288</td>\n",
       "                        <td id=\"T_7748d0aa_9c1f_11eb_b562_b42e991e0817row2_col1\" class=\"data row2 col1\" >0.8097</td>\n",
       "                        <td id=\"T_7748d0aa_9c1f_11eb_b562_b42e991e0817row2_col2\" class=\"data row2 col2\" >0.5926</td>\n",
       "                        <td id=\"T_7748d0aa_9c1f_11eb_b562_b42e991e0817row2_col3\" class=\"data row2 col3\" >0.8136</td>\n",
       "                        <td id=\"T_7748d0aa_9c1f_11eb_b562_b42e991e0817row2_col4\" class=\"data row2 col4\" >0.6857</td>\n",
       "                        <td id=\"T_7748d0aa_9c1f_11eb_b562_b42e991e0817row2_col5\" class=\"data row2 col5\" >0.5720</td>\n",
       "                        <td id=\"T_7748d0aa_9c1f_11eb_b562_b42e991e0817row2_col6\" class=\"data row2 col6\" >0.5856</td>\n",
       "            </tr>\n",
       "            <tr>\n",
       "                        <th id=\"T_7748d0aa_9c1f_11eb_b562_b42e991e0817level0_row3\" class=\"row_heading level0 row3\" >3</th>\n",
       "                        <td id=\"T_7748d0aa_9c1f_11eb_b562_b42e991e0817row3_col0\" class=\"data row3 col0\" >0.8210</td>\n",
       "                        <td id=\"T_7748d0aa_9c1f_11eb_b562_b42e991e0817row3_col1\" class=\"data row3 col1\" >0.8337</td>\n",
       "                        <td id=\"T_7748d0aa_9c1f_11eb_b562_b42e991e0817row3_col2\" class=\"data row3 col2\" >0.5556</td>\n",
       "                        <td id=\"T_7748d0aa_9c1f_11eb_b562_b42e991e0817row3_col3\" class=\"data row3 col3\" >0.8182</td>\n",
       "                        <td id=\"T_7748d0aa_9c1f_11eb_b562_b42e991e0817row3_col4\" class=\"data row3 col4\" >0.6618</td>\n",
       "                        <td id=\"T_7748d0aa_9c1f_11eb_b562_b42e991e0817row3_col5\" class=\"data row3 col5\" >0.5460</td>\n",
       "                        <td id=\"T_7748d0aa_9c1f_11eb_b562_b42e991e0817row3_col6\" class=\"data row3 col6\" >0.5650</td>\n",
       "            </tr>\n",
       "            <tr>\n",
       "                        <th id=\"T_7748d0aa_9c1f_11eb_b562_b42e991e0817level0_row4\" class=\"row_heading level0 row4\" >4</th>\n",
       "                        <td id=\"T_7748d0aa_9c1f_11eb_b562_b42e991e0817row4_col0\" class=\"data row4 col0\" >0.8327</td>\n",
       "                        <td id=\"T_7748d0aa_9c1f_11eb_b562_b42e991e0817row4_col1\" class=\"data row4 col1\" >0.8665</td>\n",
       "                        <td id=\"T_7748d0aa_9c1f_11eb_b562_b42e991e0817row4_col2\" class=\"data row4 col2\" >0.5556</td>\n",
       "                        <td id=\"T_7748d0aa_9c1f_11eb_b562_b42e991e0817row4_col3\" class=\"data row4 col3\" >0.8654</td>\n",
       "                        <td id=\"T_7748d0aa_9c1f_11eb_b562_b42e991e0817row4_col4\" class=\"data row4 col4\" >0.6767</td>\n",
       "                        <td id=\"T_7748d0aa_9c1f_11eb_b562_b42e991e0817row4_col5\" class=\"data row4 col5\" >0.5710</td>\n",
       "                        <td id=\"T_7748d0aa_9c1f_11eb_b562_b42e991e0817row4_col6\" class=\"data row4 col6\" >0.5965</td>\n",
       "            </tr>\n",
       "            <tr>\n",
       "                        <th id=\"T_7748d0aa_9c1f_11eb_b562_b42e991e0817level0_row5\" class=\"row_heading level0 row5\" >5</th>\n",
       "                        <td id=\"T_7748d0aa_9c1f_11eb_b562_b42e991e0817row5_col0\" class=\"data row5 col0\" >0.8249</td>\n",
       "                        <td id=\"T_7748d0aa_9c1f_11eb_b562_b42e991e0817row5_col1\" class=\"data row5 col1\" >0.8412</td>\n",
       "                        <td id=\"T_7748d0aa_9c1f_11eb_b562_b42e991e0817row5_col2\" class=\"data row5 col2\" >0.5556</td>\n",
       "                        <td id=\"T_7748d0aa_9c1f_11eb_b562_b42e991e0817row5_col3\" class=\"data row5 col3\" >0.8333</td>\n",
       "                        <td id=\"T_7748d0aa_9c1f_11eb_b562_b42e991e0817row5_col4\" class=\"data row5 col4\" >0.6667</td>\n",
       "                        <td id=\"T_7748d0aa_9c1f_11eb_b562_b42e991e0817row5_col5\" class=\"data row5 col5\" >0.5543</td>\n",
       "                        <td id=\"T_7748d0aa_9c1f_11eb_b562_b42e991e0817row5_col6\" class=\"data row5 col6\" >0.5752</td>\n",
       "            </tr>\n",
       "            <tr>\n",
       "                        <th id=\"T_7748d0aa_9c1f_11eb_b562_b42e991e0817level0_row6\" class=\"row_heading level0 row6\" >6</th>\n",
       "                        <td id=\"T_7748d0aa_9c1f_11eb_b562_b42e991e0817row6_col0\" class=\"data row6 col0\" >0.8054</td>\n",
       "                        <td id=\"T_7748d0aa_9c1f_11eb_b562_b42e991e0817row6_col1\" class=\"data row6 col1\" >0.8540</td>\n",
       "                        <td id=\"T_7748d0aa_9c1f_11eb_b562_b42e991e0817row6_col2\" class=\"data row6 col2\" >0.5500</td>\n",
       "                        <td id=\"T_7748d0aa_9c1f_11eb_b562_b42e991e0817row6_col3\" class=\"data row6 col3\" >0.7586</td>\n",
       "                        <td id=\"T_7748d0aa_9c1f_11eb_b562_b42e991e0817row6_col4\" class=\"data row6 col4\" >0.6377</td>\n",
       "                        <td id=\"T_7748d0aa_9c1f_11eb_b562_b42e991e0817row6_col5\" class=\"data row6 col5\" >0.5093</td>\n",
       "                        <td id=\"T_7748d0aa_9c1f_11eb_b562_b42e991e0817row6_col6\" class=\"data row6 col6\" >0.5216</td>\n",
       "            </tr>\n",
       "            <tr>\n",
       "                        <th id=\"T_7748d0aa_9c1f_11eb_b562_b42e991e0817level0_row7\" class=\"row_heading level0 row7\" >7</th>\n",
       "                        <td id=\"T_7748d0aa_9c1f_11eb_b562_b42e991e0817row7_col0\" class=\"data row7 col0\" >0.8054</td>\n",
       "                        <td id=\"T_7748d0aa_9c1f_11eb_b562_b42e991e0817row7_col1\" class=\"data row7 col1\" >0.8084</td>\n",
       "                        <td id=\"T_7748d0aa_9c1f_11eb_b562_b42e991e0817row7_col2\" class=\"data row7 col2\" >0.5125</td>\n",
       "                        <td id=\"T_7748d0aa_9c1f_11eb_b562_b42e991e0817row7_col3\" class=\"data row7 col3\" >0.7885</td>\n",
       "                        <td id=\"T_7748d0aa_9c1f_11eb_b562_b42e991e0817row7_col4\" class=\"data row7 col4\" >0.6212</td>\n",
       "                        <td id=\"T_7748d0aa_9c1f_11eb_b562_b42e991e0817row7_col5\" class=\"data row7 col5\" >0.4981</td>\n",
       "                        <td id=\"T_7748d0aa_9c1f_11eb_b562_b42e991e0817row7_col6\" class=\"data row7 col6\" >0.5190</td>\n",
       "            </tr>\n",
       "            <tr>\n",
       "                        <th id=\"T_7748d0aa_9c1f_11eb_b562_b42e991e0817level0_row8\" class=\"row_heading level0 row8\" >8</th>\n",
       "                        <td id=\"T_7748d0aa_9c1f_11eb_b562_b42e991e0817row8_col0\" class=\"data row8 col0\" >0.8132</td>\n",
       "                        <td id=\"T_7748d0aa_9c1f_11eb_b562_b42e991e0817row8_col1\" class=\"data row8 col1\" >0.8196</td>\n",
       "                        <td id=\"T_7748d0aa_9c1f_11eb_b562_b42e991e0817row8_col2\" class=\"data row8 col2\" >0.5375</td>\n",
       "                        <td id=\"T_7748d0aa_9c1f_11eb_b562_b42e991e0817row8_col3\" class=\"data row8 col3\" >0.7963</td>\n",
       "                        <td id=\"T_7748d0aa_9c1f_11eb_b562_b42e991e0817row8_col4\" class=\"data row8 col4\" >0.6418</td>\n",
       "                        <td id=\"T_7748d0aa_9c1f_11eb_b562_b42e991e0817row8_col5\" class=\"data row8 col5\" >0.5218</td>\n",
       "                        <td id=\"T_7748d0aa_9c1f_11eb_b562_b42e991e0817row8_col6\" class=\"data row8 col6\" >0.5403</td>\n",
       "            </tr>\n",
       "            <tr>\n",
       "                        <th id=\"T_7748d0aa_9c1f_11eb_b562_b42e991e0817level0_row9\" class=\"row_heading level0 row9\" >9</th>\n",
       "                        <td id=\"T_7748d0aa_9c1f_11eb_b562_b42e991e0817row9_col0\" class=\"data row9 col0\" >0.7860</td>\n",
       "                        <td id=\"T_7748d0aa_9c1f_11eb_b562_b42e991e0817row9_col1\" class=\"data row9 col1\" >0.8107</td>\n",
       "                        <td id=\"T_7748d0aa_9c1f_11eb_b562_b42e991e0817row9_col2\" class=\"data row9 col2\" >0.5125</td>\n",
       "                        <td id=\"T_7748d0aa_9c1f_11eb_b562_b42e991e0817row9_col3\" class=\"data row9 col3\" >0.7193</td>\n",
       "                        <td id=\"T_7748d0aa_9c1f_11eb_b562_b42e991e0817row9_col4\" class=\"data row9 col4\" >0.5985</td>\n",
       "                        <td id=\"T_7748d0aa_9c1f_11eb_b562_b42e991e0817row9_col5\" class=\"data row9 col5\" >0.4582</td>\n",
       "                        <td id=\"T_7748d0aa_9c1f_11eb_b562_b42e991e0817row9_col6\" class=\"data row9 col6\" >0.4704</td>\n",
       "            </tr>\n",
       "            <tr>\n",
       "                        <th id=\"T_7748d0aa_9c1f_11eb_b562_b42e991e0817level0_row10\" class=\"row_heading level0 row10\" >Mean</th>\n",
       "                        <td id=\"T_7748d0aa_9c1f_11eb_b562_b42e991e0817row10_col0\" class=\"data row10 col0\" >0.8125</td>\n",
       "                        <td id=\"T_7748d0aa_9c1f_11eb_b562_b42e991e0817row10_col1\" class=\"data row10 col1\" >0.8327</td>\n",
       "                        <td id=\"T_7748d0aa_9c1f_11eb_b562_b42e991e0817row10_col2\" class=\"data row10 col2\" >0.5471</td>\n",
       "                        <td id=\"T_7748d0aa_9c1f_11eb_b562_b42e991e0817row10_col3\" class=\"data row10 col3\" >0.7930</td>\n",
       "                        <td id=\"T_7748d0aa_9c1f_11eb_b562_b42e991e0817row10_col4\" class=\"data row10 col4\" >0.6465</td>\n",
       "                        <td id=\"T_7748d0aa_9c1f_11eb_b562_b42e991e0817row10_col5\" class=\"data row10 col5\" >0.5247</td>\n",
       "                        <td id=\"T_7748d0aa_9c1f_11eb_b562_b42e991e0817row10_col6\" class=\"data row10 col6\" >0.5421</td>\n",
       "            </tr>\n",
       "            <tr>\n",
       "                        <th id=\"T_7748d0aa_9c1f_11eb_b562_b42e991e0817level0_row11\" class=\"row_heading level0 row11\" >SD</th>\n",
       "                        <td id=\"T_7748d0aa_9c1f_11eb_b562_b42e991e0817row11_col0\" class=\"data row11 col0\" >0.0138</td>\n",
       "                        <td id=\"T_7748d0aa_9c1f_11eb_b562_b42e991e0817row11_col1\" class=\"data row11 col1\" >0.0197</td>\n",
       "                        <td id=\"T_7748d0aa_9c1f_11eb_b562_b42e991e0817row11_col2\" class=\"data row11 col2\" >0.0292</td>\n",
       "                        <td id=\"T_7748d0aa_9c1f_11eb_b562_b42e991e0817row11_col3\" class=\"data row11 col3\" >0.0460</td>\n",
       "                        <td id=\"T_7748d0aa_9c1f_11eb_b562_b42e991e0817row11_col4\" class=\"data row11 col4\" >0.0256</td>\n",
       "                        <td id=\"T_7748d0aa_9c1f_11eb_b562_b42e991e0817row11_col5\" class=\"data row11 col5\" >0.0341</td>\n",
       "                        <td id=\"T_7748d0aa_9c1f_11eb_b562_b42e991e0817row11_col6\" class=\"data row11 col6\" >0.0367</td>\n",
       "            </tr>\n",
       "    </tbody></table>"
      ],
      "text/plain": [
       "<pandas.io.formats.style.Styler at 0x2a0c8cce6a0>"
      ]
     },
     "metadata": {},
     "output_type": "display_data"
    }
   ],
   "source": [
    "tuned_cb = tune_model(cb)"
   ]
  },
  {
   "cell_type": "code",
   "execution_count": 14,
   "metadata": {},
   "outputs": [
    {
     "data": {
      "image/png": "[encoded data removed]",
      "text/plain": [
       "<Figure size 576x396 with 1 Axes>"
      ]
     },
     "metadata": {},
     "output_type": "display_data"
    }
   ],
   "source": [
    "plot_model(cb)"
   ]
  },
  {
   "cell_type": "code",
   "execution_count": 15,
   "metadata": {},
   "outputs": [
    {
     "data": {
      "text/html": [
       "<style  type=\"text/css\" >\n",
       "</style><table id=\"T_77bb8294_9c1f_11eb_971c_b42e991e0817\" ><thead>    <tr>        <th class=\"blank level0\" ></th>        <th class=\"col_heading level0 col0\" >Model</th>        <th class=\"col_heading level0 col1\" >Accuracy</th>        <th class=\"col_heading level0 col2\" >AUC</th>        <th class=\"col_heading level0 col3\" >Recall</th>        <th class=\"col_heading level0 col4\" >Prec.</th>        <th class=\"col_heading level0 col5\" >F1</th>        <th class=\"col_heading level0 col6\" >Kappa</th>        <th class=\"col_heading level0 col7\" >MCC</th>    </tr></thead><tbody>\n",
       "                <tr>\n",
       "                        <th id=\"T_77bb8294_9c1f_11eb_971c_b42e991e0817level0_row0\" class=\"row_heading level0 row0\" >0</th>\n",
       "                        <td id=\"T_77bb8294_9c1f_11eb_971c_b42e991e0817row0_col0\" class=\"data row0 col0\" >CatBoost Classifier</td>\n",
       "                        <td id=\"T_77bb8294_9c1f_11eb_971c_b42e991e0817row0_col1\" class=\"data row0 col1\" >0.8056</td>\n",
       "                        <td id=\"T_77bb8294_9c1f_11eb_971c_b42e991e0817row0_col2\" class=\"data row0 col2\" >0.7989</td>\n",
       "                        <td id=\"T_77bb8294_9c1f_11eb_971c_b42e991e0817row0_col3\" class=\"data row0 col3\" >0.4972</td>\n",
       "                        <td id=\"T_77bb8294_9c1f_11eb_971c_b42e991e0817row0_col4\" class=\"data row0 col4\" >0.7177</td>\n",
       "                        <td id=\"T_77bb8294_9c1f_11eb_971c_b42e991e0817row0_col5\" class=\"data row0 col5\" >0.5875</td>\n",
       "                        <td id=\"T_77bb8294_9c1f_11eb_971c_b42e991e0817row0_col6\" class=\"data row0 col6\" >0.4657</td>\n",
       "                        <td id=\"T_77bb8294_9c1f_11eb_971c_b42e991e0817row0_col7\" class=\"data row0 col7\" >0.4792</td>\n",
       "            </tr>\n",
       "    </tbody></table>"
      ],
      "text/plain": [
       "<pandas.io.formats.style.Styler at 0x2a0c8ffb220>"
      ]
     },
     "metadata": {},
     "output_type": "display_data"
    }
   ],
   "source": [
    "pred_holdout = predict_model(cb)"
   ]
  },
  {
   "cell_type": "markdown",
   "metadata": {},
   "source": [
    "### Дерево решений"
   ]
  },
  {
   "cell_type": "code",
   "execution_count": 16,
   "metadata": {},
   "outputs": [
    {
     "name": "stdout",
     "output_type": "stream",
     "text": [
      "Accuracy наилучшей модели на валидационной выборке: 0.7853810264385692 при глубине: 3\n"
     ]
    }
   ],
   "source": [
    "best_model = None\n",
    "best_result = 0\n",
    "for depth in range(1, 31):\n",
    "    model = DecisionTreeClassifier(random_state=12345, max_depth = depth) # обучите модель с заданной глубиной дерева\n",
    "    model.fit(features_train, target_train) # обучите модель\n",
    "    predictions_valid = model.predict(features_valid) # получите предсказания модели\n",
    "    result = accuracy_score(target_valid, predictions_valid) # посчитайте качество модели\n",
    "    #print(\"max_depth:\", depth, \"|\", \"Accuracy:\", result)\n",
    "    if result > best_result:\n",
    "        best_model = model\n",
    "        best_result = result\n",
    "#print()\n",
    "print(\"Accuracy наилучшей модели на валидационной выборке: \", best_result, \" \", \"при глубине: \", 3, sep = '')"
   ]
  },
  {
   "cell_type": "markdown",
   "metadata": {},
   "source": [
    "*Известно, что нужно довести долю правильных ответов по крайней мере до 0.75. 0.785 как раз попадает в промежуток, хоть почти и впритык. Идем дальше*"
   ]
  },
  {
   "cell_type": "markdown",
   "metadata": {},
   "source": [
    "### Случайный лес"
   ]
  },
  {
   "cell_type": "code",
   "execution_count": 17,
   "metadata": {},
   "outputs": [
    {
     "name": "stdout",
     "output_type": "stream",
     "text": [
      "Accuracy наилучшей модели на валидационной выборке: 0.80248833592535 при глубине: 7 и кол-ву деревьев: 30\n"
     ]
    }
   ],
   "source": [
    "best_model = None\n",
    "best_result = 0\n",
    "best_depth = 0\n",
    "best_est = 0\n",
    "\n",
    "for est in range(10, 101, 10):\n",
    "    for depth in range (1, 8):\n",
    "        model = RandomForestClassifier(random_state=12345, max_depth = depth, n_estimators=est) # обучите модель с заданным количеством деревьев\n",
    "        model.fit(features_train, target_train) # обучите модель на тренировочной выборке\n",
    "        predictions_valid = model.predict(features_valid)\n",
    "        result = accuracy_score(target_valid, predictions_valid) # посчитайте качество модели на валидационной выборке\n",
    "        if result > best_result:\n",
    "            best_model = model # сохраните наилучшую модель\n",
    "            best_result = result #  сохраните наилучшее значение метрики accuracy на валидационных данных\n",
    "            best_depth = depth\n",
    "            best_est = est\n",
    "\n",
    "print(\"Accuracy наилучшей модели на валидационной выборке:\", best_result, \"при глубине:\", best_depth, \"и кол-ву деревьев:\", best_est)\n",
    "valid_prov = best_result"
   ]
  },
  {
   "cell_type": "markdown",
   "metadata": {},
   "source": [
    "*Случайный лес показал результат немного получше, чем дерево решений, но не ушел прям далеко*"
   ]
  },
  {
   "cell_type": "markdown",
   "metadata": {},
   "source": [
    "### Логистическая регрессия"
   ]
  },
  {
   "cell_type": "markdown",
   "metadata": {},
   "source": [
    "*Тут я получил предупреждение касательно гиперпараметра solver, поэтому решил перебрать существующие условия*"
   ]
  },
  {
   "cell_type": "code",
   "execution_count": 18,
   "metadata": {},
   "outputs": [
    {
     "name": "stdout",
     "output_type": "stream",
     "text": [
      "Accuracy модели логистической регрессии на валидационной выборке: 0.7076205287713841 при solver: newton-cg\n"
     ]
    }
   ],
   "source": [
    "solvers = ['newton-cg', 'lbfgs', 'liblinear'] #sag и saga я убрал, так как они показывали малый результат\n",
    "\n",
    "best_model = None\n",
    "best_result = 0\n",
    "best_solver = None\n",
    "\n",
    "for solver in solvers:\n",
    "    model = LogisticRegression(solver = solver, random_state=12345) # инициализируйте модель логистической регрессии\n",
    "    model.fit(features_train, target_train)# обучите модель на тренировочной выборке\n",
    "    predictions_valid = model.predict(features_valid)\n",
    "    result = accuracy_score(target_valid, predictions_valid) # получите метрику качества модели на валидационной выборке\n",
    "    if result > best_result:\n",
    "        best_model = model # сохраните наилучшую модель\n",
    "        best_result = result #  сохраните наилучшее значение метрики accuracy на валидационных данных\n",
    "        best_solver = solver\n",
    "\n",
    "print(\"Accuracy модели логистической регрессии на валидационной выборке:\", result, \"при solver:\", best_solver)"
   ]
  },
  {
   "cell_type": "markdown",
   "metadata": {},
   "source": [
    "### *Видим, что лучший результат показал solver со значением 'liblinear'. Значения выше, чем у дерева решений, но меньше, чем случайный лес.*"
   ]
  },
  {
   "cell_type": "markdown",
   "metadata": {},
   "source": [
    "### Вывод"
   ]
  },
  {
   "cell_type": "markdown",
   "metadata": {},
   "source": [
    "*Из результатов выше можно понять, что лучшие результаты у случаного леса, но при этом он самый долгий из-за кол-во деревьев и выбранной глубины. В дальнейшем будем использовать модель случайного леса*"
   ]
  },
  {
   "cell_type": "markdown",
   "metadata": {},
   "source": [
    "## 4. Проверьте модель на тестовой выборке"
   ]
  },
  {
   "cell_type": "code",
   "execution_count": 19,
   "metadata": {},
   "outputs": [
    {
     "name": "stdout",
     "output_type": "stream",
     "text": [
      "Accuracy по тестовой выборке: 0.8040435458786936\n",
      "Accuracy по валидационной выборке: 0.80248833592535\n"
     ]
    }
   ],
   "source": [
    "features_test = df_test.drop(['is_ultra'], axis = 1)\n",
    "target_test = df_test['is_ultra']\n",
    "\n",
    "model = RandomForestClassifier(n_estimators = 30, max_depth = 7, random_state = 12345)\n",
    "model.fit(features_train, target_train)\n",
    "\n",
    "predictions_test = model.predict(features_test)\n",
    "print(\"Accuracy по тестовой выборке: \", end = '')\n",
    "print(accuracy_score(target_test, predictions_test))\n",
    "print(\"Accuracy по валидационной выборке: \", end = '')\n",
    "print(valid_prov)"
   ]
  },
  {
   "cell_type": "markdown",
   "metadata": {},
   "source": [
    "### Вывод"
   ]
  },
  {
   "cell_type": "markdown",
   "metadata": {},
   "source": [
    "*На тестовой выборке модель случайного леса показывает приблизительное к тренировочной выборке значение accuracy. Можем считать, что нам удалось построить модель для задачи бинарной классификации, которая выберет подходящий тариф.*"
   ]
  },
  {
   "cell_type": "markdown",
   "metadata": {},
   "source": [
    "## 5. (бонус) Проверьте модели на адекватность"
   ]
  },
  {
   "cell_type": "code",
   "execution_count": 20,
   "metadata": {},
   "outputs": [
    {
     "name": "stdout",
     "output_type": "stream",
     "text": [
      "Доля большего класса: 0.693528313627878\n",
      "\n",
      "0.6842923794712286\n"
     ]
    }
   ],
   "source": [
    "#Доля большего класса\n",
    "print(\"Доля большего класса:\", len(users_behavior.query('is_ultra == 0')) / len(users_behavior))\n",
    "print()\n",
    "\n",
    "model = DummyClassifier(strategy=\"most_frequent\", random_state = 12345)\n",
    "model.fit(features_train, target_train)\n",
    "predictions_test = model.predict(features_test)\n",
    "print(accuracy_score(target_test, predictions_test))"
   ]
  }
 ],
 "metadata": {
  "kernelspec": {
   "display_name": "Python 3",
   "language": "python",
   "name": "python3"
  },
  "language_info": {
   "codemirror_mode": {
    "name": "ipython",
    "version": 3
   },
   "file_extension": ".py",
   "mimetype": "text/x-python",
   "name": "python",
   "nbconvert_exporter": "python",
   "pygments_lexer": "ipython3",
   "version": "3.8.6"
  }
 },
 "nbformat": 4,
 "nbformat_minor": 2
}
