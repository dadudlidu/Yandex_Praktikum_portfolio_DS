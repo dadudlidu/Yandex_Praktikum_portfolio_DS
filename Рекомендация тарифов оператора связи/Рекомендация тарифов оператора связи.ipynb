{
 "cells": [
  {
   "cell_type": "markdown",
   "metadata": {},
   "source": [
    "# Рекомендация тарифов"
   ]
  },
  {
   "cell_type": "markdown",
   "metadata": {},
   "source": [
    "В вашем распоряжении данные о поведении клиентов, которые уже перешли на эти тарифы (из проекта курса «Статистический анализ данных»). Нужно построить модель для задачи классификации, которая выберет подходящий тариф. Предобработка данных не понадобится — вы её уже сделали.\n",
    "\n",
    "Постройте модель с максимально большим значением *accuracy*. Чтобы сдать проект успешно, нужно довести долю правильных ответов по крайней мере до 0.75. Проверьте *accuracy* на тестовой выборке самостоятельно."
   ]
  },
  {
   "cell_type": "markdown",
   "metadata": {},
   "source": [
    "## План действий:\n",
    "1. *Открыть файл и изучить его*\n",
    "2. *Разделить исходные данные на обучающую, валидационную и тестовую выборки*\n",
    "3. *Исследовать качество разных моделей, меняя гиперпараметры*\n",
    "4. *Проверить качество модели*\n",
    "5. *Gроверить модели на вменяемость*"
   ]
  },
  {
   "cell_type": "markdown",
   "metadata": {},
   "source": [
    "## 1. Откройте и изучите файл"
   ]
  },
  {
   "cell_type": "markdown",
   "metadata": {},
   "source": [
    "### Импорт нужных библиотек"
   ]
  },
  {
   "cell_type": "code",
   "execution_count": 11,
   "metadata": {},
   "outputs": [],
   "source": [
    "import pandas as pd\n",
    "import matplotlib.pyplot as plt\n",
    "import seaborn as sns\n",
    "\n",
    "from sklearn.tree import DecisionTreeClassifier\n",
    "from sklearn.ensemble import RandomForestClassifier\n",
    "from sklearn.linear_model import LogisticRegression\n",
    "from sklearn.dummy import DummyClassifier\n",
    "\n",
    "from sklearn.model_selection import train_test_split\n",
    "from sklearn.metrics import accuracy_score\n",
    "\n",
    "import warnings"
   ]
  },
  {
   "cell_type": "code",
   "execution_count": 5,
   "metadata": {},
   "outputs": [],
   "source": [
    "warnings.filterwarnings('ignore') \n",
    "\n",
    "pd.options.display.max_rows = 100\n",
    "pd.options.display.max_columns = 100\n",
    "\n",
    "%matplotlib inline"
   ]
  },
  {
   "cell_type": "code",
   "execution_count": 13,
   "metadata": {},
   "outputs": [],
   "source": [
    "# Функция для вывода общей информации о датасете\n",
    "def df_info(df):\n",
    "    df.info()\n",
    "    display(df.head(10))\n",
    "    print(f'Кол-во дубликатов: {df.duplicated().sum()}')\n",
    "    print()\n",
    "    print(f'Кол-во пропусков: {df.isnull().sum()}')\n",
    "\n",
    "\n",
    "def diff(df, column, title, xlabel=None, ylabel=None):\n",
    "    plt.figure(figsize=(10, 6))\n",
    "    sns.countplot(x=column, data = df, palette = 'husl')\n",
    "    plt.title(title,fontsize=20)\n",
    "    plt.xlabel(xlabel, fontsize=15)\n",
    "    plt.ylabel(ylabel, fontsize=15)\n",
    "    plt.grid(True)\n",
    "    plt.show()"
   ]
  },
  {
   "cell_type": "markdown",
   "metadata": {},
   "source": [
    "### Краткий обзор данных"
   ]
  },
  {
   "cell_type": "code",
   "execution_count": 7,
   "metadata": {},
   "outputs": [],
   "source": [
    "users_behavior = pd.read_csv('/datasets/users_behavior.csv')"
   ]
  },
  {
   "cell_type": "code",
   "execution_count": 8,
   "metadata": {},
   "outputs": [
    {
     "name": "stdout",
     "output_type": "stream",
     "text": [
      "<class 'pandas.core.frame.DataFrame'>\n",
      "RangeIndex: 3214 entries, 0 to 3213\n",
      "Data columns (total 5 columns):\n",
      " #   Column    Non-Null Count  Dtype  \n",
      "---  ------    --------------  -----  \n",
      " 0   calls     3214 non-null   float64\n",
      " 1   minutes   3214 non-null   float64\n",
      " 2   messages  3214 non-null   float64\n",
      " 3   mb_used   3214 non-null   float64\n",
      " 4   is_ultra  3214 non-null   int64  \n",
      "dtypes: float64(4), int64(1)\n",
      "memory usage: 125.7 KB\n"
     ]
    },
    {
     "data": {
      "text/html": [
       "<div>\n",
       "<style scoped>\n",
       "    .dataframe tbody tr th:only-of-type {\n",
       "        vertical-align: middle;\n",
       "    }\n",
       "\n",
       "    .dataframe tbody tr th {\n",
       "        vertical-align: top;\n",
       "    }\n",
       "\n",
       "    .dataframe thead th {\n",
       "        text-align: right;\n",
       "    }\n",
       "</style>\n",
       "<table border=\"1\" class=\"dataframe\">\n",
       "  <thead>\n",
       "    <tr style=\"text-align: right;\">\n",
       "      <th></th>\n",
       "      <th>calls</th>\n",
       "      <th>minutes</th>\n",
       "      <th>messages</th>\n",
       "      <th>mb_used</th>\n",
       "      <th>is_ultra</th>\n",
       "    </tr>\n",
       "  </thead>\n",
       "  <tbody>\n",
       "    <tr>\n",
       "      <th>0</th>\n",
       "      <td>40.0</td>\n",
       "      <td>311.90</td>\n",
       "      <td>83.0</td>\n",
       "      <td>19915.42</td>\n",
       "      <td>0</td>\n",
       "    </tr>\n",
       "    <tr>\n",
       "      <th>1</th>\n",
       "      <td>85.0</td>\n",
       "      <td>516.75</td>\n",
       "      <td>56.0</td>\n",
       "      <td>22696.96</td>\n",
       "      <td>0</td>\n",
       "    </tr>\n",
       "    <tr>\n",
       "      <th>2</th>\n",
       "      <td>77.0</td>\n",
       "      <td>467.66</td>\n",
       "      <td>86.0</td>\n",
       "      <td>21060.45</td>\n",
       "      <td>0</td>\n",
       "    </tr>\n",
       "    <tr>\n",
       "      <th>3</th>\n",
       "      <td>106.0</td>\n",
       "      <td>745.53</td>\n",
       "      <td>81.0</td>\n",
       "      <td>8437.39</td>\n",
       "      <td>1</td>\n",
       "    </tr>\n",
       "    <tr>\n",
       "      <th>4</th>\n",
       "      <td>66.0</td>\n",
       "      <td>418.74</td>\n",
       "      <td>1.0</td>\n",
       "      <td>14502.75</td>\n",
       "      <td>0</td>\n",
       "    </tr>\n",
       "    <tr>\n",
       "      <th>5</th>\n",
       "      <td>58.0</td>\n",
       "      <td>344.56</td>\n",
       "      <td>21.0</td>\n",
       "      <td>15823.37</td>\n",
       "      <td>0</td>\n",
       "    </tr>\n",
       "    <tr>\n",
       "      <th>6</th>\n",
       "      <td>57.0</td>\n",
       "      <td>431.64</td>\n",
       "      <td>20.0</td>\n",
       "      <td>3738.90</td>\n",
       "      <td>1</td>\n",
       "    </tr>\n",
       "    <tr>\n",
       "      <th>7</th>\n",
       "      <td>15.0</td>\n",
       "      <td>132.40</td>\n",
       "      <td>6.0</td>\n",
       "      <td>21911.60</td>\n",
       "      <td>0</td>\n",
       "    </tr>\n",
       "    <tr>\n",
       "      <th>8</th>\n",
       "      <td>7.0</td>\n",
       "      <td>43.39</td>\n",
       "      <td>3.0</td>\n",
       "      <td>2538.67</td>\n",
       "      <td>1</td>\n",
       "    </tr>\n",
       "    <tr>\n",
       "      <th>9</th>\n",
       "      <td>90.0</td>\n",
       "      <td>665.41</td>\n",
       "      <td>38.0</td>\n",
       "      <td>17358.61</td>\n",
       "      <td>0</td>\n",
       "    </tr>\n",
       "  </tbody>\n",
       "</table>\n",
       "</div>"
      ],
      "text/plain": [
       "   calls  minutes  messages   mb_used  is_ultra\n",
       "0   40.0   311.90      83.0  19915.42         0\n",
       "1   85.0   516.75      56.0  22696.96         0\n",
       "2   77.0   467.66      86.0  21060.45         0\n",
       "3  106.0   745.53      81.0   8437.39         1\n",
       "4   66.0   418.74       1.0  14502.75         0\n",
       "5   58.0   344.56      21.0  15823.37         0\n",
       "6   57.0   431.64      20.0   3738.90         1\n",
       "7   15.0   132.40       6.0  21911.60         0\n",
       "8    7.0    43.39       3.0   2538.67         1\n",
       "9   90.0   665.41      38.0  17358.61         0"
      ]
     },
     "metadata": {},
     "output_type": "display_data"
    },
    {
     "name": "stdout",
     "output_type": "stream",
     "text": [
      "Кол-во дубликатов: 0\n",
      "\n",
      "Кол-во пропусков: calls       0\n",
      "minutes     0\n",
      "messages    0\n",
      "mb_used     0\n",
      "is_ultra    0\n",
      "dtype: int64\n"
     ]
    }
   ],
   "source": [
    "df_info(users_behavior)"
   ]
  },
  {
   "cell_type": "code",
   "execution_count": 15,
   "metadata": {},
   "outputs": [
    {
     "name": "stdout",
     "output_type": "stream",
     "text": [
      "0    2229\n",
      "1     985\n",
      "Name: is_ultra, dtype: int64\n"
     ]
    },
    {
     "data": {
      "image/png": "[encoded data removed]",
      "text/plain": [
       "<Figure size 720x432 with 1 Axes>"
      ]
     },
     "metadata": {
      "needs_background": "light"
     },
     "output_type": "display_data"
    }
   ],
   "source": [
    "print(users_behavior['is_ultra'].value_counts())\n",
    "diff(users_behavior, 'is_ultra', 'Распределение целевого признака')"
   ]
  },
  {
   "cell_type": "markdown",
   "metadata": {},
   "source": [
    "*Присутствует дисбаланс классов*"
   ]
  },
  {
   "cell_type": "markdown",
   "metadata": {},
   "source": [
    "### Вывод"
   ]
  },
  {
   "cell_type": "markdown",
   "metadata": {},
   "source": [
    "*Результат показал, что мы работаем с переработанным файлом. Известно, что клиенты с тарифом \"Ультра\" 985 строк, с тарифом \"Смарт\" - 2229*\n",
    "\n",
    "*Имеется 5 признаков, из них \"is_ultra\" является целевым*"
   ]
  },
  {
   "cell_type": "markdown",
   "metadata": {},
   "source": [
    "## 2. Разбейте данные на выборки"
   ]
  },
  {
   "cell_type": "markdown",
   "metadata": {},
   "source": [
    "*Спрятанной тестовой выборки нет. Значит, данные нужно разбить на три части: обучающую, валидационную и тестовую. Размеры тестового и валидационного наборов обычно равны. Исходные данные разбивают в соотношении 3:1:1.*"
   ]
  },
  {
   "cell_type": "code",
   "execution_count": 6,
   "metadata": {},
   "outputs": [
    {
     "name": "stdout",
     "output_type": "stream",
     "text": [
      "Исходник: 3214\n",
      "Обучающая: 1928\n",
      "Валидационная: 643\n",
      "Тестовая: 643\n"
     ]
    }
   ],
   "source": [
    "#60% отведем под обучение\n",
    "df_train, df_valid = train_test_split(users_behavior, test_size = 0.4, random_state = 12345)\n",
    "\n",
    "#Оставшиеся 40% разделим поровну между валидационной и тестовой\n",
    "df_valid, df_test = train_test_split(df_valid, test_size = 0.5, random_state = 12345)\n",
    "\n",
    "print(\"Исходник:\", len(users_behavior))\n",
    "print(\"Обучающая:\", len(df_train))\n",
    "print(\"Валидационная:\", len(df_valid))\n",
    "print(\"Тестовая:\", len(df_test))\n"
   ]
  },
  {
   "cell_type": "markdown",
   "metadata": {},
   "source": [
    "*Видно, что разделили правильно*"
   ]
  },
  {
   "cell_type": "markdown",
   "metadata": {},
   "source": [
    "### Разберем данные на признаки и целевой признак для тестовой и валидационной выборок"
   ]
  },
  {
   "cell_type": "code",
   "execution_count": 7,
   "metadata": {},
   "outputs": [],
   "source": [
    "features_train = df_train.drop(['is_ultra'], axis=1)\n",
    "target_train = df_train['is_ultra']\n",
    "\n",
    "features_valid = df_valid.drop(['is_ultra'], axis=1)\n",
    "target_valid = df_valid['is_ultra']"
   ]
  },
  {
   "cell_type": "markdown",
   "metadata": {},
   "source": [
    "### Вывод"
   ]
  },
  {
   "cell_type": "markdown",
   "metadata": {},
   "source": [
    "*Получили следующее соотношение: 3:1:1 для обучающей, валидационной и тестовой выборок*\n",
    "\n",
    "*Для тестовой и валидационной выборок разделили на признаки и целевой признак*"
   ]
  },
  {
   "cell_type": "markdown",
   "metadata": {},
   "source": [
    "## 3. Исследуйте модели"
   ]
  },
  {
   "cell_type": "markdown",
   "metadata": {},
   "source": [
    "*Нам известные на данный момент следующие методы:*\n",
    "    - *Дерево решений*\n",
    "    - *Случайный лес*\n",
    "    - *Логистическую регрессию*"
   ]
  },
  {
   "cell_type": "code",
   "execution_count": 18,
   "metadata": {},
   "outputs": [],
   "source": [
    "from pycaret.classification import *"
   ]
  },
  {
   "cell_type": "code",
   "execution_count": 19,
   "metadata": {},
   "outputs": [
    {
     "data": {
      "text/html": [
       "<style  type=\"text/css\" >\n",
       "</style><table id=\"T_811d8d67_87ad_11eb_9643_b42e991e0817\" ><thead>    <tr>        <th class=\"blank level0\" ></th>        <th class=\"col_heading level0 col0\" >Description</th>        <th class=\"col_heading level0 col1\" >Value</th>    </tr></thead><tbody>\n",
       "                <tr>\n",
       "                        <th id=\"T_811d8d67_87ad_11eb_9643_b42e991e0817level0_row0\" class=\"row_heading level0 row0\" >0</th>\n",
       "                        <td id=\"T_811d8d67_87ad_11eb_9643_b42e991e0817row0_col0\" class=\"data row0 col0\" >session_id</td>\n",
       "                        <td id=\"T_811d8d67_87ad_11eb_9643_b42e991e0817row0_col1\" class=\"data row0 col1\" >1396</td>\n",
       "            </tr>\n",
       "            <tr>\n",
       "                        <th id=\"T_811d8d67_87ad_11eb_9643_b42e991e0817level0_row1\" class=\"row_heading level0 row1\" >1</th>\n",
       "                        <td id=\"T_811d8d67_87ad_11eb_9643_b42e991e0817row1_col0\" class=\"data row1 col0\" >Target</td>\n",
       "                        <td id=\"T_811d8d67_87ad_11eb_9643_b42e991e0817row1_col1\" class=\"data row1 col1\" >is_ultra</td>\n",
       "            </tr>\n",
       "            <tr>\n",
       "                        <th id=\"T_811d8d67_87ad_11eb_9643_b42e991e0817level0_row2\" class=\"row_heading level0 row2\" >2</th>\n",
       "                        <td id=\"T_811d8d67_87ad_11eb_9643_b42e991e0817row2_col0\" class=\"data row2 col0\" >Target Type</td>\n",
       "                        <td id=\"T_811d8d67_87ad_11eb_9643_b42e991e0817row2_col1\" class=\"data row2 col1\" >Binary</td>\n",
       "            </tr>\n",
       "            <tr>\n",
       "                        <th id=\"T_811d8d67_87ad_11eb_9643_b42e991e0817level0_row3\" class=\"row_heading level0 row3\" >3</th>\n",
       "                        <td id=\"T_811d8d67_87ad_11eb_9643_b42e991e0817row3_col0\" class=\"data row3 col0\" >Label Encoded</td>\n",
       "                        <td id=\"T_811d8d67_87ad_11eb_9643_b42e991e0817row3_col1\" class=\"data row3 col1\" >0: 0, 1: 1</td>\n",
       "            </tr>\n",
       "            <tr>\n",
       "                        <th id=\"T_811d8d67_87ad_11eb_9643_b42e991e0817level0_row4\" class=\"row_heading level0 row4\" >4</th>\n",
       "                        <td id=\"T_811d8d67_87ad_11eb_9643_b42e991e0817row4_col0\" class=\"data row4 col0\" >Original Data</td>\n",
       "                        <td id=\"T_811d8d67_87ad_11eb_9643_b42e991e0817row4_col1\" class=\"data row4 col1\" >(3214, 5)</td>\n",
       "            </tr>\n",
       "            <tr>\n",
       "                        <th id=\"T_811d8d67_87ad_11eb_9643_b42e991e0817level0_row5\" class=\"row_heading level0 row5\" >5</th>\n",
       "                        <td id=\"T_811d8d67_87ad_11eb_9643_b42e991e0817row5_col0\" class=\"data row5 col0\" >Missing Values</td>\n",
       "                        <td id=\"T_811d8d67_87ad_11eb_9643_b42e991e0817row5_col1\" class=\"data row5 col1\" >False</td>\n",
       "            </tr>\n",
       "            <tr>\n",
       "                        <th id=\"T_811d8d67_87ad_11eb_9643_b42e991e0817level0_row6\" class=\"row_heading level0 row6\" >6</th>\n",
       "                        <td id=\"T_811d8d67_87ad_11eb_9643_b42e991e0817row6_col0\" class=\"data row6 col0\" >Numeric Features</td>\n",
       "                        <td id=\"T_811d8d67_87ad_11eb_9643_b42e991e0817row6_col1\" class=\"data row6 col1\" >4</td>\n",
       "            </tr>\n",
       "            <tr>\n",
       "                        <th id=\"T_811d8d67_87ad_11eb_9643_b42e991e0817level0_row7\" class=\"row_heading level0 row7\" >7</th>\n",
       "                        <td id=\"T_811d8d67_87ad_11eb_9643_b42e991e0817row7_col0\" class=\"data row7 col0\" >Categorical Features</td>\n",
       "                        <td id=\"T_811d8d67_87ad_11eb_9643_b42e991e0817row7_col1\" class=\"data row7 col1\" >0</td>\n",
       "            </tr>\n",
       "            <tr>\n",
       "                        <th id=\"T_811d8d67_87ad_11eb_9643_b42e991e0817level0_row8\" class=\"row_heading level0 row8\" >8</th>\n",
       "                        <td id=\"T_811d8d67_87ad_11eb_9643_b42e991e0817row8_col0\" class=\"data row8 col0\" >Ordinal Features</td>\n",
       "                        <td id=\"T_811d8d67_87ad_11eb_9643_b42e991e0817row8_col1\" class=\"data row8 col1\" >False</td>\n",
       "            </tr>\n",
       "            <tr>\n",
       "                        <th id=\"T_811d8d67_87ad_11eb_9643_b42e991e0817level0_row9\" class=\"row_heading level0 row9\" >9</th>\n",
       "                        <td id=\"T_811d8d67_87ad_11eb_9643_b42e991e0817row9_col0\" class=\"data row9 col0\" >High Cardinality Features</td>\n",
       "                        <td id=\"T_811d8d67_87ad_11eb_9643_b42e991e0817row9_col1\" class=\"data row9 col1\" >False</td>\n",
       "            </tr>\n",
       "            <tr>\n",
       "                        <th id=\"T_811d8d67_87ad_11eb_9643_b42e991e0817level0_row10\" class=\"row_heading level0 row10\" >10</th>\n",
       "                        <td id=\"T_811d8d67_87ad_11eb_9643_b42e991e0817row10_col0\" class=\"data row10 col0\" >High Cardinality Method</td>\n",
       "                        <td id=\"T_811d8d67_87ad_11eb_9643_b42e991e0817row10_col1\" class=\"data row10 col1\" >None</td>\n",
       "            </tr>\n",
       "            <tr>\n",
       "                        <th id=\"T_811d8d67_87ad_11eb_9643_b42e991e0817level0_row11\" class=\"row_heading level0 row11\" >11</th>\n",
       "                        <td id=\"T_811d8d67_87ad_11eb_9643_b42e991e0817row11_col0\" class=\"data row11 col0\" >Transformed Train Set</td>\n",
       "                        <td id=\"T_811d8d67_87ad_11eb_9643_b42e991e0817row11_col1\" class=\"data row11 col1\" >(2249, 4)</td>\n",
       "            </tr>\n",
       "            <tr>\n",
       "                        <th id=\"T_811d8d67_87ad_11eb_9643_b42e991e0817level0_row12\" class=\"row_heading level0 row12\" >12</th>\n",
       "                        <td id=\"T_811d8d67_87ad_11eb_9643_b42e991e0817row12_col0\" class=\"data row12 col0\" >Transformed Test Set</td>\n",
       "                        <td id=\"T_811d8d67_87ad_11eb_9643_b42e991e0817row12_col1\" class=\"data row12 col1\" >(965, 4)</td>\n",
       "            </tr>\n",
       "            <tr>\n",
       "                        <th id=\"T_811d8d67_87ad_11eb_9643_b42e991e0817level0_row13\" class=\"row_heading level0 row13\" >13</th>\n",
       "                        <td id=\"T_811d8d67_87ad_11eb_9643_b42e991e0817row13_col0\" class=\"data row13 col0\" >Shuffle Train-Test</td>\n",
       "                        <td id=\"T_811d8d67_87ad_11eb_9643_b42e991e0817row13_col1\" class=\"data row13 col1\" >True</td>\n",
       "            </tr>\n",
       "            <tr>\n",
       "                        <th id=\"T_811d8d67_87ad_11eb_9643_b42e991e0817level0_row14\" class=\"row_heading level0 row14\" >14</th>\n",
       "                        <td id=\"T_811d8d67_87ad_11eb_9643_b42e991e0817row14_col0\" class=\"data row14 col0\" >Stratify Train-Test</td>\n",
       "                        <td id=\"T_811d8d67_87ad_11eb_9643_b42e991e0817row14_col1\" class=\"data row14 col1\" >False</td>\n",
       "            </tr>\n",
       "            <tr>\n",
       "                        <th id=\"T_811d8d67_87ad_11eb_9643_b42e991e0817level0_row15\" class=\"row_heading level0 row15\" >15</th>\n",
       "                        <td id=\"T_811d8d67_87ad_11eb_9643_b42e991e0817row15_col0\" class=\"data row15 col0\" >Fold Generator</td>\n",
       "                        <td id=\"T_811d8d67_87ad_11eb_9643_b42e991e0817row15_col1\" class=\"data row15 col1\" >StratifiedKFold</td>\n",
       "            </tr>\n",
       "            <tr>\n",
       "                        <th id=\"T_811d8d67_87ad_11eb_9643_b42e991e0817level0_row16\" class=\"row_heading level0 row16\" >16</th>\n",
       "                        <td id=\"T_811d8d67_87ad_11eb_9643_b42e991e0817row16_col0\" class=\"data row16 col0\" >Fold Number</td>\n",
       "                        <td id=\"T_811d8d67_87ad_11eb_9643_b42e991e0817row16_col1\" class=\"data row16 col1\" >10</td>\n",
       "            </tr>\n",
       "            <tr>\n",
       "                        <th id=\"T_811d8d67_87ad_11eb_9643_b42e991e0817level0_row17\" class=\"row_heading level0 row17\" >17</th>\n",
       "                        <td id=\"T_811d8d67_87ad_11eb_9643_b42e991e0817row17_col0\" class=\"data row17 col0\" >CPU Jobs</td>\n",
       "                        <td id=\"T_811d8d67_87ad_11eb_9643_b42e991e0817row17_col1\" class=\"data row17 col1\" >-1</td>\n",
       "            </tr>\n",
       "            <tr>\n",
       "                        <th id=\"T_811d8d67_87ad_11eb_9643_b42e991e0817level0_row18\" class=\"row_heading level0 row18\" >18</th>\n",
       "                        <td id=\"T_811d8d67_87ad_11eb_9643_b42e991e0817row18_col0\" class=\"data row18 col0\" >Use GPU</td>\n",
       "                        <td id=\"T_811d8d67_87ad_11eb_9643_b42e991e0817row18_col1\" class=\"data row18 col1\" >False</td>\n",
       "            </tr>\n",
       "            <tr>\n",
       "                        <th id=\"T_811d8d67_87ad_11eb_9643_b42e991e0817level0_row19\" class=\"row_heading level0 row19\" >19</th>\n",
       "                        <td id=\"T_811d8d67_87ad_11eb_9643_b42e991e0817row19_col0\" class=\"data row19 col0\" >Log Experiment</td>\n",
       "                        <td id=\"T_811d8d67_87ad_11eb_9643_b42e991e0817row19_col1\" class=\"data row19 col1\" >False</td>\n",
       "            </tr>\n",
       "            <tr>\n",
       "                        <th id=\"T_811d8d67_87ad_11eb_9643_b42e991e0817level0_row20\" class=\"row_heading level0 row20\" >20</th>\n",
       "                        <td id=\"T_811d8d67_87ad_11eb_9643_b42e991e0817row20_col0\" class=\"data row20 col0\" >Experiment Name</td>\n",
       "                        <td id=\"T_811d8d67_87ad_11eb_9643_b42e991e0817row20_col1\" class=\"data row20 col1\" >clf-default-name</td>\n",
       "            </tr>\n",
       "            <tr>\n",
       "                        <th id=\"T_811d8d67_87ad_11eb_9643_b42e991e0817level0_row21\" class=\"row_heading level0 row21\" >21</th>\n",
       "                        <td id=\"T_811d8d67_87ad_11eb_9643_b42e991e0817row21_col0\" class=\"data row21 col0\" >USI</td>\n",
       "                        <td id=\"T_811d8d67_87ad_11eb_9643_b42e991e0817row21_col1\" class=\"data row21 col1\" >6432</td>\n",
       "            </tr>\n",
       "            <tr>\n",
       "                        <th id=\"T_811d8d67_87ad_11eb_9643_b42e991e0817level0_row22\" class=\"row_heading level0 row22\" >22</th>\n",
       "                        <td id=\"T_811d8d67_87ad_11eb_9643_b42e991e0817row22_col0\" class=\"data row22 col0\" >Imputation Type</td>\n",
       "                        <td id=\"T_811d8d67_87ad_11eb_9643_b42e991e0817row22_col1\" class=\"data row22 col1\" >simple</td>\n",
       "            </tr>\n",
       "            <tr>\n",
       "                        <th id=\"T_811d8d67_87ad_11eb_9643_b42e991e0817level0_row23\" class=\"row_heading level0 row23\" >23</th>\n",
       "                        <td id=\"T_811d8d67_87ad_11eb_9643_b42e991e0817row23_col0\" class=\"data row23 col0\" >Iterative Imputation Iteration</td>\n",
       "                        <td id=\"T_811d8d67_87ad_11eb_9643_b42e991e0817row23_col1\" class=\"data row23 col1\" >None</td>\n",
       "            </tr>\n",
       "            <tr>\n",
       "                        <th id=\"T_811d8d67_87ad_11eb_9643_b42e991e0817level0_row24\" class=\"row_heading level0 row24\" >24</th>\n",
       "                        <td id=\"T_811d8d67_87ad_11eb_9643_b42e991e0817row24_col0\" class=\"data row24 col0\" >Numeric Imputer</td>\n",
       "                        <td id=\"T_811d8d67_87ad_11eb_9643_b42e991e0817row24_col1\" class=\"data row24 col1\" >mean</td>\n",
       "            </tr>\n",
       "            <tr>\n",
       "                        <th id=\"T_811d8d67_87ad_11eb_9643_b42e991e0817level0_row25\" class=\"row_heading level0 row25\" >25</th>\n",
       "                        <td id=\"T_811d8d67_87ad_11eb_9643_b42e991e0817row25_col0\" class=\"data row25 col0\" >Iterative Imputation Numeric Model</td>\n",
       "                        <td id=\"T_811d8d67_87ad_11eb_9643_b42e991e0817row25_col1\" class=\"data row25 col1\" >None</td>\n",
       "            </tr>\n",
       "            <tr>\n",
       "                        <th id=\"T_811d8d67_87ad_11eb_9643_b42e991e0817level0_row26\" class=\"row_heading level0 row26\" >26</th>\n",
       "                        <td id=\"T_811d8d67_87ad_11eb_9643_b42e991e0817row26_col0\" class=\"data row26 col0\" >Categorical Imputer</td>\n",
       "                        <td id=\"T_811d8d67_87ad_11eb_9643_b42e991e0817row26_col1\" class=\"data row26 col1\" >constant</td>\n",
       "            </tr>\n",
       "            <tr>\n",
       "                        <th id=\"T_811d8d67_87ad_11eb_9643_b42e991e0817level0_row27\" class=\"row_heading level0 row27\" >27</th>\n",
       "                        <td id=\"T_811d8d67_87ad_11eb_9643_b42e991e0817row27_col0\" class=\"data row27 col0\" >Iterative Imputation Categorical Model</td>\n",
       "                        <td id=\"T_811d8d67_87ad_11eb_9643_b42e991e0817row27_col1\" class=\"data row27 col1\" >None</td>\n",
       "            </tr>\n",
       "            <tr>\n",
       "                        <th id=\"T_811d8d67_87ad_11eb_9643_b42e991e0817level0_row28\" class=\"row_heading level0 row28\" >28</th>\n",
       "                        <td id=\"T_811d8d67_87ad_11eb_9643_b42e991e0817row28_col0\" class=\"data row28 col0\" >Unknown Categoricals Handling</td>\n",
       "                        <td id=\"T_811d8d67_87ad_11eb_9643_b42e991e0817row28_col1\" class=\"data row28 col1\" >least_frequent</td>\n",
       "            </tr>\n",
       "            <tr>\n",
       "                        <th id=\"T_811d8d67_87ad_11eb_9643_b42e991e0817level0_row29\" class=\"row_heading level0 row29\" >29</th>\n",
       "                        <td id=\"T_811d8d67_87ad_11eb_9643_b42e991e0817row29_col0\" class=\"data row29 col0\" >Normalize</td>\n",
       "                        <td id=\"T_811d8d67_87ad_11eb_9643_b42e991e0817row29_col1\" class=\"data row29 col1\" >False</td>\n",
       "            </tr>\n",
       "            <tr>\n",
       "                        <th id=\"T_811d8d67_87ad_11eb_9643_b42e991e0817level0_row30\" class=\"row_heading level0 row30\" >30</th>\n",
       "                        <td id=\"T_811d8d67_87ad_11eb_9643_b42e991e0817row30_col0\" class=\"data row30 col0\" >Normalize Method</td>\n",
       "                        <td id=\"T_811d8d67_87ad_11eb_9643_b42e991e0817row30_col1\" class=\"data row30 col1\" >None</td>\n",
       "            </tr>\n",
       "            <tr>\n",
       "                        <th id=\"T_811d8d67_87ad_11eb_9643_b42e991e0817level0_row31\" class=\"row_heading level0 row31\" >31</th>\n",
       "                        <td id=\"T_811d8d67_87ad_11eb_9643_b42e991e0817row31_col0\" class=\"data row31 col0\" >Transformation</td>\n",
       "                        <td id=\"T_811d8d67_87ad_11eb_9643_b42e991e0817row31_col1\" class=\"data row31 col1\" >False</td>\n",
       "            </tr>\n",
       "            <tr>\n",
       "                        <th id=\"T_811d8d67_87ad_11eb_9643_b42e991e0817level0_row32\" class=\"row_heading level0 row32\" >32</th>\n",
       "                        <td id=\"T_811d8d67_87ad_11eb_9643_b42e991e0817row32_col0\" class=\"data row32 col0\" >Transformation Method</td>\n",
       "                        <td id=\"T_811d8d67_87ad_11eb_9643_b42e991e0817row32_col1\" class=\"data row32 col1\" >None</td>\n",
       "            </tr>\n",
       "            <tr>\n",
       "                        <th id=\"T_811d8d67_87ad_11eb_9643_b42e991e0817level0_row33\" class=\"row_heading level0 row33\" >33</th>\n",
       "                        <td id=\"T_811d8d67_87ad_11eb_9643_b42e991e0817row33_col0\" class=\"data row33 col0\" >PCA</td>\n",
       "                        <td id=\"T_811d8d67_87ad_11eb_9643_b42e991e0817row33_col1\" class=\"data row33 col1\" >False</td>\n",
       "            </tr>\n",
       "            <tr>\n",
       "                        <th id=\"T_811d8d67_87ad_11eb_9643_b42e991e0817level0_row34\" class=\"row_heading level0 row34\" >34</th>\n",
       "                        <td id=\"T_811d8d67_87ad_11eb_9643_b42e991e0817row34_col0\" class=\"data row34 col0\" >PCA Method</td>\n",
       "                        <td id=\"T_811d8d67_87ad_11eb_9643_b42e991e0817row34_col1\" class=\"data row34 col1\" >None</td>\n",
       "            </tr>\n",
       "            <tr>\n",
       "                        <th id=\"T_811d8d67_87ad_11eb_9643_b42e991e0817level0_row35\" class=\"row_heading level0 row35\" >35</th>\n",
       "                        <td id=\"T_811d8d67_87ad_11eb_9643_b42e991e0817row35_col0\" class=\"data row35 col0\" >PCA Components</td>\n",
       "                        <td id=\"T_811d8d67_87ad_11eb_9643_b42e991e0817row35_col1\" class=\"data row35 col1\" >None</td>\n",
       "            </tr>\n",
       "            <tr>\n",
       "                        <th id=\"T_811d8d67_87ad_11eb_9643_b42e991e0817level0_row36\" class=\"row_heading level0 row36\" >36</th>\n",
       "                        <td id=\"T_811d8d67_87ad_11eb_9643_b42e991e0817row36_col0\" class=\"data row36 col0\" >Ignore Low Variance</td>\n",
       "                        <td id=\"T_811d8d67_87ad_11eb_9643_b42e991e0817row36_col1\" class=\"data row36 col1\" >False</td>\n",
       "            </tr>\n",
       "            <tr>\n",
       "                        <th id=\"T_811d8d67_87ad_11eb_9643_b42e991e0817level0_row37\" class=\"row_heading level0 row37\" >37</th>\n",
       "                        <td id=\"T_811d8d67_87ad_11eb_9643_b42e991e0817row37_col0\" class=\"data row37 col0\" >Combine Rare Levels</td>\n",
       "                        <td id=\"T_811d8d67_87ad_11eb_9643_b42e991e0817row37_col1\" class=\"data row37 col1\" >False</td>\n",
       "            </tr>\n",
       "            <tr>\n",
       "                        <th id=\"T_811d8d67_87ad_11eb_9643_b42e991e0817level0_row38\" class=\"row_heading level0 row38\" >38</th>\n",
       "                        <td id=\"T_811d8d67_87ad_11eb_9643_b42e991e0817row38_col0\" class=\"data row38 col0\" >Rare Level Threshold</td>\n",
       "                        <td id=\"T_811d8d67_87ad_11eb_9643_b42e991e0817row38_col1\" class=\"data row38 col1\" >None</td>\n",
       "            </tr>\n",
       "            <tr>\n",
       "                        <th id=\"T_811d8d67_87ad_11eb_9643_b42e991e0817level0_row39\" class=\"row_heading level0 row39\" >39</th>\n",
       "                        <td id=\"T_811d8d67_87ad_11eb_9643_b42e991e0817row39_col0\" class=\"data row39 col0\" >Numeric Binning</td>\n",
       "                        <td id=\"T_811d8d67_87ad_11eb_9643_b42e991e0817row39_col1\" class=\"data row39 col1\" >False</td>\n",
       "            </tr>\n",
       "            <tr>\n",
       "                        <th id=\"T_811d8d67_87ad_11eb_9643_b42e991e0817level0_row40\" class=\"row_heading level0 row40\" >40</th>\n",
       "                        <td id=\"T_811d8d67_87ad_11eb_9643_b42e991e0817row40_col0\" class=\"data row40 col0\" >Remove Outliers</td>\n",
       "                        <td id=\"T_811d8d67_87ad_11eb_9643_b42e991e0817row40_col1\" class=\"data row40 col1\" >False</td>\n",
       "            </tr>\n",
       "            <tr>\n",
       "                        <th id=\"T_811d8d67_87ad_11eb_9643_b42e991e0817level0_row41\" class=\"row_heading level0 row41\" >41</th>\n",
       "                        <td id=\"T_811d8d67_87ad_11eb_9643_b42e991e0817row41_col0\" class=\"data row41 col0\" >Outliers Threshold</td>\n",
       "                        <td id=\"T_811d8d67_87ad_11eb_9643_b42e991e0817row41_col1\" class=\"data row41 col1\" >None</td>\n",
       "            </tr>\n",
       "            <tr>\n",
       "                        <th id=\"T_811d8d67_87ad_11eb_9643_b42e991e0817level0_row42\" class=\"row_heading level0 row42\" >42</th>\n",
       "                        <td id=\"T_811d8d67_87ad_11eb_9643_b42e991e0817row42_col0\" class=\"data row42 col0\" >Remove Multicollinearity</td>\n",
       "                        <td id=\"T_811d8d67_87ad_11eb_9643_b42e991e0817row42_col1\" class=\"data row42 col1\" >False</td>\n",
       "            </tr>\n",
       "            <tr>\n",
       "                        <th id=\"T_811d8d67_87ad_11eb_9643_b42e991e0817level0_row43\" class=\"row_heading level0 row43\" >43</th>\n",
       "                        <td id=\"T_811d8d67_87ad_11eb_9643_b42e991e0817row43_col0\" class=\"data row43 col0\" >Multicollinearity Threshold</td>\n",
       "                        <td id=\"T_811d8d67_87ad_11eb_9643_b42e991e0817row43_col1\" class=\"data row43 col1\" >None</td>\n",
       "            </tr>\n",
       "            <tr>\n",
       "                        <th id=\"T_811d8d67_87ad_11eb_9643_b42e991e0817level0_row44\" class=\"row_heading level0 row44\" >44</th>\n",
       "                        <td id=\"T_811d8d67_87ad_11eb_9643_b42e991e0817row44_col0\" class=\"data row44 col0\" >Clustering</td>\n",
       "                        <td id=\"T_811d8d67_87ad_11eb_9643_b42e991e0817row44_col1\" class=\"data row44 col1\" >False</td>\n",
       "            </tr>\n",
       "            <tr>\n",
       "                        <th id=\"T_811d8d67_87ad_11eb_9643_b42e991e0817level0_row45\" class=\"row_heading level0 row45\" >45</th>\n",
       "                        <td id=\"T_811d8d67_87ad_11eb_9643_b42e991e0817row45_col0\" class=\"data row45 col0\" >Clustering Iteration</td>\n",
       "                        <td id=\"T_811d8d67_87ad_11eb_9643_b42e991e0817row45_col1\" class=\"data row45 col1\" >None</td>\n",
       "            </tr>\n",
       "            <tr>\n",
       "                        <th id=\"T_811d8d67_87ad_11eb_9643_b42e991e0817level0_row46\" class=\"row_heading level0 row46\" >46</th>\n",
       "                        <td id=\"T_811d8d67_87ad_11eb_9643_b42e991e0817row46_col0\" class=\"data row46 col0\" >Polynomial Features</td>\n",
       "                        <td id=\"T_811d8d67_87ad_11eb_9643_b42e991e0817row46_col1\" class=\"data row46 col1\" >False</td>\n",
       "            </tr>\n",
       "            <tr>\n",
       "                        <th id=\"T_811d8d67_87ad_11eb_9643_b42e991e0817level0_row47\" class=\"row_heading level0 row47\" >47</th>\n",
       "                        <td id=\"T_811d8d67_87ad_11eb_9643_b42e991e0817row47_col0\" class=\"data row47 col0\" >Polynomial Degree</td>\n",
       "                        <td id=\"T_811d8d67_87ad_11eb_9643_b42e991e0817row47_col1\" class=\"data row47 col1\" >None</td>\n",
       "            </tr>\n",
       "            <tr>\n",
       "                        <th id=\"T_811d8d67_87ad_11eb_9643_b42e991e0817level0_row48\" class=\"row_heading level0 row48\" >48</th>\n",
       "                        <td id=\"T_811d8d67_87ad_11eb_9643_b42e991e0817row48_col0\" class=\"data row48 col0\" >Trignometry Features</td>\n",
       "                        <td id=\"T_811d8d67_87ad_11eb_9643_b42e991e0817row48_col1\" class=\"data row48 col1\" >False</td>\n",
       "            </tr>\n",
       "            <tr>\n",
       "                        <th id=\"T_811d8d67_87ad_11eb_9643_b42e991e0817level0_row49\" class=\"row_heading level0 row49\" >49</th>\n",
       "                        <td id=\"T_811d8d67_87ad_11eb_9643_b42e991e0817row49_col0\" class=\"data row49 col0\" >Polynomial Threshold</td>\n",
       "                        <td id=\"T_811d8d67_87ad_11eb_9643_b42e991e0817row49_col1\" class=\"data row49 col1\" >None</td>\n",
       "            </tr>\n",
       "            <tr>\n",
       "                        <th id=\"T_811d8d67_87ad_11eb_9643_b42e991e0817level0_row50\" class=\"row_heading level0 row50\" >50</th>\n",
       "                        <td id=\"T_811d8d67_87ad_11eb_9643_b42e991e0817row50_col0\" class=\"data row50 col0\" >Group Features</td>\n",
       "                        <td id=\"T_811d8d67_87ad_11eb_9643_b42e991e0817row50_col1\" class=\"data row50 col1\" >False</td>\n",
       "            </tr>\n",
       "            <tr>\n",
       "                        <th id=\"T_811d8d67_87ad_11eb_9643_b42e991e0817level0_row51\" class=\"row_heading level0 row51\" >51</th>\n",
       "                        <td id=\"T_811d8d67_87ad_11eb_9643_b42e991e0817row51_col0\" class=\"data row51 col0\" >Feature Selection</td>\n",
       "                        <td id=\"T_811d8d67_87ad_11eb_9643_b42e991e0817row51_col1\" class=\"data row51 col1\" >False</td>\n",
       "            </tr>\n",
       "            <tr>\n",
       "                        <th id=\"T_811d8d67_87ad_11eb_9643_b42e991e0817level0_row52\" class=\"row_heading level0 row52\" >52</th>\n",
       "                        <td id=\"T_811d8d67_87ad_11eb_9643_b42e991e0817row52_col0\" class=\"data row52 col0\" >Features Selection Threshold</td>\n",
       "                        <td id=\"T_811d8d67_87ad_11eb_9643_b42e991e0817row52_col1\" class=\"data row52 col1\" >None</td>\n",
       "            </tr>\n",
       "            <tr>\n",
       "                        <th id=\"T_811d8d67_87ad_11eb_9643_b42e991e0817level0_row53\" class=\"row_heading level0 row53\" >53</th>\n",
       "                        <td id=\"T_811d8d67_87ad_11eb_9643_b42e991e0817row53_col0\" class=\"data row53 col0\" >Feature Interaction</td>\n",
       "                        <td id=\"T_811d8d67_87ad_11eb_9643_b42e991e0817row53_col1\" class=\"data row53 col1\" >False</td>\n",
       "            </tr>\n",
       "            <tr>\n",
       "                        <th id=\"T_811d8d67_87ad_11eb_9643_b42e991e0817level0_row54\" class=\"row_heading level0 row54\" >54</th>\n",
       "                        <td id=\"T_811d8d67_87ad_11eb_9643_b42e991e0817row54_col0\" class=\"data row54 col0\" >Feature Ratio</td>\n",
       "                        <td id=\"T_811d8d67_87ad_11eb_9643_b42e991e0817row54_col1\" class=\"data row54 col1\" >False</td>\n",
       "            </tr>\n",
       "            <tr>\n",
       "                        <th id=\"T_811d8d67_87ad_11eb_9643_b42e991e0817level0_row55\" class=\"row_heading level0 row55\" >55</th>\n",
       "                        <td id=\"T_811d8d67_87ad_11eb_9643_b42e991e0817row55_col0\" class=\"data row55 col0\" >Interaction Threshold</td>\n",
       "                        <td id=\"T_811d8d67_87ad_11eb_9643_b42e991e0817row55_col1\" class=\"data row55 col1\" >None</td>\n",
       "            </tr>\n",
       "            <tr>\n",
       "                        <th id=\"T_811d8d67_87ad_11eb_9643_b42e991e0817level0_row56\" class=\"row_heading level0 row56\" >56</th>\n",
       "                        <td id=\"T_811d8d67_87ad_11eb_9643_b42e991e0817row56_col0\" class=\"data row56 col0\" >Fix Imbalance</td>\n",
       "                        <td id=\"T_811d8d67_87ad_11eb_9643_b42e991e0817row56_col1\" class=\"data row56 col1\" >False</td>\n",
       "            </tr>\n",
       "            <tr>\n",
       "                        <th id=\"T_811d8d67_87ad_11eb_9643_b42e991e0817level0_row57\" class=\"row_heading level0 row57\" >57</th>\n",
       "                        <td id=\"T_811d8d67_87ad_11eb_9643_b42e991e0817row57_col0\" class=\"data row57 col0\" >Fix Imbalance Method</td>\n",
       "                        <td id=\"T_811d8d67_87ad_11eb_9643_b42e991e0817row57_col1\" class=\"data row57 col1\" >SMOTE</td>\n",
       "            </tr>\n",
       "    </tbody></table>"
      ],
      "text/plain": [
       "<pandas.io.formats.style.Styler at 0x263be60d160>"
      ]
     },
     "metadata": {},
     "output_type": "display_data"
    }
   ],
   "source": [
    "clf1 = setup(data = users_behavior, target = 'is_ultra')"
   ]
  },
  {
   "cell_type": "code",
   "execution_count": 20,
   "metadata": {},
   "outputs": [
    {
     "data": {
      "text/html": [
       "<style  type=\"text/css\" >\n",
       "    #T_a82e5e3f_87ad_11eb_a9ef_b42e991e0817 th {\n",
       "          text-align: left;\n",
       "    }#T_a82e5e3f_87ad_11eb_a9ef_b42e991e0817row0_col0,#T_a82e5e3f_87ad_11eb_a9ef_b42e991e0817row0_col3,#T_a82e5e3f_87ad_11eb_a9ef_b42e991e0817row0_col4,#T_a82e5e3f_87ad_11eb_a9ef_b42e991e0817row1_col0,#T_a82e5e3f_87ad_11eb_a9ef_b42e991e0817row1_col1,#T_a82e5e3f_87ad_11eb_a9ef_b42e991e0817row1_col2,#T_a82e5e3f_87ad_11eb_a9ef_b42e991e0817row1_col3,#T_a82e5e3f_87ad_11eb_a9ef_b42e991e0817row1_col4,#T_a82e5e3f_87ad_11eb_a9ef_b42e991e0817row1_col5,#T_a82e5e3f_87ad_11eb_a9ef_b42e991e0817row1_col6,#T_a82e5e3f_87ad_11eb_a9ef_b42e991e0817row1_col7,#T_a82e5e3f_87ad_11eb_a9ef_b42e991e0817row2_col0,#T_a82e5e3f_87ad_11eb_a9ef_b42e991e0817row2_col1,#T_a82e5e3f_87ad_11eb_a9ef_b42e991e0817row2_col2,#T_a82e5e3f_87ad_11eb_a9ef_b42e991e0817row2_col4,#T_a82e5e3f_87ad_11eb_a9ef_b42e991e0817row2_col5,#T_a82e5e3f_87ad_11eb_a9ef_b42e991e0817row2_col6,#T_a82e5e3f_87ad_11eb_a9ef_b42e991e0817row2_col7,#T_a82e5e3f_87ad_11eb_a9ef_b42e991e0817row3_col0,#T_a82e5e3f_87ad_11eb_a9ef_b42e991e0817row3_col1,#T_a82e5e3f_87ad_11eb_a9ef_b42e991e0817row3_col2,#T_a82e5e3f_87ad_11eb_a9ef_b42e991e0817row3_col3,#T_a82e5e3f_87ad_11eb_a9ef_b42e991e0817row3_col4,#T_a82e5e3f_87ad_11eb_a9ef_b42e991e0817row3_col5,#T_a82e5e3f_87ad_11eb_a9ef_b42e991e0817row3_col6,#T_a82e5e3f_87ad_11eb_a9ef_b42e991e0817row3_col7,#T_a82e5e3f_87ad_11eb_a9ef_b42e991e0817row4_col0,#T_a82e5e3f_87ad_11eb_a9ef_b42e991e0817row4_col1,#T_a82e5e3f_87ad_11eb_a9ef_b42e991e0817row4_col2,#T_a82e5e3f_87ad_11eb_a9ef_b42e991e0817row4_col3,#T_a82e5e3f_87ad_11eb_a9ef_b42e991e0817row4_col4,#T_a82e5e3f_87ad_11eb_a9ef_b42e991e0817row4_col5,#T_a82e5e3f_87ad_11eb_a9ef_b42e991e0817row4_col6,#T_a82e5e3f_87ad_11eb_a9ef_b42e991e0817row4_col7,#T_a82e5e3f_87ad_11eb_a9ef_b42e991e0817row5_col0,#T_a82e5e3f_87ad_11eb_a9ef_b42e991e0817row5_col1,#T_a82e5e3f_87ad_11eb_a9ef_b42e991e0817row5_col2,#T_a82e5e3f_87ad_11eb_a9ef_b42e991e0817row5_col3,#T_a82e5e3f_87ad_11eb_a9ef_b42e991e0817row5_col4,#T_a82e5e3f_87ad_11eb_a9ef_b42e991e0817row5_col5,#T_a82e5e3f_87ad_11eb_a9ef_b42e991e0817row5_col6,#T_a82e5e3f_87ad_11eb_a9ef_b42e991e0817row5_col7,#T_a82e5e3f_87ad_11eb_a9ef_b42e991e0817row6_col0,#T_a82e5e3f_87ad_11eb_a9ef_b42e991e0817row6_col1,#T_a82e5e3f_87ad_11eb_a9ef_b42e991e0817row6_col2,#T_a82e5e3f_87ad_11eb_a9ef_b42e991e0817row6_col3,#T_a82e5e3f_87ad_11eb_a9ef_b42e991e0817row6_col4,#T_a82e5e3f_87ad_11eb_a9ef_b42e991e0817row6_col5,#T_a82e5e3f_87ad_11eb_a9ef_b42e991e0817row6_col6,#T_a82e5e3f_87ad_11eb_a9ef_b42e991e0817row6_col7,#T_a82e5e3f_87ad_11eb_a9ef_b42e991e0817row7_col0,#T_a82e5e3f_87ad_11eb_a9ef_b42e991e0817row7_col1,#T_a82e5e3f_87ad_11eb_a9ef_b42e991e0817row7_col2,#T_a82e5e3f_87ad_11eb_a9ef_b42e991e0817row7_col3,#T_a82e5e3f_87ad_11eb_a9ef_b42e991e0817row7_col4,#T_a82e5e3f_87ad_11eb_a9ef_b42e991e0817row7_col5,#T_a82e5e3f_87ad_11eb_a9ef_b42e991e0817row7_col6,#T_a82e5e3f_87ad_11eb_a9ef_b42e991e0817row7_col7,#T_a82e5e3f_87ad_11eb_a9ef_b42e991e0817row8_col0,#T_a82e5e3f_87ad_11eb_a9ef_b42e991e0817row8_col1,#T_a82e5e3f_87ad_11eb_a9ef_b42e991e0817row8_col2,#T_a82e5e3f_87ad_11eb_a9ef_b42e991e0817row8_col3,#T_a82e5e3f_87ad_11eb_a9ef_b42e991e0817row8_col4,#T_a82e5e3f_87ad_11eb_a9ef_b42e991e0817row8_col5,#T_a82e5e3f_87ad_11eb_a9ef_b42e991e0817row8_col6,#T_a82e5e3f_87ad_11eb_a9ef_b42e991e0817row8_col7,#T_a82e5e3f_87ad_11eb_a9ef_b42e991e0817row9_col0,#T_a82e5e3f_87ad_11eb_a9ef_b42e991e0817row9_col1,#T_a82e5e3f_87ad_11eb_a9ef_b42e991e0817row9_col2,#T_a82e5e3f_87ad_11eb_a9ef_b42e991e0817row9_col3,#T_a82e5e3f_87ad_11eb_a9ef_b42e991e0817row9_col4,#T_a82e5e3f_87ad_11eb_a9ef_b42e991e0817row9_col5,#T_a82e5e3f_87ad_11eb_a9ef_b42e991e0817row9_col6,#T_a82e5e3f_87ad_11eb_a9ef_b42e991e0817row9_col7,#T_a82e5e3f_87ad_11eb_a9ef_b42e991e0817row10_col0,#T_a82e5e3f_87ad_11eb_a9ef_b42e991e0817row10_col1,#T_a82e5e3f_87ad_11eb_a9ef_b42e991e0817row10_col2,#T_a82e5e3f_87ad_11eb_a9ef_b42e991e0817row10_col3,#T_a82e5e3f_87ad_11eb_a9ef_b42e991e0817row10_col5,#T_a82e5e3f_87ad_11eb_a9ef_b42e991e0817row10_col6,#T_a82e5e3f_87ad_11eb_a9ef_b42e991e0817row10_col7,#T_a82e5e3f_87ad_11eb_a9ef_b42e991e0817row11_col0,#T_a82e5e3f_87ad_11eb_a9ef_b42e991e0817row11_col1,#T_a82e5e3f_87ad_11eb_a9ef_b42e991e0817row11_col2,#T_a82e5e3f_87ad_11eb_a9ef_b42e991e0817row11_col3,#T_a82e5e3f_87ad_11eb_a9ef_b42e991e0817row11_col4,#T_a82e5e3f_87ad_11eb_a9ef_b42e991e0817row11_col5,#T_a82e5e3f_87ad_11eb_a9ef_b42e991e0817row11_col6,#T_a82e5e3f_87ad_11eb_a9ef_b42e991e0817row11_col7,#T_a82e5e3f_87ad_11eb_a9ef_b42e991e0817row12_col0,#T_a82e5e3f_87ad_11eb_a9ef_b42e991e0817row12_col1,#T_a82e5e3f_87ad_11eb_a9ef_b42e991e0817row12_col2,#T_a82e5e3f_87ad_11eb_a9ef_b42e991e0817row12_col3,#T_a82e5e3f_87ad_11eb_a9ef_b42e991e0817row12_col4,#T_a82e5e3f_87ad_11eb_a9ef_b42e991e0817row12_col5,#T_a82e5e3f_87ad_11eb_a9ef_b42e991e0817row12_col6,#T_a82e5e3f_87ad_11eb_a9ef_b42e991e0817row12_col7,#T_a82e5e3f_87ad_11eb_a9ef_b42e991e0817row13_col0,#T_a82e5e3f_87ad_11eb_a9ef_b42e991e0817row13_col1,#T_a82e5e3f_87ad_11eb_a9ef_b42e991e0817row13_col2,#T_a82e5e3f_87ad_11eb_a9ef_b42e991e0817row13_col3,#T_a82e5e3f_87ad_11eb_a9ef_b42e991e0817row13_col4,#T_a82e5e3f_87ad_11eb_a9ef_b42e991e0817row13_col5,#T_a82e5e3f_87ad_11eb_a9ef_b42e991e0817row13_col6,#T_a82e5e3f_87ad_11eb_a9ef_b42e991e0817row13_col7,#T_a82e5e3f_87ad_11eb_a9ef_b42e991e0817row14_col0,#T_a82e5e3f_87ad_11eb_a9ef_b42e991e0817row14_col1,#T_a82e5e3f_87ad_11eb_a9ef_b42e991e0817row14_col2,#T_a82e5e3f_87ad_11eb_a9ef_b42e991e0817row14_col3,#T_a82e5e3f_87ad_11eb_a9ef_b42e991e0817row14_col4,#T_a82e5e3f_87ad_11eb_a9ef_b42e991e0817row14_col5,#T_a82e5e3f_87ad_11eb_a9ef_b42e991e0817row14_col6,#T_a82e5e3f_87ad_11eb_a9ef_b42e991e0817row14_col7{\n",
       "            text-align:  left;\n",
       "            text-align:  left;\n",
       "        }#T_a82e5e3f_87ad_11eb_a9ef_b42e991e0817row0_col1,#T_a82e5e3f_87ad_11eb_a9ef_b42e991e0817row0_col2,#T_a82e5e3f_87ad_11eb_a9ef_b42e991e0817row0_col5,#T_a82e5e3f_87ad_11eb_a9ef_b42e991e0817row0_col6,#T_a82e5e3f_87ad_11eb_a9ef_b42e991e0817row0_col7,#T_a82e5e3f_87ad_11eb_a9ef_b42e991e0817row2_col3,#T_a82e5e3f_87ad_11eb_a9ef_b42e991e0817row10_col4{\n",
       "            text-align:  left;\n",
       "            text-align:  left;\n",
       "            background-color:  yellow;\n",
       "        }#T_a82e5e3f_87ad_11eb_a9ef_b42e991e0817row0_col8,#T_a82e5e3f_87ad_11eb_a9ef_b42e991e0817row1_col8,#T_a82e5e3f_87ad_11eb_a9ef_b42e991e0817row2_col8,#T_a82e5e3f_87ad_11eb_a9ef_b42e991e0817row3_col8,#T_a82e5e3f_87ad_11eb_a9ef_b42e991e0817row4_col8,#T_a82e5e3f_87ad_11eb_a9ef_b42e991e0817row5_col8,#T_a82e5e3f_87ad_11eb_a9ef_b42e991e0817row6_col8,#T_a82e5e3f_87ad_11eb_a9ef_b42e991e0817row9_col8,#T_a82e5e3f_87ad_11eb_a9ef_b42e991e0817row10_col8,#T_a82e5e3f_87ad_11eb_a9ef_b42e991e0817row12_col8,#T_a82e5e3f_87ad_11eb_a9ef_b42e991e0817row13_col8,#T_a82e5e3f_87ad_11eb_a9ef_b42e991e0817row14_col8{\n",
       "            text-align:  left;\n",
       "            text-align:  left;\n",
       "            background-color:  lightgrey;\n",
       "        }#T_a82e5e3f_87ad_11eb_a9ef_b42e991e0817row7_col8,#T_a82e5e3f_87ad_11eb_a9ef_b42e991e0817row8_col8,#T_a82e5e3f_87ad_11eb_a9ef_b42e991e0817row11_col8{\n",
       "            text-align:  left;\n",
       "            text-align:  left;\n",
       "            background-color:  yellow;\n",
       "            background-color:  lightgrey;\n",
       "        }</style><table id=\"T_a82e5e3f_87ad_11eb_a9ef_b42e991e0817\" ><thead>    <tr>        <th class=\"blank level0\" ></th>        <th class=\"col_heading level0 col0\" >Model</th>        <th class=\"col_heading level0 col1\" >Accuracy</th>        <th class=\"col_heading level0 col2\" >AUC</th>        <th class=\"col_heading level0 col3\" >Recall</th>        <th class=\"col_heading level0 col4\" >Prec.</th>        <th class=\"col_heading level0 col5\" >F1</th>        <th class=\"col_heading level0 col6\" >Kappa</th>        <th class=\"col_heading level0 col7\" >MCC</th>        <th class=\"col_heading level0 col8\" >TT (Sec)</th>    </tr></thead><tbody>\n",
       "                <tr>\n",
       "                        <th id=\"T_a82e5e3f_87ad_11eb_a9ef_b42e991e0817level0_row0\" class=\"row_heading level0 row0\" >catboost</th>\n",
       "                        <td id=\"T_a82e5e3f_87ad_11eb_a9ef_b42e991e0817row0_col0\" class=\"data row0 col0\" >CatBoost Classifier</td>\n",
       "                        <td id=\"T_a82e5e3f_87ad_11eb_a9ef_b42e991e0817row0_col1\" class=\"data row0 col1\" >0.8155</td>\n",
       "                        <td id=\"T_a82e5e3f_87ad_11eb_a9ef_b42e991e0817row0_col2\" class=\"data row0 col2\" >0.8285</td>\n",
       "                        <td id=\"T_a82e5e3f_87ad_11eb_a9ef_b42e991e0817row0_col3\" class=\"data row0 col3\" >0.5797</td>\n",
       "                        <td id=\"T_a82e5e3f_87ad_11eb_a9ef_b42e991e0817row0_col4\" class=\"data row0 col4\" >0.7807</td>\n",
       "                        <td id=\"T_a82e5e3f_87ad_11eb_a9ef_b42e991e0817row0_col5\" class=\"data row0 col5\" >0.6640</td>\n",
       "                        <td id=\"T_a82e5e3f_87ad_11eb_a9ef_b42e991e0817row0_col6\" class=\"data row0 col6\" >0.5408</td>\n",
       "                        <td id=\"T_a82e5e3f_87ad_11eb_a9ef_b42e991e0817row0_col7\" class=\"data row0 col7\" >0.5531</td>\n",
       "                        <td id=\"T_a82e5e3f_87ad_11eb_a9ef_b42e991e0817row0_col8\" class=\"data row0 col8\" >2.6580</td>\n",
       "            </tr>\n",
       "            <tr>\n",
       "                        <th id=\"T_a82e5e3f_87ad_11eb_a9ef_b42e991e0817level0_row1\" class=\"row_heading level0 row1\" >gbc</th>\n",
       "                        <td id=\"T_a82e5e3f_87ad_11eb_a9ef_b42e991e0817row1_col0\" class=\"data row1 col0\" >Gradient Boosting Classifier</td>\n",
       "                        <td id=\"T_a82e5e3f_87ad_11eb_a9ef_b42e991e0817row1_col1\" class=\"data row1 col1\" >0.8106</td>\n",
       "                        <td id=\"T_a82e5e3f_87ad_11eb_a9ef_b42e991e0817row1_col2\" class=\"data row1 col2\" >0.8250</td>\n",
       "                        <td id=\"T_a82e5e3f_87ad_11eb_a9ef_b42e991e0817row1_col3\" class=\"data row1 col3\" >0.5572</td>\n",
       "                        <td id=\"T_a82e5e3f_87ad_11eb_a9ef_b42e991e0817row1_col4\" class=\"data row1 col4\" >0.7813</td>\n",
       "                        <td id=\"T_a82e5e3f_87ad_11eb_a9ef_b42e991e0817row1_col5\" class=\"data row1 col5\" >0.6484</td>\n",
       "                        <td id=\"T_a82e5e3f_87ad_11eb_a9ef_b42e991e0817row1_col6\" class=\"data row1 col6\" >0.5242</td>\n",
       "                        <td id=\"T_a82e5e3f_87ad_11eb_a9ef_b42e991e0817row1_col7\" class=\"data row1 col7\" >0.5394</td>\n",
       "                        <td id=\"T_a82e5e3f_87ad_11eb_a9ef_b42e991e0817row1_col8\" class=\"data row1 col8\" >0.0360</td>\n",
       "            </tr>\n",
       "            <tr>\n",
       "                        <th id=\"T_a82e5e3f_87ad_11eb_a9ef_b42e991e0817level0_row2\" class=\"row_heading level0 row2\" >rf</th>\n",
       "                        <td id=\"T_a82e5e3f_87ad_11eb_a9ef_b42e991e0817row2_col0\" class=\"data row2 col0\" >Random Forest Classifier</td>\n",
       "                        <td id=\"T_a82e5e3f_87ad_11eb_a9ef_b42e991e0817row2_col1\" class=\"data row2 col1\" >0.8044</td>\n",
       "                        <td id=\"T_a82e5e3f_87ad_11eb_a9ef_b42e991e0817row2_col2\" class=\"data row2 col2\" >0.8105</td>\n",
       "                        <td id=\"T_a82e5e3f_87ad_11eb_a9ef_b42e991e0817row2_col3\" class=\"data row2 col3\" >0.5896</td>\n",
       "                        <td id=\"T_a82e5e3f_87ad_11eb_a9ef_b42e991e0817row2_col4\" class=\"data row2 col4\" >0.7377</td>\n",
       "                        <td id=\"T_a82e5e3f_87ad_11eb_a9ef_b42e991e0817row2_col5\" class=\"data row2 col5\" >0.6544</td>\n",
       "                        <td id=\"T_a82e5e3f_87ad_11eb_a9ef_b42e991e0817row2_col6\" class=\"data row2 col6\" >0.5206</td>\n",
       "                        <td id=\"T_a82e5e3f_87ad_11eb_a9ef_b42e991e0817row2_col7\" class=\"data row2 col7\" >0.5275</td>\n",
       "                        <td id=\"T_a82e5e3f_87ad_11eb_a9ef_b42e991e0817row2_col8\" class=\"data row2 col8\" >0.0800</td>\n",
       "            </tr>\n",
       "            <tr>\n",
       "                        <th id=\"T_a82e5e3f_87ad_11eb_a9ef_b42e991e0817level0_row3\" class=\"row_heading level0 row3\" >et</th>\n",
       "                        <td id=\"T_a82e5e3f_87ad_11eb_a9ef_b42e991e0817row3_col0\" class=\"data row3 col0\" >Extra Trees Classifier</td>\n",
       "                        <td id=\"T_a82e5e3f_87ad_11eb_a9ef_b42e991e0817row3_col1\" class=\"data row3 col1\" >0.8013</td>\n",
       "                        <td id=\"T_a82e5e3f_87ad_11eb_a9ef_b42e991e0817row3_col2\" class=\"data row3 col2\" >0.8017</td>\n",
       "                        <td id=\"T_a82e5e3f_87ad_11eb_a9ef_b42e991e0817row3_col3\" class=\"data row3 col3\" >0.5713</td>\n",
       "                        <td id=\"T_a82e5e3f_87ad_11eb_a9ef_b42e991e0817row3_col4\" class=\"data row3 col4\" >0.7386</td>\n",
       "                        <td id=\"T_a82e5e3f_87ad_11eb_a9ef_b42e991e0817row3_col5\" class=\"data row3 col5\" >0.6434</td>\n",
       "                        <td id=\"T_a82e5e3f_87ad_11eb_a9ef_b42e991e0817row3_col6\" class=\"data row3 col6\" >0.5090</td>\n",
       "                        <td id=\"T_a82e5e3f_87ad_11eb_a9ef_b42e991e0817row3_col7\" class=\"data row3 col7\" >0.5176</td>\n",
       "                        <td id=\"T_a82e5e3f_87ad_11eb_a9ef_b42e991e0817row3_col8\" class=\"data row3 col8\" >0.0630</td>\n",
       "            </tr>\n",
       "            <tr>\n",
       "                        <th id=\"T_a82e5e3f_87ad_11eb_a9ef_b42e991e0817level0_row4\" class=\"row_heading level0 row4\" >xgboost</th>\n",
       "                        <td id=\"T_a82e5e3f_87ad_11eb_a9ef_b42e991e0817row4_col0\" class=\"data row4 col0\" >Extreme Gradient Boosting</td>\n",
       "                        <td id=\"T_a82e5e3f_87ad_11eb_a9ef_b42e991e0817row4_col1\" class=\"data row4 col1\" >0.7950</td>\n",
       "                        <td id=\"T_a82e5e3f_87ad_11eb_a9ef_b42e991e0817row4_col2\" class=\"data row4 col2\" >0.7971</td>\n",
       "                        <td id=\"T_a82e5e3f_87ad_11eb_a9ef_b42e991e0817row4_col3\" class=\"data row4 col3\" >0.5741</td>\n",
       "                        <td id=\"T_a82e5e3f_87ad_11eb_a9ef_b42e991e0817row4_col4\" class=\"data row4 col4\" >0.7235</td>\n",
       "                        <td id=\"T_a82e5e3f_87ad_11eb_a9ef_b42e991e0817row4_col5\" class=\"data row4 col5\" >0.6378</td>\n",
       "                        <td id=\"T_a82e5e3f_87ad_11eb_a9ef_b42e991e0817row4_col6\" class=\"data row4 col6\" >0.4978</td>\n",
       "                        <td id=\"T_a82e5e3f_87ad_11eb_a9ef_b42e991e0817row4_col7\" class=\"data row4 col7\" >0.5058</td>\n",
       "                        <td id=\"T_a82e5e3f_87ad_11eb_a9ef_b42e991e0817row4_col8\" class=\"data row4 col8\" >0.1560</td>\n",
       "            </tr>\n",
       "            <tr>\n",
       "                        <th id=\"T_a82e5e3f_87ad_11eb_a9ef_b42e991e0817level0_row5\" class=\"row_heading level0 row5\" >ada</th>\n",
       "                        <td id=\"T_a82e5e3f_87ad_11eb_a9ef_b42e991e0817row5_col0\" class=\"data row5 col0\" >Ada Boost Classifier</td>\n",
       "                        <td id=\"T_a82e5e3f_87ad_11eb_a9ef_b42e991e0817row5_col1\" class=\"data row5 col1\" >0.7919</td>\n",
       "                        <td id=\"T_a82e5e3f_87ad_11eb_a9ef_b42e991e0817row5_col2\" class=\"data row5 col2\" >0.8028</td>\n",
       "                        <td id=\"T_a82e5e3f_87ad_11eb_a9ef_b42e991e0817row5_col3\" class=\"data row5 col3\" >0.5050</td>\n",
       "                        <td id=\"T_a82e5e3f_87ad_11eb_a9ef_b42e991e0817row5_col4\" class=\"data row5 col4\" >0.7609</td>\n",
       "                        <td id=\"T_a82e5e3f_87ad_11eb_a9ef_b42e991e0817row5_col5\" class=\"data row5 col5\" >0.6029</td>\n",
       "                        <td id=\"T_a82e5e3f_87ad_11eb_a9ef_b42e991e0817row5_col6\" class=\"data row5 col6\" >0.4703</td>\n",
       "                        <td id=\"T_a82e5e3f_87ad_11eb_a9ef_b42e991e0817row5_col7\" class=\"data row5 col7\" >0.4907</td>\n",
       "                        <td id=\"T_a82e5e3f_87ad_11eb_a9ef_b42e991e0817row5_col8\" class=\"data row5 col8\" >0.0250</td>\n",
       "            </tr>\n",
       "            <tr>\n",
       "                        <th id=\"T_a82e5e3f_87ad_11eb_a9ef_b42e991e0817level0_row6\" class=\"row_heading level0 row6\" >lightgbm</th>\n",
       "                        <td id=\"T_a82e5e3f_87ad_11eb_a9ef_b42e991e0817row6_col0\" class=\"data row6 col0\" >Light Gradient Boosting Machine</td>\n",
       "                        <td id=\"T_a82e5e3f_87ad_11eb_a9ef_b42e991e0817row6_col1\" class=\"data row6 col1\" >0.7910</td>\n",
       "                        <td id=\"T_a82e5e3f_87ad_11eb_a9ef_b42e991e0817row6_col2\" class=\"data row6 col2\" >0.7998</td>\n",
       "                        <td id=\"T_a82e5e3f_87ad_11eb_a9ef_b42e991e0817row6_col3\" class=\"data row6 col3\" >0.5671</td>\n",
       "                        <td id=\"T_a82e5e3f_87ad_11eb_a9ef_b42e991e0817row6_col4\" class=\"data row6 col4\" >0.7130</td>\n",
       "                        <td id=\"T_a82e5e3f_87ad_11eb_a9ef_b42e991e0817row6_col5\" class=\"data row6 col5\" >0.6299</td>\n",
       "                        <td id=\"T_a82e5e3f_87ad_11eb_a9ef_b42e991e0817row6_col6\" class=\"data row6 col6\" >0.4874</td>\n",
       "                        <td id=\"T_a82e5e3f_87ad_11eb_a9ef_b42e991e0817row6_col7\" class=\"data row6 col7\" >0.4946</td>\n",
       "                        <td id=\"T_a82e5e3f_87ad_11eb_a9ef_b42e991e0817row6_col8\" class=\"data row6 col8\" >0.0520</td>\n",
       "            </tr>\n",
       "            <tr>\n",
       "                        <th id=\"T_a82e5e3f_87ad_11eb_a9ef_b42e991e0817level0_row7\" class=\"row_heading level0 row7\" >nb</th>\n",
       "                        <td id=\"T_a82e5e3f_87ad_11eb_a9ef_b42e991e0817row7_col0\" class=\"data row7 col0\" >Naive Bayes</td>\n",
       "                        <td id=\"T_a82e5e3f_87ad_11eb_a9ef_b42e991e0817row7_col1\" class=\"data row7 col1\" >0.7879</td>\n",
       "                        <td id=\"T_a82e5e3f_87ad_11eb_a9ef_b42e991e0817row7_col2\" class=\"data row7 col2\" >0.8094</td>\n",
       "                        <td id=\"T_a82e5e3f_87ad_11eb_a9ef_b42e991e0817row7_col3\" class=\"data row7 col3\" >0.5008</td>\n",
       "                        <td id=\"T_a82e5e3f_87ad_11eb_a9ef_b42e991e0817row7_col4\" class=\"data row7 col4\" >0.7436</td>\n",
       "                        <td id=\"T_a82e5e3f_87ad_11eb_a9ef_b42e991e0817row7_col5\" class=\"data row7 col5\" >0.5964</td>\n",
       "                        <td id=\"T_a82e5e3f_87ad_11eb_a9ef_b42e991e0817row7_col6\" class=\"data row7 col6\" >0.4606</td>\n",
       "                        <td id=\"T_a82e5e3f_87ad_11eb_a9ef_b42e991e0817row7_col7\" class=\"data row7 col7\" >0.4781</td>\n",
       "                        <td id=\"T_a82e5e3f_87ad_11eb_a9ef_b42e991e0817row7_col8\" class=\"data row7 col8\" >0.0070</td>\n",
       "            </tr>\n",
       "            <tr>\n",
       "                        <th id=\"T_a82e5e3f_87ad_11eb_a9ef_b42e991e0817level0_row8\" class=\"row_heading level0 row8\" >qda</th>\n",
       "                        <td id=\"T_a82e5e3f_87ad_11eb_a9ef_b42e991e0817row8_col0\" class=\"data row8 col0\" >Quadratic Discriminant Analysis</td>\n",
       "                        <td id=\"T_a82e5e3f_87ad_11eb_a9ef_b42e991e0817row8_col1\" class=\"data row8 col1\" >0.7830</td>\n",
       "                        <td id=\"T_a82e5e3f_87ad_11eb_a9ef_b42e991e0817row8_col2\" class=\"data row8 col2\" >0.8124</td>\n",
       "                        <td id=\"T_a82e5e3f_87ad_11eb_a9ef_b42e991e0817row8_col3\" class=\"data row8 col3\" >0.4698</td>\n",
       "                        <td id=\"T_a82e5e3f_87ad_11eb_a9ef_b42e991e0817row8_col4\" class=\"data row8 col4\" >0.7482</td>\n",
       "                        <td id=\"T_a82e5e3f_87ad_11eb_a9ef_b42e991e0817row8_col5\" class=\"data row8 col5\" >0.5750</td>\n",
       "                        <td id=\"T_a82e5e3f_87ad_11eb_a9ef_b42e991e0817row8_col6\" class=\"data row8 col6\" >0.4403</td>\n",
       "                        <td id=\"T_a82e5e3f_87ad_11eb_a9ef_b42e991e0817row8_col7\" class=\"data row8 col7\" >0.4627</td>\n",
       "                        <td id=\"T_a82e5e3f_87ad_11eb_a9ef_b42e991e0817row8_col8\" class=\"data row8 col8\" >0.0070</td>\n",
       "            </tr>\n",
       "            <tr>\n",
       "                        <th id=\"T_a82e5e3f_87ad_11eb_a9ef_b42e991e0817level0_row9\" class=\"row_heading level0 row9\" >knn</th>\n",
       "                        <td id=\"T_a82e5e3f_87ad_11eb_a9ef_b42e991e0817row9_col0\" class=\"data row9 col0\" >K Neighbors Classifier</td>\n",
       "                        <td id=\"T_a82e5e3f_87ad_11eb_a9ef_b42e991e0817row9_col1\" class=\"data row9 col1\" >0.7604</td>\n",
       "                        <td id=\"T_a82e5e3f_87ad_11eb_a9ef_b42e991e0817row9_col2\" class=\"data row9 col2\" >0.7204</td>\n",
       "                        <td id=\"T_a82e5e3f_87ad_11eb_a9ef_b42e991e0817row9_col3\" class=\"data row9 col3\" >0.4304</td>\n",
       "                        <td id=\"T_a82e5e3f_87ad_11eb_a9ef_b42e991e0817row9_col4\" class=\"data row9 col4\" >0.6910</td>\n",
       "                        <td id=\"T_a82e5e3f_87ad_11eb_a9ef_b42e991e0817row9_col5\" class=\"data row9 col5\" >0.5277</td>\n",
       "                        <td id=\"T_a82e5e3f_87ad_11eb_a9ef_b42e991e0817row9_col6\" class=\"data row9 col6\" >0.3801</td>\n",
       "                        <td id=\"T_a82e5e3f_87ad_11eb_a9ef_b42e991e0817row9_col7\" class=\"data row9 col7\" >0.4000</td>\n",
       "                        <td id=\"T_a82e5e3f_87ad_11eb_a9ef_b42e991e0817row9_col8\" class=\"data row9 col8\" >0.2640</td>\n",
       "            </tr>\n",
       "            <tr>\n",
       "                        <th id=\"T_a82e5e3f_87ad_11eb_a9ef_b42e991e0817level0_row10\" class=\"row_heading level0 row10\" >ridge</th>\n",
       "                        <td id=\"T_a82e5e3f_87ad_11eb_a9ef_b42e991e0817row10_col0\" class=\"data row10 col0\" >Ridge Classifier</td>\n",
       "                        <td id=\"T_a82e5e3f_87ad_11eb_a9ef_b42e991e0817row10_col1\" class=\"data row10 col1\" >0.7430</td>\n",
       "                        <td id=\"T_a82e5e3f_87ad_11eb_a9ef_b42e991e0817row10_col2\" class=\"data row10 col2\" >0.0000</td>\n",
       "                        <td id=\"T_a82e5e3f_87ad_11eb_a9ef_b42e991e0817row10_col3\" class=\"data row10 col3\" >0.2285</td>\n",
       "                        <td id=\"T_a82e5e3f_87ad_11eb_a9ef_b42e991e0817row10_col4\" class=\"data row10 col4\" >0.8467</td>\n",
       "                        <td id=\"T_a82e5e3f_87ad_11eb_a9ef_b42e991e0817row10_col5\" class=\"data row10 col5\" >0.3579</td>\n",
       "                        <td id=\"T_a82e5e3f_87ad_11eb_a9ef_b42e991e0817row10_col6\" class=\"data row10 col6\" >0.2589</td>\n",
       "                        <td id=\"T_a82e5e3f_87ad_11eb_a9ef_b42e991e0817row10_col7\" class=\"data row10 col7\" >0.3466</td>\n",
       "                        <td id=\"T_a82e5e3f_87ad_11eb_a9ef_b42e991e0817row10_col8\" class=\"data row10 col8\" >0.0100</td>\n",
       "            </tr>\n",
       "            <tr>\n",
       "                        <th id=\"T_a82e5e3f_87ad_11eb_a9ef_b42e991e0817level0_row11\" class=\"row_heading level0 row11\" >lda</th>\n",
       "                        <td id=\"T_a82e5e3f_87ad_11eb_a9ef_b42e991e0817row11_col0\" class=\"data row11 col0\" >Linear Discriminant Analysis</td>\n",
       "                        <td id=\"T_a82e5e3f_87ad_11eb_a9ef_b42e991e0817row11_col1\" class=\"data row11 col1\" >0.7421</td>\n",
       "                        <td id=\"T_a82e5e3f_87ad_11eb_a9ef_b42e991e0817row11_col2\" class=\"data row11 col2\" >0.6818</td>\n",
       "                        <td id=\"T_a82e5e3f_87ad_11eb_a9ef_b42e991e0817row11_col3\" class=\"data row11 col3\" >0.2497</td>\n",
       "                        <td id=\"T_a82e5e3f_87ad_11eb_a9ef_b42e991e0817row11_col4\" class=\"data row11 col4\" >0.7896</td>\n",
       "                        <td id=\"T_a82e5e3f_87ad_11eb_a9ef_b42e991e0817row11_col5\" class=\"data row11 col5\" >0.3779</td>\n",
       "                        <td id=\"T_a82e5e3f_87ad_11eb_a9ef_b42e991e0817row11_col6\" class=\"data row11 col6\" >0.2675</td>\n",
       "                        <td id=\"T_a82e5e3f_87ad_11eb_a9ef_b42e991e0817row11_col7\" class=\"data row11 col7\" >0.3386</td>\n",
       "                        <td id=\"T_a82e5e3f_87ad_11eb_a9ef_b42e991e0817row11_col8\" class=\"data row11 col8\" >0.0070</td>\n",
       "            </tr>\n",
       "            <tr>\n",
       "                        <th id=\"T_a82e5e3f_87ad_11eb_a9ef_b42e991e0817level0_row12\" class=\"row_heading level0 row12\" >dt</th>\n",
       "                        <td id=\"T_a82e5e3f_87ad_11eb_a9ef_b42e991e0817row12_col0\" class=\"data row12 col0\" >Decision Tree Classifier</td>\n",
       "                        <td id=\"T_a82e5e3f_87ad_11eb_a9ef_b42e991e0817row12_col1\" class=\"data row12 col1\" >0.7230</td>\n",
       "                        <td id=\"T_a82e5e3f_87ad_11eb_a9ef_b42e991e0817row12_col2\" class=\"data row12 col2\" >0.6843</td>\n",
       "                        <td id=\"T_a82e5e3f_87ad_11eb_a9ef_b42e991e0817row12_col3\" class=\"data row12 col3\" >0.5796</td>\n",
       "                        <td id=\"T_a82e5e3f_87ad_11eb_a9ef_b42e991e0817row12_col4\" class=\"data row12 col4\" >0.5601</td>\n",
       "                        <td id=\"T_a82e5e3f_87ad_11eb_a9ef_b42e991e0817row12_col5\" class=\"data row12 col5\" >0.5686</td>\n",
       "                        <td id=\"T_a82e5e3f_87ad_11eb_a9ef_b42e991e0817row12_col6\" class=\"data row12 col6\" >0.3650</td>\n",
       "                        <td id=\"T_a82e5e3f_87ad_11eb_a9ef_b42e991e0817row12_col7\" class=\"data row12 col7\" >0.3659</td>\n",
       "                        <td id=\"T_a82e5e3f_87ad_11eb_a9ef_b42e991e0817row12_col8\" class=\"data row12 col8\" >0.0080</td>\n",
       "            </tr>\n",
       "            <tr>\n",
       "                        <th id=\"T_a82e5e3f_87ad_11eb_a9ef_b42e991e0817level0_row13\" class=\"row_heading level0 row13\" >lr</th>\n",
       "                        <td id=\"T_a82e5e3f_87ad_11eb_a9ef_b42e991e0817row13_col0\" class=\"data row13 col0\" >Logistic Regression</td>\n",
       "                        <td id=\"T_a82e5e3f_87ad_11eb_a9ef_b42e991e0817row13_col1\" class=\"data row13 col1\" >0.7123</td>\n",
       "                        <td id=\"T_a82e5e3f_87ad_11eb_a9ef_b42e991e0817row13_col2\" class=\"data row13 col2\" >0.5396</td>\n",
       "                        <td id=\"T_a82e5e3f_87ad_11eb_a9ef_b42e991e0817row13_col3\" class=\"data row13 col3\" >0.1522</td>\n",
       "                        <td id=\"T_a82e5e3f_87ad_11eb_a9ef_b42e991e0817row13_col4\" class=\"data row13 col4\" >0.6373</td>\n",
       "                        <td id=\"T_a82e5e3f_87ad_11eb_a9ef_b42e991e0817row13_col5\" class=\"data row13 col5\" >0.2342</td>\n",
       "                        <td id=\"T_a82e5e3f_87ad_11eb_a9ef_b42e991e0817row13_col6\" class=\"data row13 col6\" >0.1499</td>\n",
       "                        <td id=\"T_a82e5e3f_87ad_11eb_a9ef_b42e991e0817row13_col7\" class=\"data row13 col7\" >0.2001</td>\n",
       "                        <td id=\"T_a82e5e3f_87ad_11eb_a9ef_b42e991e0817row13_col8\" class=\"data row13 col8\" >0.4670</td>\n",
       "            </tr>\n",
       "            <tr>\n",
       "                        <th id=\"T_a82e5e3f_87ad_11eb_a9ef_b42e991e0817level0_row14\" class=\"row_heading level0 row14\" >svm</th>\n",
       "                        <td id=\"T_a82e5e3f_87ad_11eb_a9ef_b42e991e0817row14_col0\" class=\"data row14 col0\" >SVM - Linear Kernel</td>\n",
       "                        <td id=\"T_a82e5e3f_87ad_11eb_a9ef_b42e991e0817row14_col1\" class=\"data row14 col1\" >0.5397</td>\n",
       "                        <td id=\"T_a82e5e3f_87ad_11eb_a9ef_b42e991e0817row14_col2\" class=\"data row14 col2\" >0.0000</td>\n",
       "                        <td id=\"T_a82e5e3f_87ad_11eb_a9ef_b42e991e0817row14_col3\" class=\"data row14 col3\" >0.4155</td>\n",
       "                        <td id=\"T_a82e5e3f_87ad_11eb_a9ef_b42e991e0817row14_col4\" class=\"data row14 col4\" >0.5259</td>\n",
       "                        <td id=\"T_a82e5e3f_87ad_11eb_a9ef_b42e991e0817row14_col5\" class=\"data row14 col5\" >0.2210</td>\n",
       "                        <td id=\"T_a82e5e3f_87ad_11eb_a9ef_b42e991e0817row14_col6\" class=\"data row14 col6\" >0.0173</td>\n",
       "                        <td id=\"T_a82e5e3f_87ad_11eb_a9ef_b42e991e0817row14_col7\" class=\"data row14 col7\" >0.0539</td>\n",
       "                        <td id=\"T_a82e5e3f_87ad_11eb_a9ef_b42e991e0817row14_col8\" class=\"data row14 col8\" >0.0090</td>\n",
       "            </tr>\n",
       "    </tbody></table>"
      ],
      "text/plain": [
       "<pandas.io.formats.style.Styler at 0x263ba2ea6a0>"
      ]
     },
     "metadata": {},
     "output_type": "display_data"
    },
    {
     "data": {
      "text/plain": [
       "<catboost.core.CatBoostClassifier at 0x263be64be20>"
      ]
     },
     "execution_count": 20,
     "metadata": {},
     "output_type": "execute_result"
    }
   ],
   "source": [
    "compare_models()"
   ]
  },
  {
   "cell_type": "code",
   "execution_count": 21,
   "metadata": {},
   "outputs": [
    {
     "data": {
      "text/html": [
       "<style  type=\"text/css\" >\n",
       "#T_11e78588_87ae_11eb_8975_b42e991e0817row5_col0,#T_11e78588_87ae_11eb_8975_b42e991e0817row5_col1,#T_11e78588_87ae_11eb_8975_b42e991e0817row5_col2,#T_11e78588_87ae_11eb_8975_b42e991e0817row5_col3,#T_11e78588_87ae_11eb_8975_b42e991e0817row5_col4,#T_11e78588_87ae_11eb_8975_b42e991e0817row5_col5,#T_11e78588_87ae_11eb_8975_b42e991e0817row5_col6{\n",
       "            background:  yellow;\n",
       "        }</style><table id=\"T_11e78588_87ae_11eb_8975_b42e991e0817\" ><thead>    <tr>        <th class=\"blank level0\" ></th>        <th class=\"col_heading level0 col0\" >Accuracy</th>        <th class=\"col_heading level0 col1\" >AUC</th>        <th class=\"col_heading level0 col2\" >Recall</th>        <th class=\"col_heading level0 col3\" >Prec.</th>        <th class=\"col_heading level0 col4\" >F1</th>        <th class=\"col_heading level0 col5\" >Kappa</th>        <th class=\"col_heading level0 col6\" >MCC</th>    </tr></thead><tbody>\n",
       "                <tr>\n",
       "                        <th id=\"T_11e78588_87ae_11eb_8975_b42e991e0817level0_row0\" class=\"row_heading level0 row0\" >0</th>\n",
       "                        <td id=\"T_11e78588_87ae_11eb_8975_b42e991e0817row0_col0\" class=\"data row0 col0\" >0.8000</td>\n",
       "                        <td id=\"T_11e78588_87ae_11eb_8975_b42e991e0817row0_col1\" class=\"data row0 col1\" >0.7907</td>\n",
       "                        <td id=\"T_11e78588_87ae_11eb_8975_b42e991e0817row0_col2\" class=\"data row0 col2\" >0.5493</td>\n",
       "                        <td id=\"T_11e78588_87ae_11eb_8975_b42e991e0817row0_col3\" class=\"data row0 col3\" >0.7500</td>\n",
       "                        <td id=\"T_11e78588_87ae_11eb_8975_b42e991e0817row0_col4\" class=\"data row0 col4\" >0.6341</td>\n",
       "                        <td id=\"T_11e78588_87ae_11eb_8975_b42e991e0817row0_col5\" class=\"data row0 col5\" >0.5010</td>\n",
       "                        <td id=\"T_11e78588_87ae_11eb_8975_b42e991e0817row0_col6\" class=\"data row0 col6\" >0.5125</td>\n",
       "            </tr>\n",
       "            <tr>\n",
       "                        <th id=\"T_11e78588_87ae_11eb_8975_b42e991e0817level0_row1\" class=\"row_heading level0 row1\" >1</th>\n",
       "                        <td id=\"T_11e78588_87ae_11eb_8975_b42e991e0817row1_col0\" class=\"data row1 col0\" >0.8133</td>\n",
       "                        <td id=\"T_11e78588_87ae_11eb_8975_b42e991e0817row1_col1\" class=\"data row1 col1\" >0.8366</td>\n",
       "                        <td id=\"T_11e78588_87ae_11eb_8975_b42e991e0817row1_col2\" class=\"data row1 col2\" >0.5915</td>\n",
       "                        <td id=\"T_11e78588_87ae_11eb_8975_b42e991e0817row1_col3\" class=\"data row1 col3\" >0.7636</td>\n",
       "                        <td id=\"T_11e78588_87ae_11eb_8975_b42e991e0817row1_col4\" class=\"data row1 col4\" >0.6667</td>\n",
       "                        <td id=\"T_11e78588_87ae_11eb_8975_b42e991e0817row1_col5\" class=\"data row1 col5\" >0.5399</td>\n",
       "                        <td id=\"T_11e78588_87ae_11eb_8975_b42e991e0817row1_col6\" class=\"data row1 col6\" >0.5484</td>\n",
       "            </tr>\n",
       "            <tr>\n",
       "                        <th id=\"T_11e78588_87ae_11eb_8975_b42e991e0817level0_row2\" class=\"row_heading level0 row2\" >2</th>\n",
       "                        <td id=\"T_11e78588_87ae_11eb_8975_b42e991e0817row2_col0\" class=\"data row2 col0\" >0.8178</td>\n",
       "                        <td id=\"T_11e78588_87ae_11eb_8975_b42e991e0817row2_col1\" class=\"data row2 col1\" >0.8151</td>\n",
       "                        <td id=\"T_11e78588_87ae_11eb_8975_b42e991e0817row2_col2\" class=\"data row2 col2\" >0.5775</td>\n",
       "                        <td id=\"T_11e78588_87ae_11eb_8975_b42e991e0817row2_col3\" class=\"data row2 col3\" >0.7885</td>\n",
       "                        <td id=\"T_11e78588_87ae_11eb_8975_b42e991e0817row2_col4\" class=\"data row2 col4\" >0.6667</td>\n",
       "                        <td id=\"T_11e78588_87ae_11eb_8975_b42e991e0817row2_col5\" class=\"data row2 col5\" >0.5454</td>\n",
       "                        <td id=\"T_11e78588_87ae_11eb_8975_b42e991e0817row2_col6\" class=\"data row2 col6\" >0.5579</td>\n",
       "            </tr>\n",
       "            <tr>\n",
       "                        <th id=\"T_11e78588_87ae_11eb_8975_b42e991e0817level0_row3\" class=\"row_heading level0 row3\" >3</th>\n",
       "                        <td id=\"T_11e78588_87ae_11eb_8975_b42e991e0817row3_col0\" class=\"data row3 col0\" >0.8267</td>\n",
       "                        <td id=\"T_11e78588_87ae_11eb_8975_b42e991e0817row3_col1\" class=\"data row3 col1\" >0.8371</td>\n",
       "                        <td id=\"T_11e78588_87ae_11eb_8975_b42e991e0817row3_col2\" class=\"data row3 col2\" >0.5704</td>\n",
       "                        <td id=\"T_11e78588_87ae_11eb_8975_b42e991e0817row3_col3\" class=\"data row3 col3\" >0.8265</td>\n",
       "                        <td id=\"T_11e78588_87ae_11eb_8975_b42e991e0817row3_col4\" class=\"data row3 col4\" >0.6750</td>\n",
       "                        <td id=\"T_11e78588_87ae_11eb_8975_b42e991e0817row3_col5\" class=\"data row3 col5\" >0.5622</td>\n",
       "                        <td id=\"T_11e78588_87ae_11eb_8975_b42e991e0817row3_col6\" class=\"data row3 col6\" >0.5801</td>\n",
       "            </tr>\n",
       "            <tr>\n",
       "                        <th id=\"T_11e78588_87ae_11eb_8975_b42e991e0817level0_row4\" class=\"row_heading level0 row4\" >4</th>\n",
       "                        <td id=\"T_11e78588_87ae_11eb_8975_b42e991e0817row4_col0\" class=\"data row4 col0\" >0.8241</td>\n",
       "                        <td id=\"T_11e78588_87ae_11eb_8975_b42e991e0817row4_col1\" class=\"data row4 col1\" >0.8549</td>\n",
       "                        <td id=\"T_11e78588_87ae_11eb_8975_b42e991e0817row4_col2\" class=\"data row4 col2\" >0.6099</td>\n",
       "                        <td id=\"T_11e78588_87ae_11eb_8975_b42e991e0817row4_col3\" class=\"data row4 col3\" >0.7818</td>\n",
       "                        <td id=\"T_11e78588_87ae_11eb_8975_b42e991e0817row4_col4\" class=\"data row4 col4\" >0.6853</td>\n",
       "                        <td id=\"T_11e78588_87ae_11eb_8975_b42e991e0817row4_col5\" class=\"data row4 col5\" >0.5657</td>\n",
       "                        <td id=\"T_11e78588_87ae_11eb_8975_b42e991e0817row4_col6\" class=\"data row4 col6\" >0.5741</td>\n",
       "            </tr>\n",
       "            <tr>\n",
       "                        <th id=\"T_11e78588_87ae_11eb_8975_b42e991e0817level0_row5\" class=\"row_heading level0 row5\" >Mean</th>\n",
       "                        <td id=\"T_11e78588_87ae_11eb_8975_b42e991e0817row5_col0\" class=\"data row5 col0\" >0.8164</td>\n",
       "                        <td id=\"T_11e78588_87ae_11eb_8975_b42e991e0817row5_col1\" class=\"data row5 col1\" >0.8269</td>\n",
       "                        <td id=\"T_11e78588_87ae_11eb_8975_b42e991e0817row5_col2\" class=\"data row5 col2\" >0.5797</td>\n",
       "                        <td id=\"T_11e78588_87ae_11eb_8975_b42e991e0817row5_col3\" class=\"data row5 col3\" >0.7821</td>\n",
       "                        <td id=\"T_11e78588_87ae_11eb_8975_b42e991e0817row5_col4\" class=\"data row5 col4\" >0.6655</td>\n",
       "                        <td id=\"T_11e78588_87ae_11eb_8975_b42e991e0817row5_col5\" class=\"data row5 col5\" >0.5428</td>\n",
       "                        <td id=\"T_11e78588_87ae_11eb_8975_b42e991e0817row5_col6\" class=\"data row5 col6\" >0.5546</td>\n",
       "            </tr>\n",
       "            <tr>\n",
       "                        <th id=\"T_11e78588_87ae_11eb_8975_b42e991e0817level0_row6\" class=\"row_heading level0 row6\" >SD</th>\n",
       "                        <td id=\"T_11e78588_87ae_11eb_8975_b42e991e0817row6_col0\" class=\"data row6 col0\" >0.0094</td>\n",
       "                        <td id=\"T_11e78588_87ae_11eb_8975_b42e991e0817row6_col1\" class=\"data row6 col1\" >0.0220</td>\n",
       "                        <td id=\"T_11e78588_87ae_11eb_8975_b42e991e0817row6_col2\" class=\"data row6 col2\" >0.0203</td>\n",
       "                        <td id=\"T_11e78588_87ae_11eb_8975_b42e991e0817row6_col3\" class=\"data row6 col3\" >0.0260</td>\n",
       "                        <td id=\"T_11e78588_87ae_11eb_8975_b42e991e0817row6_col4\" class=\"data row6 col4\" >0.0171</td>\n",
       "                        <td id=\"T_11e78588_87ae_11eb_8975_b42e991e0817row6_col5\" class=\"data row6 col5\" >0.0231</td>\n",
       "                        <td id=\"T_11e78588_87ae_11eb_8975_b42e991e0817row6_col6\" class=\"data row6 col6\" >0.0239</td>\n",
       "            </tr>\n",
       "    </tbody></table>"
      ],
      "text/plain": [
       "<pandas.io.formats.style.Styler at 0x263be687ca0>"
      ]
     },
     "metadata": {},
     "output_type": "display_data"
    }
   ],
   "source": [
    "cb = create_model('catboost', fold = 5)"
   ]
  },
  {
   "cell_type": "code",
   "execution_count": 23,
   "metadata": {},
   "outputs": [
    {
     "data": {
      "text/html": [
       "<style  type=\"text/css\" >\n",
       "#T_cdd049d4_87ae_11eb_94cd_b42e991e0817row10_col0,#T_cdd049d4_87ae_11eb_94cd_b42e991e0817row10_col1,#T_cdd049d4_87ae_11eb_94cd_b42e991e0817row10_col2,#T_cdd049d4_87ae_11eb_94cd_b42e991e0817row10_col3,#T_cdd049d4_87ae_11eb_94cd_b42e991e0817row10_col4,#T_cdd049d4_87ae_11eb_94cd_b42e991e0817row10_col5,#T_cdd049d4_87ae_11eb_94cd_b42e991e0817row10_col6{\n",
       "            background:  yellow;\n",
       "        }</style><table id=\"T_cdd049d4_87ae_11eb_94cd_b42e991e0817\" ><thead>    <tr>        <th class=\"blank level0\" ></th>        <th class=\"col_heading level0 col0\" >Accuracy</th>        <th class=\"col_heading level0 col1\" >AUC</th>        <th class=\"col_heading level0 col2\" >Recall</th>        <th class=\"col_heading level0 col3\" >Prec.</th>        <th class=\"col_heading level0 col4\" >F1</th>        <th class=\"col_heading level0 col5\" >Kappa</th>        <th class=\"col_heading level0 col6\" >MCC</th>    </tr></thead><tbody>\n",
       "                <tr>\n",
       "                        <th id=\"T_cdd049d4_87ae_11eb_94cd_b42e991e0817level0_row0\" class=\"row_heading level0 row0\" >0</th>\n",
       "                        <td id=\"T_cdd049d4_87ae_11eb_94cd_b42e991e0817row0_col0\" class=\"data row0 col0\" >0.7778</td>\n",
       "                        <td id=\"T_cdd049d4_87ae_11eb_94cd_b42e991e0817row0_col1\" class=\"data row0 col1\" >0.7640</td>\n",
       "                        <td id=\"T_cdd049d4_87ae_11eb_94cd_b42e991e0817row0_col2\" class=\"data row0 col2\" >0.4648</td>\n",
       "                        <td id=\"T_cdd049d4_87ae_11eb_94cd_b42e991e0817row0_col3\" class=\"data row0 col3\" >0.7333</td>\n",
       "                        <td id=\"T_cdd049d4_87ae_11eb_94cd_b42e991e0817row0_col4\" class=\"data row0 col4\" >0.5690</td>\n",
       "                        <td id=\"T_cdd049d4_87ae_11eb_94cd_b42e991e0817row0_col5\" class=\"data row0 col5\" >0.4292</td>\n",
       "                        <td id=\"T_cdd049d4_87ae_11eb_94cd_b42e991e0817row0_col6\" class=\"data row0 col6\" >0.4495</td>\n",
       "            </tr>\n",
       "            <tr>\n",
       "                        <th id=\"T_cdd049d4_87ae_11eb_94cd_b42e991e0817level0_row1\" class=\"row_heading level0 row1\" >1</th>\n",
       "                        <td id=\"T_cdd049d4_87ae_11eb_94cd_b42e991e0817row1_col0\" class=\"data row1 col0\" >0.7956</td>\n",
       "                        <td id=\"T_cdd049d4_87ae_11eb_94cd_b42e991e0817row1_col1\" class=\"data row1 col1\" >0.8315</td>\n",
       "                        <td id=\"T_cdd049d4_87ae_11eb_94cd_b42e991e0817row1_col2\" class=\"data row1 col2\" >0.5634</td>\n",
       "                        <td id=\"T_cdd049d4_87ae_11eb_94cd_b42e991e0817row1_col3\" class=\"data row1 col3\" >0.7273</td>\n",
       "                        <td id=\"T_cdd049d4_87ae_11eb_94cd_b42e991e0817row1_col4\" class=\"data row1 col4\" >0.6349</td>\n",
       "                        <td id=\"T_cdd049d4_87ae_11eb_94cd_b42e991e0817row1_col5\" class=\"data row1 col5\" >0.4961</td>\n",
       "                        <td id=\"T_cdd049d4_87ae_11eb_94cd_b42e991e0817row1_col6\" class=\"data row1 col6\" >0.5039</td>\n",
       "            </tr>\n",
       "            <tr>\n",
       "                        <th id=\"T_cdd049d4_87ae_11eb_94cd_b42e991e0817level0_row2\" class=\"row_heading level0 row2\" >2</th>\n",
       "                        <td id=\"T_cdd049d4_87ae_11eb_94cd_b42e991e0817row2_col0\" class=\"data row2 col0\" >0.8267</td>\n",
       "                        <td id=\"T_cdd049d4_87ae_11eb_94cd_b42e991e0817row2_col1\" class=\"data row2 col1\" >0.8856</td>\n",
       "                        <td id=\"T_cdd049d4_87ae_11eb_94cd_b42e991e0817row2_col2\" class=\"data row2 col2\" >0.6479</td>\n",
       "                        <td id=\"T_cdd049d4_87ae_11eb_94cd_b42e991e0817row2_col3\" class=\"data row2 col3\" >0.7667</td>\n",
       "                        <td id=\"T_cdd049d4_87ae_11eb_94cd_b42e991e0817row2_col4\" class=\"data row2 col4\" >0.7023</td>\n",
       "                        <td id=\"T_cdd049d4_87ae_11eb_94cd_b42e991e0817row2_col5\" class=\"data row2 col5\" >0.5812</td>\n",
       "                        <td id=\"T_cdd049d4_87ae_11eb_94cd_b42e991e0817row2_col6\" class=\"data row2 col6\" >0.5853</td>\n",
       "            </tr>\n",
       "            <tr>\n",
       "                        <th id=\"T_cdd049d4_87ae_11eb_94cd_b42e991e0817level0_row3\" class=\"row_heading level0 row3\" >3</th>\n",
       "                        <td id=\"T_cdd049d4_87ae_11eb_94cd_b42e991e0817row3_col0\" class=\"data row3 col0\" >0.7956</td>\n",
       "                        <td id=\"T_cdd049d4_87ae_11eb_94cd_b42e991e0817row3_col1\" class=\"data row3 col1\" >0.8156</td>\n",
       "                        <td id=\"T_cdd049d4_87ae_11eb_94cd_b42e991e0817row3_col2\" class=\"data row3 col2\" >0.5352</td>\n",
       "                        <td id=\"T_cdd049d4_87ae_11eb_94cd_b42e991e0817row3_col3\" class=\"data row3 col3\" >0.7451</td>\n",
       "                        <td id=\"T_cdd049d4_87ae_11eb_94cd_b42e991e0817row3_col4\" class=\"data row3 col4\" >0.6230</td>\n",
       "                        <td id=\"T_cdd049d4_87ae_11eb_94cd_b42e991e0817row3_col5\" class=\"data row3 col5\" >0.4878</td>\n",
       "                        <td id=\"T_cdd049d4_87ae_11eb_94cd_b42e991e0817row3_col6\" class=\"data row3 col6\" >0.5004</td>\n",
       "            </tr>\n",
       "            <tr>\n",
       "                        <th id=\"T_cdd049d4_87ae_11eb_94cd_b42e991e0817level0_row4\" class=\"row_heading level0 row4\" >4</th>\n",
       "                        <td id=\"T_cdd049d4_87ae_11eb_94cd_b42e991e0817row4_col0\" class=\"data row4 col0\" >0.8089</td>\n",
       "                        <td id=\"T_cdd049d4_87ae_11eb_94cd_b42e991e0817row4_col1\" class=\"data row4 col1\" >0.8185</td>\n",
       "                        <td id=\"T_cdd049d4_87ae_11eb_94cd_b42e991e0817row4_col2\" class=\"data row4 col2\" >0.5915</td>\n",
       "                        <td id=\"T_cdd049d4_87ae_11eb_94cd_b42e991e0817row4_col3\" class=\"data row4 col3\" >0.7500</td>\n",
       "                        <td id=\"T_cdd049d4_87ae_11eb_94cd_b42e991e0817row4_col4\" class=\"data row4 col4\" >0.6614</td>\n",
       "                        <td id=\"T_cdd049d4_87ae_11eb_94cd_b42e991e0817row4_col5\" class=\"data row4 col5\" >0.5309</td>\n",
       "                        <td id=\"T_cdd049d4_87ae_11eb_94cd_b42e991e0817row4_col6\" class=\"data row4 col6\" >0.5381</td>\n",
       "            </tr>\n",
       "            <tr>\n",
       "                        <th id=\"T_cdd049d4_87ae_11eb_94cd_b42e991e0817level0_row5\" class=\"row_heading level0 row5\" >5</th>\n",
       "                        <td id=\"T_cdd049d4_87ae_11eb_94cd_b42e991e0817row5_col0\" class=\"data row5 col0\" >0.8133</td>\n",
       "                        <td id=\"T_cdd049d4_87ae_11eb_94cd_b42e991e0817row5_col1\" class=\"data row5 col1\" >0.8092</td>\n",
       "                        <td id=\"T_cdd049d4_87ae_11eb_94cd_b42e991e0817row5_col2\" class=\"data row5 col2\" >0.5211</td>\n",
       "                        <td id=\"T_cdd049d4_87ae_11eb_94cd_b42e991e0817row5_col3\" class=\"data row5 col3\" >0.8222</td>\n",
       "                        <td id=\"T_cdd049d4_87ae_11eb_94cd_b42e991e0817row5_col4\" class=\"data row5 col4\" >0.6379</td>\n",
       "                        <td id=\"T_cdd049d4_87ae_11eb_94cd_b42e991e0817row5_col5\" class=\"data row5 col5\" >0.5205</td>\n",
       "                        <td id=\"T_cdd049d4_87ae_11eb_94cd_b42e991e0817row5_col6\" class=\"data row5 col6\" >0.5451</td>\n",
       "            </tr>\n",
       "            <tr>\n",
       "                        <th id=\"T_cdd049d4_87ae_11eb_94cd_b42e991e0817level0_row6\" class=\"row_heading level0 row6\" >6</th>\n",
       "                        <td id=\"T_cdd049d4_87ae_11eb_94cd_b42e991e0817row6_col0\" class=\"data row6 col0\" >0.8267</td>\n",
       "                        <td id=\"T_cdd049d4_87ae_11eb_94cd_b42e991e0817row6_col1\" class=\"data row6 col1\" >0.8464</td>\n",
       "                        <td id=\"T_cdd049d4_87ae_11eb_94cd_b42e991e0817row6_col2\" class=\"data row6 col2\" >0.5915</td>\n",
       "                        <td id=\"T_cdd049d4_87ae_11eb_94cd_b42e991e0817row6_col3\" class=\"data row6 col3\" >0.8077</td>\n",
       "                        <td id=\"T_cdd049d4_87ae_11eb_94cd_b42e991e0817row6_col4\" class=\"data row6 col4\" >0.6829</td>\n",
       "                        <td id=\"T_cdd049d4_87ae_11eb_94cd_b42e991e0817row6_col5\" class=\"data row6 col5\" >0.5675</td>\n",
       "                        <td id=\"T_cdd049d4_87ae_11eb_94cd_b42e991e0817row6_col6\" class=\"data row6 col6\" >0.5806</td>\n",
       "            </tr>\n",
       "            <tr>\n",
       "                        <th id=\"T_cdd049d4_87ae_11eb_94cd_b42e991e0817level0_row7\" class=\"row_heading level0 row7\" >7</th>\n",
       "                        <td id=\"T_cdd049d4_87ae_11eb_94cd_b42e991e0817row7_col0\" class=\"data row7 col0\" >0.8400</td>\n",
       "                        <td id=\"T_cdd049d4_87ae_11eb_94cd_b42e991e0817row7_col1\" class=\"data row7 col1\" >0.8282</td>\n",
       "                        <td id=\"T_cdd049d4_87ae_11eb_94cd_b42e991e0817row7_col2\" class=\"data row7 col2\" >0.5493</td>\n",
       "                        <td id=\"T_cdd049d4_87ae_11eb_94cd_b42e991e0817row7_col3\" class=\"data row7 col3\" >0.9070</td>\n",
       "                        <td id=\"T_cdd049d4_87ae_11eb_94cd_b42e991e0817row7_col4\" class=\"data row7 col4\" >0.6842</td>\n",
       "                        <td id=\"T_cdd049d4_87ae_11eb_94cd_b42e991e0817row7_col5\" class=\"data row7 col5\" >0.5856</td>\n",
       "                        <td id=\"T_cdd049d4_87ae_11eb_94cd_b42e991e0817row7_col6\" class=\"data row7 col6\" >0.6186</td>\n",
       "            </tr>\n",
       "            <tr>\n",
       "                        <th id=\"T_cdd049d4_87ae_11eb_94cd_b42e991e0817level0_row8\" class=\"row_heading level0 row8\" >8</th>\n",
       "                        <td id=\"T_cdd049d4_87ae_11eb_94cd_b42e991e0817row8_col0\" class=\"data row8 col0\" >0.8489</td>\n",
       "                        <td id=\"T_cdd049d4_87ae_11eb_94cd_b42e991e0817row8_col1\" class=\"data row8 col1\" >0.8721</td>\n",
       "                        <td id=\"T_cdd049d4_87ae_11eb_94cd_b42e991e0817row8_col2\" class=\"data row8 col2\" >0.6338</td>\n",
       "                        <td id=\"T_cdd049d4_87ae_11eb_94cd_b42e991e0817row8_col3\" class=\"data row8 col3\" >0.8491</td>\n",
       "                        <td id=\"T_cdd049d4_87ae_11eb_94cd_b42e991e0817row8_col4\" class=\"data row8 col4\" >0.7258</td>\n",
       "                        <td id=\"T_cdd049d4_87ae_11eb_94cd_b42e991e0817row8_col5\" class=\"data row8 col5\" >0.6245</td>\n",
       "                        <td id=\"T_cdd049d4_87ae_11eb_94cd_b42e991e0817row8_col6\" class=\"data row8 col6\" >0.6372</td>\n",
       "            </tr>\n",
       "            <tr>\n",
       "                        <th id=\"T_cdd049d4_87ae_11eb_94cd_b42e991e0817level0_row9\" class=\"row_heading level0 row9\" >9</th>\n",
       "                        <td id=\"T_cdd049d4_87ae_11eb_94cd_b42e991e0817row9_col0\" class=\"data row9 col0\" >0.8348</td>\n",
       "                        <td id=\"T_cdd049d4_87ae_11eb_94cd_b42e991e0817row9_col1\" class=\"data row9 col1\" >0.8530</td>\n",
       "                        <td id=\"T_cdd049d4_87ae_11eb_94cd_b42e991e0817row9_col2\" class=\"data row9 col2\" >0.6286</td>\n",
       "                        <td id=\"T_cdd049d4_87ae_11eb_94cd_b42e991e0817row9_col3\" class=\"data row9 col3\" >0.8000</td>\n",
       "                        <td id=\"T_cdd049d4_87ae_11eb_94cd_b42e991e0817row9_col4\" class=\"data row9 col4\" >0.7040</td>\n",
       "                        <td id=\"T_cdd049d4_87ae_11eb_94cd_b42e991e0817row9_col5\" class=\"data row9 col5\" >0.5917</td>\n",
       "                        <td id=\"T_cdd049d4_87ae_11eb_94cd_b42e991e0817row9_col6\" class=\"data row9 col6\" >0.6000</td>\n",
       "            </tr>\n",
       "            <tr>\n",
       "                        <th id=\"T_cdd049d4_87ae_11eb_94cd_b42e991e0817level0_row10\" class=\"row_heading level0 row10\" >Mean</th>\n",
       "                        <td id=\"T_cdd049d4_87ae_11eb_94cd_b42e991e0817row10_col0\" class=\"data row10 col0\" >0.8168</td>\n",
       "                        <td id=\"T_cdd049d4_87ae_11eb_94cd_b42e991e0817row10_col1\" class=\"data row10 col1\" >0.8324</td>\n",
       "                        <td id=\"T_cdd049d4_87ae_11eb_94cd_b42e991e0817row10_col2\" class=\"data row10 col2\" >0.5727</td>\n",
       "                        <td id=\"T_cdd049d4_87ae_11eb_94cd_b42e991e0817row10_col3\" class=\"data row10 col3\" >0.7908</td>\n",
       "                        <td id=\"T_cdd049d4_87ae_11eb_94cd_b42e991e0817row10_col4\" class=\"data row10 col4\" >0.6625</td>\n",
       "                        <td id=\"T_cdd049d4_87ae_11eb_94cd_b42e991e0817row10_col5\" class=\"data row10 col5\" >0.5415</td>\n",
       "                        <td id=\"T_cdd049d4_87ae_11eb_94cd_b42e991e0817row10_col6\" class=\"data row10 col6\" >0.5559</td>\n",
       "            </tr>\n",
       "            <tr>\n",
       "                        <th id=\"T_cdd049d4_87ae_11eb_94cd_b42e991e0817level0_row11\" class=\"row_heading level0 row11\" >SD</th>\n",
       "                        <td id=\"T_cdd049d4_87ae_11eb_94cd_b42e991e0817row11_col0\" class=\"data row11 col0\" >0.0214</td>\n",
       "                        <td id=\"T_cdd049d4_87ae_11eb_94cd_b42e991e0817row11_col1\" class=\"data row11 col1\" >0.0328</td>\n",
       "                        <td id=\"T_cdd049d4_87ae_11eb_94cd_b42e991e0817row11_col2\" class=\"data row11 col2\" >0.0544</td>\n",
       "                        <td id=\"T_cdd049d4_87ae_11eb_94cd_b42e991e0817row11_col3\" class=\"data row11 col3\" >0.0547</td>\n",
       "                        <td id=\"T_cdd049d4_87ae_11eb_94cd_b42e991e0817row11_col4\" class=\"data row11 col4\" >0.0446</td>\n",
       "                        <td id=\"T_cdd049d4_87ae_11eb_94cd_b42e991e0817row11_col5\" class=\"data row11 col5\" >0.0563</td>\n",
       "                        <td id=\"T_cdd049d4_87ae_11eb_94cd_b42e991e0817row11_col6\" class=\"data row11 col6\" >0.0561</td>\n",
       "            </tr>\n",
       "    </tbody></table>"
      ],
      "text/plain": [
       "<pandas.io.formats.style.Styler at 0x263be678ca0>"
      ]
     },
     "metadata": {},
     "output_type": "display_data"
    }
   ],
   "source": [
    "tuned_cb = tune_model(cb)"
   ]
  },
  {
   "cell_type": "code",
   "execution_count": 24,
   "metadata": {},
   "outputs": [
    {
     "data": {
      "image/png": "[encoded data removed]",
      "text/plain": [
       "<Figure size 576x396 with 1 Axes>"
      ]
     },
     "metadata": {},
     "output_type": "display_data"
    }
   ],
   "source": [
    "plot_model(cb)"
   ]
  },
  {
   "cell_type": "code",
   "execution_count": 25,
   "metadata": {},
   "outputs": [
    {
     "data": {
      "text/html": [
       "<style  type=\"text/css\" >\n",
       "</style><table id=\"T_9245f6bc_87af_11eb_9126_b42e991e0817\" ><thead>    <tr>        <th class=\"blank level0\" ></th>        <th class=\"col_heading level0 col0\" >Model</th>        <th class=\"col_heading level0 col1\" >Accuracy</th>        <th class=\"col_heading level0 col2\" >AUC</th>        <th class=\"col_heading level0 col3\" >Recall</th>        <th class=\"col_heading level0 col4\" >Prec.</th>        <th class=\"col_heading level0 col5\" >F1</th>        <th class=\"col_heading level0 col6\" >Kappa</th>        <th class=\"col_heading level0 col7\" >MCC</th>    </tr></thead><tbody>\n",
       "                <tr>\n",
       "                        <th id=\"T_9245f6bc_87af_11eb_9126_b42e991e0817level0_row0\" class=\"row_heading level0 row0\" >0</th>\n",
       "                        <td id=\"T_9245f6bc_87af_11eb_9126_b42e991e0817row0_col0\" class=\"data row0 col0\" >CatBoost Classifier</td>\n",
       "                        <td id=\"T_9245f6bc_87af_11eb_9126_b42e991e0817row0_col1\" class=\"data row0 col1\" >0.8041</td>\n",
       "                        <td id=\"T_9245f6bc_87af_11eb_9126_b42e991e0817row0_col2\" class=\"data row0 col2\" >0.7976</td>\n",
       "                        <td id=\"T_9245f6bc_87af_11eb_9126_b42e991e0817row0_col3\" class=\"data row0 col3\" >0.4964</td>\n",
       "                        <td id=\"T_9245f6bc_87af_11eb_9126_b42e991e0817row0_col4\" class=\"data row0 col4\" >0.7326</td>\n",
       "                        <td id=\"T_9245f6bc_87af_11eb_9126_b42e991e0817row0_col5\" class=\"data row0 col5\" >0.5918</td>\n",
       "                        <td id=\"T_9245f6bc_87af_11eb_9126_b42e991e0817row0_col6\" class=\"data row0 col6\" >0.4691</td>\n",
       "                        <td id=\"T_9245f6bc_87af_11eb_9126_b42e991e0817row0_col7\" class=\"data row0 col7\" >0.4845</td>\n",
       "            </tr>\n",
       "    </tbody></table>"
      ],
      "text/plain": [
       "<pandas.io.formats.style.Styler at 0x263ba344610>"
      ]
     },
     "metadata": {},
     "output_type": "display_data"
    }
   ],
   "source": [
    "pred_holdout = predict_model(cb)"
   ]
  },
  {
   "cell_type": "markdown",
   "metadata": {},
   "source": [
    "### Дерево решений"
   ]
  },
  {
   "cell_type": "code",
   "execution_count": 8,
   "metadata": {},
   "outputs": [
    {
     "name": "stdout",
     "output_type": "stream",
     "text": [
      "Accuracy наилучшей модели на валидационной выборке: 0.7853810264385692 при глубине: 3\n"
     ]
    }
   ],
   "source": [
    "best_model = None\n",
    "best_result = 0\n",
    "for depth in range(1, 31):\n",
    "    model = DecisionTreeClassifier(random_state=12345, max_depth = depth) # обучите модель с заданной глубиной дерева\n",
    "    model.fit(features_train, target_train) # обучите модель\n",
    "    predictions_valid = model.predict(features_valid) # получите предсказания модели\n",
    "    result = accuracy_score(target_valid, predictions_valid) # посчитайте качество модели\n",
    "    #print(\"max_depth:\", depth, \"|\", \"Accuracy:\", result)\n",
    "    if result > best_result:\n",
    "        best_model = model\n",
    "        best_result = result\n",
    "#print()\n",
    "print(\"Accuracy наилучшей модели на валидационной выборке: \", best_result, \" \", \"при глубине: \", 3, sep = '')"
   ]
  },
  {
   "cell_type": "markdown",
   "metadata": {},
   "source": [
    "*Известно, что нужно довести долю правильных ответов по крайней мере до 0.75. 0.785 как раз попадает в промежуток, хоть почти и впритык. Идем дальше*"
   ]
  },
  {
   "cell_type": "markdown",
   "metadata": {},
   "source": [
    "### Случайный лес"
   ]
  },
  {
   "cell_type": "code",
   "execution_count": 9,
   "metadata": {},
   "outputs": [
    {
     "name": "stdout",
     "output_type": "stream",
     "text": [
      "Accuracy наилучшей модели на валидационной выборке: 0.80248833592535 при глубине: 7 и кол-ву деревьев: 30\n"
     ]
    }
   ],
   "source": [
    "best_model = None\n",
    "best_result = 0\n",
    "best_depth = 0\n",
    "best_est = 0\n",
    "\n",
    "for est in range(10, 101, 10):\n",
    "    for depth in range (1, 8):\n",
    "        model = RandomForestClassifier(random_state=12345, max_depth = depth, n_estimators=est) # обучите модель с заданным количеством деревьев\n",
    "        model.fit(features_train, target_train) # обучите модель на тренировочной выборке\n",
    "        predictions_valid = model.predict(features_valid)\n",
    "        result = accuracy_score(target_valid, predictions_valid) # посчитайте качество модели на валидационной выборке\n",
    "        if result > best_result:\n",
    "            best_model = model # сохраните наилучшую модель\n",
    "            best_result = result #  сохраните наилучшее значение метрики accuracy на валидационных данных\n",
    "            best_depth = depth\n",
    "            best_est = est\n",
    "\n",
    "print(\"Accuracy наилучшей модели на валидационной выборке:\", best_result, \"при глубине:\", best_depth, \"и кол-ву деревьев:\", best_est)\n",
    "valid_prov = best_result"
   ]
  },
  {
   "cell_type": "markdown",
   "metadata": {},
   "source": [
    "*Случайный лес показал результат немного получше, чем дерево решений, но не ушел прям далеко*"
   ]
  },
  {
   "cell_type": "markdown",
   "metadata": {},
   "source": [
    "### Логистическая регрессия"
   ]
  },
  {
   "cell_type": "markdown",
   "metadata": {},
   "source": [
    "*Тут я получил предупреждение касательно гиперпараметра solver, поэтому решил перебрать существующие условия*"
   ]
  },
  {
   "cell_type": "code",
   "execution_count": 10,
   "metadata": {},
   "outputs": [
    {
     "name": "stdout",
     "output_type": "stream",
     "text": [
      "Accuracy модели логистической регрессии на валидационной выборке: 0.7589424572317263 при solver: liblinear\n"
     ]
    }
   ],
   "source": [
    "solvers = ['newton-cg', 'lbfgs', 'liblinear'] #sag и saga я убрал, так как они показывали малый результат\n",
    "\n",
    "best_model = None\n",
    "best_result = 0\n",
    "best_solver = None\n",
    "\n",
    "for solver in solvers:\n",
    "    model = LogisticRegression(solver = solver, random_state=12345) # инициализируйте модель логистической регрессии\n",
    "    model.fit(features_train, target_train)# обучите модель на тренировочной выборке\n",
    "    predictions_valid = model.predict(features_valid)\n",
    "    result = accuracy_score(target_valid, predictions_valid) # получите метрику качества модели на валидационной выборке\n",
    "    if result > best_result:\n",
    "        best_model = model # сохраните наилучшую модель\n",
    "        best_result = result #  сохраните наилучшее значение метрики accuracy на валидационных данных\n",
    "        best_solver = solver\n",
    "\n",
    "print(\"Accuracy модели логистической регрессии на валидационной выборке:\", result, \"при solver:\", best_solver)"
   ]
  },
  {
   "cell_type": "markdown",
   "metadata": {},
   "source": [
    "### *Видим, что лучший результат показал solver со значением 'liblinear'. Значения выше, чем у дерева решений, но меньше, чем случайный лес.*"
   ]
  },
  {
   "cell_type": "markdown",
   "metadata": {},
   "source": [
    "### Вывод"
   ]
  },
  {
   "cell_type": "markdown",
   "metadata": {},
   "source": [
    "*Из результатов выше можно понять, что лучшие результаты у случаного леса, но при этом он самый долгий из-за кол-во деревьев и выбранной глубины. В дальнейшем будем использовать модель случайного леса*"
   ]
  },
  {
   "cell_type": "markdown",
   "metadata": {},
   "source": [
    "## 4. Проверьте модель на тестовой выборке"
   ]
  },
  {
   "cell_type": "code",
   "execution_count": 11,
   "metadata": {},
   "outputs": [
    {
     "name": "stdout",
     "output_type": "stream",
     "text": [
      "Accuracy по тестовой выборке: 0.8040435458786936\n",
      "Accuracy по валидационной выборке: 0.80248833592535\n"
     ]
    }
   ],
   "source": [
    "features_test = df_test.drop(['is_ultra'], axis = 1)\n",
    "target_test = df_test['is_ultra']\n",
    "\n",
    "model = RandomForestClassifier(n_estimators = 30, max_depth = 7, random_state = 12345)\n",
    "model.fit(features_train, target_train)\n",
    "\n",
    "predictions_test = model.predict(features_test)\n",
    "print(\"Accuracy по тестовой выборке: \", end = '')\n",
    "print(accuracy_score(target_test, predictions_test))\n",
    "print(\"Accuracy по валидационной выборке: \", end = '')\n",
    "print(valid_prov)"
   ]
  },
  {
   "cell_type": "markdown",
   "metadata": {},
   "source": [
    "### Вывод"
   ]
  },
  {
   "cell_type": "markdown",
   "metadata": {},
   "source": [
    "*На тестовой выборке модель случайного леса показывает приблизительное к тренировочной выборке значение accuracy. Можем считать, что нам удалось построить модель для задачи бинарной классификации, которая выберет подходящий тариф.*"
   ]
  },
  {
   "cell_type": "markdown",
   "metadata": {},
   "source": [
    "## 5. (бонус) Проверьте модели на адекватность"
   ]
  },
  {
   "cell_type": "code",
   "execution_count": 12,
   "metadata": {},
   "outputs": [
    {
     "name": "stdout",
     "output_type": "stream",
     "text": [
      "Доля большего класса: 0.693528313627878\n",
      "\n",
      "0.6842923794712286\n"
     ]
    }
   ],
   "source": [
    "#Доля большего класса\n",
    "print(\"Доля большего класса:\", len(users_behavior.query('is_ultra == 0')) / len(users_behavior))\n",
    "print()\n",
    "\n",
    "model = DummyClassifier(strategy=\"most_frequent\", random_state = 12345)\n",
    "model.fit(features_train, target_train)\n",
    "predictions_test = model.predict(features_test)\n",
    "print(accuracy_score(target_test, predictions_test))"
   ]
  },
  {
   "cell_type": "markdown",
   "metadata": {},
   "source": [
    "## Чек-лист готовности проекта"
   ]
  },
  {
   "cell_type": "markdown",
   "metadata": {},
   "source": [
    "Поставьте 'x' в выполненных пунктах. Далее нажмите Shift+Enter."
   ]
  },
  {
   "cell_type": "markdown",
   "metadata": {},
   "source": [
    "- [x] Jupyter Notebook открыт\n",
    "- [ ] Весь код исполняется без ошибок\n",
    "- [ ] Ячейки с кодом расположены в порядке исполнения\n",
    "- [ ] Выполнено задание 1: данные загружены и изучены\n",
    "- [ ] Выполнено задание 2: данные разбиты на три выборки\n",
    "- [ ] Выполнено задание 3: проведено исследование моделей\n",
    "    - [ ] Рассмотрено больше одной модели\n",
    "    - [ ] Рассмотрено хотя бы 3 значения гипепараметров для какой-нибудь модели\n",
    "    - [ ] Написаны выводы по результатам исследования\n",
    "- [ ] Выполнено задание 3: Проведено тестирование\n",
    "- [ ] Удалось достичь accuracy не меньше 0.75\n"
   ]
  }
 ],
 "metadata": {
  "kernelspec": {
   "display_name": "Python 3",
   "language": "python",
   "name": "python3"
  },
  "language_info": {
   "codemirror_mode": {
    "name": "ipython",
    "version": 3
   },
   "file_extension": ".py",
   "mimetype": "text/x-python",
   "name": "python",
   "nbconvert_exporter": "python",
   "pygments_lexer": "ipython3",
   "version": "3.8.6"
  }
 },
 "nbformat": 4,
 "nbformat_minor": 2
}
