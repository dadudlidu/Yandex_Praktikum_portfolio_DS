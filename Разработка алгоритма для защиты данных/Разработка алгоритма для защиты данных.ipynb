{
 "cells": [
  {
   "cell_type": "markdown",
   "metadata": {},
   "source": [
    "Вам нужно защитить данные клиентов страховой компании «Хоть потоп». Разработайте такой метод преобразования данных, чтобы по ним было сложно восстановить персональную информацию. Обоснуйте корректность его работы.\n",
    "\n",
    "Нужно защитить данные, чтобы при преобразовании качество моделей машинного обучения не ухудшилось. Подбирать наилучшую модель не требуется."
   ]
  },
  {
   "cell_type": "markdown",
   "metadata": {},
   "source": [
    "## Инструкция по выполнению проекта\n",
    "1. Загрузите и изучите данные.\n",
    "2. Ответьте на вопрос и обоснуйте решение.\n",
    "- Признаки умножают на обратимую матрицу. Изменится ли качество линейной регрессии? (Её можно обучить заново.)\n",
    "    - 1. Изменится. Приведите примеры матриц.\n",
    "    - 2. Не изменится. Укажите, как связаны параметры линейной регрессии в исходной задаче и в преобразованной.\n",
    "3. Предложите алгоритм преобразования данных для решения задачи. Обоснуйте, почему качество линейной регрессии не поменяется.\n",
    "4. Запрограммируйте этот алгоритм, применив матричные операции. Проверьте, что качество линейной регрессии из sklearn не отличается до и после преобразования. Примените метрику R2."
   ]
  },
  {
   "cell_type": "markdown",
   "metadata": {},
   "source": [
    "## 1. Загрузка данных"
   ]
  },
  {
   "cell_type": "code",
   "execution_count": 1,
   "metadata": {},
   "outputs": [],
   "source": [
    "import pandas as pd\n",
    "import numpy as np\n",
    "import matplotlib.pyplot as plt\n",
    "\n",
    "from sklearn.linear_model import LinearRegression as lr\n",
    "from sklearn.model_selection import train_test_split\n",
    "\n",
    "from sklearn.metrics import r2_score, mean_squared_error"
   ]
  },
  {
   "cell_type": "code",
   "execution_count": 2,
   "metadata": {},
   "outputs": [
    {
     "name": "stdout",
     "output_type": "stream",
     "text": [
      "<class 'pandas.core.frame.DataFrame'>\n",
      "RangeIndex: 5000 entries, 0 to 4999\n",
      "Data columns (total 5 columns):\n",
      " #   Column             Non-Null Count  Dtype  \n",
      "---  ------             --------------  -----  \n",
      " 0   Пол                5000 non-null   int64  \n",
      " 1   Возраст            5000 non-null   float64\n",
      " 2   Зарплата           5000 non-null   float64\n",
      " 3   Члены семьи        5000 non-null   int64  \n",
      " 4   Страховые выплаты  5000 non-null   int64  \n",
      "dtypes: float64(2), int64(3)\n",
      "memory usage: 195.4 KB\n"
     ]
    }
   ],
   "source": [
    "insurance = pd.read_csv('/datasets/insurance.csv')\n",
    "insurance.info()"
   ]
  },
  {
   "cell_type": "markdown",
   "metadata": {},
   "source": [
    "*Пропусков нет*"
   ]
  },
  {
   "cell_type": "code",
   "execution_count": 3,
   "metadata": {},
   "outputs": [
    {
     "data": {
      "text/html": [
       "<div>\n",
       "<style scoped>\n",
       "    .dataframe tbody tr th:only-of-type {\n",
       "        vertical-align: middle;\n",
       "    }\n",
       "\n",
       "    .dataframe tbody tr th {\n",
       "        vertical-align: top;\n",
       "    }\n",
       "\n",
       "    .dataframe thead th {\n",
       "        text-align: right;\n",
       "    }\n",
       "</style>\n",
       "<table border=\"1\" class=\"dataframe\">\n",
       "  <thead>\n",
       "    <tr style=\"text-align: right;\">\n",
       "      <th></th>\n",
       "      <th>Пол</th>\n",
       "      <th>Возраст</th>\n",
       "      <th>Зарплата</th>\n",
       "      <th>Члены семьи</th>\n",
       "      <th>Страховые выплаты</th>\n",
       "    </tr>\n",
       "  </thead>\n",
       "  <tbody>\n",
       "    <tr>\n",
       "      <th>0</th>\n",
       "      <td>1</td>\n",
       "      <td>41.0</td>\n",
       "      <td>49600.0</td>\n",
       "      <td>1</td>\n",
       "      <td>0</td>\n",
       "    </tr>\n",
       "    <tr>\n",
       "      <th>1</th>\n",
       "      <td>0</td>\n",
       "      <td>46.0</td>\n",
       "      <td>38000.0</td>\n",
       "      <td>1</td>\n",
       "      <td>1</td>\n",
       "    </tr>\n",
       "    <tr>\n",
       "      <th>2</th>\n",
       "      <td>0</td>\n",
       "      <td>29.0</td>\n",
       "      <td>21000.0</td>\n",
       "      <td>0</td>\n",
       "      <td>0</td>\n",
       "    </tr>\n",
       "    <tr>\n",
       "      <th>3</th>\n",
       "      <td>0</td>\n",
       "      <td>21.0</td>\n",
       "      <td>41700.0</td>\n",
       "      <td>2</td>\n",
       "      <td>0</td>\n",
       "    </tr>\n",
       "    <tr>\n",
       "      <th>4</th>\n",
       "      <td>1</td>\n",
       "      <td>28.0</td>\n",
       "      <td>26100.0</td>\n",
       "      <td>0</td>\n",
       "      <td>0</td>\n",
       "    </tr>\n",
       "  </tbody>\n",
       "</table>\n",
       "</div>"
      ],
      "text/plain": [
       "   Пол  Возраст  Зарплата  Члены семьи  Страховые выплаты\n",
       "0    1     41.0   49600.0            1                  0\n",
       "1    0     46.0   38000.0            1                  1\n",
       "2    0     29.0   21000.0            0                  0\n",
       "3    0     21.0   41700.0            2                  0\n",
       "4    1     28.0   26100.0            0                  0"
      ]
     },
     "metadata": {},
     "output_type": "display_data"
    }
   ],
   "source": [
    "display(insurance.head())"
   ]
  },
  {
   "cell_type": "code",
   "execution_count": 4,
   "metadata": {},
   "outputs": [
    {
     "name": "stdout",
     "output_type": "stream",
     "text": [
      "Кол-во дубликатов: 153\n"
     ]
    }
   ],
   "source": [
    "# Проверим на дубликаты\n",
    "print(f\"Кол-во дубликатов: {insurance.duplicated().sum()}\")"
   ]
  },
  {
   "cell_type": "code",
   "execution_count": 5,
   "metadata": {},
   "outputs": [],
   "source": [
    "# Удалим дубликаты\n",
    "insurance = insurance.drop_duplicates().reset_index(drop=True)"
   ]
  },
  {
   "cell_type": "markdown",
   "metadata": {},
   "source": [
    "## Вывод по 1 шагу\n",
    "\n",
    "Данные изучены, были выявлены дубликаты и после удалены"
   ]
  },
  {
   "cell_type": "markdown",
   "metadata": {},
   "source": [
    "## 2. Умножение матриц"
   ]
  },
  {
   "cell_type": "markdown",
   "metadata": {},
   "source": [
    "В этом задании вы можете записывать формулы в *Jupyter Notebook.*\n",
    "\n",
    "Чтобы записать формулу внутри текста, окружите её символами доллара \\\\$; если снаружи —  двойными символами \\\\$\\\\$. Эти формулы записываются на языке вёрстки *LaTeX.* \n",
    "\n",
    "Для примера мы записали формулы линейной регрессии. Можете их скопировать и отредактировать, чтобы решить задачу.\n",
    "\n",
    "Работать в *LaTeX* необязательно."
   ]
  },
  {
   "cell_type": "markdown",
   "metadata": {},
   "source": [
    "Обозначения:\n",
    "\n",
    "- $X$ — матрица признаков (нулевой столбец состоит из единиц)\n",
    "\n",
    "- $y$ — вектор целевого признака\n",
    "\n",
    "- $P$ — матрица, на которую умножаются признаки\n",
    "\n",
    "- $w$ — вектор весов линейной регрессии (нулевой элемент равен сдвигу)"
   ]
  },
  {
   "cell_type": "markdown",
   "metadata": {},
   "source": [
    "Предсказания:\n",
    "\n",
    "$$\n",
    "a = Xw\n",
    "$$\n",
    "\n",
    "Задача обучения:\n",
    "\n",
    "$$\n",
    "w = \\arg\\min_w MSE(Xw, y)\n",
    "$$\n",
    "\n",
    "Формула обучения:\n",
    "\n",
    "$$\n",
    "w = (X^T X)^{-1} X^T y\n",
    "$$"
   ]
  },
  {
   "cell_type": "markdown",
   "metadata": {},
   "source": [
    "**Ответ:** Не изменится\n",
    "\n",
    "**Обоснование:**\n",
    "\n",
    "*Для доказательства подставим вместо $X$ подставим $XZ$*:\n",
    "\n",
    "$$\n",
    "w_{new} = ((XZ)^TZX)^{-1}(XZ)^Ty\n",
    "$$\n",
    "\n",
    "подставим $w_{new}$ в $a_{new}$ и преобразуем:\n",
    "\n",
    "$a_{new} = XZ((XZ)^TZX)^{-1}(XZ)^Ty$\n",
    "\n",
    "$a_{new} = XZ(Z^TX^TXZ)^{-1}Z^TX^Ty$\n",
    "\n",
    "$a_{new} = XZ(X^TXZ)^{-1}Z^TX^Ty$\n",
    "\n",
    "$a_{new} = XZ(X^TXZ)^{-1}(Z^T)^{-1}Z^TX^Ty$\n",
    "\n",
    "$a_{new} = XZZ^{-1}(X^TX)^{-1}(Z^T)^{-1}Z^TX^Ty$\n",
    "\n",
    "$a_{new} = XE(X^TX)^{-1}EX^Ty$\n",
    "\n",
    "$a_{new} = X(X^TX)^{-1}X^Ty = Xw$"
   ]
  },
  {
   "cell_type": "markdown",
   "metadata": {},
   "source": [
    "**Рассуждение:**\n",
    "1. Раскрываем транспонирования по свойству: $(AB)^T = B^T A^T$\n",
    "2. Считаем $X^TX$ - квадратная обратимая марица, $Z$ - обратимая по опеределнию, то раскрываем скобки по свойству $(AB)^{-1} = B^{-1} A^{-1}$ 2 раза\n",
    "3. Используя ассоциативность умножения матриц и определение обратной матрицы получим ответ.\n",
    "\n",
    "Таким образом получаем что:\n",
    "$$\n",
    "a_{new} = a\n",
    "$$"
   ]
  },
  {
   "cell_type": "markdown",
   "metadata": {},
   "source": [
    "## 3. Алгоритм преобразования"
   ]
  },
  {
   "cell_type": "markdown",
   "metadata": {},
   "source": [
    "**Алгоритм**\n",
    "\n",
    "1. Создаём квадратную матрицу A из рандомных чисел с помощью np.random.randint(): её стороны равны количеству признаков датафрейма, подлежащего кодировке.\n",
    "2. Проверяем созданную матрицу на обратимость с помощью np.linalg.inv(). Если она обратима, получаем матрицу $A^{-1}$. Если нет, повторяем генерацию матрицы.\n",
    "3. Умножаем матрицу признаков на полученную квадратную матрицу и получаем закодированные данные.\n",
    "4. Для раскодирования используем умножение матрицы закодированных параметров на матрицу $A^{-1}$\n",
    "5. Проверяем качество раскодирования.\n",
    "6. Устраняем выявленные нарушения работы алгоритма."
   ]
  },
  {
   "cell_type": "markdown",
   "metadata": {},
   "source": [
    "**Обоснование**\n",
    "\n",
    "*Умножение матрицы на обратимую квадратную матрицу изменит данные датафрейма, что защитит данные клиента. Также в наших руках будет ключ к дешифровке этой информации - обратная матрица. Данный подход не должен ухудшить качество модели линейной регрессии.*"
   ]
  },
  {
   "cell_type": "markdown",
   "metadata": {},
   "source": [
    "## 4. Проверка алгоритма"
   ]
  },
  {
   "cell_type": "code",
   "execution_count": 6,
   "metadata": {},
   "outputs": [],
   "source": [
    "# Разделим на признаки и целевые признаки\n",
    "target = insurance['Страховые выплаты']\n",
    "features = insurance.drop(['Страховые выплаты'], axis=1)\n",
    "\n",
    "# Разделим обучающую и валидационную выборки\n",
    "features_train, features_valid, target_train, target_valid = train_test_split(\n",
    "    features, target, test_size=0.25, random_state=12345)\n",
    "\n",
    "# Преобразуем признаки в матрицы:\n",
    "matrix_features_train = features_train.values\n",
    "matrix_features_valid = features_valid.values"
   ]
  },
  {
   "cell_type": "markdown",
   "metadata": {},
   "source": [
    "*Сгенерируем матрицу и проверим ее на обратимость*"
   ]
  },
  {
   "cell_type": "code",
   "execution_count": 7,
   "metadata": {},
   "outputs": [
    {
     "data": {
      "text/plain": [
       "array([[98, 29,  1, 36],\n",
       "       [41, 34, 29,  1],\n",
       "       [59, 14, 91, 80],\n",
       "       [73, 11, 77, 10]])"
      ]
     },
     "execution_count": 7,
     "metadata": {},
     "output_type": "execute_result"
    }
   ],
   "source": [
    "random_matrix = np.random.RandomState(12345).randint(0, 100, size = (4, 4))\n",
    "random_matrix"
   ]
  },
  {
   "cell_type": "code",
   "execution_count": 8,
   "metadata": {},
   "outputs": [
    {
     "data": {
      "text/plain": [
       "array([[ 1., -0., -0.,  0.],\n",
       "       [ 0.,  1., -0.,  0.],\n",
       "       [ 0.,  0.,  1.,  0.],\n",
       "       [ 0., -0.,  0.,  1.]])"
      ]
     },
     "execution_count": 8,
     "metadata": {},
     "output_type": "execute_result"
    }
   ],
   "source": [
    "np.round(random_matrix.dot(np.linalg.inv(random_matrix)))"
   ]
  },
  {
   "cell_type": "markdown",
   "metadata": {},
   "source": [
    "*Получилась единичная матрица - значит, сгенерированная матрица обратима.*"
   ]
  },
  {
   "cell_type": "code",
   "execution_count": 9,
   "metadata": {},
   "outputs": [],
   "source": [
    "# Зашифруем данные перемножив признаки на сгенерированную матрицу:\n",
    "encrypted_matrix_features_train = np.dot(matrix_features_train, random_matrix)\n",
    "encrypted_matrix_features_valid = np.dot(matrix_features_valid, random_matrix)"
   ]
  },
  {
   "cell_type": "markdown",
   "metadata": {},
   "source": [
    "Обучим и посмотрим на метрику R2 модели:"
   ]
  },
  {
   "cell_type": "code",
   "execution_count": 10,
   "metadata": {},
   "outputs": [],
   "source": [
    "model = lr()\n",
    "model.fit(matrix_features_train, target_train)\n",
    "model_predicted = model.predict(matrix_features_valid)"
   ]
  },
  {
   "cell_type": "code",
   "execution_count": 11,
   "metadata": {},
   "outputs": [],
   "source": [
    "encoded_model = lr()\n",
    "encoded_model.fit(encrypted_matrix_features_train, target_train)\n",
    "encoded_models_predicted = encoded_model.predict(encrypted_matrix_features_valid)"
   ]
  },
  {
   "cell_type": "code",
   "execution_count": 12,
   "metadata": {},
   "outputs": [
    {
     "name": "stdout",
     "output_type": "stream",
     "text": [
      "Результат не закодированной матрицы: 0.42; MSE: 0.12\n",
      "Результат закодированной матрицы: 0.42; MSE: 0.12\n",
      "Result: -0.00\n",
      "Метрики схожи? True\n"
     ]
    }
   ],
   "source": [
    "r2score = r2_score(target_valid, model_predicted)\n",
    "encoded_models_r2_score = r2_score(target_valid, encoded_models_predicted)\n",
    "mse_normal = mean_squared_error(target_valid, model_predicted)\n",
    "mse_encoded = mean_squared_error(target_valid, encoded_models_predicted)\n",
    "\n",
    "print(f'Результат не закодированной матрицы: {r2score:.2f}; MSE: {mse_normal:.2f}')\n",
    "print(f'Результат закодированной матрицы: {encoded_models_r2_score:.2f}; MSE: {mse_encoded:.2f}')\n",
    "print(f'Result: {(r2score - encoded_models_r2_score):.2f}')\n",
    "print(f'Метрики схожи? {np.isclose(r2score, encoded_models_r2_score)}')"
   ]
  },
  {
   "cell_type": "markdown",
   "metadata": {},
   "source": [
    "## Вывод по 4 шагу\n",
    "\n",
    "*Предложенный алгоритм работает, закодировали данные. Обученные модели по исходным данным и закодироованным показали схожие метрики по R2 и MSE.*"
   ]
  }
 ],
 "metadata": {
  "kernelspec": {
   "display_name": "Python 3",
   "language": "python",
   "name": "python3"
  },
  "language_info": {
   "codemirror_mode": {
    "name": "ipython",
    "version": 3
   },
   "file_extension": ".py",
   "mimetype": "text/x-python",
   "name": "python",
   "nbconvert_exporter": "python",
   "pygments_lexer": "ipython3",
   "version": "3.8.6"
  }
 },
 "nbformat": 4,
 "nbformat_minor": 2
}
