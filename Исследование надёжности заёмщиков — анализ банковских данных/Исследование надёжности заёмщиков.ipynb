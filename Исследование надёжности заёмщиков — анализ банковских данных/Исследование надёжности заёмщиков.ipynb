{
 "cells": [
  {
   "cell_type": "markdown",
   "metadata": {},
   "source": [
    "## Исследование надёжности заёмщиков\n",
    "\n",
    "Заказчик — кредитный отдел банка. Нужно разобраться, влияет ли семейное положение и количество детей клиента на факт погашения кредита в срок. Входные данные от банка — статистика о платёжеспособности клиентов.\n",
    "\n",
    "Результаты исследования будут учтены при построении модели **кредитного скоринга** — специальной системы, которая оценивает способность потенциального заёмщика вернуть кредит банку."
   ]
  },
  {
   "cell_type": "markdown",
   "metadata": {},
   "source": [
    "#### План работ:\n",
    "1. Общий взгляд на данные.\n",
    "2. Предобработка данных.\n",
    "3. Обработка пропусков.\n",
    "4. Замена типа данных.\n",
    "5. Обработка дубликатов.\n",
    "5. Приведение к общему виду данных(лемматизация).\n",
    "6. Категоризация данных.\n",
    "7. Ответы на поставленные вопросы.\n",
    "\n",
    "#### Описание данных:\n",
    "- children — количество детей в семье\n",
    "- days_employed — общий трудовой стаж в днях\n",
    "- dob_years — возраст клиента в годах\n",
    "- education — уровень образования клиента\n",
    "- education_id — идентификатор уровня образования\n",
    "- family_status — семейное положение\n",
    "- family_status_id — идентификатор семейного положения\n",
    "- gender — пол клиента\n",
    "- income_type — тип занятости\n",
    "- debt — имел ли задолженность по возврату кредитов\n",
    "- total_income — ежемесячный доход\n",
    "- purpose — цель получения кредита"
   ]
  },
  {
   "cell_type": "markdown",
   "metadata": {},
   "source": [
    "#### Поставленные вопросы:\n",
    "- Есть ли зависимость между наличием детей и возвратом кредита в срок?\n",
    "- Есть ли зависимость между семейным положением и возвратом кредита в срок?\n",
    "- Есть ли зависимость между уровнем дохода и возвратом кредита в срок?\n",
    "- Как разные цели кредита влияют на его возврат в срок?"
   ]
  },
  {
   "cell_type": "markdown",
   "metadata": {},
   "source": [
    "### Шаг 1. Откройте файл с данными и изучите общую информацию. "
   ]
  },
  {
   "cell_type": "markdown",
   "metadata": {},
   "source": [
    "## Изучение данных\n",
    "\n",
    "*Изучим каждый столбец на корректность значений. После изучения, составим дальнейший план по исправлению данных"
   ]
  },
  {
   "cell_type": "code",
   "execution_count": 1,
   "metadata": {},
   "outputs": [],
   "source": [
    "import pandas as pd\n",
    "from  IPython.display import display   #импортируем библиотеку для вывод таблиц наглядно"
   ]
  },
  {
   "cell_type": "code",
   "execution_count": 2,
   "metadata": {},
   "outputs": [],
   "source": [
    "def df_info(df):\n",
    "    df.info()\n",
    "    display(df.head(10))\n",
    "    print(f'Кол-во дубликатов: {df.duplicated().sum()}')\n",
    "    print()\n",
    "    print(f'Кол-во пропусков: {df.isnull().sum()}')"
   ]
  },
  {
   "cell_type": "code",
   "execution_count": null,
   "metadata": {},
   "outputs": [],
   "source": [
    "df = pd.read_csv('/datasets/data.csv')"
   ]
  },
  {
   "cell_type": "code",
   "execution_count": 4,
   "metadata": {},
   "outputs": [
    {
     "name": "stdout",
     "output_type": "stream",
     "text": [
      "Кол-во дубликатов: 54\n",
      "\n",
      "Кол-во пропусков: children               0\n",
      "days_employed       2174\n",
      "dob_years              0\n",
      "education              0\n",
      "education_id           0\n",
      "family_status          0\n",
      "family_status_id       0\n",
      "gender                 0\n",
      "income_type            0\n",
      "debt                   0\n",
      "total_income        2174\n",
      "purpose                0\n",
      "dtype: int64\n"
     ]
    }
   ],
   "source": [
    "df_info(df)"
   ]
  },
  {
   "cell_type": "markdown",
   "metadata": {},
   "source": [
    "*В датафрейме присутствуют 2174 строк с пропусками.*\n",
    "*Причины могут быть разные:*\n",
    "1. *Технические(при переносе данных из одной среды в другую)*\n",
    "2. *Ошибка заполняющих*\n",
    "3. *Ошибка людей, которые эти данные предоставляли*\n",
    "\n",
    "*Также нужно проверить, пропуски в столбцах `days_employed` и `total_income` находятся под одинаковыми строками или нет*\n",
    "\n",
    "*Следует привести некоторые признаки к правильному типу данных*"
   ]
  },
  {
   "cell_type": "code",
   "execution_count": 5,
   "metadata": {},
   "outputs": [
    {
     "name": "stdout",
     "output_type": "stream",
     "text": [
      "children            2174\n",
      "days_employed       2174\n",
      "dob_years           2174\n",
      "education           2174\n",
      "education_id        2174\n",
      "family_status       2174\n",
      "family_status_id    2174\n",
      "gender              2174\n",
      "income_type         2174\n",
      "debt                2174\n",
      "total_income        2174\n",
      "purpose             2174\n",
      "dtype: int64\n"
     ]
    }
   ],
   "source": [
    "miss = pd.isnull(df)\n",
    "omissions_true = miss[(miss['days_employed'] == True) & (miss['total_income'] == True)].count()\n",
    "print(omissions_true)"
   ]
  },
  {
   "cell_type": "code",
   "execution_count": 6,
   "metadata": {},
   "outputs": [
    {
     "name": "stdout",
     "output_type": "stream",
     "text": [
      "children            2174\n",
      "days_employed       2174\n",
      "dob_years           2174\n",
      "education           2174\n",
      "education_id        2174\n",
      "family_status       2174\n",
      "family_status_id    2174\n",
      "gender              2174\n",
      "income_type         2174\n",
      "debt                2174\n",
      "total_income        2174\n",
      "purpose             2174\n",
      "dtype: int64\n"
     ]
    }
   ],
   "source": [
    "miss = pd.isnull(df)\n",
    "omissions_true = miss[(miss['days_employed'] == True) & (miss['total_income'] == True)].count()\n",
    "print(omissions_true)"
   ]
  },
  {
   "cell_type": "markdown",
   "metadata": {},
   "source": [
    "*Пропуски в столбцах совпадают*"
   ]
  },
  {
   "cell_type": "code",
   "execution_count": 7,
   "metadata": {},
   "outputs": [
    {
     "name": "stdout",
     "output_type": "stream",
     "text": [
      " 0     14149\n",
      " 1      4818\n",
      " 2      2055\n",
      " 3       330\n",
      " 20       76\n",
      "-1        47\n",
      " 4        41\n",
      " 5         9\n",
      "Name: children, dtype: int64\n"
     ]
    }
   ],
   "source": [
    "print(df['children'].value_counts())"
   ]
  },
  {
   "cell_type": "markdown",
   "metadata": {},
   "source": [
    "*В глаза попадают такие значения, как \"-1\" и \"20\". Кол-во детей \"-1\" явно не может быть, \"20\" детей тоже как-то многовато, скорее всего число детей было записано как 2.0*"
   ]
  },
  {
   "cell_type": "code",
   "execution_count": 8,
   "metadata": {},
   "outputs": [
    {
     "name": "stdout",
     "output_type": "stream",
     "text": [
      "-986.927316     1\n",
      "-7026.359174    1\n",
      "-4236.274243    1\n",
      "-6620.396473    1\n",
      "-1238.560080    1\n",
      "               ..\n",
      "-2849.351119    1\n",
      "-5619.328204    1\n",
      "-448.829898     1\n",
      "-1687.038672    1\n",
      "-582.538413     1\n",
      "Name: days_employed, Length: 19351, dtype: int64\n"
     ]
    }
   ],
   "source": [
    "print(df['days_employed'].value_counts())"
   ]
  },
  {
   "cell_type": "markdown",
   "metadata": {},
   "source": [
    "*Присутствуют отрицательные и пропущенные значения (причина возникновения может быть свяазана с переносом данных из одной системы в другую, либо ошибка заполняющего, также есть данные, которые превышают возраст самих клиентов (аномалия). Опишем метод исправления во 2 шаге*"
   ]
  },
  {
   "cell_type": "code",
   "execution_count": 9,
   "metadata": {},
   "outputs": [
    {
     "name": "stdout",
     "output_type": "stream",
     "text": [
      "35    617\n",
      "40    609\n",
      "41    607\n",
      "34    603\n",
      "38    598\n",
      "42    597\n",
      "33    581\n",
      "39    573\n",
      "31    560\n",
      "36    555\n",
      "44    547\n",
      "29    545\n",
      "30    540\n",
      "48    538\n",
      "37    537\n",
      "50    514\n",
      "43    513\n",
      "32    510\n",
      "49    508\n",
      "28    503\n",
      "45    497\n",
      "27    493\n",
      "56    487\n",
      "52    484\n",
      "47    480\n",
      "54    479\n",
      "46    475\n",
      "58    461\n",
      "57    460\n",
      "53    459\n",
      "51    448\n",
      "59    444\n",
      "55    443\n",
      "26    408\n",
      "60    377\n",
      "25    357\n",
      "61    355\n",
      "62    352\n",
      "63    269\n",
      "64    265\n",
      "24    264\n",
      "23    254\n",
      "65    194\n",
      "66    183\n",
      "22    183\n",
      "67    167\n",
      "21    111\n",
      "0     101\n",
      "68     99\n",
      "69     85\n",
      "70     65\n",
      "71     58\n",
      "20     51\n",
      "72     33\n",
      "19     14\n",
      "73      8\n",
      "74      6\n",
      "75      1\n",
      "Name: dob_years, dtype: int64\n"
     ]
    }
   ],
   "source": [
    "print(df['dob_years'].value_counts())"
   ]
  },
  {
   "cell_type": "markdown",
   "metadata": {},
   "source": [
    "*Присутствуют 0 значения. Во 2 шаге опишем метод исправления*"
   ]
  },
  {
   "cell_type": "code",
   "execution_count": 10,
   "metadata": {},
   "outputs": [
    {
     "name": "stdout",
     "output_type": "stream",
     "text": [
      "среднее                13750\n",
      "высшее                  4718\n",
      "СРЕДНЕЕ                  772\n",
      "Среднее                  711\n",
      "неоконченное высшее      668\n",
      "ВЫСШЕЕ                   274\n",
      "Высшее                   268\n",
      "начальное                250\n",
      "Неоконченное высшее       47\n",
      "НЕОКОНЧЕННОЕ ВЫСШЕЕ       29\n",
      "НАЧАЛЬНОЕ                 17\n",
      "Начальное                 15\n",
      "ученая степень             4\n",
      "Ученая степень             1\n",
      "УЧЕНАЯ СТЕПЕНЬ             1\n",
      "Name: education, dtype: int64\n"
     ]
    }
   ],
   "source": [
    "print(df['education'].value_counts())"
   ]
  },
  {
   "cell_type": "markdown",
   "metadata": {},
   "source": [
    "*Следует переписать слова прописью (str.lower())*"
   ]
  },
  {
   "cell_type": "code",
   "execution_count": 11,
   "metadata": {},
   "outputs": [
    {
     "name": "stdout",
     "output_type": "stream",
     "text": [
      "1    15233\n",
      "0     5260\n",
      "2      744\n",
      "3      282\n",
      "4        6\n",
      "Name: education_id, dtype: int64\n"
     ]
    }
   ],
   "source": [
    "print(df['education_id'].value_counts())"
   ]
  },
  {
   "cell_type": "markdown",
   "metadata": {},
   "source": [
    "*Проблем не выявлено*"
   ]
  },
  {
   "cell_type": "code",
   "execution_count": 12,
   "metadata": {},
   "outputs": [
    {
     "name": "stdout",
     "output_type": "stream",
     "text": [
      "0    12380\n",
      "1     4177\n",
      "4     2813\n",
      "3     1195\n",
      "2      960\n",
      "Name: family_status_id, dtype: int64\n"
     ]
    }
   ],
   "source": [
    " print(df['family_status_id'].value_counts())"
   ]
  },
  {
   "cell_type": "markdown",
   "metadata": {},
   "source": [
    "*Проблем не выявлено*"
   ]
  },
  {
   "cell_type": "code",
   "execution_count": 13,
   "metadata": {},
   "outputs": [
    {
     "name": "stdout",
     "output_type": "stream",
     "text": [
      "F      14236\n",
      "M       7288\n",
      "XNA        1\n",
      "Name: gender, dtype: int64\n"
     ]
    }
   ],
   "source": [
    "print(df['gender'].value_counts())"
   ]
  },
  {
   "cell_type": "markdown",
   "metadata": {},
   "source": [
    "*пол 'XNA' следует удалить*"
   ]
  },
  {
   "cell_type": "code",
   "execution_count": 14,
   "metadata": {},
   "outputs": [
    {
     "name": "stdout",
     "output_type": "stream",
     "text": [
      "сотрудник          11119\n",
      "компаньон           5085\n",
      "пенсионер           3856\n",
      "госслужащий         1459\n",
      "безработный            2\n",
      "предприниматель        2\n",
      "студент                1\n",
      "в декрете              1\n",
      "Name: income_type, dtype: int64\n"
     ]
    }
   ],
   "source": [
    "print(df['income_type'].value_counts())"
   ]
  },
  {
   "cell_type": "markdown",
   "metadata": {},
   "source": [
    "*Проблем не выявлено*"
   ]
  },
  {
   "cell_type": "code",
   "execution_count": 15,
   "metadata": {},
   "outputs": [
    {
     "name": "stdout",
     "output_type": "stream",
     "text": [
      "0    19784\n",
      "1     1741\n",
      "Name: debt, dtype: int64\n"
     ]
    }
   ],
   "source": [
    "print(df['debt'].value_counts())"
   ]
  },
  {
   "cell_type": "markdown",
   "metadata": {},
   "source": [
    "*Проблем не выявлено*"
   ]
  },
  {
   "cell_type": "code",
   "execution_count": 16,
   "metadata": {},
   "outputs": [
    {
     "name": "stdout",
     "output_type": "stream",
     "text": [
      "112874.418757    1\n",
      "133912.272223    1\n",
      "182036.676828    1\n",
      "122421.963500    1\n",
      "198271.837248    1\n",
      "                ..\n",
      "133299.194693    1\n",
      "115080.782380    1\n",
      "84896.781597     1\n",
      "153838.839212    1\n",
      "150014.128510    1\n",
      "Name: total_income, Length: 19351, dtype: int64\n"
     ]
    }
   ],
   "source": [
    "print(df['total_income'].value_counts())"
   ]
  },
  {
   "cell_type": "markdown",
   "metadata": {},
   "source": [
    "*Проблем пока не выявлено, кроме пропусков. Во 2 шаге опишем метод исправления*"
   ]
  },
  {
   "cell_type": "code",
   "execution_count": 17,
   "metadata": {},
   "outputs": [
    {
     "name": "stdout",
     "output_type": "stream",
     "text": [
      "свадьба                                   797\n",
      "на проведение свадьбы                     777\n",
      "сыграть свадьбу                           774\n",
      "операции с недвижимостью                  676\n",
      "покупка коммерческой недвижимости         664\n",
      "операции с жильем                         653\n",
      "покупка жилья для сдачи                   653\n",
      "операции с коммерческой недвижимостью     651\n",
      "покупка жилья                             647\n",
      "жилье                                     647\n",
      "покупка жилья для семьи                   641\n",
      "строительство собственной недвижимости    635\n",
      "недвижимость                              634\n",
      "операции со своей недвижимостью           630\n",
      "строительство жилой недвижимости          626\n",
      "покупка недвижимости                      624\n",
      "строительство недвижимости                620\n",
      "покупка своего жилья                      620\n",
      "ремонт жилью                              612\n",
      "покупка жилой недвижимости                607\n",
      "на покупку своего автомобиля              505\n",
      "заняться высшим образованием              496\n",
      "автомобиль                                495\n",
      "сделка с подержанным автомобилем          489\n",
      "свой автомобиль                           480\n",
      "на покупку подержанного автомобиля        479\n",
      "автомобили                                478\n",
      "на покупку автомобиля                     472\n",
      "дополнительное образование                462\n",
      "приобретение автомобиля                   462\n",
      "сделка с автомобилем                      455\n",
      "высшее образование                        453\n",
      "образование                               447\n",
      "получение дополнительного образования     447\n",
      "получение образования                     443\n",
      "профильное образование                    436\n",
      "получение высшего образования             426\n",
      "заняться образованием                     412\n",
      "Name: purpose, dtype: int64\n"
     ]
    }
   ],
   "source": [
    "print(df['purpose'].value_counts())"
   ]
  },
  {
   "cell_type": "markdown",
   "metadata": {},
   "source": [
    "*Причины дублируются под разными словосочетаниями, нужно будет привести к общему через лемматизацию*"
   ]
  },
  {
   "cell_type": "code",
   "execution_count": 18,
   "metadata": {},
   "outputs": [
    {
     "name": "stdout",
     "output_type": "stream",
     "text": [
      "сотрудник          1105\n",
      "компаньон           508\n",
      "пенсионер           413\n",
      "госслужащий         147\n",
      "предприниматель       1\n",
      "Name: income_type, dtype: int64\n"
     ]
    }
   ],
   "source": [
    "print(df['income_type'][df['total_income'].isnull()].value_counts())"
   ]
  },
  {
   "cell_type": "markdown",
   "metadata": {},
   "source": [
    "*Пропусчены значения по данным:*\n",
    "*1. у сотрудников (1105 строк)*\n",
    "*2. у компаньонов (508)*\n",
    "*3. у пенсионеров (413)*\n",
    "*4. у госслужающих (147)*\n",
    "*5. у предпринимателей (1)*"
   ]
  },
  {
   "cell_type": "code",
   "execution_count": 19,
   "metadata": {},
   "outputs": [
    {
     "name": "stdout",
     "output_type": "stream",
     "text": [
      "женат / замужем          12380\n",
      "гражданский брак          4177\n",
      "Не женат / не замужем     2813\n",
      "в разводе                 1195\n",
      "вдовец / вдова             960\n",
      "Name: family_status, dtype: int64\n"
     ]
    }
   ],
   "source": [
    "print(df['family_status'].value_counts())"
   ]
  },
  {
   "cell_type": "markdown",
   "metadata": {},
   "source": [
    "*Следует сократить вариацию на \"В браке\" и \"Не в браке\"*"
   ]
  },
  {
   "cell_type": "markdown",
   "metadata": {},
   "source": [
    "### Вывод"
   ]
  },
  {
   "cell_type": "markdown",
   "metadata": {},
   "source": [
    "Данные были изучены. Можно приступать к работе по их обработке"
   ]
  },
  {
   "cell_type": "markdown",
   "metadata": {},
   "source": [
    "### Шаг 2. Предобработка данных"
   ]
  },
  {
   "cell_type": "markdown",
   "metadata": {},
   "source": [
    "### Кол-во детей у клиентов"
   ]
  },
  {
   "cell_type": "code",
   "execution_count": 20,
   "metadata": {},
   "outputs": [
    {
     "name": "stdout",
     "output_type": "stream",
     "text": [
      "0    14149\n",
      "1     4865\n",
      "2     2131\n",
      "3      330\n",
      "4       41\n",
      "5        9\n",
      "Name: children, dtype: int64\n"
     ]
    }
   ],
   "source": [
    "# Исправляем отрицательные значения\n",
    "df['children'] = df['children'].abs()\n",
    "\n",
    "# Изменим значение 20 на 2\n",
    "df['children'] = df['children'].replace(20, 2)\n",
    "\n",
    "# Проверим исправления\n",
    "print(df['children'].value_counts())"
   ]
  },
  {
   "cell_type": "markdown",
   "metadata": {},
   "source": [
    "### Уменьшим регистр в столбце \"Образование\""
   ]
  },
  {
   "cell_type": "code",
   "execution_count": 21,
   "metadata": {},
   "outputs": [
    {
     "name": "stdout",
     "output_type": "stream",
     "text": [
      "среднее                15233\n",
      "высшее                  5260\n",
      "неоконченное высшее      744\n",
      "начальное                282\n",
      "ученая степень             6\n",
      "Name: education, dtype: int64\n"
     ]
    }
   ],
   "source": [
    "df['education'] = df['education'].str.lower()\n",
    "\n",
    "print(df['education'].value_counts())"
   ]
  },
  {
   "cell_type": "markdown",
   "metadata": {},
   "source": [
    "### Обработка пропусков"
   ]
  },
  {
   "cell_type": "markdown",
   "metadata": {},
   "source": [
    "## Заполнение пропущенных значений\n",
    "\n",
    "1. Пропущенные значения в столбце \"дохода\" следует заполнить относительно \"Типа занятности\"\n",
    "2. Нулевые значения в столбце \"Возраст клиента\" следует заполнить относительно \"Типа занятости\"\n",
    "3. Пропущенные значения в столбце \"Стаж\" следует заполнить относительно \"Возраста клиента\""
   ]
  },
  {
   "cell_type": "markdown",
   "metadata": {},
   "source": [
    "### Заполнение пропущенных значений в столбце \"Доход\""
   ]
  },
  {
   "cell_type": "code",
   "execution_count": 22,
   "metadata": {},
   "outputs": [
    {
     "name": "stdout",
     "output_type": "stream",
     "text": [
      "Среднее income_type\n",
      "безработный        131339.751676\n",
      "в декрете           53829.130729\n",
      "госслужащий        170898.309923\n",
      "компаньон          202417.461462\n",
      "пенсионер          137127.465690\n",
      "предприниматель    499163.144947\n",
      "сотрудник          161380.260488\n",
      "студент             98201.625314\n",
      "Name: total_income, dtype: float64\n",
      "\n",
      "Медиана income_type\n",
      "безработный        131339.751676\n",
      "в декрете           53829.130729\n",
      "госслужащий        150447.935283\n",
      "компаньон          172357.950966\n",
      "пенсионер          118514.486412\n",
      "предприниматель    499163.144947\n",
      "сотрудник          142594.396847\n",
      "студент             98201.625314\n",
      "Name: total_income, dtype: float64\n"
     ]
    }
   ],
   "source": [
    "df_groupby_income_type_mean = df.groupby('income_type')['total_income'].mean()      #Найдем средний доход по типу занятости\n",
    "df_groupby_income_type_median = df.groupby('income_type')['total_income'].median()   #Найдем медиану по типу занятости\n",
    "\n",
    "print('Среднее', df_groupby_income_type_mean)\n",
    "print()\n",
    "print('Медиана', df_groupby_income_type_median)"
   ]
  },
  {
   "cell_type": "markdown",
   "metadata": {},
   "source": [
    "*Среднее и медиана показывают приблизительно одинаковые значения.*\n",
    "*Отличия есть у госслужающих, компаньонов, пенсионеров и сотрудников.*\n",
    "*Так как данные сравниваются между людьми одной группы/должности, то следует брать среднее значение и вставлять их в пропусщенные ячейки*"
   ]
  },
  {
   "cell_type": "code",
   "execution_count": 23,
   "metadata": {},
   "outputs": [],
   "source": [
    "df['total_income'] = df['total_income'].fillna(df.groupby('income_type')['total_income'].transform('mean'))"
   ]
  },
  {
   "cell_type": "markdown",
   "metadata": {},
   "source": [
    "*Получилось заполнить пропуски в столбце \"Доход\". Пропуски заполнялись сред. величинами в зависимости от \"типа занятости\"*"
   ]
  },
  {
   "cell_type": "markdown",
   "metadata": {},
   "source": [
    "### Изменение 0-ых значений в столбце \"Возраст\""
   ]
  },
  {
   "cell_type": "code",
   "execution_count": 24,
   "metadata": {},
   "outputs": [
    {
     "name": "stdout",
     "output_type": "stream",
     "text": [
      "Среднее income_type\n",
      "безработный        38.000000\n",
      "в декрете          39.000000\n",
      "госслужащий        40.636737\n",
      "компаньон          39.697542\n",
      "пенсионер          59.063019\n",
      "предприниматель    42.500000\n",
      "сотрудник          39.821027\n",
      "студент            22.000000\n",
      "Name: dob_years, dtype: float64\n",
      "\n",
      "Медиана income_type\n",
      "безработный        38.0\n",
      "в декрете          39.0\n",
      "госслужащий        40.0\n",
      "компаньон          39.0\n",
      "пенсионер          60.0\n",
      "предприниматель    42.5\n",
      "сотрудник          39.0\n",
      "студент            22.0\n",
      "Name: dob_years, dtype: float64\n"
     ]
    }
   ],
   "source": [
    "df_groupby_income_type_mean = df.groupby('income_type')['dob_years'].mean()  #Найдем средний возраст клиентов по типу занятости\n",
    "print('Среднее', df_groupby_income_type_mean)\n",
    "print()\n",
    "df_groupby_income_type_median = df.groupby('income_type')['dob_years'].median() #найдем медиану по типу занятости\n",
    "print('Медиана', df_groupby_income_type_median)"
   ]
  },
  {
   "cell_type": "code",
   "execution_count": 25,
   "metadata": {},
   "outputs": [],
   "source": [
    "df['dob_years'] = df['dob_years'].fillna(df.groupby('income_type')['dob_years'].transform('median'))"
   ]
  },
  {
   "cell_type": "markdown",
   "metadata": {},
   "source": [
    "*Нулевые значения были заменены. Но при этом анамальные значения все же присутствуют в столбце \"Стаж\". df имеет данные по столбцу \"Стаж\", которые многократно превышают реальный возраст клиента*"
   ]
  },
  {
   "cell_type": "markdown",
   "metadata": {},
   "source": [
    "### Изменим вариацию семейного положения "
   ]
  },
  {
   "cell_type": "markdown",
   "metadata": {},
   "source": [
    "- `в браке` – женат / замужем, гражданский брак\n",
    "- `не в браке` – не женат / не замужем, в разводе, вдовец / вдова"
   ]
  },
  {
   "cell_type": "code",
   "execution_count": 26,
   "metadata": {},
   "outputs": [],
   "source": [
    "def categorize_family_status(value):\n",
    "    if value == 'женат / замужем' or value == 'гражданский брак':\n",
    "        return 'в браке'\n",
    "    \n",
    "    return 'не в браке'"
   ]
  },
  {
   "cell_type": "code",
   "execution_count": 27,
   "metadata": {},
   "outputs": [],
   "source": [
    "df['family_status'] = df['family_status'].apply(categorize_family_status)"
   ]
  },
  {
   "cell_type": "markdown",
   "metadata": {},
   "source": [
    "### Заполнение пропущенных значений в столбце \"Стаж\""
   ]
  },
  {
   "cell_type": "code",
   "execution_count": 28,
   "metadata": {},
   "outputs": [
    {
     "name": "stdout",
     "output_type": "stream",
     "text": [
      "Среднее dob_years\n",
      "0      69516.105102\n",
      "19       633.678086\n",
      "20       684.944308\n",
      "21       709.440930\n",
      "22      2793.321854\n",
      "23       827.309437\n",
      "24      1026.405485\n",
      "25      1088.406453\n",
      "26      3214.617245\n",
      "27      3725.820728\n",
      "28      2180.056457\n",
      "29      1553.823200\n",
      "30      1696.039355\n",
      "31      2331.246721\n",
      "32      3877.197466\n",
      "33      3241.413096\n",
      "34      4141.242883\n",
      "35      2755.226484\n",
      "36      4496.534938\n",
      "37      5879.263440\n",
      "38      7641.485465\n",
      "39      5277.456460\n",
      "40      7076.521918\n",
      "41      6400.926359\n",
      "42      8885.465110\n",
      "43      9418.428468\n",
      "44      9952.060042\n",
      "45     11748.039481\n",
      "46     14121.191502\n",
      "47     14223.685900\n",
      "48     18149.683912\n",
      "49     26679.790846\n",
      "50     50493.031018\n",
      "51     68425.772762\n",
      "52     82803.402429\n",
      "53     94073.249426\n",
      "54    126757.781831\n",
      "55    152264.946612\n",
      "56    157417.505013\n",
      "57    193689.068297\n",
      "58    188571.489818\n",
      "59    227496.974028\n",
      "60    262925.277586\n",
      "61    246731.048849\n",
      "62    274381.283863\n",
      "63    293383.721011\n",
      "64    287670.475737\n",
      "65    287448.538552\n",
      "66    313613.718234\n",
      "67    317629.788586\n",
      "68    326896.748566\n",
      "69    338361.511981\n",
      "70    318072.656240\n",
      "71    332751.981663\n",
      "72    333177.822570\n",
      "73    313848.167175\n",
      "74    241262.658935\n",
      "75      1678.969771\n",
      "Name: days_employed, dtype: float64\n",
      "\n",
      "Медиана dob_years\n",
      "0       1759.038033\n",
      "19       724.492610\n",
      "20       674.838979\n",
      "21       618.733817\n",
      "22       703.310078\n",
      "23       690.204208\n",
      "24       947.731043\n",
      "25       919.199388\n",
      "26      1083.658132\n",
      "27      1166.212160\n",
      "28      1141.705450\n",
      "29      1315.453550\n",
      "30      1420.586863\n",
      "31      1308.901135\n",
      "32      1446.622542\n",
      "33      1426.415003\n",
      "34      1615.910188\n",
      "35      1613.494818\n",
      "36      1799.520465\n",
      "37      1816.713382\n",
      "38      1817.194286\n",
      "39      1891.388566\n",
      "40      1728.936706\n",
      "41      1864.657692\n",
      "42      2253.981630\n",
      "43      1869.019899\n",
      "44      2084.330015\n",
      "45      2254.431130\n",
      "46      2100.473217\n",
      "47      2203.078545\n",
      "48      2429.674518\n",
      "49      2560.317106\n",
      "50      2626.986257\n",
      "51      2846.080700\n",
      "52      3395.639568\n",
      "53      3650.007523\n",
      "54      4026.541145\n",
      "55      7043.471139\n",
      "56      6850.179463\n",
      "57    333953.491811\n",
      "58    331245.976666\n",
      "59    344372.337365\n",
      "60    349414.537285\n",
      "61    343984.931910\n",
      "62    354981.718187\n",
      "63    358482.295938\n",
      "64    355781.562599\n",
      "65    357103.967291\n",
      "66    363827.438951\n",
      "67    357222.855215\n",
      "68    365278.194581\n",
      "69    362313.375280\n",
      "70    362787.772498\n",
      "71    359700.938607\n",
      "72    367378.973169\n",
      "73    364291.049263\n",
      "74    343075.981127\n",
      "75      1678.969771\n",
      "Name: days_employed, dtype: float64\n"
     ]
    }
   ],
   "source": [
    "# Исправим отрицательные значения\n",
    "df['days_employed'] = df['days_employed'].abs()\n",
    "\n",
    "df_groupby_dob_years_mean = df.groupby('dob_years')['days_employed'].mean()      #Найдем средний стаж по возрасту\n",
    "df_groupby_dob_years_median = df.groupby('dob_years')['days_employed'].median()   #Найдем медиану по возрасту\n",
    "\n",
    "print('Среднее', df_groupby_dob_years_mean)\n",
    "print()\n",
    "print('Медиана', df_groupby_dob_years_median)"
   ]
  },
  {
   "cell_type": "markdown",
   "metadata": {},
   "source": [
    "*Ужасные и аномальные значения мы имеем в столбце \"Стаж\". многие настолько колоссальные, что превышают возраст клиента в многократно. Будем работать снова со средними величинами, так как они +/- близки к правде.*"
   ]
  },
  {
   "cell_type": "code",
   "execution_count": 29,
   "metadata": {},
   "outputs": [],
   "source": [
    "df['days_employed'] = df['days_employed'].fillna(df.groupby('dob_years')['days_employed'].transform('mean'))"
   ]
  },
  {
   "cell_type": "markdown",
   "metadata": {},
   "source": [
    "*Пропуски в столбце \"Стаж\" заполнены.*"
   ]
  },
  {
   "cell_type": "markdown",
   "metadata": {},
   "source": [
    "### Вывод"
   ]
  },
  {
   "cell_type": "markdown",
   "metadata": {},
   "source": [
    "*Столбец \"Доход\" нам в дальнейшем понадобиться, чтобы ответить на вопросы в 3 шаге, а вот пропуски в столбце \"Стаж\" и 0-ые значения в столбце \"Возраст\" нам в дальнейшем не нужны.*"
   ]
  },
  {
   "cell_type": "markdown",
   "metadata": {},
   "source": [
    "### Замена типа данных"
   ]
  },
  {
   "cell_type": "code",
   "execution_count": 30,
   "metadata": {},
   "outputs": [
    {
     "name": "stdout",
     "output_type": "stream",
     "text": [
      "<class 'pandas.core.frame.DataFrame'>\n",
      "RangeIndex: 21525 entries, 0 to 21524\n",
      "Data columns (total 12 columns):\n",
      "children            21525 non-null int64\n",
      "days_employed       21525 non-null int64\n",
      "dob_years           21525 non-null int64\n",
      "education           21525 non-null object\n",
      "education_id        21525 non-null int64\n",
      "family_status       21525 non-null object\n",
      "family_status_id    21525 non-null int64\n",
      "gender              21525 non-null object\n",
      "income_type         21525 non-null object\n",
      "debt                21525 non-null int64\n",
      "total_income        21525 non-null int64\n",
      "purpose             21525 non-null object\n",
      "dtypes: int64(7), object(5)\n",
      "memory usage: 2.0+ MB\n"
     ]
    }
   ],
   "source": [
    "df_edited = df.copy()\n",
    "df_edited['days_employed'] = df_edited['days_employed'].astype('int')\n",
    "df_edited['total_income'] = df_edited['total_income'].astype('int')\n",
    "df_edited.info()"
   ]
  },
  {
   "cell_type": "markdown",
   "metadata": {},
   "source": [
    "### Вывод"
   ]
  },
  {
   "cell_type": "markdown",
   "metadata": {},
   "source": [
    "*Для изменения типа данных из вещественных в целочисленные воспользуемся методом astype(). to_numeric() не подходит, так как нет смысла из вещественных в вещественные исправлять*"
   ]
  },
  {
   "cell_type": "markdown",
   "metadata": {},
   "source": [
    "### Обработка дубликатов"
   ]
  },
  {
   "cell_type": "code",
   "execution_count": 31,
   "metadata": {},
   "outputs": [
    {
     "name": "stdout",
     "output_type": "stream",
     "text": [
      "До удаления дубликатов\n",
      "71\n",
      "\n",
      "После удаления дубликатов\n",
      "0\n",
      "\n",
      "Кол-во строк после удаления дубликатов: 21454\n"
     ]
    }
   ],
   "source": [
    "print('До удаления дубликатов')\n",
    "print(df_edited.duplicated().sum())\n",
    "print()\n",
    "df_edited = df_edited.drop_duplicates().reset_index(drop = True)\n",
    "print('После удаления дубликатов')\n",
    "print(df_edited.duplicated().sum())\n",
    "print()\n",
    "print('Кол-во строк после удаления дубликатов: {}'.format(len(df_edited)))"
   ]
  },
  {
   "cell_type": "markdown",
   "metadata": {},
   "source": [
    "### Лемматизация"
   ]
  },
  {
   "cell_type": "markdown",
   "metadata": {},
   "source": [
    "В столбце purpose обнаружены слова, записанные в разных формах. Необходимо провести лемматизацию. Выделяю все леммы в столбце purpose:"
   ]
  },
  {
   "cell_type": "code",
   "execution_count": 32,
   "metadata": {},
   "outputs": [
    {
     "name": "stdout",
     "output_type": "stream",
     "text": [
      "['покупка жилья' 'приобретение автомобиля' 'дополнительное образование'\n",
      " 'сыграть свадьбу' 'операции с жильем' 'образование'\n",
      " 'на проведение свадьбы' 'покупка жилья для семьи' 'покупка недвижимости'\n",
      " 'покупка коммерческой недвижимости' 'покупка жилой недвижимости'\n",
      " 'строительство собственной недвижимости' 'недвижимость'\n",
      " 'строительство недвижимости' 'на покупку подержанного автомобиля'\n",
      " 'на покупку своего автомобиля' 'операции с коммерческой недвижимостью'\n",
      " 'строительство жилой недвижимости' 'жилье'\n",
      " 'операции со своей недвижимостью' 'автомобили' 'заняться образованием'\n",
      " 'сделка с подержанным автомобилем' 'получение образования' 'автомобиль'\n",
      " 'свадьба' 'получение дополнительного образования' 'покупка своего жилья'\n",
      " 'операции с недвижимостью' 'получение высшего образования'\n",
      " 'свой автомобиль' 'сделка с автомобилем' 'профильное образование'\n",
      " 'высшее образование' 'покупка жилья для сдачи' 'на покупку автомобиля'\n",
      " 'ремонт жилью' 'заняться высшим образованием']\n"
     ]
    }
   ],
   "source": [
    "list_purpose = df_edited['purpose'].unique()\n",
    "print(list_purpose)"
   ]
  },
  {
   "cell_type": "code",
   "execution_count": 33,
   "metadata": {},
   "outputs": [
    {
     "name": "stdout",
     "output_type": "stream",
     "text": [
      "покупка жилье, приобретение автомобиль, дополнительный образование, сыграть свадьба, операция с жилье, образование, на проведение свадьба, покупка жилье для семья, покупка недвижимость, покупка коммерческий недвижимость, покупка жилой недвижимость, строительство собственный недвижимость, недвижимость, строительство недвижимость, на покупка подержать автомобиль, на покупка свой автомобиль, операция с коммерческий недвижимость, строительство жилой недвижимость, жилье, операция со свой недвижимость, автомобиль, заниматься образование, сделка с подержать автомобиль, получение образование, автомобиль, свадьба, получение дополнительный образование, покупка свой жилье, операция с недвижимость, получение высокий образование, свой автомобиль, сделка с автомобиль, профильный образование, высокий образование, покупка жилье для сдача, на покупка автомобиль, ремонт жилье, заниматься высокий образование\n",
      "\n"
     ]
    }
   ],
   "source": [
    "from pymystem3 import Mystem\n",
    "m = Mystem()\n",
    "str_purpose = (', ').join(list_purpose)\n",
    "lemmas = m.lemmatize(str_purpose)\n",
    "\n",
    "str_purpose_done = ('').join(lemmas)\n",
    "print(str_purpose_done)"
   ]
  },
  {
   "cell_type": "markdown",
   "metadata": {},
   "source": [
    "Из полученной строки с целями кредита, обоначим основные цели кредита:\n",
    "- недвижимость, жилье, жилой.\n",
    "- автомобиль.\n",
    "- образование.\n",
    "- свадьба.\n",
    "- коммерческий.\n",
    "- ремонт."
   ]
  },
  {
   "cell_type": "code",
   "execution_count": 34,
   "metadata": {},
   "outputs": [],
   "source": [
    "# Функция для распределения целей кредита:\n",
    "def lemmatization_purpose(list):\n",
    "    for purpose in list:\n",
    "        if 'автомобиль' in purpose:\n",
    "            print(purpose + ': автокредит')\n",
    "        elif 'образование' in purpose:\n",
    "            print(purpose + ': образование')\n",
    "        elif 'свадьба' in purpose:\n",
    "            print(purpose + ': свадьба')\n",
    "        elif 'ремонт' in purpose:\n",
    "            print(purpose + ': ремонт жилья')\n",
    "        elif 'коммерческий' in purpose:\n",
    "            print(purpose + ': коммерческая недвижимость')\n",
    "        elif 'недвижимость' in purpose or 'жилье' in purpose or 'жилой' in purpose:\n",
    "            print(purpose + ': жилая недвижимость')"
   ]
  },
  {
   "cell_type": "code",
   "execution_count": 35,
   "metadata": {},
   "outputs": [
    {
     "name": "stdout",
     "output_type": "stream",
     "text": [
      "покупка жилье: жилая недвижимость\n",
      "приобретение автомобиль: автокредит\n",
      "дополнительный образование: образование\n",
      "сыграть свадьба: свадьба\n",
      "операция с жилье: жилая недвижимость\n",
      "образование: образование\n",
      "на проведение свадьба: свадьба\n",
      "покупка жилье для семья: жилая недвижимость\n",
      "покупка недвижимость: жилая недвижимость\n",
      "покупка коммерческий недвижимость: коммерческая недвижимость\n",
      "покупка жилой недвижимость: жилая недвижимость\n",
      "строительство собственный недвижимость: жилая недвижимость\n",
      "недвижимость: жилая недвижимость\n",
      "строительство недвижимость: жилая недвижимость\n",
      "на покупка подержать автомобиль: автокредит\n",
      "на покупка свой автомобиль: автокредит\n",
      "операция с коммерческий недвижимость: коммерческая недвижимость\n",
      "строительство жилой недвижимость: жилая недвижимость\n",
      "жилье: жилая недвижимость\n",
      "операция со свой недвижимость: жилая недвижимость\n",
      "автомобиль: автокредит\n",
      "заниматься образование: образование\n",
      "сделка с подержать автомобиль: автокредит\n",
      "получение образование: образование\n",
      "автомобиль: автокредит\n",
      "свадьба: свадьба\n",
      "получение дополнительный образование: образование\n",
      "покупка свой жилье: жилая недвижимость\n",
      "операция с недвижимость: жилая недвижимость\n",
      "получение высокий образование: образование\n",
      "свой автомобиль: автокредит\n",
      "сделка с автомобиль: автокредит\n",
      "профильный образование: образование\n",
      "высокий образование: образование\n",
      "покупка жилье для сдача: жилая недвижимость\n",
      "на покупка автомобиль: автокредит\n",
      "ремонт жилье: ремонт жилья\n",
      "заниматься высокий образование\n",
      ": образование\n"
     ]
    }
   ],
   "source": [
    "list_purpose_done = str_purpose_done.split(', ')\n",
    "lemmatization_purpose(list_purpose_done)"
   ]
  },
  {
   "cell_type": "markdown",
   "metadata": {},
   "source": [
    "*Функция работает на лемматизированном списке целей. Применим функцию на таблице с данными*"
   ]
  },
  {
   "cell_type": "code",
   "execution_count": 36,
   "metadata": {},
   "outputs": [],
   "source": [
    "def lemmatization_purpose(df):\n",
    "    purpose = df['purpose']\n",
    "    lemmas = m.lemmatize(purpose)\n",
    "    for purpose in lemmas:\n",
    "        if 'автомобиль' in purpose:\n",
    "            return 'автокредит'\n",
    "        elif 'образование' in purpose:\n",
    "            return 'образование'\n",
    "        elif 'свадьба' in purpose:\n",
    "            return 'свадьба'\n",
    "        elif 'ремонт' in purpose:\n",
    "            return 'ремонт жилья'\n",
    "        elif 'коммерческий' in purpose:\n",
    "            return 'коммерческая недвижимость'\n",
    "        elif 'недвижимость' in purpose or 'жилье' in purpose or 'жилой' in purpose:\n",
    "            return 'жилая недвижимость'"
   ]
  },
  {
   "cell_type": "markdown",
   "metadata": {},
   "source": [
    "Добавим новый столбец lemm_purpose в таблицу, применив метод apply. Первый аргумент метода - функция распределения целей кредита, фторой аргумент axis - нужен для того, чтобы в функцию поступали данные в строковой форме"
   ]
  },
  {
   "cell_type": "code",
   "execution_count": 37,
   "metadata": {},
   "outputs": [
    {
     "data": {
      "text/html": [
       "<div>\n",
       "<style scoped>\n",
       "    .dataframe tbody tr th:only-of-type {\n",
       "        vertical-align: middle;\n",
       "    }\n",
       "\n",
       "    .dataframe tbody tr th {\n",
       "        vertical-align: top;\n",
       "    }\n",
       "\n",
       "    .dataframe thead th {\n",
       "        text-align: right;\n",
       "    }\n",
       "</style>\n",
       "<table border=\"1\" class=\"dataframe\">\n",
       "  <thead>\n",
       "    <tr style=\"text-align: right;\">\n",
       "      <th></th>\n",
       "      <th>children</th>\n",
       "      <th>days_employed</th>\n",
       "      <th>dob_years</th>\n",
       "      <th>education</th>\n",
       "      <th>education_id</th>\n",
       "      <th>family_status</th>\n",
       "      <th>family_status_id</th>\n",
       "      <th>gender</th>\n",
       "      <th>income_type</th>\n",
       "      <th>debt</th>\n",
       "      <th>total_income</th>\n",
       "      <th>purpose</th>\n",
       "      <th>purpose_after_lemmatization</th>\n",
       "    </tr>\n",
       "  </thead>\n",
       "  <tbody>\n",
       "    <tr>\n",
       "      <td>0</td>\n",
       "      <td>1</td>\n",
       "      <td>8437</td>\n",
       "      <td>42</td>\n",
       "      <td>высшее</td>\n",
       "      <td>0</td>\n",
       "      <td>в браке</td>\n",
       "      <td>0</td>\n",
       "      <td>F</td>\n",
       "      <td>сотрудник</td>\n",
       "      <td>0</td>\n",
       "      <td>253875</td>\n",
       "      <td>покупка жилья</td>\n",
       "      <td>жилая недвижимость</td>\n",
       "    </tr>\n",
       "    <tr>\n",
       "      <td>1</td>\n",
       "      <td>1</td>\n",
       "      <td>4024</td>\n",
       "      <td>36</td>\n",
       "      <td>среднее</td>\n",
       "      <td>1</td>\n",
       "      <td>в браке</td>\n",
       "      <td>0</td>\n",
       "      <td>F</td>\n",
       "      <td>сотрудник</td>\n",
       "      <td>0</td>\n",
       "      <td>112080</td>\n",
       "      <td>приобретение автомобиля</td>\n",
       "      <td>автокредит</td>\n",
       "    </tr>\n",
       "    <tr>\n",
       "      <td>2</td>\n",
       "      <td>0</td>\n",
       "      <td>5623</td>\n",
       "      <td>33</td>\n",
       "      <td>среднее</td>\n",
       "      <td>1</td>\n",
       "      <td>в браке</td>\n",
       "      <td>0</td>\n",
       "      <td>M</td>\n",
       "      <td>сотрудник</td>\n",
       "      <td>0</td>\n",
       "      <td>145885</td>\n",
       "      <td>покупка жилья</td>\n",
       "      <td>жилая недвижимость</td>\n",
       "    </tr>\n",
       "    <tr>\n",
       "      <td>3</td>\n",
       "      <td>3</td>\n",
       "      <td>4124</td>\n",
       "      <td>32</td>\n",
       "      <td>среднее</td>\n",
       "      <td>1</td>\n",
       "      <td>в браке</td>\n",
       "      <td>0</td>\n",
       "      <td>M</td>\n",
       "      <td>сотрудник</td>\n",
       "      <td>0</td>\n",
       "      <td>267628</td>\n",
       "      <td>дополнительное образование</td>\n",
       "      <td>образование</td>\n",
       "    </tr>\n",
       "    <tr>\n",
       "      <td>4</td>\n",
       "      <td>0</td>\n",
       "      <td>340266</td>\n",
       "      <td>53</td>\n",
       "      <td>среднее</td>\n",
       "      <td>1</td>\n",
       "      <td>в браке</td>\n",
       "      <td>1</td>\n",
       "      <td>F</td>\n",
       "      <td>пенсионер</td>\n",
       "      <td>0</td>\n",
       "      <td>158616</td>\n",
       "      <td>сыграть свадьбу</td>\n",
       "      <td>свадьба</td>\n",
       "    </tr>\n",
       "  </tbody>\n",
       "</table>\n",
       "</div>"
      ],
      "text/plain": [
       "   children  days_employed  dob_years education  education_id family_status  \\\n",
       "0         1           8437         42    высшее             0       в браке   \n",
       "1         1           4024         36   среднее             1       в браке   \n",
       "2         0           5623         33   среднее             1       в браке   \n",
       "3         3           4124         32   среднее             1       в браке   \n",
       "4         0         340266         53   среднее             1       в браке   \n",
       "\n",
       "   family_status_id gender income_type  debt  total_income  \\\n",
       "0                 0      F   сотрудник     0        253875   \n",
       "1                 0      F   сотрудник     0        112080   \n",
       "2                 0      M   сотрудник     0        145885   \n",
       "3                 0      M   сотрудник     0        267628   \n",
       "4                 1      F   пенсионер     0        158616   \n",
       "\n",
       "                      purpose purpose_after_lemmatization  \n",
       "0               покупка жилья          жилая недвижимость  \n",
       "1     приобретение автомобиля                  автокредит  \n",
       "2               покупка жилья          жилая недвижимость  \n",
       "3  дополнительное образование                 образование  \n",
       "4             сыграть свадьбу                     свадьба  "
      ]
     },
     "metadata": {},
     "output_type": "display_data"
    }
   ],
   "source": [
    "df_edited['purpose_after_lemmatization'] = df_edited.apply(lemmatization_purpose, axis=1)\n",
    "display(df_edited.head())"
   ]
  },
  {
   "cell_type": "markdown",
   "metadata": {},
   "source": [
    "### Вывод"
   ]
  },
  {
   "cell_type": "markdown",
   "metadata": {},
   "source": [
    "*С помощью лемматизации находим основу каждого слова и добавляем его в новый столбец \"purpose_after_lemmatization\"*\n",
    "*Причиной использования лемматизации вместо стемминга является то, что лемматизация учитывает контекст и преобразует слово в его значимую базовую форму, тогда как стемминг просто удаляет последние несколько символов, что часто приводит к неверному значению и орфографическим ошибкам.*"
   ]
  },
  {
   "cell_type": "markdown",
   "metadata": {},
   "source": [
    "### Категоризация данных"
   ]
  },
  {
   "cell_type": "markdown",
   "metadata": {},
   "source": [
    "### Категоризация по целям кредита"
   ]
  },
  {
   "cell_type": "code",
   "execution_count": 38,
   "metadata": {},
   "outputs": [
    {
     "name": "stdout",
     "output_type": "stream",
     "text": [
      "жилая недвижимость           8893\n",
      "автокредит                   4306\n",
      "образование                  4013\n",
      "свадьба                      2324\n",
      "коммерческая недвижимость    1311\n",
      "ремонт жилья                  607\n",
      "Name: purpose_after_lemmatization, dtype: int64\n"
     ]
    }
   ],
   "source": [
    "print(df_edited['purpose_after_lemmatization'].value_counts())"
   ]
  },
  {
   "cell_type": "markdown",
   "metadata": {},
   "source": [
    "### Категоризация по доходу"
   ]
  },
  {
   "cell_type": "code",
   "execution_count": 39,
   "metadata": {},
   "outputs": [
    {
     "name": "stdout",
     "output_type": "stream",
     "text": [
      "(214618.2, 2265604.0]    4291\n",
      "(162638.8, 214618.2]     4291\n",
      "(98537.6, 135448.4]      4291\n",
      "(20666.999, 98537.6]     4291\n",
      "(135448.4, 162638.8]     4290\n",
      "Name: income_level, dtype: int64\n",
      "\n",
      "(151887.0, 161380.0]     2004\n",
      "(187304.4, 202417.0]     1527\n",
      "(331569.0, 2265604.0]    1073\n",
      "(64570.65, 78721.1]      1073\n",
      "(88734.35, 98537.6]      1073\n",
      "(98537.6, 107623.0]      1073\n",
      "(116008.6, 126296.55]    1073\n",
      "(126296.55, 135448.4]    1073\n",
      "(269825.5, 331569.0]     1073\n",
      "(141725.0, 151887.0]     1073\n",
      "(162638.8, 172464.9]     1073\n",
      "(172464.9, 187304.4]     1073\n",
      "(214618.2, 237540.55]    1073\n",
      "(20666.999, 64570.65]    1073\n",
      "(135448.4, 141725.0]     1072\n",
      "(107623.0, 116008.6]     1072\n",
      "(78721.1, 88734.35]      1072\n",
      "(237540.55, 269825.5]    1072\n",
      "(202417.0, 214618.2]      618\n",
      "(161380.0, 162638.8]      141\n",
      "Name: income_level_2, dtype: int64\n"
     ]
    }
   ],
   "source": [
    "#С помощью метода qcut() выделил 5 основных групп по доходу. Данный метод хорош тем, что мы для каждой группы выделили ровное кол-во строк\n",
    "\n",
    "df_edited['income_level'] = pd.qcut(df_edited['total_income'], 5)\n",
    "print(df_edited['income_level'].value_counts())\n",
    "print()\n",
    "\n",
    "df_edited['income_level_2'] = pd.qcut(df_edited['total_income'], 20) #Для проверки увеличим число категорий\n",
    "print(df_edited['income_level_2'].value_counts())"
   ]
  },
  {
   "cell_type": "markdown",
   "metadata": {},
   "source": [
    "### Вывод"
   ]
  },
  {
   "cell_type": "markdown",
   "metadata": {},
   "source": [
    "*Сделав категоризацию по доходу, можно будет ответь на вопрос \"Есть ли зависимость между уровнем дохода и возвратом кредита в срок?\"*"
   ]
  },
  {
   "cell_type": "markdown",
   "metadata": {},
   "source": [
    "### Шаг 3. Ответьте на вопросы"
   ]
  },
  {
   "cell_type": "markdown",
   "metadata": {},
   "source": [
    "- #### Есть ли зависимость между наличием детей и возвратом кредита в срок?"
   ]
  },
  {
   "cell_type": "code",
   "execution_count": 40,
   "metadata": {},
   "outputs": [
    {
     "data": {
      "text/html": [
       "<div>\n",
       "<style scoped>\n",
       "    .dataframe tbody tr th:only-of-type {\n",
       "        vertical-align: middle;\n",
       "    }\n",
       "\n",
       "    .dataframe tbody tr th {\n",
       "        vertical-align: top;\n",
       "    }\n",
       "\n",
       "    .dataframe thead th {\n",
       "        text-align: right;\n",
       "    }\n",
       "</style>\n",
       "<table border=\"1\" class=\"dataframe\">\n",
       "  <thead>\n",
       "    <tr style=\"text-align: right;\">\n",
       "      <th></th>\n",
       "      <th>Общее кол-во клиентов</th>\n",
       "      <th>Кол-во клиентов с долгами по кредиту</th>\n",
       "      <th>ratio</th>\n",
       "    </tr>\n",
       "    <tr>\n",
       "      <th>children</th>\n",
       "      <th></th>\n",
       "      <th></th>\n",
       "      <th></th>\n",
       "    </tr>\n",
       "  </thead>\n",
       "  <tbody>\n",
       "    <tr>\n",
       "      <td>0</td>\n",
       "      <td>14091</td>\n",
       "      <td>1063</td>\n",
       "      <td>7.54%</td>\n",
       "    </tr>\n",
       "    <tr>\n",
       "      <td>1</td>\n",
       "      <td>4855</td>\n",
       "      <td>445</td>\n",
       "      <td>9.17%</td>\n",
       "    </tr>\n",
       "    <tr>\n",
       "      <td>2</td>\n",
       "      <td>2128</td>\n",
       "      <td>202</td>\n",
       "      <td>9.49%</td>\n",
       "    </tr>\n",
       "    <tr>\n",
       "      <td>3</td>\n",
       "      <td>330</td>\n",
       "      <td>27</td>\n",
       "      <td>8.18%</td>\n",
       "    </tr>\n",
       "    <tr>\n",
       "      <td>4</td>\n",
       "      <td>41</td>\n",
       "      <td>4</td>\n",
       "      <td>9.76%</td>\n",
       "    </tr>\n",
       "    <tr>\n",
       "      <td>5</td>\n",
       "      <td>9</td>\n",
       "      <td>0</td>\n",
       "      <td>0.00%</td>\n",
       "    </tr>\n",
       "    <tr>\n",
       "      <td>All</td>\n",
       "      <td>21454</td>\n",
       "      <td>1741</td>\n",
       "      <td>8.12%</td>\n",
       "    </tr>\n",
       "  </tbody>\n",
       "</table>\n",
       "</div>"
      ],
      "text/plain": [
       "          Общее кол-во клиентов  Кол-во клиентов с долгами по кредиту  ratio\n",
       "children                                                                    \n",
       "0                         14091                                  1063  7.54%\n",
       "1                          4855                                   445  9.17%\n",
       "2                          2128                                   202  9.49%\n",
       "3                           330                                    27  8.18%\n",
       "4                            41                                     4  9.76%\n",
       "5                             9                                     0  0.00%\n",
       "All                       21454                                  1741  8.12%"
      ]
     },
     "execution_count": 40,
     "metadata": {},
     "output_type": "execute_result"
    }
   ],
   "source": [
    "df_edited_children = df_edited.copy()\n",
    "\n",
    "#Формируем сводную таблицу\n",
    "children_pivot = df_edited_children.pivot_table(index=['children'], values = 'debt', aggfunc = ['count', 'sum'], margins = True)\n",
    "children_pivot.columns = ['Общее кол-во клиентов', 'Кол-во клиентов с долгами по кредиту'] #Переименовываем столбцы\n",
    "children_pivot['ratio'] = children_pivot['Кол-во клиентов с долгами по кредиту'] / children_pivot['Общее кол-во клиентов']\n",
    "\n",
    "#Находим % соотношения\n",
    "children_pivot['ratio'] = children_pivot['ratio'].apply('{:.2%}'.format)\n",
    "children_pivot"
   ]
  },
  {
   "cell_type": "markdown",
   "metadata": {},
   "source": [
    "### Вывод"
   ]
  },
  {
   "cell_type": "markdown",
   "metadata": {},
   "source": [
    "*Соотношения не сильно варьируются между собой, чтобы сделать вывод, что присутствует зависимость. Можно заметить, что разница между отсутствием детей и их наличием имеется, но она не так велика, чтобы сделать заключение касательно наличия зависимости детей и возврата кредита в срок. Поэтому зависимости нет. Да и присутствуют клиенты, у которых 5 детей, но нет долгов по погашению.*"
   ]
  },
  {
   "cell_type": "markdown",
   "metadata": {},
   "source": [
    "- #### Есть ли зависимость между семейным положением и возвратом кредита в срок?"
   ]
  },
  {
   "cell_type": "code",
   "execution_count": 41,
   "metadata": {},
   "outputs": [
    {
     "data": {
      "text/html": [
       "<div>\n",
       "<style scoped>\n",
       "    .dataframe tbody tr th:only-of-type {\n",
       "        vertical-align: middle;\n",
       "    }\n",
       "\n",
       "    .dataframe tbody tr th {\n",
       "        vertical-align: top;\n",
       "    }\n",
       "\n",
       "    .dataframe thead th {\n",
       "        text-align: right;\n",
       "    }\n",
       "</style>\n",
       "<table border=\"1\" class=\"dataframe\">\n",
       "  <thead>\n",
       "    <tr style=\"text-align: right;\">\n",
       "      <th></th>\n",
       "      <th>Общее кол-во клиентов</th>\n",
       "      <th>Кол-во клиентов с долгами по кредиту</th>\n",
       "      <th>ratio</th>\n",
       "    </tr>\n",
       "    <tr>\n",
       "      <th>family_status</th>\n",
       "      <th></th>\n",
       "      <th></th>\n",
       "      <th></th>\n",
       "    </tr>\n",
       "  </thead>\n",
       "  <tbody>\n",
       "    <tr>\n",
       "      <td>в браке</td>\n",
       "      <td>16490</td>\n",
       "      <td>1319</td>\n",
       "      <td>8.00%</td>\n",
       "    </tr>\n",
       "    <tr>\n",
       "      <td>не в браке</td>\n",
       "      <td>4964</td>\n",
       "      <td>422</td>\n",
       "      <td>8.50%</td>\n",
       "    </tr>\n",
       "    <tr>\n",
       "      <td>All</td>\n",
       "      <td>21454</td>\n",
       "      <td>1741</td>\n",
       "      <td>8.12%</td>\n",
       "    </tr>\n",
       "  </tbody>\n",
       "</table>\n",
       "</div>"
      ],
      "text/plain": [
       "               Общее кол-во клиентов  Кол-во клиентов с долгами по кредиту  \\\n",
       "family_status                                                                \n",
       "в браке                        16490                                  1319   \n",
       "не в браке                      4964                                   422   \n",
       "All                            21454                                  1741   \n",
       "\n",
       "               ratio  \n",
       "family_status         \n",
       "в браке        8.00%  \n",
       "не в браке     8.50%  \n",
       "All            8.12%  "
      ]
     },
     "execution_count": 41,
     "metadata": {},
     "output_type": "execute_result"
    }
   ],
   "source": [
    "#Проводим все то, что делали выше с детьми\n",
    "family_pivot = df_edited.pivot_table(index=['family_status'], values = 'debt', aggfunc = ['count', 'sum'], margins = True)\n",
    "family_pivot.columns = ['Общее кол-во клиентов', 'Кол-во клиентов с долгами по кредиту']\n",
    "family_pivot['ratio'] = family_pivot['Кол-во клиентов с долгами по кредиту'] / family_pivot['Общее кол-во клиентов']\n",
    "family_pivot['ratio'] = family_pivot['ratio'].apply('{:.2%}'.format)\n",
    "family_pivot"
   ]
  },
  {
   "cell_type": "markdown",
   "metadata": {},
   "source": [
    "### Вывод"
   ]
  },
  {
   "cell_type": "markdown",
   "metadata": {},
   "source": [
    "*Соотношения между клиентами с долгами по кредиту и с клиентами без долгов выдают малые значения, для того, чтобы подвердить закономерность семейного положения и возврата кредита в срок.Поэтому закономерности нет*"
   ]
  },
  {
   "cell_type": "markdown",
   "metadata": {},
   "source": [
    "- #### Есть ли зависимость между уровнем дохода и возвратом кредита в срок?"
   ]
  },
  {
   "cell_type": "code",
   "execution_count": 42,
   "metadata": {},
   "outputs": [
    {
     "data": {
      "text/html": [
       "<div>\n",
       "<style scoped>\n",
       "    .dataframe tbody tr th:only-of-type {\n",
       "        vertical-align: middle;\n",
       "    }\n",
       "\n",
       "    .dataframe tbody tr th {\n",
       "        vertical-align: top;\n",
       "    }\n",
       "\n",
       "    .dataframe thead th {\n",
       "        text-align: right;\n",
       "    }\n",
       "</style>\n",
       "<table border=\"1\" class=\"dataframe\">\n",
       "  <thead>\n",
       "    <tr style=\"text-align: right;\">\n",
       "      <th></th>\n",
       "      <th>Общее кол-во клиентов</th>\n",
       "      <th>Кол-во клиентов с долгами по кредиту</th>\n",
       "      <th>ratio</th>\n",
       "    </tr>\n",
       "    <tr>\n",
       "      <th>income_level</th>\n",
       "      <th></th>\n",
       "      <th></th>\n",
       "      <th></th>\n",
       "    </tr>\n",
       "  </thead>\n",
       "  <tbody>\n",
       "    <tr>\n",
       "      <td>(20666.999, 98537.6]</td>\n",
       "      <td>4291</td>\n",
       "      <td>344</td>\n",
       "      <td>8.02%</td>\n",
       "    </tr>\n",
       "    <tr>\n",
       "      <td>(98537.6, 135448.4]</td>\n",
       "      <td>4291</td>\n",
       "      <td>355</td>\n",
       "      <td>8.27%</td>\n",
       "    </tr>\n",
       "    <tr>\n",
       "      <td>(135448.4, 162638.8]</td>\n",
       "      <td>4290</td>\n",
       "      <td>384</td>\n",
       "      <td>8.95%</td>\n",
       "    </tr>\n",
       "    <tr>\n",
       "      <td>(162638.8, 214618.2]</td>\n",
       "      <td>4291</td>\n",
       "      <td>358</td>\n",
       "      <td>8.34%</td>\n",
       "    </tr>\n",
       "    <tr>\n",
       "      <td>(214618.2, 2265604.0]</td>\n",
       "      <td>4291</td>\n",
       "      <td>300</td>\n",
       "      <td>6.99%</td>\n",
       "    </tr>\n",
       "    <tr>\n",
       "      <td>All</td>\n",
       "      <td>21454</td>\n",
       "      <td>1741</td>\n",
       "      <td>8.12%</td>\n",
       "    </tr>\n",
       "  </tbody>\n",
       "</table>\n",
       "</div>"
      ],
      "text/plain": [
       "                       Общее кол-во клиентов  \\\n",
       "income_level                                   \n",
       "(20666.999, 98537.6]                    4291   \n",
       "(98537.6, 135448.4]                     4291   \n",
       "(135448.4, 162638.8]                    4290   \n",
       "(162638.8, 214618.2]                    4291   \n",
       "(214618.2, 2265604.0]                   4291   \n",
       "All                                    21454   \n",
       "\n",
       "                       Кол-во клиентов с долгами по кредиту  ratio  \n",
       "income_level                                                        \n",
       "(20666.999, 98537.6]                                    344  8.02%  \n",
       "(98537.6, 135448.4]                                     355  8.27%  \n",
       "(135448.4, 162638.8]                                    384  8.95%  \n",
       "(162638.8, 214618.2]                                    358  8.34%  \n",
       "(214618.2, 2265604.0]                                   300  6.99%  \n",
       "All                                                    1741  8.12%  "
      ]
     },
     "metadata": {},
     "output_type": "display_data"
    },
    {
     "name": "stdout",
     "output_type": "stream",
     "text": [
      "\n"
     ]
    },
    {
     "data": {
      "text/html": [
       "<div>\n",
       "<style scoped>\n",
       "    .dataframe tbody tr th:only-of-type {\n",
       "        vertical-align: middle;\n",
       "    }\n",
       "\n",
       "    .dataframe tbody tr th {\n",
       "        vertical-align: top;\n",
       "    }\n",
       "\n",
       "    .dataframe thead th {\n",
       "        text-align: right;\n",
       "    }\n",
       "</style>\n",
       "<table border=\"1\" class=\"dataframe\">\n",
       "  <thead>\n",
       "    <tr style=\"text-align: right;\">\n",
       "      <th></th>\n",
       "      <th>Общее кол-во клиентов</th>\n",
       "      <th>Кол-во клиентов с долгами по кредиту</th>\n",
       "      <th>ratio</th>\n",
       "    </tr>\n",
       "    <tr>\n",
       "      <th>income_level_2</th>\n",
       "      <th></th>\n",
       "      <th></th>\n",
       "      <th></th>\n",
       "    </tr>\n",
       "  </thead>\n",
       "  <tbody>\n",
       "    <tr>\n",
       "      <td>(20666.999, 64570.65]</td>\n",
       "      <td>1073</td>\n",
       "      <td>71</td>\n",
       "      <td>6.62%</td>\n",
       "    </tr>\n",
       "    <tr>\n",
       "      <td>(64570.65, 78721.1]</td>\n",
       "      <td>1073</td>\n",
       "      <td>86</td>\n",
       "      <td>8.01%</td>\n",
       "    </tr>\n",
       "    <tr>\n",
       "      <td>(78721.1, 88734.35]</td>\n",
       "      <td>1072</td>\n",
       "      <td>90</td>\n",
       "      <td>8.40%</td>\n",
       "    </tr>\n",
       "    <tr>\n",
       "      <td>(88734.35, 98537.6]</td>\n",
       "      <td>1073</td>\n",
       "      <td>97</td>\n",
       "      <td>9.04%</td>\n",
       "    </tr>\n",
       "    <tr>\n",
       "      <td>(98537.6, 107623.0]</td>\n",
       "      <td>1073</td>\n",
       "      <td>83</td>\n",
       "      <td>7.74%</td>\n",
       "    </tr>\n",
       "    <tr>\n",
       "      <td>(107623.0, 116008.6]</td>\n",
       "      <td>1072</td>\n",
       "      <td>96</td>\n",
       "      <td>8.96%</td>\n",
       "    </tr>\n",
       "    <tr>\n",
       "      <td>(116008.6, 126296.55]</td>\n",
       "      <td>1073</td>\n",
       "      <td>98</td>\n",
       "      <td>9.13%</td>\n",
       "    </tr>\n",
       "    <tr>\n",
       "      <td>(126296.55, 135448.4]</td>\n",
       "      <td>1073</td>\n",
       "      <td>78</td>\n",
       "      <td>7.27%</td>\n",
       "    </tr>\n",
       "    <tr>\n",
       "      <td>(135448.4, 141725.0]</td>\n",
       "      <td>1072</td>\n",
       "      <td>100</td>\n",
       "      <td>9.33%</td>\n",
       "    </tr>\n",
       "    <tr>\n",
       "      <td>(141725.0, 151887.0]</td>\n",
       "      <td>1073</td>\n",
       "      <td>103</td>\n",
       "      <td>9.60%</td>\n",
       "    </tr>\n",
       "    <tr>\n",
       "      <td>(151887.0, 161380.0]</td>\n",
       "      <td>2004</td>\n",
       "      <td>171</td>\n",
       "      <td>8.53%</td>\n",
       "    </tr>\n",
       "    <tr>\n",
       "      <td>(161380.0, 162638.8]</td>\n",
       "      <td>141</td>\n",
       "      <td>10</td>\n",
       "      <td>7.09%</td>\n",
       "    </tr>\n",
       "    <tr>\n",
       "      <td>(162638.8, 172464.9]</td>\n",
       "      <td>1073</td>\n",
       "      <td>101</td>\n",
       "      <td>9.41%</td>\n",
       "    </tr>\n",
       "    <tr>\n",
       "      <td>(172464.9, 187304.4]</td>\n",
       "      <td>1073</td>\n",
       "      <td>89</td>\n",
       "      <td>8.29%</td>\n",
       "    </tr>\n",
       "    <tr>\n",
       "      <td>(187304.4, 202417.0]</td>\n",
       "      <td>1527</td>\n",
       "      <td>123</td>\n",
       "      <td>8.06%</td>\n",
       "    </tr>\n",
       "    <tr>\n",
       "      <td>(202417.0, 214618.2]</td>\n",
       "      <td>618</td>\n",
       "      <td>45</td>\n",
       "      <td>7.28%</td>\n",
       "    </tr>\n",
       "    <tr>\n",
       "      <td>(214618.2, 237540.55]</td>\n",
       "      <td>1073</td>\n",
       "      <td>75</td>\n",
       "      <td>6.99%</td>\n",
       "    </tr>\n",
       "    <tr>\n",
       "      <td>(237540.55, 269825.5]</td>\n",
       "      <td>1072</td>\n",
       "      <td>74</td>\n",
       "      <td>6.90%</td>\n",
       "    </tr>\n",
       "    <tr>\n",
       "      <td>(269825.5, 331569.0]</td>\n",
       "      <td>1073</td>\n",
       "      <td>76</td>\n",
       "      <td>7.08%</td>\n",
       "    </tr>\n",
       "    <tr>\n",
       "      <td>(331569.0, 2265604.0]</td>\n",
       "      <td>1073</td>\n",
       "      <td>75</td>\n",
       "      <td>6.99%</td>\n",
       "    </tr>\n",
       "    <tr>\n",
       "      <td>All</td>\n",
       "      <td>21454</td>\n",
       "      <td>1741</td>\n",
       "      <td>8.12%</td>\n",
       "    </tr>\n",
       "  </tbody>\n",
       "</table>\n",
       "</div>"
      ],
      "text/plain": [
       "                       Общее кол-во клиентов  \\\n",
       "income_level_2                                 \n",
       "(20666.999, 64570.65]                   1073   \n",
       "(64570.65, 78721.1]                     1073   \n",
       "(78721.1, 88734.35]                     1072   \n",
       "(88734.35, 98537.6]                     1073   \n",
       "(98537.6, 107623.0]                     1073   \n",
       "(107623.0, 116008.6]                    1072   \n",
       "(116008.6, 126296.55]                   1073   \n",
       "(126296.55, 135448.4]                   1073   \n",
       "(135448.4, 141725.0]                    1072   \n",
       "(141725.0, 151887.0]                    1073   \n",
       "(151887.0, 161380.0]                    2004   \n",
       "(161380.0, 162638.8]                     141   \n",
       "(162638.8, 172464.9]                    1073   \n",
       "(172464.9, 187304.4]                    1073   \n",
       "(187304.4, 202417.0]                    1527   \n",
       "(202417.0, 214618.2]                     618   \n",
       "(214618.2, 237540.55]                   1073   \n",
       "(237540.55, 269825.5]                   1072   \n",
       "(269825.5, 331569.0]                    1073   \n",
       "(331569.0, 2265604.0]                   1073   \n",
       "All                                    21454   \n",
       "\n",
       "                       Кол-во клиентов с долгами по кредиту  ratio  \n",
       "income_level_2                                                      \n",
       "(20666.999, 64570.65]                                    71  6.62%  \n",
       "(64570.65, 78721.1]                                      86  8.01%  \n",
       "(78721.1, 88734.35]                                      90  8.40%  \n",
       "(88734.35, 98537.6]                                      97  9.04%  \n",
       "(98537.6, 107623.0]                                      83  7.74%  \n",
       "(107623.0, 116008.6]                                     96  8.96%  \n",
       "(116008.6, 126296.55]                                    98  9.13%  \n",
       "(126296.55, 135448.4]                                    78  7.27%  \n",
       "(135448.4, 141725.0]                                    100  9.33%  \n",
       "(141725.0, 151887.0]                                    103  9.60%  \n",
       "(151887.0, 161380.0]                                    171  8.53%  \n",
       "(161380.0, 162638.8]                                     10  7.09%  \n",
       "(162638.8, 172464.9]                                    101  9.41%  \n",
       "(172464.9, 187304.4]                                     89  8.29%  \n",
       "(187304.4, 202417.0]                                    123  8.06%  \n",
       "(202417.0, 214618.2]                                     45  7.28%  \n",
       "(214618.2, 237540.55]                                    75  6.99%  \n",
       "(237540.55, 269825.5]                                    74  6.90%  \n",
       "(269825.5, 331569.0]                                     76  7.08%  \n",
       "(331569.0, 2265604.0]                                    75  6.99%  \n",
       "All                                                    1741  8.12%  "
      ]
     },
     "metadata": {},
     "output_type": "display_data"
    }
   ],
   "source": [
    "#Категоризацию по уровню дохода мы уже провели во 2 шаге\n",
    "\n",
    "#Проводим все то, что делали выше с детьми\n",
    "\n",
    "income_pivot = df_edited.pivot_table(index = 'income_level', values = 'debt', aggfunc = ['count', 'sum'], margins = True)\n",
    "income_pivot.columns = ['Общее кол-во клиентов', 'Кол-во клиентов с долгами по кредиту']\n",
    "income_pivot['ratio'] = income_pivot['Кол-во клиентов с долгами по кредиту'] / income_pivot['Общее кол-во клиентов']\n",
    "income_pivot['ratio'] = income_pivot['ratio'].apply('{:.2%}'.format)\n",
    "display(income_pivot)\n",
    "print()\n",
    "\n",
    "#Построим 2 св. таблицу для проверки и анализа в сравнение с 1\n",
    "income_pivot2 = df_edited.pivot_table(index = 'income_level_2', values = 'debt', aggfunc = ['count', 'sum'], margins = True)\n",
    "income_pivot2.columns = ['Общее кол-во клиентов', 'Кол-во клиентов с долгами по кредиту']\n",
    "income_pivot2['ratio'] = income_pivot2['Кол-во клиентов с долгами по кредиту'] / income_pivot2['Общее кол-во клиентов']\n",
    "income_pivot2['ratio'] = income_pivot2['ratio'].apply('{:.2%}'.format)\n",
    "display(income_pivot2)"
   ]
  },
  {
   "cell_type": "markdown",
   "metadata": {},
   "source": [
    "### Вывод"
   ]
  },
  {
   "cell_type": "markdown",
   "metadata": {},
   "source": [
    "*Общая картина показывает, что зависимость между уровнем дохода и возвратом кредита скачут между собой, но в целом варьируются между собой +/- одинаково, потому зависимости здесь нет. Разница между 2 св. таблицами тоже не велика. Это связано с тем, что эти значения являются случайными величинами и здесь больше подходит расчет коэф. корреляции*"
   ]
  },
  {
   "cell_type": "markdown",
   "metadata": {},
   "source": [
    "- #### Как разные цели кредита влияют на его возврат в срок?"
   ]
  },
  {
   "cell_type": "code",
   "execution_count": 43,
   "metadata": {},
   "outputs": [
    {
     "data": {
      "text/html": [
       "<div>\n",
       "<style scoped>\n",
       "    .dataframe tbody tr th:only-of-type {\n",
       "        vertical-align: middle;\n",
       "    }\n",
       "\n",
       "    .dataframe tbody tr th {\n",
       "        vertical-align: top;\n",
       "    }\n",
       "\n",
       "    .dataframe thead th {\n",
       "        text-align: right;\n",
       "    }\n",
       "</style>\n",
       "<table border=\"1\" class=\"dataframe\">\n",
       "  <thead>\n",
       "    <tr style=\"text-align: right;\">\n",
       "      <th></th>\n",
       "      <th>Общее кол-во клиентов</th>\n",
       "      <th>Кол-во клиентов с долгами по кредиту</th>\n",
       "      <th>ratio</th>\n",
       "    </tr>\n",
       "    <tr>\n",
       "      <th>purpose_after_lemmatization</th>\n",
       "      <th></th>\n",
       "      <th></th>\n",
       "      <th></th>\n",
       "    </tr>\n",
       "  </thead>\n",
       "  <tbody>\n",
       "    <tr>\n",
       "      <td>автокредит</td>\n",
       "      <td>4306</td>\n",
       "      <td>403</td>\n",
       "      <td>9.36%</td>\n",
       "    </tr>\n",
       "    <tr>\n",
       "      <td>жилая недвижимость</td>\n",
       "      <td>8893</td>\n",
       "      <td>648</td>\n",
       "      <td>7.29%</td>\n",
       "    </tr>\n",
       "    <tr>\n",
       "      <td>коммерческая недвижимость</td>\n",
       "      <td>1311</td>\n",
       "      <td>99</td>\n",
       "      <td>7.55%</td>\n",
       "    </tr>\n",
       "    <tr>\n",
       "      <td>образование</td>\n",
       "      <td>4013</td>\n",
       "      <td>370</td>\n",
       "      <td>9.22%</td>\n",
       "    </tr>\n",
       "    <tr>\n",
       "      <td>ремонт жилья</td>\n",
       "      <td>607</td>\n",
       "      <td>35</td>\n",
       "      <td>5.77%</td>\n",
       "    </tr>\n",
       "    <tr>\n",
       "      <td>свадьба</td>\n",
       "      <td>2324</td>\n",
       "      <td>186</td>\n",
       "      <td>8.00%</td>\n",
       "    </tr>\n",
       "    <tr>\n",
       "      <td>All</td>\n",
       "      <td>21454</td>\n",
       "      <td>1741</td>\n",
       "      <td>8.12%</td>\n",
       "    </tr>\n",
       "  </tbody>\n",
       "</table>\n",
       "</div>"
      ],
      "text/plain": [
       "                             Общее кол-во клиентов  \\\n",
       "purpose_after_lemmatization                          \n",
       "автокредит                                    4306   \n",
       "жилая недвижимость                            8893   \n",
       "коммерческая недвижимость                     1311   \n",
       "образование                                   4013   \n",
       "ремонт жилья                                   607   \n",
       "свадьба                                       2324   \n",
       "All                                          21454   \n",
       "\n",
       "                             Кол-во клиентов с долгами по кредиту  ratio  \n",
       "purpose_after_lemmatization                                               \n",
       "автокредит                                                    403  9.36%  \n",
       "жилая недвижимость                                            648  7.29%  \n",
       "коммерческая недвижимость                                      99  7.55%  \n",
       "образование                                                   370  9.22%  \n",
       "ремонт жилья                                                   35  5.77%  \n",
       "свадьба                                                       186  8.00%  \n",
       "All                                                          1741  8.12%  "
      ]
     },
     "execution_count": 43,
     "metadata": {},
     "output_type": "execute_result"
    }
   ],
   "source": [
    "purpose_pivot = df_edited.pivot_table(index = 'purpose_after_lemmatization', values = 'debt', aggfunc = ['count', 'sum'], margins = True)\n",
    "purpose_pivot.columns = ['Общее кол-во клиентов', 'Кол-во клиентов с долгами по кредиту']\n",
    "purpose_pivot['ratio'] = purpose_pivot['Кол-во клиентов с долгами по кредиту'] / purpose_pivot['Общее кол-во клиентов']\n",
    "purpose_pivot['ratio'] = purpose_pivot['ratio'].apply('{:.2%}'.format)\n",
    "purpose_pivot"
   ]
  },
  {
   "cell_type": "markdown",
   "metadata": {},
   "source": [
    "### Вывод"
   ]
  },
  {
   "cell_type": "markdown",
   "metadata": {},
   "source": [
    "*Общая картина показывает, что цели кредита не влияют на его своевременное погошение, так как на кол-во клиентов, у которых имеются долги по погашению, приходит малая доля. Единственное, что можно заметить - клиенты, которые берут кредит на ремонт жилья, погашают кредит более успешно, чем другие другие*"
   ]
  },
  {
   "cell_type": "markdown",
   "metadata": {},
   "source": [
    "### Шаг 4. Общий вывод"
   ]
  },
  {
   "cell_type": "markdown",
   "metadata": {},
   "source": [
    "## **Общий вывод по работе**\n",
    "\n",
    "### Изучение датафрейма\n",
    "1. Первым шагом было изучение данных. В ходе проверки было выявлено: 2174 строк с пропущенными значениями в столбцах \"Стаж\" и \"Доход\", из 2174 строк 71 являлись дубликатами. Нашлись отрицательные значения в столбцах \"Стаж\" и \"Количество детей\", также были 0-ые значения в столбце \"Возраст клиента\". Столбец \"Степень образования\" имел не общий формат заполнения (Текст был записан либо прописью, либо заглавными). Столбец \"Пол клиента\" содержал данные \"XNA\", я так и не понял что это за ошибка, или это гендерное предрасположенность. Столбец \"Цель кредита\" содержал разные по содержанию текст, но имеющий общий смысловой вид.\n",
    "\n",
    "*Причинами появления пропущенных и отрицательных данных могут быть различными (Технические (при перемещение данных из одной среды в другую), ошибка заполняюшего эти данные, ошибка ответственных по вводу данных в базу, ошибка людей, кто формировал данный отчет и т.д.)*\n",
    "\n",
    "### Предобработка данных\n",
    "1. Исправляем отрицательные значения в столбцах \"Стаж\" и \"Количество детей\" с помощью функцией abs(), которая возвадила в модуль отрицательные значения;\n",
    "\n",
    "2. Заполняем пропуски в столбцах \"Стаж\" и \"Доход\". Столбец \"Доход\" заполняет средними величинами в зависимости от типа занятости. Столбец \"Стаж\" заполняем средними величинаи в зависимости от возраста клиента. 0-ые значения в столбце \"Возраст клиента\" заменяем средними величинами в зависимости от типа занятости\n",
    "\n",
    "3. Убираем дубликаты с помощью метода drop_duplicates()\n",
    "\n",
    "4. Замена типа данных было в столбцах \"Стаж\" и \"Доход\". Стаж считался в днях, а доход имел много цифр после целого значения (после точки/запятой), поэтому желательно иметь данные в целочичленном формате, а не в дробном. Использовался метод astype() со значением 'int'. to_numeric() отпадает, так как его конечный результат это вещественные числа, а не целые.\n",
    "\n",
    "5. Чтобы провести категоризацию по целям кредита, следует вначале сделать лемматизацию столбца \"Цель кредита\", а после вытаскивать основное слово. Цель кредита запишем в новом столбце \"main_purpose\", предварительно заменив \"жилье\" на \"недвижимость\". Категоризация по уровню дохода сделаем с помощью метода qcut(), который позволит разбить по квантилям данных\n",
    "\n",
    "### Работа с поставленными вопросами\n",
    "1. Есть ли зависимость между наличием детей и возвратом кредита в срок?\n",
    "*Исправляем значение 20 на 2 в столбце \"Кол-во детей\". Формируем сводную таблицу, в которой указываем общее число клиентов с детьми и клиентов, у которых есть дети и долг по кредиту. Находим % содержание и выявляем, что зависимости нет, так как на клиентов с детьми в независимости от числа детей и долгами по кредиту приходит малая доля*\n",
    "\n",
    "2. Есть ли зависимость между семейным положением и возвратом кредита в срок?\n",
    "*Соотношения между клиентами с долгами по кредиту и с клиентами без долгов выдают малые значения, для того, чтобы подвердить закономерность семейного положения и возврата кредита в срок. Хотя если рассматривать категорию \"Не женат / не замужем\", то можно сказать, что каждый десятый имеет долг по погашению, но даже так это не будет являться большой долей для подтверждения зависимости. Поэтому закономерности нет*\n",
    "\n",
    "3. Есть ли зависимость между уровнем дохода и возвратом кредита в срок?\n",
    "*Общая картина показывает, что зависимость между уровнем дохода и возвратом кредита скачут между собой, но в целом варьируются между собой +/- одинаково, потому зависимости здесь нет. Было построены 2 св. таблицы для анализа, но они выдали примерно одинаковые результаты. Это связано с тем, что эти значения являются случайными величинами и здесь больше подходит расчет коэф. корреляции*\n",
    "\n",
    "4. Как разные цели кредита влияют на его возврат в срок?\n",
    "*Общая картина показывает, что цели кредита не влияют на его своевременное погошение, так как на кол-во клиентов, у которых имеются долги по погашению, приходит малая доля*"
   ]
  }
 ],
 "metadata": {
  "kernelspec": {
   "display_name": "Python 3",
   "language": "python",
   "name": "python3"
  },
  "language_info": {
   "codemirror_mode": {
    "name": "ipython",
    "version": 3
   },
   "file_extension": ".py",
   "mimetype": "text/x-python",
   "name": "python",
   "nbconvert_exporter": "python",
   "pygments_lexer": "ipython3",
   "version": "3.8.6"
  },
  "toc": {
   "base_numbering": 1,
   "nav_menu": {},
   "number_sections": false,
   "sideBar": true,
   "skip_h1_title": true,
   "title_cell": "Table of Contents",
   "title_sidebar": "Contents",
   "toc_cell": false,
   "toc_position": {},
   "toc_section_display": true,
   "toc_window_display": false
  }
 },
 "nbformat": 4,
 "nbformat_minor": 2
}
