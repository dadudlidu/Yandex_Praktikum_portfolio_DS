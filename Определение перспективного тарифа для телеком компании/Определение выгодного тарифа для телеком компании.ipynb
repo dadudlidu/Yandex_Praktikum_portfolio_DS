{
 "cells": [
  {
   "cell_type": "markdown",
   "metadata": {},
   "source": [
    "# Определение перспективного тарифа для телеком компании\n",
    "\n",
    "Вы аналитик компании «Мегалайн» — федерального оператора сотовой связи. Клиентам предлагают два тарифных плана: «Смарт» и «Ультра». Чтобы скорректировать рекламный бюджет, коммерческий департамент хочет понять, какой тариф приносит больше денег.\n",
    "\n",
    "Вам предстоит сделать предварительный анализ тарифов на небольшой выборке клиентов. В вашем распоряжении данные 500 пользователей «Мегалайна»: кто они, откуда, каким тарифом пользуются, сколько звонков и сообщений каждый отправил за 2018 год. Нужно проанализировать поведение клиентов и сделать вывод — какой тариф лучше."
   ]
  },
  {
   "cell_type": "markdown",
   "metadata": {},
   "source": [
    "## Описание тарифов\n",
    "\n",
    "### Тариф «Смарт»\n",
    "1. Ежемесячная плата: 550 рублей\n",
    "2. Включено 500 минут разговора, 50 сообщений и 15 Гб интернет-трафика\n",
    "3. Стоимость услуг сверх тарифного пакета:\n",
    "\n",
    "- минута разговора: 3 рубля\n",
    "- сообщение: 3 рубля\n",
    "- 1 Гб интернет-трафика: 200 рублей\n",
    "\n",
    "### Тариф «Ультра»\n",
    "1. Ежемесячная плата: 1950 рублей\n",
    "2. Включено 3000 минут разговора, 1000 сообщений и 30 Гб интернет-трафика\n",
    "3. Стоимость услуг сверх тарифного пакета:\n",
    "\n",
    "- минута разговора: 1 рубль\n",
    "- сообщение: 1 рубль\n",
    "- 1 Гб интернет-трафика: 150 рублей\n",
    "\n",
    "**Обратите внимание:** *«Мегалайн» всегда округляет вверх значения минут и мегабайтов. Если пользователь проговорил всего 1 секунду, в тарифе засчитывается целая минута.*"
   ]
  },
  {
   "cell_type": "markdown",
   "metadata": {},
   "source": [
    "### Шаг 1. Откройте файл с данными и изучите общую информацию. "
   ]
  },
  {
   "cell_type": "code",
   "execution_count": 1,
   "metadata": {},
   "outputs": [],
   "source": [
    "import numpy as np\n",
    "import pandas as pd\n",
    "import matplotlib.pyplot as plt\n",
    "from scipy import stats as st\n",
    "import math\n",
    "\n",
    "import warnings\n",
    "\n",
    "from pandas_profiling import ProfileReport"
   ]
  },
  {
   "cell_type": "code",
   "execution_count": 2,
   "metadata": {},
   "outputs": [],
   "source": [
    "warnings.filterwarnings('ignore') \n",
    "%matplotlib inline"
   ]
  },
  {
   "cell_type": "code",
   "execution_count": 3,
   "metadata": {},
   "outputs": [],
   "source": [
    "calls = pd.read_csv('/datasets/calls.csv')\n",
    "internet = pd.read_csv('/datasets/internet.csv')\n",
    "messages = pd.read_csv('/datasets/messages.csv')\n",
    "tariffs = pd.read_csv('/datasets/tariffs.csv')\n",
    "users = pd.read_csv('/datasets/users.csv')"
   ]
  },
  {
   "cell_type": "code",
   "execution_count": 4,
   "metadata": {},
   "outputs": [],
   "source": [
    "def df_info(df):\n",
    "    df.info()\n",
    "    display(df.head(10))\n",
    "    print()\n",
    "    print(f'Кол-во пропусков: {df.isnull().sum()}')\n",
    "    print()\n",
    "    print(f'Кол-во дубликатов: {df.duplicated().sum()}')"
   ]
  },
  {
   "cell_type": "markdown",
   "metadata": {},
   "source": [
    "#### Звонки"
   ]
  },
  {
   "cell_type": "code",
   "execution_count": 5,
   "metadata": {},
   "outputs": [
    {
     "name": "stdout",
     "output_type": "stream",
     "text": [
      "<class 'pandas.core.frame.DataFrame'>\n",
      "RangeIndex: 202607 entries, 0 to 202606\n",
      "Data columns (total 4 columns):\n",
      " #   Column     Non-Null Count   Dtype  \n",
      "---  ------     --------------   -----  \n",
      " 0   id         202607 non-null  object \n",
      " 1   call_date  202607 non-null  object \n",
      " 2   duration   202607 non-null  float64\n",
      " 3   user_id    202607 non-null  int64  \n",
      "dtypes: float64(1), int64(1), object(2)\n",
      "memory usage: 6.2+ MB\n"
     ]
    },
    {
     "data": {
      "text/html": [
       "<div>\n",
       "<style scoped>\n",
       "    .dataframe tbody tr th:only-of-type {\n",
       "        vertical-align: middle;\n",
       "    }\n",
       "\n",
       "    .dataframe tbody tr th {\n",
       "        vertical-align: top;\n",
       "    }\n",
       "\n",
       "    .dataframe thead th {\n",
       "        text-align: right;\n",
       "    }\n",
       "</style>\n",
       "<table border=\"1\" class=\"dataframe\">\n",
       "  <thead>\n",
       "    <tr style=\"text-align: right;\">\n",
       "      <th></th>\n",
       "      <th>id</th>\n",
       "      <th>call_date</th>\n",
       "      <th>duration</th>\n",
       "      <th>user_id</th>\n",
       "    </tr>\n",
       "  </thead>\n",
       "  <tbody>\n",
       "    <tr>\n",
       "      <th>0</th>\n",
       "      <td>1000_0</td>\n",
       "      <td>2018-07-25</td>\n",
       "      <td>0.00</td>\n",
       "      <td>1000</td>\n",
       "    </tr>\n",
       "    <tr>\n",
       "      <th>1</th>\n",
       "      <td>1000_1</td>\n",
       "      <td>2018-08-17</td>\n",
       "      <td>0.00</td>\n",
       "      <td>1000</td>\n",
       "    </tr>\n",
       "    <tr>\n",
       "      <th>2</th>\n",
       "      <td>1000_2</td>\n",
       "      <td>2018-06-11</td>\n",
       "      <td>2.85</td>\n",
       "      <td>1000</td>\n",
       "    </tr>\n",
       "    <tr>\n",
       "      <th>3</th>\n",
       "      <td>1000_3</td>\n",
       "      <td>2018-09-21</td>\n",
       "      <td>13.80</td>\n",
       "      <td>1000</td>\n",
       "    </tr>\n",
       "    <tr>\n",
       "      <th>4</th>\n",
       "      <td>1000_4</td>\n",
       "      <td>2018-12-15</td>\n",
       "      <td>5.18</td>\n",
       "      <td>1000</td>\n",
       "    </tr>\n",
       "    <tr>\n",
       "      <th>5</th>\n",
       "      <td>1000_5</td>\n",
       "      <td>2018-11-02</td>\n",
       "      <td>0.00</td>\n",
       "      <td>1000</td>\n",
       "    </tr>\n",
       "    <tr>\n",
       "      <th>6</th>\n",
       "      <td>1000_6</td>\n",
       "      <td>2018-10-18</td>\n",
       "      <td>0.00</td>\n",
       "      <td>1000</td>\n",
       "    </tr>\n",
       "    <tr>\n",
       "      <th>7</th>\n",
       "      <td>1000_7</td>\n",
       "      <td>2018-08-22</td>\n",
       "      <td>18.31</td>\n",
       "      <td>1000</td>\n",
       "    </tr>\n",
       "    <tr>\n",
       "      <th>8</th>\n",
       "      <td>1000_8</td>\n",
       "      <td>2018-09-15</td>\n",
       "      <td>18.44</td>\n",
       "      <td>1000</td>\n",
       "    </tr>\n",
       "    <tr>\n",
       "      <th>9</th>\n",
       "      <td>1000_9</td>\n",
       "      <td>2018-08-15</td>\n",
       "      <td>0.00</td>\n",
       "      <td>1000</td>\n",
       "    </tr>\n",
       "  </tbody>\n",
       "</table>\n",
       "</div>"
      ],
      "text/plain": [
       "       id   call_date  duration  user_id\n",
       "0  1000_0  2018-07-25      0.00     1000\n",
       "1  1000_1  2018-08-17      0.00     1000\n",
       "2  1000_2  2018-06-11      2.85     1000\n",
       "3  1000_3  2018-09-21     13.80     1000\n",
       "4  1000_4  2018-12-15      5.18     1000\n",
       "5  1000_5  2018-11-02      0.00     1000\n",
       "6  1000_6  2018-10-18      0.00     1000\n",
       "7  1000_7  2018-08-22     18.31     1000\n",
       "8  1000_8  2018-09-15     18.44     1000\n",
       "9  1000_9  2018-08-15      0.00     1000"
      ]
     },
     "metadata": {},
     "output_type": "display_data"
    },
    {
     "name": "stdout",
     "output_type": "stream",
     "text": [
      "\n",
      "Кол-во пропусков: id           0\n",
      "call_date    0\n",
      "duration     0\n",
      "user_id      0\n",
      "dtype: int64\n",
      "\n",
      "Кол-во дубликатов: 0\n"
     ]
    }
   ],
   "source": [
    "df_info(calls)"
   ]
  },
  {
   "cell_type": "markdown",
   "metadata": {},
   "source": [
    "*Мы знаем, что оператор округляет минуты вверх. Проверим значения*"
   ]
  },
  {
   "cell_type": "code",
   "execution_count": 6,
   "metadata": {},
   "outputs": [
    {
     "name": "stdout",
     "output_type": "stream",
     "text": [
      "47927\n"
     ]
    }
   ],
   "source": [
    "print(len(calls.query('duration < 1')))"
   ]
  },
  {
   "cell_type": "markdown",
   "metadata": {},
   "source": [
    "*47 927 данных, где длительность разговора была меньше 1 минуты*"
   ]
  },
  {
   "cell_type": "markdown",
   "metadata": {},
   "source": [
    "*Во втором шаге нужно будет перевести 'call_date' к типу DateTime*\n",
    "*Мы значем, что оператор округляет вверх значения минут, но почему-то 48 тыс данных имеют значения меньше 1*\n",
    "*0-ые значения заменим на 1, а остальные данные округлим с помощью np.ceil*"
   ]
  },
  {
   "cell_type": "markdown",
   "metadata": {},
   "source": [
    "#### Интернет"
   ]
  },
  {
   "cell_type": "code",
   "execution_count": 7,
   "metadata": {},
   "outputs": [
    {
     "name": "stdout",
     "output_type": "stream",
     "text": [
      "<class 'pandas.core.frame.DataFrame'>\n",
      "RangeIndex: 149396 entries, 0 to 149395\n",
      "Data columns (total 5 columns):\n",
      " #   Column        Non-Null Count   Dtype  \n",
      "---  ------        --------------   -----  \n",
      " 0   Unnamed: 0    149396 non-null  int64  \n",
      " 1   id            149396 non-null  object \n",
      " 2   mb_used       149396 non-null  float64\n",
      " 3   session_date  149396 non-null  object \n",
      " 4   user_id       149396 non-null  int64  \n",
      "dtypes: float64(1), int64(2), object(2)\n",
      "memory usage: 5.7+ MB\n"
     ]
    },
    {
     "data": {
      "text/html": [
       "<div>\n",
       "<style scoped>\n",
       "    .dataframe tbody tr th:only-of-type {\n",
       "        vertical-align: middle;\n",
       "    }\n",
       "\n",
       "    .dataframe tbody tr th {\n",
       "        vertical-align: top;\n",
       "    }\n",
       "\n",
       "    .dataframe thead th {\n",
       "        text-align: right;\n",
       "    }\n",
       "</style>\n",
       "<table border=\"1\" class=\"dataframe\">\n",
       "  <thead>\n",
       "    <tr style=\"text-align: right;\">\n",
       "      <th></th>\n",
       "      <th>Unnamed: 0</th>\n",
       "      <th>id</th>\n",
       "      <th>mb_used</th>\n",
       "      <th>session_date</th>\n",
       "      <th>user_id</th>\n",
       "    </tr>\n",
       "  </thead>\n",
       "  <tbody>\n",
       "    <tr>\n",
       "      <th>0</th>\n",
       "      <td>0</td>\n",
       "      <td>1000_0</td>\n",
       "      <td>112.95</td>\n",
       "      <td>2018-11-25</td>\n",
       "      <td>1000</td>\n",
       "    </tr>\n",
       "    <tr>\n",
       "      <th>1</th>\n",
       "      <td>1</td>\n",
       "      <td>1000_1</td>\n",
       "      <td>1052.81</td>\n",
       "      <td>2018-09-07</td>\n",
       "      <td>1000</td>\n",
       "    </tr>\n",
       "    <tr>\n",
       "      <th>2</th>\n",
       "      <td>2</td>\n",
       "      <td>1000_2</td>\n",
       "      <td>1197.26</td>\n",
       "      <td>2018-06-25</td>\n",
       "      <td>1000</td>\n",
       "    </tr>\n",
       "    <tr>\n",
       "      <th>3</th>\n",
       "      <td>3</td>\n",
       "      <td>1000_3</td>\n",
       "      <td>550.27</td>\n",
       "      <td>2018-08-22</td>\n",
       "      <td>1000</td>\n",
       "    </tr>\n",
       "    <tr>\n",
       "      <th>4</th>\n",
       "      <td>4</td>\n",
       "      <td>1000_4</td>\n",
       "      <td>302.56</td>\n",
       "      <td>2018-09-24</td>\n",
       "      <td>1000</td>\n",
       "    </tr>\n",
       "    <tr>\n",
       "      <th>5</th>\n",
       "      <td>5</td>\n",
       "      <td>1000_5</td>\n",
       "      <td>399.97</td>\n",
       "      <td>2018-10-02</td>\n",
       "      <td>1000</td>\n",
       "    </tr>\n",
       "    <tr>\n",
       "      <th>6</th>\n",
       "      <td>6</td>\n",
       "      <td>1000_6</td>\n",
       "      <td>540.08</td>\n",
       "      <td>2018-09-07</td>\n",
       "      <td>1000</td>\n",
       "    </tr>\n",
       "    <tr>\n",
       "      <th>7</th>\n",
       "      <td>7</td>\n",
       "      <td>1000_7</td>\n",
       "      <td>415.70</td>\n",
       "      <td>2018-07-11</td>\n",
       "      <td>1000</td>\n",
       "    </tr>\n",
       "    <tr>\n",
       "      <th>8</th>\n",
       "      <td>8</td>\n",
       "      <td>1000_8</td>\n",
       "      <td>505.40</td>\n",
       "      <td>2018-10-08</td>\n",
       "      <td>1000</td>\n",
       "    </tr>\n",
       "    <tr>\n",
       "      <th>9</th>\n",
       "      <td>9</td>\n",
       "      <td>1000_9</td>\n",
       "      <td>345.54</td>\n",
       "      <td>2018-09-03</td>\n",
       "      <td>1000</td>\n",
       "    </tr>\n",
       "  </tbody>\n",
       "</table>\n",
       "</div>"
      ],
      "text/plain": [
       "   Unnamed: 0      id  mb_used session_date  user_id\n",
       "0           0  1000_0   112.95   2018-11-25     1000\n",
       "1           1  1000_1  1052.81   2018-09-07     1000\n",
       "2           2  1000_2  1197.26   2018-06-25     1000\n",
       "3           3  1000_3   550.27   2018-08-22     1000\n",
       "4           4  1000_4   302.56   2018-09-24     1000\n",
       "5           5  1000_5   399.97   2018-10-02     1000\n",
       "6           6  1000_6   540.08   2018-09-07     1000\n",
       "7           7  1000_7   415.70   2018-07-11     1000\n",
       "8           8  1000_8   505.40   2018-10-08     1000\n",
       "9           9  1000_9   345.54   2018-09-03     1000"
      ]
     },
     "metadata": {},
     "output_type": "display_data"
    },
    {
     "name": "stdout",
     "output_type": "stream",
     "text": [
      "\n",
      "Кол-во пропусков: Unnamed: 0      0\n",
      "id              0\n",
      "mb_used         0\n",
      "session_date    0\n",
      "user_id         0\n",
      "dtype: int64\n",
      "\n",
      "Кол-во дубликатов: 0\n"
     ]
    }
   ],
   "source": [
    "df_info(internet)"
   ]
  },
  {
   "cell_type": "markdown",
   "metadata": {},
   "source": [
    "*Мы знаем, что оператор округляет мегабайтов вверх. Проверим значения*"
   ]
  },
  {
   "cell_type": "code",
   "execution_count": 8,
   "metadata": {},
   "outputs": [
    {
     "data": {
      "text/plain": [
       "19699"
      ]
     },
     "execution_count": 8,
     "metadata": {},
     "output_type": "execute_result"
    }
   ],
   "source": [
    "len(internet.query('mb_used < 1'))"
   ]
  },
  {
   "cell_type": "markdown",
   "metadata": {},
   "source": [
    "*Имеем 19 699 данных, где мб меньше 1 мегабайта*"
   ]
  },
  {
   "cell_type": "markdown",
   "metadata": {},
   "source": [
    "*Тарифный план дается нам в гигабайтах. Скорее всего нужно будет перевести данные из мегабайтов в гигабайты для дальнейшего расчета*\n",
    "*Дату сеанса также следует перевести к типу DateTime*\n",
    "*Как и с звонками, нужно будет округлить числа с помощью np.ceil, а нулевые значения заменить на 1*"
   ]
  },
  {
   "cell_type": "markdown",
   "metadata": {},
   "source": [
    "#### Сообщения"
   ]
  },
  {
   "cell_type": "code",
   "execution_count": 9,
   "metadata": {},
   "outputs": [
    {
     "name": "stdout",
     "output_type": "stream",
     "text": [
      "<class 'pandas.core.frame.DataFrame'>\n",
      "RangeIndex: 123036 entries, 0 to 123035\n",
      "Data columns (total 3 columns):\n",
      " #   Column        Non-Null Count   Dtype \n",
      "---  ------        --------------   ----- \n",
      " 0   id            123036 non-null  object\n",
      " 1   message_date  123036 non-null  object\n",
      " 2   user_id       123036 non-null  int64 \n",
      "dtypes: int64(1), object(2)\n",
      "memory usage: 2.8+ MB\n"
     ]
    },
    {
     "data": {
      "text/html": [
       "<div>\n",
       "<style scoped>\n",
       "    .dataframe tbody tr th:only-of-type {\n",
       "        vertical-align: middle;\n",
       "    }\n",
       "\n",
       "    .dataframe tbody tr th {\n",
       "        vertical-align: top;\n",
       "    }\n",
       "\n",
       "    .dataframe thead th {\n",
       "        text-align: right;\n",
       "    }\n",
       "</style>\n",
       "<table border=\"1\" class=\"dataframe\">\n",
       "  <thead>\n",
       "    <tr style=\"text-align: right;\">\n",
       "      <th></th>\n",
       "      <th>id</th>\n",
       "      <th>message_date</th>\n",
       "      <th>user_id</th>\n",
       "    </tr>\n",
       "  </thead>\n",
       "  <tbody>\n",
       "    <tr>\n",
       "      <th>0</th>\n",
       "      <td>1000_0</td>\n",
       "      <td>2018-06-27</td>\n",
       "      <td>1000</td>\n",
       "    </tr>\n",
       "    <tr>\n",
       "      <th>1</th>\n",
       "      <td>1000_1</td>\n",
       "      <td>2018-10-08</td>\n",
       "      <td>1000</td>\n",
       "    </tr>\n",
       "    <tr>\n",
       "      <th>2</th>\n",
       "      <td>1000_2</td>\n",
       "      <td>2018-08-04</td>\n",
       "      <td>1000</td>\n",
       "    </tr>\n",
       "    <tr>\n",
       "      <th>3</th>\n",
       "      <td>1000_3</td>\n",
       "      <td>2018-06-16</td>\n",
       "      <td>1000</td>\n",
       "    </tr>\n",
       "    <tr>\n",
       "      <th>4</th>\n",
       "      <td>1000_4</td>\n",
       "      <td>2018-12-05</td>\n",
       "      <td>1000</td>\n",
       "    </tr>\n",
       "    <tr>\n",
       "      <th>5</th>\n",
       "      <td>1000_5</td>\n",
       "      <td>2018-06-20</td>\n",
       "      <td>1000</td>\n",
       "    </tr>\n",
       "    <tr>\n",
       "      <th>6</th>\n",
       "      <td>1000_6</td>\n",
       "      <td>2018-11-19</td>\n",
       "      <td>1000</td>\n",
       "    </tr>\n",
       "    <tr>\n",
       "      <th>7</th>\n",
       "      <td>1000_7</td>\n",
       "      <td>2018-10-29</td>\n",
       "      <td>1000</td>\n",
       "    </tr>\n",
       "    <tr>\n",
       "      <th>8</th>\n",
       "      <td>1000_8</td>\n",
       "      <td>2018-06-25</td>\n",
       "      <td>1000</td>\n",
       "    </tr>\n",
       "    <tr>\n",
       "      <th>9</th>\n",
       "      <td>1000_9</td>\n",
       "      <td>2018-12-18</td>\n",
       "      <td>1000</td>\n",
       "    </tr>\n",
       "  </tbody>\n",
       "</table>\n",
       "</div>"
      ],
      "text/plain": [
       "       id message_date  user_id\n",
       "0  1000_0   2018-06-27     1000\n",
       "1  1000_1   2018-10-08     1000\n",
       "2  1000_2   2018-08-04     1000\n",
       "3  1000_3   2018-06-16     1000\n",
       "4  1000_4   2018-12-05     1000\n",
       "5  1000_5   2018-06-20     1000\n",
       "6  1000_6   2018-11-19     1000\n",
       "7  1000_7   2018-10-29     1000\n",
       "8  1000_8   2018-06-25     1000\n",
       "9  1000_9   2018-12-18     1000"
      ]
     },
     "metadata": {},
     "output_type": "display_data"
    },
    {
     "name": "stdout",
     "output_type": "stream",
     "text": [
      "\n",
      "Кол-во пропусков: id              0\n",
      "message_date    0\n",
      "user_id         0\n",
      "dtype: int64\n",
      "\n",
      "Кол-во дубликатов: 0\n"
     ]
    }
   ],
   "source": [
    "df_info(messages)"
   ]
  },
  {
   "cell_type": "markdown",
   "metadata": {},
   "source": [
    "*Заменим тип данных 'messages_date' на DateTime во 2 шаге*"
   ]
  },
  {
   "cell_type": "markdown",
   "metadata": {},
   "source": [
    "#### Тарифы"
   ]
  },
  {
   "cell_type": "code",
   "execution_count": 10,
   "metadata": {},
   "outputs": [
    {
     "name": "stdout",
     "output_type": "stream",
     "text": [
      "<class 'pandas.core.frame.DataFrame'>\n",
      "RangeIndex: 2 entries, 0 to 1\n",
      "Data columns (total 8 columns):\n",
      " #   Column                 Non-Null Count  Dtype \n",
      "---  ------                 --------------  ----- \n",
      " 0   messages_included      2 non-null      int64 \n",
      " 1   mb_per_month_included  2 non-null      int64 \n",
      " 2   minutes_included       2 non-null      int64 \n",
      " 3   rub_monthly_fee        2 non-null      int64 \n",
      " 4   rub_per_gb             2 non-null      int64 \n",
      " 5   rub_per_message        2 non-null      int64 \n",
      " 6   rub_per_minute         2 non-null      int64 \n",
      " 7   tariff_name            2 non-null      object\n",
      "dtypes: int64(7), object(1)\n",
      "memory usage: 256.0+ bytes\n"
     ]
    },
    {
     "data": {
      "text/html": [
       "<div>\n",
       "<style scoped>\n",
       "    .dataframe tbody tr th:only-of-type {\n",
       "        vertical-align: middle;\n",
       "    }\n",
       "\n",
       "    .dataframe tbody tr th {\n",
       "        vertical-align: top;\n",
       "    }\n",
       "\n",
       "    .dataframe thead th {\n",
       "        text-align: right;\n",
       "    }\n",
       "</style>\n",
       "<table border=\"1\" class=\"dataframe\">\n",
       "  <thead>\n",
       "    <tr style=\"text-align: right;\">\n",
       "      <th></th>\n",
       "      <th>messages_included</th>\n",
       "      <th>mb_per_month_included</th>\n",
       "      <th>minutes_included</th>\n",
       "      <th>rub_monthly_fee</th>\n",
       "      <th>rub_per_gb</th>\n",
       "      <th>rub_per_message</th>\n",
       "      <th>rub_per_minute</th>\n",
       "      <th>tariff_name</th>\n",
       "    </tr>\n",
       "  </thead>\n",
       "  <tbody>\n",
       "    <tr>\n",
       "      <th>0</th>\n",
       "      <td>50</td>\n",
       "      <td>15360</td>\n",
       "      <td>500</td>\n",
       "      <td>550</td>\n",
       "      <td>200</td>\n",
       "      <td>3</td>\n",
       "      <td>3</td>\n",
       "      <td>smart</td>\n",
       "    </tr>\n",
       "    <tr>\n",
       "      <th>1</th>\n",
       "      <td>1000</td>\n",
       "      <td>30720</td>\n",
       "      <td>3000</td>\n",
       "      <td>1950</td>\n",
       "      <td>150</td>\n",
       "      <td>1</td>\n",
       "      <td>1</td>\n",
       "      <td>ultra</td>\n",
       "    </tr>\n",
       "  </tbody>\n",
       "</table>\n",
       "</div>"
      ],
      "text/plain": [
       "   messages_included  mb_per_month_included  minutes_included  \\\n",
       "0                 50                  15360               500   \n",
       "1               1000                  30720              3000   \n",
       "\n",
       "   rub_monthly_fee  rub_per_gb  rub_per_message  rub_per_minute tariff_name  \n",
       "0              550         200                3               3       smart  \n",
       "1             1950         150                1               1       ultra  "
      ]
     },
     "metadata": {},
     "output_type": "display_data"
    },
    {
     "name": "stdout",
     "output_type": "stream",
     "text": [
      "\n",
      "Кол-во пропусков: messages_included        0\n",
      "mb_per_month_included    0\n",
      "minutes_included         0\n",
      "rub_monthly_fee          0\n",
      "rub_per_gb               0\n",
      "rub_per_message          0\n",
      "rub_per_minute           0\n",
      "tariff_name              0\n",
      "dtype: int64\n",
      "\n",
      "Кол-во дубликатов: 0\n"
     ]
    }
   ],
   "source": [
    "df_info(tariffs)"
   ]
  },
  {
   "cell_type": "markdown",
   "metadata": {},
   "source": [
    "*Пока что ничего необычного*"
   ]
  },
  {
   "cell_type": "markdown",
   "metadata": {},
   "source": [
    "#### Пользователи"
   ]
  },
  {
   "cell_type": "code",
   "execution_count": 11,
   "metadata": {},
   "outputs": [
    {
     "name": "stdout",
     "output_type": "stream",
     "text": [
      "<class 'pandas.core.frame.DataFrame'>\n",
      "RangeIndex: 500 entries, 0 to 499\n",
      "Data columns (total 8 columns):\n",
      " #   Column      Non-Null Count  Dtype \n",
      "---  ------      --------------  ----- \n",
      " 0   user_id     500 non-null    int64 \n",
      " 1   age         500 non-null    int64 \n",
      " 2   churn_date  38 non-null     object\n",
      " 3   city        500 non-null    object\n",
      " 4   first_name  500 non-null    object\n",
      " 5   last_name   500 non-null    object\n",
      " 6   reg_date    500 non-null    object\n",
      " 7   tariff      500 non-null    object\n",
      "dtypes: int64(2), object(6)\n",
      "memory usage: 31.4+ KB\n"
     ]
    },
    {
     "data": {
      "text/html": [
       "<div>\n",
       "<style scoped>\n",
       "    .dataframe tbody tr th:only-of-type {\n",
       "        vertical-align: middle;\n",
       "    }\n",
       "\n",
       "    .dataframe tbody tr th {\n",
       "        vertical-align: top;\n",
       "    }\n",
       "\n",
       "    .dataframe thead th {\n",
       "        text-align: right;\n",
       "    }\n",
       "</style>\n",
       "<table border=\"1\" class=\"dataframe\">\n",
       "  <thead>\n",
       "    <tr style=\"text-align: right;\">\n",
       "      <th></th>\n",
       "      <th>user_id</th>\n",
       "      <th>age</th>\n",
       "      <th>churn_date</th>\n",
       "      <th>city</th>\n",
       "      <th>first_name</th>\n",
       "      <th>last_name</th>\n",
       "      <th>reg_date</th>\n",
       "      <th>tariff</th>\n",
       "    </tr>\n",
       "  </thead>\n",
       "  <tbody>\n",
       "    <tr>\n",
       "      <th>0</th>\n",
       "      <td>1000</td>\n",
       "      <td>52</td>\n",
       "      <td>NaN</td>\n",
       "      <td>Краснодар</td>\n",
       "      <td>Рафаил</td>\n",
       "      <td>Верещагин</td>\n",
       "      <td>2018-05-25</td>\n",
       "      <td>ultra</td>\n",
       "    </tr>\n",
       "    <tr>\n",
       "      <th>1</th>\n",
       "      <td>1001</td>\n",
       "      <td>41</td>\n",
       "      <td>NaN</td>\n",
       "      <td>Москва</td>\n",
       "      <td>Иван</td>\n",
       "      <td>Ежов</td>\n",
       "      <td>2018-11-01</td>\n",
       "      <td>smart</td>\n",
       "    </tr>\n",
       "    <tr>\n",
       "      <th>2</th>\n",
       "      <td>1002</td>\n",
       "      <td>59</td>\n",
       "      <td>NaN</td>\n",
       "      <td>Стерлитамак</td>\n",
       "      <td>Евгений</td>\n",
       "      <td>Абрамович</td>\n",
       "      <td>2018-06-17</td>\n",
       "      <td>smart</td>\n",
       "    </tr>\n",
       "    <tr>\n",
       "      <th>3</th>\n",
       "      <td>1003</td>\n",
       "      <td>23</td>\n",
       "      <td>NaN</td>\n",
       "      <td>Москва</td>\n",
       "      <td>Белла</td>\n",
       "      <td>Белякова</td>\n",
       "      <td>2018-08-17</td>\n",
       "      <td>ultra</td>\n",
       "    </tr>\n",
       "    <tr>\n",
       "      <th>4</th>\n",
       "      <td>1004</td>\n",
       "      <td>68</td>\n",
       "      <td>NaN</td>\n",
       "      <td>Новокузнецк</td>\n",
       "      <td>Татьяна</td>\n",
       "      <td>Авдеенко</td>\n",
       "      <td>2018-05-14</td>\n",
       "      <td>ultra</td>\n",
       "    </tr>\n",
       "    <tr>\n",
       "      <th>5</th>\n",
       "      <td>1005</td>\n",
       "      <td>67</td>\n",
       "      <td>NaN</td>\n",
       "      <td>Набережные Челны</td>\n",
       "      <td>Афанасий</td>\n",
       "      <td>Горлов</td>\n",
       "      <td>2018-01-25</td>\n",
       "      <td>smart</td>\n",
       "    </tr>\n",
       "    <tr>\n",
       "      <th>6</th>\n",
       "      <td>1006</td>\n",
       "      <td>21</td>\n",
       "      <td>NaN</td>\n",
       "      <td>Ульяновск</td>\n",
       "      <td>Леонид</td>\n",
       "      <td>Ермолаев</td>\n",
       "      <td>2018-02-26</td>\n",
       "      <td>smart</td>\n",
       "    </tr>\n",
       "    <tr>\n",
       "      <th>7</th>\n",
       "      <td>1007</td>\n",
       "      <td>65</td>\n",
       "      <td>NaN</td>\n",
       "      <td>Москва</td>\n",
       "      <td>Юна</td>\n",
       "      <td>Березина</td>\n",
       "      <td>2018-04-19</td>\n",
       "      <td>smart</td>\n",
       "    </tr>\n",
       "    <tr>\n",
       "      <th>8</th>\n",
       "      <td>1008</td>\n",
       "      <td>63</td>\n",
       "      <td>NaN</td>\n",
       "      <td>Челябинск</td>\n",
       "      <td>Рустэм</td>\n",
       "      <td>Пономарёв</td>\n",
       "      <td>2018-12-19</td>\n",
       "      <td>smart</td>\n",
       "    </tr>\n",
       "    <tr>\n",
       "      <th>9</th>\n",
       "      <td>1009</td>\n",
       "      <td>24</td>\n",
       "      <td>NaN</td>\n",
       "      <td>Пермь</td>\n",
       "      <td>Василиса</td>\n",
       "      <td>Блинова</td>\n",
       "      <td>2018-03-22</td>\n",
       "      <td>smart</td>\n",
       "    </tr>\n",
       "  </tbody>\n",
       "</table>\n",
       "</div>"
      ],
      "text/plain": [
       "   user_id  age churn_date              city first_name  last_name  \\\n",
       "0     1000   52        NaN         Краснодар     Рафаил  Верещагин   \n",
       "1     1001   41        NaN            Москва       Иван       Ежов   \n",
       "2     1002   59        NaN       Стерлитамак    Евгений  Абрамович   \n",
       "3     1003   23        NaN            Москва      Белла   Белякова   \n",
       "4     1004   68        NaN       Новокузнецк    Татьяна   Авдеенко   \n",
       "5     1005   67        NaN  Набережные Челны   Афанасий     Горлов   \n",
       "6     1006   21        NaN         Ульяновск     Леонид   Ермолаев   \n",
       "7     1007   65        NaN            Москва        Юна   Березина   \n",
       "8     1008   63        NaN         Челябинск     Рустэм  Пономарёв   \n",
       "9     1009   24        NaN             Пермь   Василиса    Блинова   \n",
       "\n",
       "     reg_date tariff  \n",
       "0  2018-05-25  ultra  \n",
       "1  2018-11-01  smart  \n",
       "2  2018-06-17  smart  \n",
       "3  2018-08-17  ultra  \n",
       "4  2018-05-14  ultra  \n",
       "5  2018-01-25  smart  \n",
       "6  2018-02-26  smart  \n",
       "7  2018-04-19  smart  \n",
       "8  2018-12-19  smart  \n",
       "9  2018-03-22  smart  "
      ]
     },
     "metadata": {},
     "output_type": "display_data"
    },
    {
     "name": "stdout",
     "output_type": "stream",
     "text": [
      "\n",
      "Кол-во пропусков: user_id         0\n",
      "age             0\n",
      "churn_date    462\n",
      "city            0\n",
      "first_name      0\n",
      "last_name       0\n",
      "reg_date        0\n",
      "tariff          0\n",
      "dtype: int64\n",
      "\n",
      "Кол-во дубликатов: 0\n"
     ]
    }
   ],
   "source": [
    "df_info(users)"
   ]
  },
  {
   "cell_type": "markdown",
   "metadata": {},
   "source": [
    "*Заменим название столбца 'tariff' на 'tariff_name'*"
   ]
  },
  {
   "cell_type": "code",
   "execution_count": 12,
   "metadata": {},
   "outputs": [
    {
     "name": "stdout",
     "output_type": "stream",
     "text": [
      "<class 'pandas.core.frame.DataFrame'>\n",
      "RangeIndex: 500 entries, 0 to 499\n",
      "Data columns (total 8 columns):\n",
      " #   Column       Non-Null Count  Dtype \n",
      "---  ------       --------------  ----- \n",
      " 0   user_id      500 non-null    int64 \n",
      " 1   age          500 non-null    int64 \n",
      " 2   churn_date   38 non-null     object\n",
      " 3   city         500 non-null    object\n",
      " 4   first_name   500 non-null    object\n",
      " 5   last_name    500 non-null    object\n",
      " 6   reg_date     500 non-null    object\n",
      " 7   tariff_name  500 non-null    object\n",
      "dtypes: int64(2), object(6)\n",
      "memory usage: 31.4+ KB\n"
     ]
    }
   ],
   "source": [
    "users = users.rename(columns = {'tariff' : 'tariff_name'})\n",
    "users.info()"
   ]
  },
  {
   "cell_type": "code",
   "execution_count": 13,
   "metadata": {},
   "outputs": [
    {
     "data": {
      "text/plain": [
       "smart    351\n",
       "ultra    149\n",
       "Name: tariff_name, dtype: int64"
      ]
     },
     "execution_count": 13,
     "metadata": {},
     "output_type": "execute_result"
    }
   ],
   "source": [
    "users['tariff_name'].value_counts()"
   ]
  },
  {
   "cell_type": "markdown",
   "metadata": {},
   "source": [
    "*Известны следующие показатели:*\n",
    "- *Из 500 пользователей, 462 все еще продолжают пользоваться услугами*\n",
    "- *'reg_date' и 'churn_date' нужно будет перевести к DateTime*"
   ]
  },
  {
   "cell_type": "markdown",
   "metadata": {},
   "source": [
    "### Вывод"
   ]
  },
  {
   "cell_type": "markdown",
   "metadata": {},
   "source": [
    "*Особых нюансов не возникло, кроме типа данных в столбцах, где указана дата*\n",
    "*Единственное за что можно зацепиться - почему имеются 0-ые значения и значения ниже 1, ведь Оператор округляет данные вверх. Либо это ошибка выгрузки данных, либо пора спрашивать коллег почему такое произошло и такие данные попались к нам*"
   ]
  },
  {
   "cell_type": "markdown",
   "metadata": {},
   "source": [
    "### Шаг 2. Подготовьте данные"
   ]
  },
  {
   "cell_type": "markdown",
   "metadata": {},
   "source": [
    "#### Исправим 0-ые значения и значения ниже 1"
   ]
  },
  {
   "cell_type": "code",
   "execution_count": 14,
   "metadata": {},
   "outputs": [],
   "source": [
    "#Звонки\n",
    "calls['duration'] = calls['duration'].apply(np.ceil)\n",
    "calls['duration'] = calls['duration'].replace(0, 1)\n",
    "\n",
    "#Интернет\n",
    "internet['mb_used'] = internet['mb_used'].apply(np.ceil)\n",
    "internet['mb_used'] = internet['mb_used'].replace(0, 1)"
   ]
  },
  {
   "cell_type": "markdown",
   "metadata": {},
   "source": [
    "#### Исправим тип данных в столбцах с датой"
   ]
  },
  {
   "cell_type": "code",
   "execution_count": 15,
   "metadata": {},
   "outputs": [],
   "source": [
    "#Для упрощения создадим функцию по исправлению типа данных на DateTime и применим ее к нужным столбцам\n",
    "\n",
    "dtformat = '%Y-%m-%d'\n",
    "\n",
    "def to_datetime(data, columns):\n",
    "    for column in columns:\n",
    "        data[column] = pd.to_datetime(data[column], format = dtformat)\n",
    "\n",
    "#Даты\n",
    "to_datetime(calls, ['call_date'])\n",
    "to_datetime(internet, ['session_date'])\n",
    "to_datetime(messages, ['message_date'])\n",
    "to_datetime(users, ['reg_date', 'churn_date'])\n",
    "\n",
    "#Минуты и мегабайты\n",
    "calls['duration'] = calls['duration'].astype('int64')\n",
    "internet['mb_used'] = internet['mb_used'].astype('int64')"
   ]
  },
  {
   "cell_type": "markdown",
   "metadata": {},
   "source": [
    "### Посчитайте для каждого пользователя:"
   ]
  },
  {
   "cell_type": "code",
   "execution_count": 16,
   "metadata": {},
   "outputs": [],
   "source": [
    "# Функция для подсчета кол-ва операций\n",
    "def sum(df, month, date, columns, value, aggfunc):\n",
    "    df[month] = pd.DatetimeIndex(df[date]).month\n",
    "    result = df.pivot_table(index = columns, values=value, aggfunc=aggfunc)\n",
    "    return result"
   ]
  },
  {
   "cell_type": "markdown",
   "metadata": {},
   "source": [
    "#### 1. Количество сделанных звонков и израсходованных минут разговора по месяцам"
   ]
  },
  {
   "cell_type": "code",
   "execution_count": 17,
   "metadata": {},
   "outputs": [],
   "source": [
    "calls_by_month = sum(calls, 'month', 'call_date', ['month', 'user_id'], 'duration', ['count', 'sum'])"
   ]
  },
  {
   "cell_type": "markdown",
   "metadata": {},
   "source": [
    "#### 2. Количество отправленных сообщений по месяцам"
   ]
  },
  {
   "cell_type": "code",
   "execution_count": 18,
   "metadata": {},
   "outputs": [],
   "source": [
    "messages_by_month = sum(messages, 'month', 'message_date', ['month', 'user_id'], 'id', 'count')"
   ]
  },
  {
   "cell_type": "markdown",
   "metadata": {},
   "source": [
    "#### 3. Объем израсходованного интернет-трафика по месяцам"
   ]
  },
  {
   "cell_type": "code",
   "execution_count": 19,
   "metadata": {},
   "outputs": [],
   "source": [
    "internet_by_month = sum(internet, 'month', 'session_date', ['month', 'user_id'], 'mb_used', 'sum')"
   ]
  },
  {
   "cell_type": "markdown",
   "metadata": {},
   "source": [
    "#### 4. Помесячная выручка с каждого пользователя"
   ]
  },
  {
   "cell_type": "code",
   "execution_count": 20,
   "metadata": {},
   "outputs": [
    {
     "name": "stdout",
     "output_type": "stream",
     "text": [
      "<class 'pandas.core.frame.DataFrame'>\n",
      "Int64Index: 3214 entries, 0 to 3213\n",
      "Data columns (total 6 columns):\n",
      " #   Column    Non-Null Count  Dtype  \n",
      "---  ------    --------------  -----  \n",
      " 0   user_id   3214 non-null   int64  \n",
      " 1   month     3214 non-null   int64  \n",
      " 2   calls     3174 non-null   float64\n",
      " 3   minutes   3174 non-null   float64\n",
      " 4   messages  2717 non-null   float64\n",
      " 5   mb_used   3203 non-null   float64\n",
      "dtypes: float64(4), int64(2)\n",
      "memory usage: 175.8 KB\n"
     ]
    },
    {
     "data": {
      "text/html": [
       "<div>\n",
       "<style scoped>\n",
       "    .dataframe tbody tr th:only-of-type {\n",
       "        vertical-align: middle;\n",
       "    }\n",
       "\n",
       "    .dataframe tbody tr th {\n",
       "        vertical-align: top;\n",
       "    }\n",
       "\n",
       "    .dataframe thead th {\n",
       "        text-align: right;\n",
       "    }\n",
       "</style>\n",
       "<table border=\"1\" class=\"dataframe\">\n",
       "  <thead>\n",
       "    <tr style=\"text-align: right;\">\n",
       "      <th></th>\n",
       "      <th>user_id</th>\n",
       "      <th>month</th>\n",
       "      <th>calls</th>\n",
       "      <th>minutes</th>\n",
       "      <th>messages</th>\n",
       "      <th>mb_used</th>\n",
       "    </tr>\n",
       "  </thead>\n",
       "  <tbody>\n",
       "    <tr>\n",
       "      <th>0</th>\n",
       "      <td>1005</td>\n",
       "      <td>1</td>\n",
       "      <td>15.0</td>\n",
       "      <td>99.0</td>\n",
       "      <td>7.0</td>\n",
       "      <td>2730.0</td>\n",
       "    </tr>\n",
       "    <tr>\n",
       "      <th>1</th>\n",
       "      <td>1032</td>\n",
       "      <td>1</td>\n",
       "      <td>61.0</td>\n",
       "      <td>397.0</td>\n",
       "      <td>38.0</td>\n",
       "      <td>24158.0</td>\n",
       "    </tr>\n",
       "    <tr>\n",
       "      <th>2</th>\n",
       "      <td>1045</td>\n",
       "      <td>1</td>\n",
       "      <td>1.0</td>\n",
       "      <td>9.0</td>\n",
       "      <td>5.0</td>\n",
       "      <td>2348.0</td>\n",
       "    </tr>\n",
       "    <tr>\n",
       "      <th>3</th>\n",
       "      <td>1055</td>\n",
       "      <td>1</td>\n",
       "      <td>64.0</td>\n",
       "      <td>568.0</td>\n",
       "      <td>30.0</td>\n",
       "      <td>17115.0</td>\n",
       "    </tr>\n",
       "    <tr>\n",
       "      <th>4</th>\n",
       "      <td>1071</td>\n",
       "      <td>1</td>\n",
       "      <td>24.0</td>\n",
       "      <td>200.0</td>\n",
       "      <td>16.0</td>\n",
       "      <td>15625.0</td>\n",
       "    </tr>\n",
       "  </tbody>\n",
       "</table>\n",
       "</div>"
      ],
      "text/plain": [
       "   user_id  month  calls  minutes  messages  mb_used\n",
       "0     1005      1   15.0     99.0       7.0   2730.0\n",
       "1     1032      1   61.0    397.0      38.0  24158.0\n",
       "2     1045      1    1.0      9.0       5.0   2348.0\n",
       "3     1055      1   64.0    568.0      30.0  17115.0\n",
       "4     1071      1   24.0    200.0      16.0  15625.0"
      ]
     },
     "metadata": {},
     "output_type": "display_data"
    }
   ],
   "source": [
    "#Создадим датафрейм, в котором будет храниться вышерассчитанные значения\n",
    "costs = pd.DataFrame()\n",
    "\n",
    "#Создадим временный датасет и добавим в него данные по звонкам\n",
    "tempory_data = pd.DataFrame(calls_by_month.to_records())\n",
    "\n",
    "costs['user_id'] = tempory_data['user_id']\n",
    "costs['month']   = tempory_data['month']\n",
    "costs['calls']   = tempory_data.iloc[:, 2]\n",
    "costs['minutes'] = tempory_data.iloc[:, 3]\n",
    "#display(costs.head())\n",
    "\n",
    "costs = costs.merge(messages_by_month, on=['user_id', 'month'], how='outer')\n",
    "costs = costs.rename(columns={'id': 'messages'})\n",
    "#display(costs.head())\n",
    "\n",
    "costs = costs.merge(internet_by_month, on=['user_id', 'month'], how='outer')\n",
    "costs.info()\n",
    "display(costs.head())"
   ]
  },
  {
   "cell_type": "markdown",
   "metadata": {},
   "source": [
    "*Видны пропуски в столбцах 'calls', 'minutes', 'messages' и 'mb_used'. Это говорит о том, что скорее всего клиенты пользовались не всеми функциями тарифа. Пропуски заменим на 0*\n",
    "*Также сбились типы данных в столбцах 'calls', 'minutes', 'messages'. Типы данных изменились из-за наличия пропусков в столбцах. Нужно будет их перевести снова в инт*"
   ]
  },
  {
   "cell_type": "code",
   "execution_count": 21,
   "metadata": {},
   "outputs": [],
   "source": [
    "#Заменим пропуски\n",
    "costs['calls'] = costs['calls'].fillna(0)\n",
    "costs['minutes'] = costs['minutes'].fillna(0)\n",
    "costs['messages'] = costs['messages'].fillna(0)\n",
    "\n",
    "#Исправим тип данных\n",
    "costs['calls'] = costs['calls'].astype('int64')\n",
    "costs['minutes'] = costs['minutes'].astype('int64')\n",
    "costs['messages'] = costs['messages'].astype('int64')"
   ]
  },
  {
   "cell_type": "code",
   "execution_count": 22,
   "metadata": {},
   "outputs": [
    {
     "name": "stdout",
     "output_type": "stream",
     "text": [
      "<class 'pandas.core.frame.DataFrame'>\n",
      "Int64Index: 3214 entries, 0 to 3213\n",
      "Data columns (total 6 columns):\n",
      " #   Column    Non-Null Count  Dtype  \n",
      "---  ------    --------------  -----  \n",
      " 0   user_id   3214 non-null   int64  \n",
      " 1   month     3214 non-null   int64  \n",
      " 2   calls     3214 non-null   int64  \n",
      " 3   minutes   3214 non-null   int64  \n",
      " 4   messages  3214 non-null   int64  \n",
      " 5   mb_used   3203 non-null   float64\n",
      "dtypes: float64(1), int64(5)\n",
      "memory usage: 175.8 KB\n"
     ]
    },
    {
     "data": {
      "text/html": [
       "<div>\n",
       "<style scoped>\n",
       "    .dataframe tbody tr th:only-of-type {\n",
       "        vertical-align: middle;\n",
       "    }\n",
       "\n",
       "    .dataframe tbody tr th {\n",
       "        vertical-align: top;\n",
       "    }\n",
       "\n",
       "    .dataframe thead th {\n",
       "        text-align: right;\n",
       "    }\n",
       "</style>\n",
       "<table border=\"1\" class=\"dataframe\">\n",
       "  <thead>\n",
       "    <tr style=\"text-align: right;\">\n",
       "      <th></th>\n",
       "      <th>user_id</th>\n",
       "      <th>month</th>\n",
       "      <th>calls</th>\n",
       "      <th>minutes</th>\n",
       "      <th>messages</th>\n",
       "      <th>mb_used</th>\n",
       "    </tr>\n",
       "  </thead>\n",
       "  <tbody>\n",
       "    <tr>\n",
       "      <th>0</th>\n",
       "      <td>1005</td>\n",
       "      <td>1</td>\n",
       "      <td>15</td>\n",
       "      <td>99</td>\n",
       "      <td>7</td>\n",
       "      <td>2730.0</td>\n",
       "    </tr>\n",
       "    <tr>\n",
       "      <th>1</th>\n",
       "      <td>1032</td>\n",
       "      <td>1</td>\n",
       "      <td>61</td>\n",
       "      <td>397</td>\n",
       "      <td>38</td>\n",
       "      <td>24158.0</td>\n",
       "    </tr>\n",
       "    <tr>\n",
       "      <th>2</th>\n",
       "      <td>1045</td>\n",
       "      <td>1</td>\n",
       "      <td>1</td>\n",
       "      <td>9</td>\n",
       "      <td>5</td>\n",
       "      <td>2348.0</td>\n",
       "    </tr>\n",
       "    <tr>\n",
       "      <th>3</th>\n",
       "      <td>1055</td>\n",
       "      <td>1</td>\n",
       "      <td>64</td>\n",
       "      <td>568</td>\n",
       "      <td>30</td>\n",
       "      <td>17115.0</td>\n",
       "    </tr>\n",
       "    <tr>\n",
       "      <th>4</th>\n",
       "      <td>1071</td>\n",
       "      <td>1</td>\n",
       "      <td>24</td>\n",
       "      <td>200</td>\n",
       "      <td>16</td>\n",
       "      <td>15625.0</td>\n",
       "    </tr>\n",
       "    <tr>\n",
       "      <th>5</th>\n",
       "      <td>1113</td>\n",
       "      <td>1</td>\n",
       "      <td>18</td>\n",
       "      <td>115</td>\n",
       "      <td>14</td>\n",
       "      <td>768.0</td>\n",
       "    </tr>\n",
       "    <tr>\n",
       "      <th>6</th>\n",
       "      <td>1120</td>\n",
       "      <td>1</td>\n",
       "      <td>5</td>\n",
       "      <td>56</td>\n",
       "      <td>0</td>\n",
       "      <td>657.0</td>\n",
       "    </tr>\n",
       "    <tr>\n",
       "      <th>7</th>\n",
       "      <td>1126</td>\n",
       "      <td>1</td>\n",
       "      <td>35</td>\n",
       "      <td>279</td>\n",
       "      <td>4</td>\n",
       "      <td>16378.0</td>\n",
       "    </tr>\n",
       "    <tr>\n",
       "      <th>8</th>\n",
       "      <td>1134</td>\n",
       "      <td>1</td>\n",
       "      <td>42</td>\n",
       "      <td>341</td>\n",
       "      <td>32</td>\n",
       "      <td>10218.0</td>\n",
       "    </tr>\n",
       "    <tr>\n",
       "      <th>9</th>\n",
       "      <td>1135</td>\n",
       "      <td>1</td>\n",
       "      <td>9</td>\n",
       "      <td>90</td>\n",
       "      <td>1</td>\n",
       "      <td>1602.0</td>\n",
       "    </tr>\n",
       "  </tbody>\n",
       "</table>\n",
       "</div>"
      ],
      "text/plain": [
       "   user_id  month  calls  minutes  messages  mb_used\n",
       "0     1005      1     15       99         7   2730.0\n",
       "1     1032      1     61      397        38  24158.0\n",
       "2     1045      1      1        9         5   2348.0\n",
       "3     1055      1     64      568        30  17115.0\n",
       "4     1071      1     24      200        16  15625.0\n",
       "5     1113      1     18      115        14    768.0\n",
       "6     1120      1      5       56         0    657.0\n",
       "7     1126      1     35      279         4  16378.0\n",
       "8     1134      1     42      341        32  10218.0\n",
       "9     1135      1      9       90         1   1602.0"
      ]
     },
     "metadata": {},
     "output_type": "display_data"
    },
    {
     "name": "stdout",
     "output_type": "stream",
     "text": [
      "\n",
      "Кол-во пропусков: user_id      0\n",
      "month        0\n",
      "calls        0\n",
      "minutes      0\n",
      "messages     0\n",
      "mb_used     11\n",
      "dtype: int64\n",
      "\n",
      "Кол-во дубликатов: 0\n"
     ]
    }
   ],
   "source": [
    "df_info(costs)"
   ]
  },
  {
   "cell_type": "markdown",
   "metadata": {},
   "source": [
    "*Добавим в датафрейм информацию о пользователях и тарифах*"
   ]
  },
  {
   "cell_type": "code",
   "execution_count": 23,
   "metadata": {},
   "outputs": [
    {
     "data": {
      "text/html": [
       "<div>\n",
       "<style scoped>\n",
       "    .dataframe tbody tr th:only-of-type {\n",
       "        vertical-align: middle;\n",
       "    }\n",
       "\n",
       "    .dataframe tbody tr th {\n",
       "        vertical-align: top;\n",
       "    }\n",
       "\n",
       "    .dataframe thead th {\n",
       "        text-align: right;\n",
       "    }\n",
       "</style>\n",
       "<table border=\"1\" class=\"dataframe\">\n",
       "  <thead>\n",
       "    <tr style=\"text-align: right;\">\n",
       "      <th></th>\n",
       "      <th>user_id</th>\n",
       "      <th>month</th>\n",
       "      <th>calls</th>\n",
       "      <th>minutes</th>\n",
       "      <th>messages</th>\n",
       "      <th>mb_used</th>\n",
       "      <th>age</th>\n",
       "      <th>churn_date</th>\n",
       "      <th>city</th>\n",
       "      <th>first_name</th>\n",
       "      <th>last_name</th>\n",
       "      <th>reg_date</th>\n",
       "      <th>tariff_name</th>\n",
       "      <th>messages_included</th>\n",
       "      <th>mb_per_month_included</th>\n",
       "      <th>minutes_included</th>\n",
       "      <th>rub_monthly_fee</th>\n",
       "      <th>rub_per_gb</th>\n",
       "      <th>rub_per_message</th>\n",
       "      <th>rub_per_minute</th>\n",
       "    </tr>\n",
       "  </thead>\n",
       "  <tbody>\n",
       "    <tr>\n",
       "      <th>0</th>\n",
       "      <td>1005</td>\n",
       "      <td>1</td>\n",
       "      <td>15</td>\n",
       "      <td>99</td>\n",
       "      <td>7</td>\n",
       "      <td>2730.0</td>\n",
       "      <td>67</td>\n",
       "      <td>NaT</td>\n",
       "      <td>Набережные Челны</td>\n",
       "      <td>Афанасий</td>\n",
       "      <td>Горлов</td>\n",
       "      <td>2018-01-25</td>\n",
       "      <td>smart</td>\n",
       "      <td>50</td>\n",
       "      <td>15360</td>\n",
       "      <td>500</td>\n",
       "      <td>550</td>\n",
       "      <td>200</td>\n",
       "      <td>3</td>\n",
       "      <td>3</td>\n",
       "    </tr>\n",
       "    <tr>\n",
       "      <th>1</th>\n",
       "      <td>1032</td>\n",
       "      <td>1</td>\n",
       "      <td>61</td>\n",
       "      <td>397</td>\n",
       "      <td>38</td>\n",
       "      <td>24158.0</td>\n",
       "      <td>31</td>\n",
       "      <td>NaT</td>\n",
       "      <td>Ульяновск</td>\n",
       "      <td>Инна</td>\n",
       "      <td>Игнатьева</td>\n",
       "      <td>2018-01-04</td>\n",
       "      <td>smart</td>\n",
       "      <td>50</td>\n",
       "      <td>15360</td>\n",
       "      <td>500</td>\n",
       "      <td>550</td>\n",
       "      <td>200</td>\n",
       "      <td>3</td>\n",
       "      <td>3</td>\n",
       "    </tr>\n",
       "    <tr>\n",
       "      <th>2</th>\n",
       "      <td>1045</td>\n",
       "      <td>1</td>\n",
       "      <td>1</td>\n",
       "      <td>9</td>\n",
       "      <td>5</td>\n",
       "      <td>2348.0</td>\n",
       "      <td>48</td>\n",
       "      <td>NaT</td>\n",
       "      <td>Улан-Удэ</td>\n",
       "      <td>Джемма</td>\n",
       "      <td>Карасева</td>\n",
       "      <td>2018-01-30</td>\n",
       "      <td>smart</td>\n",
       "      <td>50</td>\n",
       "      <td>15360</td>\n",
       "      <td>500</td>\n",
       "      <td>550</td>\n",
       "      <td>200</td>\n",
       "      <td>3</td>\n",
       "      <td>3</td>\n",
       "    </tr>\n",
       "    <tr>\n",
       "      <th>3</th>\n",
       "      <td>1055</td>\n",
       "      <td>1</td>\n",
       "      <td>64</td>\n",
       "      <td>568</td>\n",
       "      <td>30</td>\n",
       "      <td>17115.0</td>\n",
       "      <td>39</td>\n",
       "      <td>NaT</td>\n",
       "      <td>Казань</td>\n",
       "      <td>Луиза</td>\n",
       "      <td>Березина</td>\n",
       "      <td>2018-01-02</td>\n",
       "      <td>smart</td>\n",
       "      <td>50</td>\n",
       "      <td>15360</td>\n",
       "      <td>500</td>\n",
       "      <td>550</td>\n",
       "      <td>200</td>\n",
       "      <td>3</td>\n",
       "      <td>3</td>\n",
       "    </tr>\n",
       "    <tr>\n",
       "      <th>4</th>\n",
       "      <td>1071</td>\n",
       "      <td>1</td>\n",
       "      <td>24</td>\n",
       "      <td>200</td>\n",
       "      <td>16</td>\n",
       "      <td>15625.0</td>\n",
       "      <td>20</td>\n",
       "      <td>2018-08-31</td>\n",
       "      <td>Омск</td>\n",
       "      <td>Гектор</td>\n",
       "      <td>Чумаков</td>\n",
       "      <td>2018-01-09</td>\n",
       "      <td>smart</td>\n",
       "      <td>50</td>\n",
       "      <td>15360</td>\n",
       "      <td>500</td>\n",
       "      <td>550</td>\n",
       "      <td>200</td>\n",
       "      <td>3</td>\n",
       "      <td>3</td>\n",
       "    </tr>\n",
       "  </tbody>\n",
       "</table>\n",
       "</div>"
      ],
      "text/plain": [
       "   user_id  month  calls  minutes  messages  mb_used  age churn_date  \\\n",
       "0     1005      1     15       99         7   2730.0   67        NaT   \n",
       "1     1032      1     61      397        38  24158.0   31        NaT   \n",
       "2     1045      1      1        9         5   2348.0   48        NaT   \n",
       "3     1055      1     64      568        30  17115.0   39        NaT   \n",
       "4     1071      1     24      200        16  15625.0   20 2018-08-31   \n",
       "\n",
       "               city first_name  last_name   reg_date tariff_name  \\\n",
       "0  Набережные Челны   Афанасий     Горлов 2018-01-25       smart   \n",
       "1         Ульяновск       Инна  Игнатьева 2018-01-04       smart   \n",
       "2          Улан-Удэ     Джемма   Карасева 2018-01-30       smart   \n",
       "3            Казань      Луиза   Березина 2018-01-02       smart   \n",
       "4              Омск     Гектор    Чумаков 2018-01-09       smart   \n",
       "\n",
       "   messages_included  mb_per_month_included  minutes_included  \\\n",
       "0                 50                  15360               500   \n",
       "1                 50                  15360               500   \n",
       "2                 50                  15360               500   \n",
       "3                 50                  15360               500   \n",
       "4                 50                  15360               500   \n",
       "\n",
       "   rub_monthly_fee  rub_per_gb  rub_per_message  rub_per_minute  \n",
       "0              550         200                3               3  \n",
       "1              550         200                3               3  \n",
       "2              550         200                3               3  \n",
       "3              550         200                3               3  \n",
       "4              550         200                3               3  "
      ]
     },
     "metadata": {},
     "output_type": "display_data"
    }
   ],
   "source": [
    "costs = costs.merge(users, on='user_id', how='left').merge(tariffs, on='tariff_name', how='left')\n",
    "display(costs.head())"
   ]
  },
  {
   "cell_type": "markdown",
   "metadata": {},
   "source": [
    "*Перерасход минут, сообщений и трафика посчитаем как разность между месячным значением и включенным в тариф*"
   ]
  },
  {
   "cell_type": "code",
   "execution_count": 24,
   "metadata": {},
   "outputs": [
    {
     "data": {
      "text/html": [
       "<div>\n",
       "<style scoped>\n",
       "    .dataframe tbody tr th:only-of-type {\n",
       "        vertical-align: middle;\n",
       "    }\n",
       "\n",
       "    .dataframe tbody tr th {\n",
       "        vertical-align: top;\n",
       "    }\n",
       "\n",
       "    .dataframe thead th {\n",
       "        text-align: right;\n",
       "    }\n",
       "</style>\n",
       "<table border=\"1\" class=\"dataframe\">\n",
       "  <thead>\n",
       "    <tr style=\"text-align: right;\">\n",
       "      <th></th>\n",
       "      <th>user_id</th>\n",
       "      <th>month</th>\n",
       "      <th>calls</th>\n",
       "      <th>minutes</th>\n",
       "      <th>messages</th>\n",
       "      <th>mb_used</th>\n",
       "      <th>age</th>\n",
       "      <th>churn_date</th>\n",
       "      <th>city</th>\n",
       "      <th>first_name</th>\n",
       "      <th>...</th>\n",
       "      <th>messages_included</th>\n",
       "      <th>mb_per_month_included</th>\n",
       "      <th>minutes_included</th>\n",
       "      <th>rub_monthly_fee</th>\n",
       "      <th>rub_per_gb</th>\n",
       "      <th>rub_per_message</th>\n",
       "      <th>rub_per_minute</th>\n",
       "      <th>minutes_over</th>\n",
       "      <th>messages_over</th>\n",
       "      <th>mb_used_over</th>\n",
       "    </tr>\n",
       "  </thead>\n",
       "  <tbody>\n",
       "    <tr>\n",
       "      <th>0</th>\n",
       "      <td>1005</td>\n",
       "      <td>1</td>\n",
       "      <td>15</td>\n",
       "      <td>99</td>\n",
       "      <td>7</td>\n",
       "      <td>2730.0</td>\n",
       "      <td>67</td>\n",
       "      <td>NaT</td>\n",
       "      <td>Набережные Челны</td>\n",
       "      <td>Афанасий</td>\n",
       "      <td>...</td>\n",
       "      <td>50</td>\n",
       "      <td>15360</td>\n",
       "      <td>500</td>\n",
       "      <td>550</td>\n",
       "      <td>200</td>\n",
       "      <td>3</td>\n",
       "      <td>3</td>\n",
       "      <td>-401</td>\n",
       "      <td>-43</td>\n",
       "      <td>-12630.0</td>\n",
       "    </tr>\n",
       "    <tr>\n",
       "      <th>1</th>\n",
       "      <td>1032</td>\n",
       "      <td>1</td>\n",
       "      <td>61</td>\n",
       "      <td>397</td>\n",
       "      <td>38</td>\n",
       "      <td>24158.0</td>\n",
       "      <td>31</td>\n",
       "      <td>NaT</td>\n",
       "      <td>Ульяновск</td>\n",
       "      <td>Инна</td>\n",
       "      <td>...</td>\n",
       "      <td>50</td>\n",
       "      <td>15360</td>\n",
       "      <td>500</td>\n",
       "      <td>550</td>\n",
       "      <td>200</td>\n",
       "      <td>3</td>\n",
       "      <td>3</td>\n",
       "      <td>-103</td>\n",
       "      <td>-12</td>\n",
       "      <td>8798.0</td>\n",
       "    </tr>\n",
       "    <tr>\n",
       "      <th>2</th>\n",
       "      <td>1045</td>\n",
       "      <td>1</td>\n",
       "      <td>1</td>\n",
       "      <td>9</td>\n",
       "      <td>5</td>\n",
       "      <td>2348.0</td>\n",
       "      <td>48</td>\n",
       "      <td>NaT</td>\n",
       "      <td>Улан-Удэ</td>\n",
       "      <td>Джемма</td>\n",
       "      <td>...</td>\n",
       "      <td>50</td>\n",
       "      <td>15360</td>\n",
       "      <td>500</td>\n",
       "      <td>550</td>\n",
       "      <td>200</td>\n",
       "      <td>3</td>\n",
       "      <td>3</td>\n",
       "      <td>-491</td>\n",
       "      <td>-45</td>\n",
       "      <td>-13012.0</td>\n",
       "    </tr>\n",
       "    <tr>\n",
       "      <th>3</th>\n",
       "      <td>1055</td>\n",
       "      <td>1</td>\n",
       "      <td>64</td>\n",
       "      <td>568</td>\n",
       "      <td>30</td>\n",
       "      <td>17115.0</td>\n",
       "      <td>39</td>\n",
       "      <td>NaT</td>\n",
       "      <td>Казань</td>\n",
       "      <td>Луиза</td>\n",
       "      <td>...</td>\n",
       "      <td>50</td>\n",
       "      <td>15360</td>\n",
       "      <td>500</td>\n",
       "      <td>550</td>\n",
       "      <td>200</td>\n",
       "      <td>3</td>\n",
       "      <td>3</td>\n",
       "      <td>68</td>\n",
       "      <td>-20</td>\n",
       "      <td>1755.0</td>\n",
       "    </tr>\n",
       "    <tr>\n",
       "      <th>4</th>\n",
       "      <td>1071</td>\n",
       "      <td>1</td>\n",
       "      <td>24</td>\n",
       "      <td>200</td>\n",
       "      <td>16</td>\n",
       "      <td>15625.0</td>\n",
       "      <td>20</td>\n",
       "      <td>2018-08-31</td>\n",
       "      <td>Омск</td>\n",
       "      <td>Гектор</td>\n",
       "      <td>...</td>\n",
       "      <td>50</td>\n",
       "      <td>15360</td>\n",
       "      <td>500</td>\n",
       "      <td>550</td>\n",
       "      <td>200</td>\n",
       "      <td>3</td>\n",
       "      <td>3</td>\n",
       "      <td>-300</td>\n",
       "      <td>-34</td>\n",
       "      <td>265.0</td>\n",
       "    </tr>\n",
       "  </tbody>\n",
       "</table>\n",
       "<p>5 rows × 23 columns</p>\n",
       "</div>"
      ],
      "text/plain": [
       "   user_id  month  calls  minutes  messages  mb_used  age churn_date  \\\n",
       "0     1005      1     15       99         7   2730.0   67        NaT   \n",
       "1     1032      1     61      397        38  24158.0   31        NaT   \n",
       "2     1045      1      1        9         5   2348.0   48        NaT   \n",
       "3     1055      1     64      568        30  17115.0   39        NaT   \n",
       "4     1071      1     24      200        16  15625.0   20 2018-08-31   \n",
       "\n",
       "               city first_name  ... messages_included mb_per_month_included  \\\n",
       "0  Набережные Челны   Афанасий  ...                50                 15360   \n",
       "1         Ульяновск       Инна  ...                50                 15360   \n",
       "2          Улан-Удэ     Джемма  ...                50                 15360   \n",
       "3            Казань      Луиза  ...                50                 15360   \n",
       "4              Омск     Гектор  ...                50                 15360   \n",
       "\n",
       "  minutes_included  rub_monthly_fee  rub_per_gb  rub_per_message  \\\n",
       "0              500              550         200                3   \n",
       "1              500              550         200                3   \n",
       "2              500              550         200                3   \n",
       "3              500              550         200                3   \n",
       "4              500              550         200                3   \n",
       "\n",
       "   rub_per_minute  minutes_over  messages_over  mb_used_over  \n",
       "0               3          -401            -43      -12630.0  \n",
       "1               3          -103            -12        8798.0  \n",
       "2               3          -491            -45      -13012.0  \n",
       "3               3            68            -20        1755.0  \n",
       "4               3          -300            -34         265.0  \n",
       "\n",
       "[5 rows x 23 columns]"
      ]
     },
     "metadata": {},
     "output_type": "display_data"
    }
   ],
   "source": [
    "costs['minutes_over']  = costs['minutes'] - costs['minutes_included']\n",
    "costs['messages_over'] = costs['messages'] - costs['messages_included']\n",
    "costs['mb_used_over']  = costs['mb_used'] - costs['mb_per_month_included']\n",
    "\n",
    "display(costs.head())"
   ]
  },
  {
   "cell_type": "markdown",
   "metadata": {},
   "source": [
    "*Если значение положительное, то идет перерасход, если отрицательное - тариф еще действует*"
   ]
  },
  {
   "cell_type": "markdown",
   "metadata": {},
   "source": [
    "#### Вычтите бесплатный лимит из суммарного количества звонков, сообщений и интернет-трафика; остаток умножьте на значение из тарифного плана"
   ]
  },
  {
   "cell_type": "code",
   "execution_count": 25,
   "metadata": {
    "scrolled": true
   },
   "outputs": [],
   "source": [
    "def monthly_revenue(row):\n",
    "    price_for_minutes = 0\n",
    "    price_for_messages = 0\n",
    "    price_per_mb_used = 0\n",
    "    \n",
    "    #Стоимость дополнительных минут\n",
    "    if row['minutes_over'] > 0:\n",
    "        price_for_minutes = row['minutes_over']  * row['rub_per_minute']\n",
    "    \n",
    "    #Стоимость дополнительных сообщений\n",
    "    if row['messages_over'] > 0:\n",
    "        price_per_messages = row['messages_over']  * row['rub_per_message']\n",
    "        \n",
    "    #Стоимость дополнительного трафика\n",
    "    if row['mb_used_over'] > 0:\n",
    "        price_per_mb_used = np.ceil(row['mb_used_over'] / 1024) * row['rub_per_gb']\n",
    "\n",
    "    return price_for_minutes + price_for_messages + price_per_mb_used"
   ]
  },
  {
   "cell_type": "code",
   "execution_count": 26,
   "metadata": {},
   "outputs": [
    {
     "data": {
      "text/html": [
       "<div>\n",
       "<style scoped>\n",
       "    .dataframe tbody tr th:only-of-type {\n",
       "        vertical-align: middle;\n",
       "    }\n",
       "\n",
       "    .dataframe tbody tr th {\n",
       "        vertical-align: top;\n",
       "    }\n",
       "\n",
       "    .dataframe thead th {\n",
       "        text-align: right;\n",
       "    }\n",
       "</style>\n",
       "<table border=\"1\" class=\"dataframe\">\n",
       "  <thead>\n",
       "    <tr style=\"text-align: right;\">\n",
       "      <th></th>\n",
       "      <th>user_id</th>\n",
       "      <th>month</th>\n",
       "      <th>calls</th>\n",
       "      <th>minutes</th>\n",
       "      <th>messages</th>\n",
       "      <th>mb_used</th>\n",
       "      <th>age</th>\n",
       "      <th>churn_date</th>\n",
       "      <th>city</th>\n",
       "      <th>first_name</th>\n",
       "      <th>...</th>\n",
       "      <th>minutes_included</th>\n",
       "      <th>rub_monthly_fee</th>\n",
       "      <th>rub_per_gb</th>\n",
       "      <th>rub_per_message</th>\n",
       "      <th>rub_per_minute</th>\n",
       "      <th>minutes_over</th>\n",
       "      <th>messages_over</th>\n",
       "      <th>mb_used_over</th>\n",
       "      <th>rub_monthly_fee_over</th>\n",
       "      <th>rub_monthly_fee_total</th>\n",
       "    </tr>\n",
       "  </thead>\n",
       "  <tbody>\n",
       "    <tr>\n",
       "      <th>0</th>\n",
       "      <td>1005</td>\n",
       "      <td>1</td>\n",
       "      <td>15</td>\n",
       "      <td>99</td>\n",
       "      <td>7</td>\n",
       "      <td>2730.0</td>\n",
       "      <td>67</td>\n",
       "      <td>NaT</td>\n",
       "      <td>Набережные Челны</td>\n",
       "      <td>Афанасий</td>\n",
       "      <td>...</td>\n",
       "      <td>500</td>\n",
       "      <td>550</td>\n",
       "      <td>200</td>\n",
       "      <td>3</td>\n",
       "      <td>3</td>\n",
       "      <td>-401</td>\n",
       "      <td>-43</td>\n",
       "      <td>-12630.0</td>\n",
       "      <td>0.0</td>\n",
       "      <td>550.0</td>\n",
       "    </tr>\n",
       "    <tr>\n",
       "      <th>1</th>\n",
       "      <td>1032</td>\n",
       "      <td>1</td>\n",
       "      <td>61</td>\n",
       "      <td>397</td>\n",
       "      <td>38</td>\n",
       "      <td>24158.0</td>\n",
       "      <td>31</td>\n",
       "      <td>NaT</td>\n",
       "      <td>Ульяновск</td>\n",
       "      <td>Инна</td>\n",
       "      <td>...</td>\n",
       "      <td>500</td>\n",
       "      <td>550</td>\n",
       "      <td>200</td>\n",
       "      <td>3</td>\n",
       "      <td>3</td>\n",
       "      <td>-103</td>\n",
       "      <td>-12</td>\n",
       "      <td>8798.0</td>\n",
       "      <td>1800.0</td>\n",
       "      <td>2350.0</td>\n",
       "    </tr>\n",
       "    <tr>\n",
       "      <th>2</th>\n",
       "      <td>1045</td>\n",
       "      <td>1</td>\n",
       "      <td>1</td>\n",
       "      <td>9</td>\n",
       "      <td>5</td>\n",
       "      <td>2348.0</td>\n",
       "      <td>48</td>\n",
       "      <td>NaT</td>\n",
       "      <td>Улан-Удэ</td>\n",
       "      <td>Джемма</td>\n",
       "      <td>...</td>\n",
       "      <td>500</td>\n",
       "      <td>550</td>\n",
       "      <td>200</td>\n",
       "      <td>3</td>\n",
       "      <td>3</td>\n",
       "      <td>-491</td>\n",
       "      <td>-45</td>\n",
       "      <td>-13012.0</td>\n",
       "      <td>0.0</td>\n",
       "      <td>550.0</td>\n",
       "    </tr>\n",
       "    <tr>\n",
       "      <th>3</th>\n",
       "      <td>1055</td>\n",
       "      <td>1</td>\n",
       "      <td>64</td>\n",
       "      <td>568</td>\n",
       "      <td>30</td>\n",
       "      <td>17115.0</td>\n",
       "      <td>39</td>\n",
       "      <td>NaT</td>\n",
       "      <td>Казань</td>\n",
       "      <td>Луиза</td>\n",
       "      <td>...</td>\n",
       "      <td>500</td>\n",
       "      <td>550</td>\n",
       "      <td>200</td>\n",
       "      <td>3</td>\n",
       "      <td>3</td>\n",
       "      <td>68</td>\n",
       "      <td>-20</td>\n",
       "      <td>1755.0</td>\n",
       "      <td>604.0</td>\n",
       "      <td>1154.0</td>\n",
       "    </tr>\n",
       "    <tr>\n",
       "      <th>4</th>\n",
       "      <td>1071</td>\n",
       "      <td>1</td>\n",
       "      <td>24</td>\n",
       "      <td>200</td>\n",
       "      <td>16</td>\n",
       "      <td>15625.0</td>\n",
       "      <td>20</td>\n",
       "      <td>2018-08-31</td>\n",
       "      <td>Омск</td>\n",
       "      <td>Гектор</td>\n",
       "      <td>...</td>\n",
       "      <td>500</td>\n",
       "      <td>550</td>\n",
       "      <td>200</td>\n",
       "      <td>3</td>\n",
       "      <td>3</td>\n",
       "      <td>-300</td>\n",
       "      <td>-34</td>\n",
       "      <td>265.0</td>\n",
       "      <td>200.0</td>\n",
       "      <td>750.0</td>\n",
       "    </tr>\n",
       "  </tbody>\n",
       "</table>\n",
       "<p>5 rows × 25 columns</p>\n",
       "</div>"
      ],
      "text/plain": [
       "   user_id  month  calls  minutes  messages  mb_used  age churn_date  \\\n",
       "0     1005      1     15       99         7   2730.0   67        NaT   \n",
       "1     1032      1     61      397        38  24158.0   31        NaT   \n",
       "2     1045      1      1        9         5   2348.0   48        NaT   \n",
       "3     1055      1     64      568        30  17115.0   39        NaT   \n",
       "4     1071      1     24      200        16  15625.0   20 2018-08-31   \n",
       "\n",
       "               city first_name  ... minutes_included rub_monthly_fee  \\\n",
       "0  Набережные Челны   Афанасий  ...              500             550   \n",
       "1         Ульяновск       Инна  ...              500             550   \n",
       "2          Улан-Удэ     Джемма  ...              500             550   \n",
       "3            Казань      Луиза  ...              500             550   \n",
       "4              Омск     Гектор  ...              500             550   \n",
       "\n",
       "  rub_per_gb  rub_per_message  rub_per_minute  minutes_over  messages_over  \\\n",
       "0        200                3               3          -401            -43   \n",
       "1        200                3               3          -103            -12   \n",
       "2        200                3               3          -491            -45   \n",
       "3        200                3               3            68            -20   \n",
       "4        200                3               3          -300            -34   \n",
       "\n",
       "   mb_used_over  rub_monthly_fee_over  rub_monthly_fee_total  \n",
       "0      -12630.0                   0.0                  550.0  \n",
       "1        8798.0                1800.0                 2350.0  \n",
       "2      -13012.0                   0.0                  550.0  \n",
       "3        1755.0                 604.0                 1154.0  \n",
       "4         265.0                 200.0                  750.0  \n",
       "\n",
       "[5 rows x 25 columns]"
      ]
     },
     "metadata": {},
     "output_type": "display_data"
    }
   ],
   "source": [
    "costs['rub_monthly_fee_over'] = costs.apply(monthly_revenue, axis = 1)\n",
    "costs['rub_monthly_fee_total'] = costs['rub_monthly_fee'] + costs['rub_monthly_fee_over']\n",
    "\n",
    "display(costs.head())"
   ]
  },
  {
   "cell_type": "markdown",
   "metadata": {},
   "source": [
    "#### Оставим только необходимые значения"
   ]
  },
  {
   "cell_type": "code",
   "execution_count": 27,
   "metadata": {},
   "outputs": [
    {
     "data": {
      "text/html": [
       "<div>\n",
       "<style scoped>\n",
       "    .dataframe tbody tr th:only-of-type {\n",
       "        vertical-align: middle;\n",
       "    }\n",
       "\n",
       "    .dataframe tbody tr th {\n",
       "        vertical-align: top;\n",
       "    }\n",
       "\n",
       "    .dataframe thead th {\n",
       "        text-align: right;\n",
       "    }\n",
       "</style>\n",
       "<table border=\"1\" class=\"dataframe\">\n",
       "  <thead>\n",
       "    <tr style=\"text-align: right;\">\n",
       "      <th></th>\n",
       "      <th>month</th>\n",
       "      <th>tariff_name</th>\n",
       "      <th>user_id</th>\n",
       "      <th>city</th>\n",
       "      <th>calls</th>\n",
       "      <th>minutes</th>\n",
       "      <th>messages</th>\n",
       "      <th>mb_used</th>\n",
       "      <th>minutes_over</th>\n",
       "      <th>messages_over</th>\n",
       "      <th>mb_used_over</th>\n",
       "      <th>rub_monthly_fee</th>\n",
       "      <th>rub_monthly_fee_over</th>\n",
       "      <th>rub_monthly_fee_total</th>\n",
       "    </tr>\n",
       "  </thead>\n",
       "  <tbody>\n",
       "    <tr>\n",
       "      <th>0</th>\n",
       "      <td>1</td>\n",
       "      <td>smart</td>\n",
       "      <td>1005</td>\n",
       "      <td>Набережные Челны</td>\n",
       "      <td>15</td>\n",
       "      <td>99</td>\n",
       "      <td>7</td>\n",
       "      <td>2730.0</td>\n",
       "      <td>-401</td>\n",
       "      <td>-43</td>\n",
       "      <td>-12630.0</td>\n",
       "      <td>550</td>\n",
       "      <td>0.0</td>\n",
       "      <td>550.0</td>\n",
       "    </tr>\n",
       "    <tr>\n",
       "      <th>1</th>\n",
       "      <td>1</td>\n",
       "      <td>smart</td>\n",
       "      <td>1032</td>\n",
       "      <td>Ульяновск</td>\n",
       "      <td>61</td>\n",
       "      <td>397</td>\n",
       "      <td>38</td>\n",
       "      <td>24158.0</td>\n",
       "      <td>-103</td>\n",
       "      <td>-12</td>\n",
       "      <td>8798.0</td>\n",
       "      <td>550</td>\n",
       "      <td>1800.0</td>\n",
       "      <td>2350.0</td>\n",
       "    </tr>\n",
       "    <tr>\n",
       "      <th>2</th>\n",
       "      <td>1</td>\n",
       "      <td>smart</td>\n",
       "      <td>1045</td>\n",
       "      <td>Улан-Удэ</td>\n",
       "      <td>1</td>\n",
       "      <td>9</td>\n",
       "      <td>5</td>\n",
       "      <td>2348.0</td>\n",
       "      <td>-491</td>\n",
       "      <td>-45</td>\n",
       "      <td>-13012.0</td>\n",
       "      <td>550</td>\n",
       "      <td>0.0</td>\n",
       "      <td>550.0</td>\n",
       "    </tr>\n",
       "    <tr>\n",
       "      <th>3</th>\n",
       "      <td>1</td>\n",
       "      <td>smart</td>\n",
       "      <td>1055</td>\n",
       "      <td>Казань</td>\n",
       "      <td>64</td>\n",
       "      <td>568</td>\n",
       "      <td>30</td>\n",
       "      <td>17115.0</td>\n",
       "      <td>68</td>\n",
       "      <td>-20</td>\n",
       "      <td>1755.0</td>\n",
       "      <td>550</td>\n",
       "      <td>604.0</td>\n",
       "      <td>1154.0</td>\n",
       "    </tr>\n",
       "    <tr>\n",
       "      <th>4</th>\n",
       "      <td>1</td>\n",
       "      <td>smart</td>\n",
       "      <td>1071</td>\n",
       "      <td>Омск</td>\n",
       "      <td>24</td>\n",
       "      <td>200</td>\n",
       "      <td>16</td>\n",
       "      <td>15625.0</td>\n",
       "      <td>-300</td>\n",
       "      <td>-34</td>\n",
       "      <td>265.0</td>\n",
       "      <td>550</td>\n",
       "      <td>200.0</td>\n",
       "      <td>750.0</td>\n",
       "    </tr>\n",
       "  </tbody>\n",
       "</table>\n",
       "</div>"
      ],
      "text/plain": [
       "   month tariff_name  user_id              city  calls  minutes  messages  \\\n",
       "0      1       smart     1005  Набережные Челны     15       99         7   \n",
       "1      1       smart     1032         Ульяновск     61      397        38   \n",
       "2      1       smart     1045          Улан-Удэ      1        9         5   \n",
       "3      1       smart     1055            Казань     64      568        30   \n",
       "4      1       smart     1071              Омск     24      200        16   \n",
       "\n",
       "   mb_used  minutes_over  messages_over  mb_used_over  rub_monthly_fee  \\\n",
       "0   2730.0          -401            -43      -12630.0              550   \n",
       "1  24158.0          -103            -12        8798.0              550   \n",
       "2   2348.0          -491            -45      -13012.0              550   \n",
       "3  17115.0            68            -20        1755.0              550   \n",
       "4  15625.0          -300            -34         265.0              550   \n",
       "\n",
       "   rub_monthly_fee_over  rub_monthly_fee_total  \n",
       "0                   0.0                  550.0  \n",
       "1                1800.0                 2350.0  \n",
       "2                   0.0                  550.0  \n",
       "3                 604.0                 1154.0  \n",
       "4                 200.0                  750.0  "
      ]
     },
     "metadata": {},
     "output_type": "display_data"
    }
   ],
   "source": [
    "# Датафрейм только с нужными нами данными\n",
    "costs = pd.DataFrame(costs[['month', 'tariff_name', 'user_id', 'city', 'calls', 'minutes', 'messages', 'mb_used', 'minutes_over', 'messages_over', 'mb_used_over', 'rub_monthly_fee', 'rub_monthly_fee_over', 'rub_monthly_fee_total']])\n",
    "display(costs.head())"
   ]
  },
  {
   "cell_type": "code",
   "execution_count": 28,
   "metadata": {},
   "outputs": [
    {
     "name": "stdout",
     "output_type": "stream",
     "text": [
      "498\n"
     ]
    }
   ],
   "source": [
    "print(len(costs.groupby('user_id')))"
   ]
  },
  {
   "cell_type": "markdown",
   "metadata": {},
   "source": [
    "*Нет информации по расходам по 2-ум пользователям*\n",
    "\n",
    "*Проверим сколько приходиться пользователей на каждый тариф*"
   ]
  },
  {
   "cell_type": "code",
   "execution_count": 29,
   "metadata": {},
   "outputs": [
    {
     "name": "stdout",
     "output_type": "stream",
     "text": [
      "Кол-во клиентов, которые используют тариф \"Смарт\": 350\n",
      "Кол-во клиентов, которые используют тариф \"Ультра\": 148\n"
     ]
    }
   ],
   "source": [
    "#Тариф \"Смарт\"\n",
    "smart_costs = costs.query(\"tariff_name == 'smart'\")\n",
    "print('Кол-во клиентов, которые используют тариф \"Смарт\": {}'.format(len(smart_costs.groupby('user_id'))))\n",
    "\n",
    "#Тариф \"Ультра\"\n",
    "ultra_costs = costs.query(\"tariff_name == 'ultra'\")\n",
    "print('Кол-во клиентов, которые используют тариф \"Ультра\": {}'.format(len(ultra_costs.groupby('user_id'))))"
   ]
  },
  {
   "cell_type": "markdown",
   "metadata": {},
   "source": [
    "### Вывод"
   ]
  },
  {
   "cell_type": "markdown",
   "metadata": {},
   "source": [
    "*Данные были подсчитаны и добавлены.*\n",
    "\n",
    "*Подсчет вывел, что 350 пользователей используют тариф \"Смарт\", 148 клиентов ипользуют тариф \"Ультра\". Касательно отсутствия данных по 2 клиентам, скорее всего нужно запрашивать информацию у коллег*"
   ]
  },
  {
   "cell_type": "markdown",
   "metadata": {},
   "source": [
    "### Шаг 3. Проанализируйте данные"
   ]
  },
  {
   "cell_type": "markdown",
   "metadata": {},
   "source": [
    "**Опишите поведение клиентов оператора, исходя из выборки. Сколько минут разговора, сколько сообщений и какой объём интернет-трафика требуется пользователям каждого тарифа в месяц? Посчитайте среднее количество, дисперсию и стандартное отклонение. Постройте гистограммы. Опишите распределения**"
   ]
  },
  {
   "cell_type": "code",
   "execution_count": 30,
   "metadata": {},
   "outputs": [],
   "source": [
    "# Функция для создания сводной таблицы\n",
    "def monthly_tariff_costs(df, tariff):\n",
    "    monthly_tariff_costs = df.query('tariff_name == @tariff').pivot_table(index=['tariff_name', 'month'], values = ['minutes', 'messages', 'mb_used', 'rub_monthly_fee_over', 'rub_monthly_fee_total'])\n",
    "    display(monthly_tariff_costs)"
   ]
  },
  {
   "cell_type": "code",
   "execution_count": 31,
   "metadata": {},
   "outputs": [
    {
     "data": {
      "text/html": [
       "<div>\n",
       "<style scoped>\n",
       "    .dataframe tbody tr th:only-of-type {\n",
       "        vertical-align: middle;\n",
       "    }\n",
       "\n",
       "    .dataframe tbody tr th {\n",
       "        vertical-align: top;\n",
       "    }\n",
       "\n",
       "    .dataframe thead th {\n",
       "        text-align: right;\n",
       "    }\n",
       "</style>\n",
       "<table border=\"1\" class=\"dataframe\">\n",
       "  <thead>\n",
       "    <tr style=\"text-align: right;\">\n",
       "      <th></th>\n",
       "      <th></th>\n",
       "      <th>mb_used</th>\n",
       "      <th>messages</th>\n",
       "      <th>minutes</th>\n",
       "      <th>rub_monthly_fee_over</th>\n",
       "      <th>rub_monthly_fee_total</th>\n",
       "    </tr>\n",
       "    <tr>\n",
       "      <th>tariff_name</th>\n",
       "      <th>month</th>\n",
       "      <th></th>\n",
       "      <th></th>\n",
       "      <th></th>\n",
       "      <th></th>\n",
       "      <th></th>\n",
       "    </tr>\n",
       "  </thead>\n",
       "  <tbody>\n",
       "    <tr>\n",
       "      <th rowspan=\"12\" valign=\"top\">smart</th>\n",
       "      <th>1</th>\n",
       "      <td>8528.588235</td>\n",
       "      <td>18.235294</td>\n",
       "      <td>209.647059</td>\n",
       "      <td>171.235294</td>\n",
       "      <td>721.235294</td>\n",
       "    </tr>\n",
       "    <tr>\n",
       "      <th>2</th>\n",
       "      <td>11617.344828</td>\n",
       "      <td>24.086207</td>\n",
       "      <td>306.310345</td>\n",
       "      <td>279.517241</td>\n",
       "      <td>829.517241</td>\n",
       "    </tr>\n",
       "    <tr>\n",
       "      <th>3</th>\n",
       "      <td>15131.207792</td>\n",
       "      <td>31.857143</td>\n",
       "      <td>400.532468</td>\n",
       "      <td>613.532468</td>\n",
       "      <td>1163.532468</td>\n",
       "    </tr>\n",
       "    <tr>\n",
       "      <th>4</th>\n",
       "      <td>13486.080357</td>\n",
       "      <td>30.741071</td>\n",
       "      <td>377.000000</td>\n",
       "      <td>413.866071</td>\n",
       "      <td>963.866071</td>\n",
       "    </tr>\n",
       "    <tr>\n",
       "      <th>5</th>\n",
       "      <td>15832.751773</td>\n",
       "      <td>33.773050</td>\n",
       "      <td>398.404255</td>\n",
       "      <td>653.063830</td>\n",
       "      <td>1203.063830</td>\n",
       "    </tr>\n",
       "    <tr>\n",
       "      <th>6</th>\n",
       "      <td>15822.445122</td>\n",
       "      <td>33.402439</td>\n",
       "      <td>406.701220</td>\n",
       "      <td>657.134146</td>\n",
       "      <td>1207.134146</td>\n",
       "    </tr>\n",
       "    <tr>\n",
       "      <th>7</th>\n",
       "      <td>15771.398010</td>\n",
       "      <td>33.751244</td>\n",
       "      <td>419.288557</td>\n",
       "      <td>679.114428</td>\n",
       "      <td>1229.114428</td>\n",
       "    </tr>\n",
       "    <tr>\n",
       "      <th>8</th>\n",
       "      <td>16711.324786</td>\n",
       "      <td>33.638298</td>\n",
       "      <td>433.191489</td>\n",
       "      <td>778.208511</td>\n",
       "      <td>1328.208511</td>\n",
       "    </tr>\n",
       "    <tr>\n",
       "      <th>9</th>\n",
       "      <td>16332.615385</td>\n",
       "      <td>33.638462</td>\n",
       "      <td>440.080769</td>\n",
       "      <td>707.446154</td>\n",
       "      <td>1257.446154</td>\n",
       "    </tr>\n",
       "    <tr>\n",
       "      <th>10</th>\n",
       "      <td>16786.853741</td>\n",
       "      <td>33.765306</td>\n",
       "      <td>438.295918</td>\n",
       "      <td>820.853741</td>\n",
       "      <td>1370.853741</td>\n",
       "    </tr>\n",
       "    <tr>\n",
       "      <th>11</th>\n",
       "      <td>16925.962025</td>\n",
       "      <td>34.075949</td>\n",
       "      <td>447.620253</td>\n",
       "      <td>798.531646</td>\n",
       "      <td>1348.531646</td>\n",
       "    </tr>\n",
       "    <tr>\n",
       "      <th>12</th>\n",
       "      <td>18145.824926</td>\n",
       "      <td>35.994065</td>\n",
       "      <td>491.418398</td>\n",
       "      <td>1033.801187</td>\n",
       "      <td>1583.801187</td>\n",
       "    </tr>\n",
       "  </tbody>\n",
       "</table>\n",
       "</div>"
      ],
      "text/plain": [
       "                        mb_used   messages     minutes  rub_monthly_fee_over  \\\n",
       "tariff_name month                                                              \n",
       "smart       1       8528.588235  18.235294  209.647059            171.235294   \n",
       "            2      11617.344828  24.086207  306.310345            279.517241   \n",
       "            3      15131.207792  31.857143  400.532468            613.532468   \n",
       "            4      13486.080357  30.741071  377.000000            413.866071   \n",
       "            5      15832.751773  33.773050  398.404255            653.063830   \n",
       "            6      15822.445122  33.402439  406.701220            657.134146   \n",
       "            7      15771.398010  33.751244  419.288557            679.114428   \n",
       "            8      16711.324786  33.638298  433.191489            778.208511   \n",
       "            9      16332.615385  33.638462  440.080769            707.446154   \n",
       "            10     16786.853741  33.765306  438.295918            820.853741   \n",
       "            11     16925.962025  34.075949  447.620253            798.531646   \n",
       "            12     18145.824926  35.994065  491.418398           1033.801187   \n",
       "\n",
       "                   rub_monthly_fee_total  \n",
       "tariff_name month                         \n",
       "smart       1                 721.235294  \n",
       "            2                 829.517241  \n",
       "            3                1163.532468  \n",
       "            4                 963.866071  \n",
       "            5                1203.063830  \n",
       "            6                1207.134146  \n",
       "            7                1229.114428  \n",
       "            8                1328.208511  \n",
       "            9                1257.446154  \n",
       "            10               1370.853741  \n",
       "            11               1348.531646  \n",
       "            12               1583.801187  "
      ]
     },
     "metadata": {},
     "output_type": "display_data"
    },
    {
     "data": {
      "text/html": [
       "<div>\n",
       "<style scoped>\n",
       "    .dataframe tbody tr th:only-of-type {\n",
       "        vertical-align: middle;\n",
       "    }\n",
       "\n",
       "    .dataframe tbody tr th {\n",
       "        vertical-align: top;\n",
       "    }\n",
       "\n",
       "    .dataframe thead th {\n",
       "        text-align: right;\n",
       "    }\n",
       "</style>\n",
       "<table border=\"1\" class=\"dataframe\">\n",
       "  <thead>\n",
       "    <tr style=\"text-align: right;\">\n",
       "      <th></th>\n",
       "      <th></th>\n",
       "      <th>mb_used</th>\n",
       "      <th>messages</th>\n",
       "      <th>minutes</th>\n",
       "      <th>rub_monthly_fee_over</th>\n",
       "      <th>rub_monthly_fee_total</th>\n",
       "    </tr>\n",
       "    <tr>\n",
       "      <th>tariff_name</th>\n",
       "      <th>month</th>\n",
       "      <th></th>\n",
       "      <th></th>\n",
       "      <th></th>\n",
       "      <th></th>\n",
       "      <th></th>\n",
       "    </tr>\n",
       "  </thead>\n",
       "  <tbody>\n",
       "    <tr>\n",
       "      <th rowspan=\"12\" valign=\"top\">ultra</th>\n",
       "      <th>1</th>\n",
       "      <td>13154.666667</td>\n",
       "      <td>33.777778</td>\n",
       "      <td>440.888889</td>\n",
       "      <td>0.000000</td>\n",
       "      <td>1950.000000</td>\n",
       "    </tr>\n",
       "    <tr>\n",
       "      <th>2</th>\n",
       "      <td>12860.000000</td>\n",
       "      <td>21.958333</td>\n",
       "      <td>304.666667</td>\n",
       "      <td>25.000000</td>\n",
       "      <td>1975.000000</td>\n",
       "    </tr>\n",
       "    <tr>\n",
       "      <th>3</th>\n",
       "      <td>17553.513514</td>\n",
       "      <td>32.297297</td>\n",
       "      <td>503.081081</td>\n",
       "      <td>64.864865</td>\n",
       "      <td>2014.864865</td>\n",
       "    </tr>\n",
       "    <tr>\n",
       "      <th>4</th>\n",
       "      <td>16845.254545</td>\n",
       "      <td>31.563636</td>\n",
       "      <td>470.072727</td>\n",
       "      <td>51.818182</td>\n",
       "      <td>2001.818182</td>\n",
       "    </tr>\n",
       "    <tr>\n",
       "      <th>5</th>\n",
       "      <td>19676.878788</td>\n",
       "      <td>37.850746</td>\n",
       "      <td>524.865672</td>\n",
       "      <td>111.940299</td>\n",
       "      <td>2061.940299</td>\n",
       "    </tr>\n",
       "    <tr>\n",
       "      <th>6</th>\n",
       "      <td>19172.168675</td>\n",
       "      <td>41.726190</td>\n",
       "      <td>492.428571</td>\n",
       "      <td>91.071429</td>\n",
       "      <td>2041.071429</td>\n",
       "    </tr>\n",
       "    <tr>\n",
       "      <th>7</th>\n",
       "      <td>20744.533333</td>\n",
       "      <td>49.846154</td>\n",
       "      <td>560.296703</td>\n",
       "      <td>171.428571</td>\n",
       "      <td>2121.428571</td>\n",
       "    </tr>\n",
       "    <tr>\n",
       "      <th>8</th>\n",
       "      <td>19780.745283</td>\n",
       "      <td>48.439252</td>\n",
       "      <td>524.570093</td>\n",
       "      <td>133.177570</td>\n",
       "      <td>2083.177570</td>\n",
       "    </tr>\n",
       "    <tr>\n",
       "      <th>9</th>\n",
       "      <td>19392.675439</td>\n",
       "      <td>52.286957</td>\n",
       "      <td>553.643478</td>\n",
       "      <td>74.347826</td>\n",
       "      <td>2024.347826</td>\n",
       "    </tr>\n",
       "    <tr>\n",
       "      <th>10</th>\n",
       "      <td>20230.008197</td>\n",
       "      <td>58.430894</td>\n",
       "      <td>572.829268</td>\n",
       "      <td>117.073171</td>\n",
       "      <td>2067.073171</td>\n",
       "    </tr>\n",
       "    <tr>\n",
       "      <th>11</th>\n",
       "      <td>19956.052632</td>\n",
       "      <td>55.791045</td>\n",
       "      <td>555.805970</td>\n",
       "      <td>143.283582</td>\n",
       "      <td>2093.283582</td>\n",
       "    </tr>\n",
       "    <tr>\n",
       "      <th>12</th>\n",
       "      <td>21973.768116</td>\n",
       "      <td>60.611511</td>\n",
       "      <td>609.129496</td>\n",
       "      <td>188.848921</td>\n",
       "      <td>2138.848921</td>\n",
       "    </tr>\n",
       "  </tbody>\n",
       "</table>\n",
       "</div>"
      ],
      "text/plain": [
       "                        mb_used   messages     minutes  rub_monthly_fee_over  \\\n",
       "tariff_name month                                                              \n",
       "ultra       1      13154.666667  33.777778  440.888889              0.000000   \n",
       "            2      12860.000000  21.958333  304.666667             25.000000   \n",
       "            3      17553.513514  32.297297  503.081081             64.864865   \n",
       "            4      16845.254545  31.563636  470.072727             51.818182   \n",
       "            5      19676.878788  37.850746  524.865672            111.940299   \n",
       "            6      19172.168675  41.726190  492.428571             91.071429   \n",
       "            7      20744.533333  49.846154  560.296703            171.428571   \n",
       "            8      19780.745283  48.439252  524.570093            133.177570   \n",
       "            9      19392.675439  52.286957  553.643478             74.347826   \n",
       "            10     20230.008197  58.430894  572.829268            117.073171   \n",
       "            11     19956.052632  55.791045  555.805970            143.283582   \n",
       "            12     21973.768116  60.611511  609.129496            188.848921   \n",
       "\n",
       "                   rub_monthly_fee_total  \n",
       "tariff_name month                         \n",
       "ultra       1                1950.000000  \n",
       "            2                1975.000000  \n",
       "            3                2014.864865  \n",
       "            4                2001.818182  \n",
       "            5                2061.940299  \n",
       "            6                2041.071429  \n",
       "            7                2121.428571  \n",
       "            8                2083.177570  \n",
       "            9                2024.347826  \n",
       "            10               2067.073171  \n",
       "            11               2093.283582  \n",
       "            12               2138.848921  "
      ]
     },
     "metadata": {},
     "output_type": "display_data"
    }
   ],
   "source": [
    "monthly_smart_costs = monthly_tariff_costs(costs, \"smart\")\n",
    "monthly_ultra_costs = monthly_tariff_costs(costs, \"ultra\")"
   ]
  },
  {
   "cell_type": "markdown",
   "metadata": {},
   "source": [
    "*У пользователей с тарифом \"Ультра\" перерасход не прям большой по сравнению с клиентами, которые пользуются тарифом \"Смарт\"*"
   ]
  },
  {
   "cell_type": "code",
   "execution_count": 32,
   "metadata": {},
   "outputs": [],
   "source": [
    "def multiple_graph(df, tariff1=\"smart\", tariff2=\"ultra\"):\n",
    "    smart_graph = df.query('tariff_name == @tariff1').pivot_table(index = 'month', values = 'rub_monthly_fee_total')\n",
    "    ultra_graph = df.query('tariff_name == @tariff2').pivot_table(index = 'month', values = 'rub_monthly_fee_total')\n",
    "    \n",
    "    plt.figure(figsize = (12, 6))\n",
    "    plt.title('Ср. выручка с клиента по тарифу', fontsize=16)\n",
    "    plt.plot(smart_graph, marker='o', label = tariff1)\n",
    "    plt.plot(ultra_graph, marker='o', label = tariff2)\n",
    "    plt.xlabel('Месяц')\n",
    "    plt.ylabel('Ср. выручка с клиента')\n",
    "    plt.legend(loc='lower right')\n",
    "    plt.grid()\n",
    "\n",
    "    plt.show()"
   ]
  },
  {
   "cell_type": "code",
   "execution_count": 33,
   "metadata": {},
   "outputs": [
    {
     "data": {
      "image/png": "[encoded data removed]",
      "text/plain": [
       "<Figure size 864x432 with 1 Axes>"
      ]
     },
     "metadata": {
      "needs_background": "light"
     },
     "output_type": "display_data"
    }
   ],
   "source": [
    "multiple_graph(costs)"
   ]
  },
  {
   "cell_type": "markdown",
   "metadata": {},
   "source": [
    "*Как видно, график тоже подтверждает разницу между ср. выручки с клиента в зависимости от тарифа. Также можно наблюдать, что в течение года было замечено равномерное увеличение выручки с клиентов, которые использовали тариф \"Смарт\"*\n",
    "\n",
    "*Возможно скоро они перейдут с тарифа \"Смарта\" на \"Ультра\"*"
   ]
  },
  {
   "cell_type": "markdown",
   "metadata": {},
   "source": [
    "#### Минуты разговора, количество сообщений и объём интернет-трафика в среднем необходимые пользователям каждого тарифа в месяц"
   ]
  },
  {
   "cell_type": "code",
   "execution_count": 34,
   "metadata": {},
   "outputs": [
    {
     "data": {
      "text/html": [
       "<div>\n",
       "<style scoped>\n",
       "    .dataframe tbody tr th:only-of-type {\n",
       "        vertical-align: middle;\n",
       "    }\n",
       "\n",
       "    .dataframe tbody tr th {\n",
       "        vertical-align: top;\n",
       "    }\n",
       "\n",
       "    .dataframe thead th {\n",
       "        text-align: right;\n",
       "    }\n",
       "</style>\n",
       "<table border=\"1\" class=\"dataframe\">\n",
       "  <thead>\n",
       "    <tr style=\"text-align: right;\">\n",
       "      <th></th>\n",
       "      <th>mb_used</th>\n",
       "      <th>messages</th>\n",
       "      <th>minutes</th>\n",
       "      <th>rub_monthly_fee_over</th>\n",
       "      <th>rub_monthly_fee_total</th>\n",
       "    </tr>\n",
       "    <tr>\n",
       "      <th>tariff_name</th>\n",
       "      <th></th>\n",
       "      <th></th>\n",
       "      <th></th>\n",
       "      <th></th>\n",
       "      <th></th>\n",
       "    </tr>\n",
       "  </thead>\n",
       "  <tbody>\n",
       "    <tr>\n",
       "      <th>smart</th>\n",
       "      <td>16244.472172</td>\n",
       "      <td>33.384029</td>\n",
       "      <td>429.450875</td>\n",
       "      <td>745.112607</td>\n",
       "      <td>1295.112607</td>\n",
       "    </tr>\n",
       "    <tr>\n",
       "      <th>ultra</th>\n",
       "      <td>19688.587692</td>\n",
       "      <td>49.363452</td>\n",
       "      <td>540.779695</td>\n",
       "      <td>121.065990</td>\n",
       "      <td>2071.065990</td>\n",
       "    </tr>\n",
       "  </tbody>\n",
       "</table>\n",
       "</div>"
      ],
      "text/plain": [
       "                  mb_used   messages     minutes  rub_monthly_fee_over  \\\n",
       "tariff_name                                                              \n",
       "smart        16244.472172  33.384029  429.450875            745.112607   \n",
       "ultra        19688.587692  49.363452  540.779695            121.065990   \n",
       "\n",
       "             rub_monthly_fee_total  \n",
       "tariff_name                         \n",
       "smart                  1295.112607  \n",
       "ultra                  2071.065990  "
      ]
     },
     "metadata": {},
     "output_type": "display_data"
    },
    {
     "name": "stdout",
     "output_type": "stream",
     "text": [
      "\n"
     ]
    }
   ],
   "source": [
    "usage_mean = costs.pivot_table(index='tariff_name', values = ['minutes', 'messages', 'mb_used', 'rub_monthly_fee_over', 'rub_monthly_fee_total'])\n",
    "display(usage_mean)\n",
    "print()"
   ]
  },
  {
   "cell_type": "markdown",
   "metadata": {},
   "source": [
    "*Результат показал, что в среднем пользователи тарифа \"Смарт\" переплачивают за тариф из-за перерасходов. Отсюда можно сделать вывод, что если имеются тарифы между \"Смарт\" и \"Ультра\", то клиентам, которые обычно перерасходывают свои тарифы, следовала бы перейти на другой тариф. Найти некую золотую середину для своих потребностей.*"
   ]
  },
  {
   "cell_type": "markdown",
   "metadata": {},
   "source": [
    "### Составим портреты пользователей"
   ]
  },
  {
   "cell_type": "code",
   "execution_count": 35,
   "metadata": {},
   "outputs": [],
   "source": [
    "def hist(df1, df2, column, title, bins):\n",
    "    plt.title(title, fontsize=16)\n",
    "    df1[column].plot(kind = 'hist', grid = True, figsize = (12, 6), label = 'Smart', alpha=0.75, bins=bins)\n",
    "    df2[column].plot(kind = 'hist', grid = True, label = 'Ultra', alpha=0.75, bins=bins)\n",
    "    plt.legend(loc='right')"
   ]
  },
  {
   "cell_type": "markdown",
   "metadata": {},
   "source": [
    "#### Сколько в среднем трятят минут в зависимости от тарифа"
   ]
  },
  {
   "cell_type": "code",
   "execution_count": 36,
   "metadata": {},
   "outputs": [],
   "source": [
    "#Ср. значения для клиентов, которые используют тариф \"Смарт\"\n",
    "smart_usage_mean = costs.query('tariff_name == \"smart\"').pivot_table(index=['user_id', 'month'], values = ['minutes', 'messages', 'mb_used', 'rub_monthly_fee_over', 'rub_monthly_fee_total'])\n",
    "\n",
    "#Ср. значения для клиентов, которые используют тариф \"Ультра\"\n",
    "ultra_usage_mean = costs.query('tariff_name == \"ultra\"').pivot_table(index=['user_id', 'month'], values = ['minutes', 'messages', 'mb_used', 'rub_monthly_fee_over', 'rub_monthly_fee_total'])"
   ]
  },
  {
   "cell_type": "code",
   "execution_count": 37,
   "metadata": {},
   "outputs": [
    {
     "data": {
      "text/plain": [
       "count    2229.000000\n",
       "mean      429.450875\n",
       "std       194.871174\n",
       "min         0.000000\n",
       "25%       291.000000\n",
       "50%       435.000000\n",
       "75%       560.000000\n",
       "max      1471.000000\n",
       "Name: minutes, dtype: float64"
      ]
     },
     "execution_count": 37,
     "metadata": {},
     "output_type": "execute_result"
    }
   ],
   "source": [
    "smart_usage_mean['minutes'].describe()"
   ]
  },
  {
   "cell_type": "code",
   "execution_count": 38,
   "metadata": {},
   "outputs": [
    {
     "data": {
      "text/plain": [
       "count     985.000000\n",
       "mean      540.779695\n",
       "std       325.738740\n",
       "min         0.000000\n",
       "25%       292.000000\n",
       "50%       532.000000\n",
       "75%       773.000000\n",
       "max      1727.000000\n",
       "Name: minutes, dtype: float64"
      ]
     },
     "execution_count": 38,
     "metadata": {},
     "output_type": "execute_result"
    }
   ],
   "source": [
    "ultra_usage_mean['minutes'].describe()"
   ]
  },
  {
   "cell_type": "code",
   "execution_count": 39,
   "metadata": {},
   "outputs": [
    {
     "data": {
      "image/png": "[encoded data removed]",
      "text/plain": [
       "<Figure size 864x432 with 1 Axes>"
      ]
     },
     "metadata": {
      "needs_background": "light"
     },
     "output_type": "display_data"
    }
   ],
   "source": [
    "hist(smart_usage_mean, ultra_usage_mean, 'minutes', 'Распределения по длительности звонка', 100)"
   ]
  },
  {
   "cell_type": "markdown",
   "metadata": {},
   "source": [
    "*У клиентов, которые используют тариф \"Смарт\", наблюдается нормальное распределение, а у клиентов тарифа \"Ультра\" - распределение Пуассона*\n",
    "\n",
    "*Также можно заметить, что в среднем клиенты тарифа \"Смарт\" на разговор в месяц тратят 429 минут, что не доходит до порогового значения (500 минут). В свою очередь, клиенты  тарифа \"Ультра\" в среднем в месяц на разговор тратят 540 минут, хотя в их тариф включено 3000 минут (Да что уж там, макс значение всего 1727 минут)*"
   ]
  },
  {
   "cell_type": "markdown",
   "metadata": {},
   "source": [
    "#### Сколько в среднем отправляют сообщений в зависимости от тарифа"
   ]
  },
  {
   "cell_type": "code",
   "execution_count": 40,
   "metadata": {},
   "outputs": [
    {
     "data": {
      "text/plain": [
       "count    2229.000000\n",
       "mean       33.384029\n",
       "std        28.227876\n",
       "min         0.000000\n",
       "25%        10.000000\n",
       "50%        28.000000\n",
       "75%        51.000000\n",
       "max       143.000000\n",
       "Name: messages, dtype: float64"
      ]
     },
     "execution_count": 40,
     "metadata": {},
     "output_type": "execute_result"
    }
   ],
   "source": [
    "smart_usage_mean['messages'].describe()"
   ]
  },
  {
   "cell_type": "code",
   "execution_count": 41,
   "metadata": {},
   "outputs": [
    {
     "data": {
      "text/plain": [
       "count    985.000000\n",
       "mean      49.363452\n",
       "std       47.804457\n",
       "min        0.000000\n",
       "25%        6.000000\n",
       "50%       38.000000\n",
       "75%       79.000000\n",
       "max      224.000000\n",
       "Name: messages, dtype: float64"
      ]
     },
     "execution_count": 41,
     "metadata": {},
     "output_type": "execute_result"
    }
   ],
   "source": [
    "ultra_usage_mean['messages'].describe()"
   ]
  },
  {
   "cell_type": "code",
   "execution_count": 42,
   "metadata": {},
   "outputs": [
    {
     "data": {
      "image/png": "[encoded data removed]",
      "text/plain": [
       "<Figure size 864x432 with 1 Axes>"
      ]
     },
     "metadata": {
      "needs_background": "light"
     },
     "output_type": "display_data"
    }
   ],
   "source": [
    "hist(smart_usage_mean, ultra_usage_mean, 'messages', 'Распределения по отправленным сообщениям', 30)"
   ]
  },
  {
   "cell_type": "markdown",
   "metadata": {},
   "source": [
    "*Оба распределениям являются Пуассановским*\n",
    "\n",
    "*Результат показал, что в среднем в месяц клиенты тарифа \"Смарт\" отправляют 33 сообщения, что входит в порог планого тарифа. А вот клиенты тарифа \"Ультра\" в среднем отправляют 49 сообщений, хотя для их тарифа предусмотренно 1000 сообщений*"
   ]
  },
  {
   "cell_type": "markdown",
   "metadata": {},
   "source": [
    "#### Сколько в среднем трятят объям интернет-трафика в зависимости от тарифа"
   ]
  },
  {
   "cell_type": "code",
   "execution_count": 43,
   "metadata": {},
   "outputs": [
    {
     "data": {
      "text/plain": [
       "count     2228.000000\n",
       "mean     16244.472172\n",
       "std       5871.037024\n",
       "min          1.000000\n",
       "25%      12673.250000\n",
       "50%      16541.500000\n",
       "75%      20078.750000\n",
       "max      38627.000000\n",
       "Name: mb_used, dtype: float64"
      ]
     },
     "execution_count": 43,
     "metadata": {},
     "output_type": "execute_result"
    }
   ],
   "source": [
    "smart_usage_mean['mb_used'].describe()"
   ]
  },
  {
   "cell_type": "code",
   "execution_count": 44,
   "metadata": {},
   "outputs": [
    {
     "data": {
      "text/plain": [
       "count      975.000000\n",
       "mean     19688.587692\n",
       "std       9952.830482\n",
       "min          1.000000\n",
       "25%      12022.000000\n",
       "50%      19416.000000\n",
       "75%      26921.500000\n",
       "max      49793.000000\n",
       "Name: mb_used, dtype: float64"
      ]
     },
     "execution_count": 44,
     "metadata": {},
     "output_type": "execute_result"
    }
   ],
   "source": [
    "ultra_usage_mean['mb_used'].describe()"
   ]
  },
  {
   "cell_type": "code",
   "execution_count": 45,
   "metadata": {},
   "outputs": [
    {
     "data": {
      "image/png": "[encoded data removed]",
      "text/plain": [
       "<Figure size 864x432 with 1 Axes>"
      ]
     },
     "metadata": {
      "needs_background": "light"
     },
     "output_type": "display_data"
    }
   ],
   "source": [
    "hist(smart_usage_mean, ultra_usage_mean, 'mb_used', 'Распределения по интернет-трафику', 100)"
   ]
  },
  {
   "cell_type": "markdown",
   "metadata": {},
   "source": [
    "*Оба распределения являются нормальными*\n",
    "\n",
    "*В среднем в месяц клиент тарифа \"Смарт\" перерасходывает тарифный план на 0,86 гб. А клиенты тарифа \"Ультра\" наоборот тратят всего 19 гб, хотя в их плане доступно 30 гб*"
   ]
  },
  {
   "cell_type": "markdown",
   "metadata": {},
   "source": [
    "#### Средняя выручка с клиентов в зависимости от тарифа"
   ]
  },
  {
   "cell_type": "code",
   "execution_count": 46,
   "metadata": {},
   "outputs": [
    {
     "data": {
      "text/plain": [
       "count    2229.000000\n",
       "mean     1295.112607\n",
       "std       826.045164\n",
       "min       550.000000\n",
       "25%       550.000000\n",
       "50%      1045.000000\n",
       "75%      1750.000000\n",
       "max      6725.000000\n",
       "Name: rub_monthly_fee_total, dtype: float64"
      ]
     },
     "execution_count": 46,
     "metadata": {},
     "output_type": "execute_result"
    }
   ],
   "source": [
    "smart_usage_mean['rub_monthly_fee_total'].describe()"
   ]
  },
  {
   "cell_type": "code",
   "execution_count": 47,
   "metadata": {},
   "outputs": [
    {
     "data": {
      "text/plain": [
       "count     985.000000\n",
       "mean     2071.065990\n",
       "std       378.802377\n",
       "min      1950.000000\n",
       "25%      1950.000000\n",
       "50%      1950.000000\n",
       "75%      1950.000000\n",
       "max      4800.000000\n",
       "Name: rub_monthly_fee_total, dtype: float64"
      ]
     },
     "execution_count": 47,
     "metadata": {},
     "output_type": "execute_result"
    }
   ],
   "source": [
    "ultra_usage_mean['rub_monthly_fee_total'].describe()"
   ]
  },
  {
   "cell_type": "code",
   "execution_count": 48,
   "metadata": {},
   "outputs": [
    {
     "data": {
      "image/png": "[encoded data removed]",
      "text/plain": [
       "<Figure size 864x432 with 1 Axes>"
      ]
     },
     "metadata": {
      "needs_background": "light"
     },
     "output_type": "display_data"
    }
   ],
   "source": [
    "hist(smart_usage_mean, ultra_usage_mean, 'rub_monthly_fee_total', 'Распределения по выручке', 20)"
   ]
  },
  {
   "cell_type": "markdown",
   "metadata": {},
   "source": [
    "*Можно видеть ну очень аномальные значения у клиентов тарифа \"Смарт\". Макс значение по оплате тарифа составило 6725, хотя тарифный план стоит 550!!!. У клиентов тарифа \"Ультра\" разница не такая большая, при плане в 1950, макс значение составило 4800*\n",
    "\n",
    "*В среднем в месяц 1 клиент тарифа \"Смарт\" приносит оператору 1295 у.е., а клиент тарифа \"Ультра\" - 2071 у.е.*"
   ]
  },
  {
   "cell_type": "markdown",
   "metadata": {},
   "source": [
    "#### Дисперсия и стандартное отклонение"
   ]
  },
  {
   "cell_type": "markdown",
   "metadata": {},
   "source": [
    "***Дисперсия** - это мера разброса возможных исходов относительно ожидаемого значения. Следовательно, чем выше дисперсия, тем больше разброс*\n",
    "\n",
    "***Среднее квадратическое отклонение** так же, как и среднее линейное отклонение, показывает, на сколько в среднем отклоняются конкретные значения признака от среднего их значения. Среднее квадратическое отклонение всегда больше среднего линейного отклонения.*"
   ]
  },
  {
   "cell_type": "code",
   "execution_count": 49,
   "metadata": {},
   "outputs": [],
   "source": [
    "def var(df1, df2, column):\n",
    "    smart_minutes_var = np.var(df1[column], ddof=1)\n",
    "    ultra_minutes_var = np.var(df2[column], ddof=1)\n",
    "\n",
    "    print('Дисперсия (минуты разговора) по тарифу \"Смарт\": {}'.format(round(smart_minutes_var, 2)))\n",
    "    print('Дисперсия (минуты разговора) по тарифу \"Ультра\": {}'.format(round(ultra_minutes_var, 2)))\n",
    "    return smart_minutes_var, ultra_minutes_var"
   ]
  },
  {
   "cell_type": "markdown",
   "metadata": {},
   "source": [
    "#### Минуты разговора"
   ]
  },
  {
   "cell_type": "code",
   "execution_count": 50,
   "metadata": {},
   "outputs": [
    {
     "data": {
      "text/plain": [
       "count    2229.000000\n",
       "mean      429.450875\n",
       "std       194.871174\n",
       "min         0.000000\n",
       "25%       291.000000\n",
       "50%       435.000000\n",
       "75%       560.000000\n",
       "max      1471.000000\n",
       "Name: minutes, dtype: float64"
      ]
     },
     "execution_count": 50,
     "metadata": {},
     "output_type": "execute_result"
    }
   ],
   "source": [
    "#Смарт\n",
    "smart_costs['minutes'].describe()"
   ]
  },
  {
   "cell_type": "code",
   "execution_count": 51,
   "metadata": {},
   "outputs": [
    {
     "data": {
      "text/plain": [
       "count     985.000000\n",
       "mean      540.779695\n",
       "std       325.738740\n",
       "min         0.000000\n",
       "25%       292.000000\n",
       "50%       532.000000\n",
       "75%       773.000000\n",
       "max      1727.000000\n",
       "Name: minutes, dtype: float64"
      ]
     },
     "execution_count": 51,
     "metadata": {},
     "output_type": "execute_result"
    }
   ],
   "source": [
    "#Ультра\n",
    "ultra_costs['minutes'].describe()"
   ]
  },
  {
   "cell_type": "code",
   "execution_count": 52,
   "metadata": {},
   "outputs": [
    {
     "data": {
      "image/png": "[encoded data removed]",
      "text/plain": [
       "<Figure size 864x432 with 1 Axes>"
      ]
     },
     "metadata": {
      "needs_background": "light"
     },
     "output_type": "display_data"
    }
   ],
   "source": [
    "hist(smart_costs, ultra_costs, 'minutes', 'Распределение продолжительности разговора', 100)"
   ]
  },
  {
   "cell_type": "code",
   "execution_count": 53,
   "metadata": {},
   "outputs": [
    {
     "name": "stdout",
     "output_type": "stream",
     "text": [
      "Дисперсия (минуты разговора) по тарифу \"Смарт\": 37974.77\n",
      "Дисперсия (минуты разговора) по тарифу \"Ультра\": 106105.73\n"
     ]
    }
   ],
   "source": [
    "smart_minutes_var, ultra_minutes_var = var(smart_costs, ultra_costs, 'minutes')"
   ]
  },
  {
   "cell_type": "code",
   "execution_count": 54,
   "metadata": {},
   "outputs": [
    {
     "data": {
      "text/html": [
       "<div>\n",
       "<style scoped>\n",
       "    .dataframe tbody tr th:only-of-type {\n",
       "        vertical-align: middle;\n",
       "    }\n",
       "\n",
       "    .dataframe tbody tr th {\n",
       "        vertical-align: top;\n",
       "    }\n",
       "\n",
       "    .dataframe thead th {\n",
       "        text-align: right;\n",
       "    }\n",
       "</style>\n",
       "<table border=\"1\" class=\"dataframe\">\n",
       "  <thead>\n",
       "    <tr style=\"text-align: right;\">\n",
       "      <th></th>\n",
       "      <th>Тариф</th>\n",
       "      <th>Стандартное отклонение</th>\n",
       "      <th>Дисперсия</th>\n",
       "    </tr>\n",
       "  </thead>\n",
       "  <tbody>\n",
       "    <tr>\n",
       "      <th>0</th>\n",
       "      <td>Смарт</td>\n",
       "      <td>194.87</td>\n",
       "      <td>37974.77</td>\n",
       "    </tr>\n",
       "    <tr>\n",
       "      <th>1</th>\n",
       "      <td>Ультра</td>\n",
       "      <td>325.74</td>\n",
       "      <td>106105.73</td>\n",
       "    </tr>\n",
       "  </tbody>\n",
       "</table>\n",
       "</div>"
      ],
      "text/plain": [
       "    Тариф  Стандартное отклонение  Дисперсия\n",
       "0   Смарт                  194.87   37974.77\n",
       "1  Ультра                  325.74  106105.73"
      ]
     },
     "metadata": {},
     "output_type": "display_data"
    }
   ],
   "source": [
    "temporary_result = {'Тариф' : ['Смарт', 'Ультра'], 'Стандартное отклонение' : [np.std(smart_costs['minutes'], ddof=1), np.std(ultra_costs['minutes'], ddof=1)], 'Дисперсия' : [smart_minutes_var, ultra_minutes_var]}\n",
    "\n",
    "result = pd.DataFrame(temporary_result)\n",
    "display(round(result, 2))"
   ]
  },
  {
   "cell_type": "markdown",
   "metadata": {},
   "source": [
    "#### Количество сообщений"
   ]
  },
  {
   "cell_type": "code",
   "execution_count": 55,
   "metadata": {},
   "outputs": [
    {
     "data": {
      "text/plain": [
       "count    2229.000000\n",
       "mean       33.384029\n",
       "std        28.227876\n",
       "min         0.000000\n",
       "25%        10.000000\n",
       "50%        28.000000\n",
       "75%        51.000000\n",
       "max       143.000000\n",
       "Name: messages, dtype: float64"
      ]
     },
     "execution_count": 55,
     "metadata": {},
     "output_type": "execute_result"
    }
   ],
   "source": [
    "#Смарт\n",
    "smart_costs['messages'].describe()"
   ]
  },
  {
   "cell_type": "code",
   "execution_count": 56,
   "metadata": {},
   "outputs": [
    {
     "data": {
      "text/plain": [
       "count    985.000000\n",
       "mean      49.363452\n",
       "std       47.804457\n",
       "min        0.000000\n",
       "25%        6.000000\n",
       "50%       38.000000\n",
       "75%       79.000000\n",
       "max      224.000000\n",
       "Name: messages, dtype: float64"
      ]
     },
     "execution_count": 56,
     "metadata": {},
     "output_type": "execute_result"
    }
   ],
   "source": [
    "#Ультра\n",
    "ultra_costs['messages'].describe()"
   ]
  },
  {
   "cell_type": "code",
   "execution_count": 57,
   "metadata": {},
   "outputs": [
    {
     "data": {
      "image/png": "[encoded data removed]",
      "text/plain": [
       "<Figure size 864x432 with 1 Axes>"
      ]
     },
     "metadata": {
      "needs_background": "light"
     },
     "output_type": "display_data"
    }
   ],
   "source": [
    "hist(smart_costs, ultra_costs, 'messages', 'Распределение по кол-ву сообщений', 50)"
   ]
  },
  {
   "cell_type": "code",
   "execution_count": 58,
   "metadata": {},
   "outputs": [
    {
     "name": "stdout",
     "output_type": "stream",
     "text": [
      "Дисперсия (минуты разговора) по тарифу \"Смарт\": 796.81\n",
      "Дисперсия (минуты разговора) по тарифу \"Ультра\": 2285.27\n"
     ]
    }
   ],
   "source": [
    "smart_messages_var, ultra_messages_var = var(smart_costs, ultra_costs, 'messages')"
   ]
  },
  {
   "cell_type": "code",
   "execution_count": 59,
   "metadata": {},
   "outputs": [
    {
     "data": {
      "text/html": [
       "<div>\n",
       "<style scoped>\n",
       "    .dataframe tbody tr th:only-of-type {\n",
       "        vertical-align: middle;\n",
       "    }\n",
       "\n",
       "    .dataframe tbody tr th {\n",
       "        vertical-align: top;\n",
       "    }\n",
       "\n",
       "    .dataframe thead th {\n",
       "        text-align: right;\n",
       "    }\n",
       "</style>\n",
       "<table border=\"1\" class=\"dataframe\">\n",
       "  <thead>\n",
       "    <tr style=\"text-align: right;\">\n",
       "      <th></th>\n",
       "      <th>Тариф</th>\n",
       "      <th>Стандартное отклонение</th>\n",
       "      <th>Дисперсия</th>\n",
       "    </tr>\n",
       "  </thead>\n",
       "  <tbody>\n",
       "    <tr>\n",
       "      <th>0</th>\n",
       "      <td>Смарт</td>\n",
       "      <td>28.227876</td>\n",
       "      <td>796.812958</td>\n",
       "    </tr>\n",
       "    <tr>\n",
       "      <th>1</th>\n",
       "      <td>Ультра</td>\n",
       "      <td>47.804457</td>\n",
       "      <td>2285.266143</td>\n",
       "    </tr>\n",
       "  </tbody>\n",
       "</table>\n",
       "</div>"
      ],
      "text/plain": [
       "    Тариф  Стандартное отклонение    Дисперсия\n",
       "0   Смарт               28.227876   796.812958\n",
       "1  Ультра               47.804457  2285.266143"
      ]
     },
     "metadata": {},
     "output_type": "display_data"
    }
   ],
   "source": [
    "temporary_result = {'Тариф' : ['Смарт', 'Ультра'], 'Стандартное отклонение' : [np.std(smart_costs['messages'], ddof=1), np.std(ultra_costs['messages'], ddof=1)], 'Дисперсия' : [smart_messages_var, ultra_messages_var]}\n",
    "\n",
    "result = pd.DataFrame(temporary_result)\n",
    "display(result)"
   ]
  },
  {
   "cell_type": "markdown",
   "metadata": {},
   "source": [
    "#### Интернет-трафик"
   ]
  },
  {
   "cell_type": "code",
   "execution_count": 60,
   "metadata": {},
   "outputs": [
    {
     "data": {
      "text/plain": [
       "count     2228.000000\n",
       "mean     16244.472172\n",
       "std       5871.037024\n",
       "min          1.000000\n",
       "25%      12673.250000\n",
       "50%      16541.500000\n",
       "75%      20078.750000\n",
       "max      38627.000000\n",
       "Name: mb_used, dtype: float64"
      ]
     },
     "execution_count": 60,
     "metadata": {},
     "output_type": "execute_result"
    }
   ],
   "source": [
    "#Смарт\n",
    "smart_costs['mb_used'].describe()"
   ]
  },
  {
   "cell_type": "code",
   "execution_count": 61,
   "metadata": {},
   "outputs": [
    {
     "data": {
      "text/plain": [
       "count      975.000000\n",
       "mean     19688.587692\n",
       "std       9952.830482\n",
       "min          1.000000\n",
       "25%      12022.000000\n",
       "50%      19416.000000\n",
       "75%      26921.500000\n",
       "max      49793.000000\n",
       "Name: mb_used, dtype: float64"
      ]
     },
     "execution_count": 61,
     "metadata": {},
     "output_type": "execute_result"
    }
   ],
   "source": [
    "#Ультра\n",
    "ultra_costs['mb_used'].describe()"
   ]
  },
  {
   "cell_type": "code",
   "execution_count": 62,
   "metadata": {},
   "outputs": [
    {
     "data": {
      "image/png": "[encoded data removed]",
      "text/plain": [
       "<Figure size 864x432 with 1 Axes>"
      ]
     },
     "metadata": {
      "needs_background": "light"
     },
     "output_type": "display_data"
    }
   ],
   "source": [
    "hist(smart_costs, ultra_costs, 'mb_used', 'Распределение по интернет-трафику', 50)"
   ]
  },
  {
   "cell_type": "code",
   "execution_count": 63,
   "metadata": {},
   "outputs": [
    {
     "name": "stdout",
     "output_type": "stream",
     "text": [
      "Дисперсия (минуты разговора) по тарифу \"Смарт\": 34469075.74\n",
      "Дисперсия (минуты разговора) по тарифу \"Ультра\": 99058834.61\n"
     ]
    }
   ],
   "source": [
    "smart_mb_used_var, ultra_mb_used_var = var(smart_costs, ultra_costs, 'mb_used')"
   ]
  },
  {
   "cell_type": "code",
   "execution_count": 64,
   "metadata": {
    "scrolled": true
   },
   "outputs": [
    {
     "data": {
      "text/html": [
       "<div>\n",
       "<style scoped>\n",
       "    .dataframe tbody tr th:only-of-type {\n",
       "        vertical-align: middle;\n",
       "    }\n",
       "\n",
       "    .dataframe tbody tr th {\n",
       "        vertical-align: top;\n",
       "    }\n",
       "\n",
       "    .dataframe thead th {\n",
       "        text-align: right;\n",
       "    }\n",
       "</style>\n",
       "<table border=\"1\" class=\"dataframe\">\n",
       "  <thead>\n",
       "    <tr style=\"text-align: right;\">\n",
       "      <th></th>\n",
       "      <th>Тариф</th>\n",
       "      <th>Стандартное отклонение</th>\n",
       "      <th>Дисперсия</th>\n",
       "    </tr>\n",
       "  </thead>\n",
       "  <tbody>\n",
       "    <tr>\n",
       "      <th>0</th>\n",
       "      <td>Смарт</td>\n",
       "      <td>5871.037024</td>\n",
       "      <td>3.446908e+07</td>\n",
       "    </tr>\n",
       "    <tr>\n",
       "      <th>1</th>\n",
       "      <td>Ультра</td>\n",
       "      <td>9952.830482</td>\n",
       "      <td>3.446908e+07</td>\n",
       "    </tr>\n",
       "  </tbody>\n",
       "</table>\n",
       "</div>"
      ],
      "text/plain": [
       "    Тариф  Стандартное отклонение     Дисперсия\n",
       "0   Смарт             5871.037024  3.446908e+07\n",
       "1  Ультра             9952.830482  3.446908e+07"
      ]
     },
     "metadata": {},
     "output_type": "display_data"
    }
   ],
   "source": [
    "temporary_result = {'Тариф' : ['Смарт', 'Ультра'], 'Стандартное отклонение' : [np.std(smart_costs['mb_used'], ddof=1), np.std(ultra_costs['mb_used'], ddof=1)], 'Дисперсия' : [smart_mb_used_var, smart_mb_used_var]}\n",
    "\n",
    "result = pd.DataFrame(temporary_result)\n",
    "display(result)"
   ]
  },
  {
   "cell_type": "markdown",
   "metadata": {},
   "source": [
    "#### Вывод"
   ]
  },
  {
   "cell_type": "markdown",
   "metadata": {},
   "source": [
    "*На мой взгляд данные оказались \"шумными\" из-за большого разброса, тому есть подтверждение - большое значение дисперсии. Также стандартное отклонение было немалым относительно среднего значения данных*"
   ]
  },
  {
   "cell_type": "markdown",
   "metadata": {},
   "source": [
    "### Шаг 4. Проверьте гипотезы"
   ]
  },
  {
   "cell_type": "markdown",
   "metadata": {},
   "source": [
    "#### Cредняя выручка пользователей тарифов «Ультра» и «Смарт» различается"
   ]
  },
  {
   "cell_type": "code",
   "execution_count": 65,
   "metadata": {},
   "outputs": [
    {
     "name": "stdout",
     "output_type": "stream",
     "text": [
      "Средная выручка пользователей тарифов:\n",
      "--------------------------------------\n",
      "tariff_name\n",
      "smart    1295.112607\n",
      "ultra    2071.065990\n",
      "Name: rub_monthly_fee_total, dtype: float64\n"
     ]
    }
   ],
   "source": [
    "print('Средная выручка пользователей тарифов:')\n",
    "print('--------------------------------------')\n",
    "print(usage_mean['rub_monthly_fee_total'])"
   ]
  },
  {
   "cell_type": "markdown",
   "metadata": {},
   "source": [
    "**Нулевая гипотеза:**\n",
    "    - *Средняя выручка пользователей тарифов \"Ультра\" и \"Смарт\" не различается*\n",
    "\n",
    "**Альтернативная гипотеза:**\n",
    "    - *Средняя выручка пользователей тарифов \"Ультра\" и \"Смарт\" различается*\n",
    "\n",
    "*Пороговое значение alpha зададим 0.05 (5%)*"
   ]
  },
  {
   "cell_type": "code",
   "execution_count": 66,
   "metadata": {},
   "outputs": [
    {
     "name": "stdout",
     "output_type": "stream",
     "text": [
      "p-значение: 1.6792415134898723e-156\n",
      "Отвергаем нулевую гипотезу\n"
     ]
    }
   ],
   "source": [
    "alpha = .05\n",
    "\n",
    "results = st.ttest_ind(smart_costs['rub_monthly_fee_total'], ultra_costs['rub_monthly_fee_total'])\n",
    "\n",
    "print('p-значение:', results.pvalue)\n",
    "\n",
    "if (results.pvalue < alpha):\n",
    "    print(\"Отвергаем нулевую гипотезу\")\n",
    "else:\n",
    "    print(\"Не получилось отвергнуть нулевую гипотезу\")"
   ]
  },
  {
   "cell_type": "markdown",
   "metadata": {},
   "source": [
    "*Средняя выручка по тарифам не одинакова, нулевая вероятность говорит о том, что случайно получить различие в значениях не получится. Следовательно, средняя выручка пользователей тарифов \"Ультра\" и \"Смарт\" различается и наша гипотеза подтвердилась*"
   ]
  },
  {
   "cell_type": "markdown",
   "metadata": {},
   "source": [
    "#### Cредняя выручка пользователей из Москвы отличается от выручки пользователей из других регионов"
   ]
  },
  {
   "cell_type": "code",
   "execution_count": 67,
   "metadata": {},
   "outputs": [
    {
     "data": {
      "text/html": [
       "<div>\n",
       "<style scoped>\n",
       "    .dataframe tbody tr th:only-of-type {\n",
       "        vertical-align: middle;\n",
       "    }\n",
       "\n",
       "    .dataframe tbody tr th {\n",
       "        vertical-align: top;\n",
       "    }\n",
       "\n",
       "    .dataframe thead th {\n",
       "        text-align: right;\n",
       "    }\n",
       "</style>\n",
       "<table border=\"1\" class=\"dataframe\">\n",
       "  <thead>\n",
       "    <tr style=\"text-align: right;\">\n",
       "      <th></th>\n",
       "      <th>mb_used</th>\n",
       "      <th>messages</th>\n",
       "      <th>minutes</th>\n",
       "      <th>rub_monthly_fee_over</th>\n",
       "      <th>rub_monthly_fee_total</th>\n",
       "    </tr>\n",
       "    <tr>\n",
       "      <th>city</th>\n",
       "      <th></th>\n",
       "      <th></th>\n",
       "      <th></th>\n",
       "      <th></th>\n",
       "      <th></th>\n",
       "    </tr>\n",
       "  </thead>\n",
       "  <tbody>\n",
       "    <tr>\n",
       "      <th>Другой регион</th>\n",
       "      <td>15758.440143</td>\n",
       "      <td>35.268458</td>\n",
       "      <td>424.594742</td>\n",
       "      <td>480.228268</td>\n",
       "      <td>1426.768316</td>\n",
       "    </tr>\n",
       "    <tr>\n",
       "      <th>Москва</th>\n",
       "      <td>17603.175813</td>\n",
       "      <td>33.944639</td>\n",
       "      <td>455.792652</td>\n",
       "      <td>422.373070</td>\n",
       "      <td>1517.338340</td>\n",
       "    </tr>\n",
       "  </tbody>\n",
       "</table>\n",
       "</div>"
      ],
      "text/plain": [
       "                    mb_used   messages     minutes  rub_monthly_fee_over  \\\n",
       "city                                                                       \n",
       "Другой регион  15758.440143  35.268458  424.594742            480.228268   \n",
       "Москва         17603.175813  33.944639  455.792652            422.373070   \n",
       "\n",
       "               rub_monthly_fee_total  \n",
       "city                                  \n",
       "Другой регион            1426.768316  \n",
       "Москва                   1517.338340  "
      ]
     },
     "metadata": {},
     "output_type": "display_data"
    }
   ],
   "source": [
    "#Создадим датафрейм по запросу\n",
    "moscow_df = costs['city'] == 'Москва'\n",
    "costs['city'].where(moscow_df, 'Другой регион', inplace = True)\n",
    "\n",
    "city_monthly_costs = costs.pivot_table(index = ['city', 'month'], values = ['minutes', 'messages', 'mb_used', 'rub_monthly_fee_over', 'rub_monthly_fee_total'])\n",
    "\n",
    "city_usage = city_monthly_costs.pivot_table(index = 'city', values = ['minutes', 'messages', 'mb_used', 'rub_monthly_fee_over', 'rub_monthly_fee_total'])\n",
    "\n",
    "display(city_usage)"
   ]
  },
  {
   "cell_type": "markdown",
   "metadata": {},
   "source": [
    "*Особо ощущимых различий нет. Видно только то, что в москве в среднем на 2гб тратят больше, чем в других регионах, также звони длятся на 30 мин больше, а сообщений на 1 меньше. По затратам тоже большого различия нет*"
   ]
  },
  {
   "cell_type": "code",
   "execution_count": 68,
   "metadata": {},
   "outputs": [
    {
     "name": "stdout",
     "output_type": "stream",
     "text": [
      "Средная выручка пользователей тарифов: city\n",
      "Другой регион    1426.768316\n",
      "Москва           1517.338340\n",
      "Name: rub_monthly_fee_total, dtype: float64\n"
     ]
    }
   ],
   "source": [
    "print('Средная выручка пользователей тарифов: {}'.format(city_usage['rub_monthly_fee_total']))"
   ]
  },
  {
   "cell_type": "markdown",
   "metadata": {},
   "source": [
    "**Нулевая гипотеза:**\n",
    "    - *Cредняя выручка пользователей из Москвы не отличается от выручки пользователей из других регионов*\n",
    "\n",
    "**Альтернативная гипотеза:**\n",
    "    - *Cредняя выручка пользователей из Москвы отличается от выручки пользователей из других регионов*\n",
    "\n",
    "*Пороговое значение alpha зададим 0.05 (5%)*"
   ]
  },
  {
   "cell_type": "code",
   "execution_count": 69,
   "metadata": {},
   "outputs": [
    {
     "name": "stdout",
     "output_type": "stream",
     "text": [
      "p-значение: 0.47775651271321995\n",
      "Не получилось отвергнуть нулевую гипотезу\n"
     ]
    }
   ],
   "source": [
    "moscow_costs = costs.query(\"city == 'Москва'\")['rub_monthly_fee_total']\n",
    "other_cities_costs = costs.query(\"city == 'Другой регион'\")['rub_monthly_fee_total']\n",
    "\n",
    "results = st.ttest_ind(moscow_costs, other_cities_costs)\n",
    "\n",
    "print('p-значение:', results.pvalue)\n",
    "\n",
    "if (results.pvalue < alpha):\n",
    "    print(\"Отвергаем нулевую гипотезу\")\n",
    "else:\n",
    "    print(\"Не получилось отвергнуть нулевую гипотезу\")"
   ]
  },
  {
   "cell_type": "markdown",
   "metadata": {},
   "source": [
    "*Полученное значение p-value говорит о том, что хотя средняя выручка пользователей из Москвы и регионов неодинакова, с вероятностью в 42% такое различие можно получить случайно. Как мы уже знаем, это большая вероятность, чтобы делать вывод о значимом различии между средними выручками. Таким образом, средняя выручка пользователей из Москвы не отличается от выручки пользователей из других регионов, и гипотеза не подтвердилась.*"
   ]
  },
  {
   "cell_type": "markdown",
   "metadata": {},
   "source": [
    "### Шаг 5. Напишите общий вывод"
   ]
  },
  {
   "cell_type": "markdown",
   "metadata": {},
   "source": [
    "1. **Шаг 1. Откройте файл с данными и изучите общую информацию.**\n",
    "*Особых нюансов не возникло, кроме типа данных в столбцах, где указана дата. Нужно было поменять тип данных на DateTime*\n",
    "*Единственное за что можно зацепиться - почему имеются 0-ые значения и значения ниже 1, ведь Оператор округляет данные вверх. Либо это ошибка выгрузки данных, либо пора спрашивать коллег почему такое произошло и как такие данные попались к нам*\n",
    "\n",
    "2. **Шаг 2. Подготовьте данные**\n",
    "*Данные были подсчитаны и добавлены.*\n",
    "\n",
    "*Подсчет вывел, что 350 пользователей используют тариф \"Смарт\", 148 клиентов ипользуют тариф \"Ультра\". Касательно отсутствия данных по 2 клиентам, скорее всего нужно запрашивать информацию у коллег*\n",
    "\n",
    "3. **Шаг 3. Проанализируйте данные**\n",
    "    - 1. *Минуты разговора, количество сообщений и объём интернет-трафика в среднем необходимые пользователям каждого тарифа в месяц*\n",
    "        - *Результат показал, что в среднем пользователи тарифа \"Смарт\" переплачивают за тариф из-за перерасходов. Отсюда можно сделать вывод, что если имеются тарифы между \"Смарт\" и \"Ультра\", то клиентам, которые обычно перерасходывают свои тарифы, следовала бы перейти на другой тариф. Найти некую золотую середину для своих потребностей. Хотя можно сделать вывод, что все же тариф \"Смарт\" наиболее выгоден клиентам, так как он не тратит такие средства, как если бы использовал тариф \"Ультра\"*\n",
    "        - *Если судить по выручки, то понятно, что дохода больше приходит с клиентов, которые используют тариф \"Ультра\"*\n",
    "\n",
    "    - 2. *Дисперсия и стандартное отклонение*\n",
    "        - *Расчеты были проведены. На мой взгляд данные оказались \"шумными\" из-за большого разброса, тому есть подтверждение - большое значение дисперсии. Также стандартное отклонение было немалым относительно среднего значения данных*\n",
    "\n",
    "4. **Шаг 4. Проверьте гипотезы**\n",
    "    - 1. *Cредняя выручка пользователей тарифов «Ультра» и «Смарт» различается*\n",
    "        - *Средняя выручка по тарифам не одинакова, нулевая вероятность говорит о том, что случайно получить различие в значениях не получится. Следовательно, средняя выручка пользователей тарифов \"Ультра\" и \"Смарт\" различается и наша гипотеза подтвердилась*\n",
    "    - 2. *Cредняя выручка пользователей из Москвы отличается от выручки пользователей из других регионов*\n",
    "        - *Полученное значение p-value говорит о том, что хотя средняя выручка пользователей из Москвы и регионов неодинакова, с вероятностью в 42% такое различие можно получить случайно. Как мы уже знаем, это большая вероятность, чтобы делать вывод о значимом различии между средними выручками. Таким образом, средняя выручка пользователей из Москвы не отличается от выручки пользователей из других регионов, и гипотеза не подтвердилась.*"
   ]
  }
 ],
 "metadata": {
  "kernelspec": {
   "display_name": "Python 3",
   "language": "python",
   "name": "python3"
  },
  "language_info": {
   "codemirror_mode": {
    "name": "ipython",
    "version": 3
   },
   "file_extension": ".py",
   "mimetype": "text/x-python",
   "name": "python",
   "nbconvert_exporter": "python",
   "pygments_lexer": "ipython3",
   "version": "3.8.6"
  }
 },
 "nbformat": 4,
 "nbformat_minor": 2
}
