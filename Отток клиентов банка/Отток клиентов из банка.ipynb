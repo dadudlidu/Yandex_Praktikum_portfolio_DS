{
 "cells": [
  {
   "cell_type": "markdown",
   "metadata": {},
   "source": [
    "# Отток клиентов"
   ]
  },
  {
   "cell_type": "markdown",
   "metadata": {},
   "source": [
    "Из «Бета-Банка» стали уходить клиенты. Каждый месяц. Немного, но заметно. Банковские маркетологи посчитали: сохранять текущих клиентов дешевле, чем привлекать новых.\n",
    "\n",
    "Нужно спрогнозировать, уйдёт клиент из банка в ближайшее время или нет. Вам предоставлены исторические данные о поведении клиентов и расторжении договоров с банком. \n",
    "\n",
    "Постройте модель с предельно большим значением *F1*-меры. Чтобы сдать проект успешно, нужно довести метрику до 0.59. Проверьте *F1*-меру на тестовой выборке самостоятельно.\n",
    "\n",
    "Дополнительно измеряйте *AUC-ROC*, сравнивайте её значение с *F1*-мерой.\n",
    "\n",
    "Источник данных: [https://www.kaggle.com/barelydedicated/bank-customer-churn-modeling](https://www.kaggle.com/barelydedicated/bank-customer-churn-modeling)"
   ]
  },
  {
   "cell_type": "markdown",
   "metadata": {},
   "source": [
    "# 1. Подготовка данных"
   ]
  },
  {
   "cell_type": "markdown",
   "metadata": {},
   "source": [
    "## Импортируем необходимые библиотеки"
   ]
  },
  {
   "cell_type": "code",
   "execution_count": 1,
   "metadata": {},
   "outputs": [],
   "source": [
    "import pandas as pd\n",
    "import numpy as np\n",
    "import matplotlib as plt\n",
    "import seaborn as sns\n",
    "\n",
    "from sklearn.model_selection import train_test_split\n",
    "from sklearn.tree import DecisionTreeClassifier\n",
    "from sklearn.ensemble import RandomForestClassifier\n",
    "from sklearn.linear_model import LogisticRegression\n",
    "from sklearn.preprocessing import StandardScaler, OrdinalEncoder\n",
    "from sklearn.utils import shuffle\n",
    "\n",
    "from sklearn.metrics import f1_score\n",
    "from sklearn.metrics import roc_curve, roc_auc_score\n",
    "from sklearn.metrics import confusion_matrix"
   ]
  },
  {
   "cell_type": "markdown",
   "metadata": {},
   "source": [
    "## Предварительный осмотр данных и их корректировка"
   ]
  },
  {
   "cell_type": "code",
   "execution_count": 2,
   "metadata": {},
   "outputs": [
    {
     "name": "stdout",
     "output_type": "stream",
     "text": [
      "<class 'pandas.core.frame.DataFrame'>\n",
      "RangeIndex: 10000 entries, 0 to 9999\n",
      "Data columns (total 14 columns):\n",
      " #   Column           Non-Null Count  Dtype  \n",
      "---  ------           --------------  -----  \n",
      " 0   RowNumber        10000 non-null  int64  \n",
      " 1   CustomerId       10000 non-null  int64  \n",
      " 2   Surname          10000 non-null  object \n",
      " 3   CreditScore      10000 non-null  int64  \n",
      " 4   Geography        10000 non-null  object \n",
      " 5   Gender           10000 non-null  object \n",
      " 6   Age              10000 non-null  int64  \n",
      " 7   Tenure           9091 non-null   float64\n",
      " 8   Balance          10000 non-null  float64\n",
      " 9   NumOfProducts    10000 non-null  int64  \n",
      " 10  HasCrCard        10000 non-null  int64  \n",
      " 11  IsActiveMember   10000 non-null  int64  \n",
      " 12  EstimatedSalary  10000 non-null  float64\n",
      " 13  Exited           10000 non-null  int64  \n",
      "dtypes: float64(3), int64(8), object(3)\n",
      "memory usage: 1.1+ MB\n"
     ]
    },
    {
     "data": {
      "text/html": [
       "<div>\n",
       "<style scoped>\n",
       "    .dataframe tbody tr th:only-of-type {\n",
       "        vertical-align: middle;\n",
       "    }\n",
       "\n",
       "    .dataframe tbody tr th {\n",
       "        vertical-align: top;\n",
       "    }\n",
       "\n",
       "    .dataframe thead th {\n",
       "        text-align: right;\n",
       "    }\n",
       "</style>\n",
       "<table border=\"1\" class=\"dataframe\">\n",
       "  <thead>\n",
       "    <tr style=\"text-align: right;\">\n",
       "      <th></th>\n",
       "      <th>RowNumber</th>\n",
       "      <th>CustomerId</th>\n",
       "      <th>Surname</th>\n",
       "      <th>CreditScore</th>\n",
       "      <th>Geography</th>\n",
       "      <th>Gender</th>\n",
       "      <th>Age</th>\n",
       "      <th>Tenure</th>\n",
       "      <th>Balance</th>\n",
       "      <th>NumOfProducts</th>\n",
       "      <th>HasCrCard</th>\n",
       "      <th>IsActiveMember</th>\n",
       "      <th>EstimatedSalary</th>\n",
       "      <th>Exited</th>\n",
       "    </tr>\n",
       "  </thead>\n",
       "  <tbody>\n",
       "    <tr>\n",
       "      <th>0</th>\n",
       "      <td>1</td>\n",
       "      <td>15634602</td>\n",
       "      <td>Hargrave</td>\n",
       "      <td>619</td>\n",
       "      <td>France</td>\n",
       "      <td>Female</td>\n",
       "      <td>42</td>\n",
       "      <td>2.0</td>\n",
       "      <td>0.00</td>\n",
       "      <td>1</td>\n",
       "      <td>1</td>\n",
       "      <td>1</td>\n",
       "      <td>101348.88</td>\n",
       "      <td>1</td>\n",
       "    </tr>\n",
       "    <tr>\n",
       "      <th>1</th>\n",
       "      <td>2</td>\n",
       "      <td>15647311</td>\n",
       "      <td>Hill</td>\n",
       "      <td>608</td>\n",
       "      <td>Spain</td>\n",
       "      <td>Female</td>\n",
       "      <td>41</td>\n",
       "      <td>1.0</td>\n",
       "      <td>83807.86</td>\n",
       "      <td>1</td>\n",
       "      <td>0</td>\n",
       "      <td>1</td>\n",
       "      <td>112542.58</td>\n",
       "      <td>0</td>\n",
       "    </tr>\n",
       "    <tr>\n",
       "      <th>2</th>\n",
       "      <td>3</td>\n",
       "      <td>15619304</td>\n",
       "      <td>Onio</td>\n",
       "      <td>502</td>\n",
       "      <td>France</td>\n",
       "      <td>Female</td>\n",
       "      <td>42</td>\n",
       "      <td>8.0</td>\n",
       "      <td>159660.80</td>\n",
       "      <td>3</td>\n",
       "      <td>1</td>\n",
       "      <td>0</td>\n",
       "      <td>113931.57</td>\n",
       "      <td>1</td>\n",
       "    </tr>\n",
       "    <tr>\n",
       "      <th>3</th>\n",
       "      <td>4</td>\n",
       "      <td>15701354</td>\n",
       "      <td>Boni</td>\n",
       "      <td>699</td>\n",
       "      <td>France</td>\n",
       "      <td>Female</td>\n",
       "      <td>39</td>\n",
       "      <td>1.0</td>\n",
       "      <td>0.00</td>\n",
       "      <td>2</td>\n",
       "      <td>0</td>\n",
       "      <td>0</td>\n",
       "      <td>93826.63</td>\n",
       "      <td>0</td>\n",
       "    </tr>\n",
       "    <tr>\n",
       "      <th>4</th>\n",
       "      <td>5</td>\n",
       "      <td>15737888</td>\n",
       "      <td>Mitchell</td>\n",
       "      <td>850</td>\n",
       "      <td>Spain</td>\n",
       "      <td>Female</td>\n",
       "      <td>43</td>\n",
       "      <td>2.0</td>\n",
       "      <td>125510.82</td>\n",
       "      <td>1</td>\n",
       "      <td>1</td>\n",
       "      <td>1</td>\n",
       "      <td>79084.10</td>\n",
       "      <td>0</td>\n",
       "    </tr>\n",
       "  </tbody>\n",
       "</table>\n",
       "</div>"
      ],
      "text/plain": [
       "   RowNumber  CustomerId   Surname  CreditScore Geography  Gender  Age  \\\n",
       "0          1    15634602  Hargrave          619    France  Female   42   \n",
       "1          2    15647311      Hill          608     Spain  Female   41   \n",
       "2          3    15619304      Onio          502    France  Female   42   \n",
       "3          4    15701354      Boni          699    France  Female   39   \n",
       "4          5    15737888  Mitchell          850     Spain  Female   43   \n",
       "\n",
       "   Tenure    Balance  NumOfProducts  HasCrCard  IsActiveMember  \\\n",
       "0     2.0       0.00              1          1               1   \n",
       "1     1.0   83807.86              1          0               1   \n",
       "2     8.0  159660.80              3          1               0   \n",
       "3     1.0       0.00              2          0               0   \n",
       "4     2.0  125510.82              1          1               1   \n",
       "\n",
       "   EstimatedSalary  Exited  \n",
       "0        101348.88       1  \n",
       "1        112542.58       0  \n",
       "2        113931.57       1  \n",
       "3         93826.63       0  \n",
       "4         79084.10       0  "
      ]
     },
     "metadata": {},
     "output_type": "display_data"
    }
   ],
   "source": [
    "df = pd.read_csv('/datasets/Churn.csv')\n",
    "df.info()\n",
    "display(df.head())"
   ]
  },
  {
   "cell_type": "markdown",
   "metadata": {},
   "source": [
    "*Думаю можно избавиться от 2-х столбов \"RowNumber\"(нумерация строк точно не нужна, так как есть индексы) и \"Surname\"(столбец с фамилией может повлиять на работу модели, поэтому данный столбец убираем)*\n",
    "\n",
    "*Также, столбец \"CustomerId\" сделаем индексом нашего датасета, чтобы в дальнейшем он тоже не повлиял на работу модели, но чтобы сделать его индексом нужно будет вначале узнать нет ли дубликатов*"
   ]
  },
  {
   "cell_type": "code",
   "execution_count": 3,
   "metadata": {},
   "outputs": [
    {
     "name": "stdout",
     "output_type": "stream",
     "text": [
      "Кол-во дубликатов в столбце ID клиента: 0\n"
     ]
    }
   ],
   "source": [
    "df = df.drop(columns = ['RowNumber', 'Surname'])\n",
    "#df.info()\n",
    "\n",
    "print('Кол-во дубликатов в столбце ID клиента: {}'.format(df['CustomerId'].duplicated().sum()))"
   ]
  },
  {
   "cell_type": "code",
   "execution_count": 4,
   "metadata": {},
   "outputs": [
    {
     "data": {
      "text/html": [
       "<div>\n",
       "<style scoped>\n",
       "    .dataframe tbody tr th:only-of-type {\n",
       "        vertical-align: middle;\n",
       "    }\n",
       "\n",
       "    .dataframe tbody tr th {\n",
       "        vertical-align: top;\n",
       "    }\n",
       "\n",
       "    .dataframe thead th {\n",
       "        text-align: right;\n",
       "    }\n",
       "</style>\n",
       "<table border=\"1\" class=\"dataframe\">\n",
       "  <thead>\n",
       "    <tr style=\"text-align: right;\">\n",
       "      <th></th>\n",
       "      <th>CreditScore</th>\n",
       "      <th>Geography</th>\n",
       "      <th>Gender</th>\n",
       "      <th>Age</th>\n",
       "      <th>Tenure</th>\n",
       "      <th>Balance</th>\n",
       "      <th>NumOfProducts</th>\n",
       "      <th>HasCrCard</th>\n",
       "      <th>IsActiveMember</th>\n",
       "      <th>EstimatedSalary</th>\n",
       "      <th>Exited</th>\n",
       "    </tr>\n",
       "    <tr>\n",
       "      <th>CustomerId</th>\n",
       "      <th></th>\n",
       "      <th></th>\n",
       "      <th></th>\n",
       "      <th></th>\n",
       "      <th></th>\n",
       "      <th></th>\n",
       "      <th></th>\n",
       "      <th></th>\n",
       "      <th></th>\n",
       "      <th></th>\n",
       "      <th></th>\n",
       "    </tr>\n",
       "  </thead>\n",
       "  <tbody>\n",
       "    <tr>\n",
       "      <th>15634602</th>\n",
       "      <td>619</td>\n",
       "      <td>France</td>\n",
       "      <td>Female</td>\n",
       "      <td>42</td>\n",
       "      <td>2.0</td>\n",
       "      <td>0.00</td>\n",
       "      <td>1</td>\n",
       "      <td>1</td>\n",
       "      <td>1</td>\n",
       "      <td>101348.88</td>\n",
       "      <td>1</td>\n",
       "    </tr>\n",
       "    <tr>\n",
       "      <th>15647311</th>\n",
       "      <td>608</td>\n",
       "      <td>Spain</td>\n",
       "      <td>Female</td>\n",
       "      <td>41</td>\n",
       "      <td>1.0</td>\n",
       "      <td>83807.86</td>\n",
       "      <td>1</td>\n",
       "      <td>0</td>\n",
       "      <td>1</td>\n",
       "      <td>112542.58</td>\n",
       "      <td>0</td>\n",
       "    </tr>\n",
       "    <tr>\n",
       "      <th>15619304</th>\n",
       "      <td>502</td>\n",
       "      <td>France</td>\n",
       "      <td>Female</td>\n",
       "      <td>42</td>\n",
       "      <td>8.0</td>\n",
       "      <td>159660.80</td>\n",
       "      <td>3</td>\n",
       "      <td>1</td>\n",
       "      <td>0</td>\n",
       "      <td>113931.57</td>\n",
       "      <td>1</td>\n",
       "    </tr>\n",
       "    <tr>\n",
       "      <th>15701354</th>\n",
       "      <td>699</td>\n",
       "      <td>France</td>\n",
       "      <td>Female</td>\n",
       "      <td>39</td>\n",
       "      <td>1.0</td>\n",
       "      <td>0.00</td>\n",
       "      <td>2</td>\n",
       "      <td>0</td>\n",
       "      <td>0</td>\n",
       "      <td>93826.63</td>\n",
       "      <td>0</td>\n",
       "    </tr>\n",
       "    <tr>\n",
       "      <th>15737888</th>\n",
       "      <td>850</td>\n",
       "      <td>Spain</td>\n",
       "      <td>Female</td>\n",
       "      <td>43</td>\n",
       "      <td>2.0</td>\n",
       "      <td>125510.82</td>\n",
       "      <td>1</td>\n",
       "      <td>1</td>\n",
       "      <td>1</td>\n",
       "      <td>79084.10</td>\n",
       "      <td>0</td>\n",
       "    </tr>\n",
       "  </tbody>\n",
       "</table>\n",
       "</div>"
      ],
      "text/plain": [
       "            CreditScore Geography  Gender  Age  Tenure    Balance  \\\n",
       "CustomerId                                                          \n",
       "15634602            619    France  Female   42     2.0       0.00   \n",
       "15647311            608     Spain  Female   41     1.0   83807.86   \n",
       "15619304            502    France  Female   42     8.0  159660.80   \n",
       "15701354            699    France  Female   39     1.0       0.00   \n",
       "15737888            850     Spain  Female   43     2.0  125510.82   \n",
       "\n",
       "            NumOfProducts  HasCrCard  IsActiveMember  EstimatedSalary  Exited  \n",
       "CustomerId                                                                     \n",
       "15634602                1          1               1        101348.88       1  \n",
       "15647311                1          0               1        112542.58       0  \n",
       "15619304                3          1               0        113931.57       1  \n",
       "15701354                2          0               0         93826.63       0  \n",
       "15737888                1          1               1         79084.10       0  "
      ]
     },
     "metadata": {},
     "output_type": "display_data"
    }
   ],
   "source": [
    "df = df.set_index('CustomerId')\n",
    "display(df.head())"
   ]
  },
  {
   "cell_type": "code",
   "execution_count": 5,
   "metadata": {},
   "outputs": [],
   "source": [
    "# Удалим строки, где есть пропуски в столбе \"Tenure\". Заменять ср. или медианной не стоит, так как это повлияет на работу модели\n",
    "df.dropna(subset = ['Tenure'], inplace = True)\n",
    "df['Tenure'] = df['Tenure'].astype('int')    # Сделаем данные целочисленными"
   ]
  },
  {
   "cell_type": "code",
   "execution_count": 6,
   "metadata": {},
   "outputs": [
    {
     "name": "stdout",
     "output_type": "stream",
     "text": [
      "France     4550\n",
      "Germany    2293\n",
      "Spain      2248\n",
      "Name: Geography, dtype: int64\n",
      "\n",
      "France     0.500495\n",
      "Germany    0.252227\n",
      "Spain      0.247278\n",
      "Name: Geography, dtype: float64\n"
     ]
    }
   ],
   "source": [
    "print(df['Geography'].value_counts())\n",
    "print()\n",
    "print(df['Geography'].value_counts(normalize = True))"
   ]
  },
  {
   "cell_type": "code",
   "execution_count": 7,
   "metadata": {},
   "outputs": [
    {
     "data": {
      "text/plain": [
       "<AxesSubplot:>"
      ]
     },
     "execution_count": 7,
     "metadata": {},
     "output_type": "execute_result"
    },
    {
     "data": {
      "image/png": "[encoded data removed]",
      "text/plain": [
       "<Figure size 864x432 with 1 Axes>"
      ]
     },
     "metadata": {
      "needs_background": "light"
     },
     "output_type": "display_data"
    }
   ],
   "source": [
    "df['Balance'].hist(bins = 50, figsize = (12, 6))"
   ]
  },
  {
   "cell_type": "code",
   "execution_count": 8,
   "metadata": {},
   "outputs": [
    {
     "name": "stdout",
     "output_type": "stream",
     "text": [
      "Кол-во клиентов, у которых баланс равен 0: 3283\n"
     ]
    }
   ],
   "source": [
    "print('Кол-во клиентов, у которых баланс равен 0: {}'.format(len(df[df['Balance'] == 0])))"
   ]
  },
  {
   "cell_type": "code",
   "execution_count": 9,
   "metadata": {},
   "outputs": [
    {
     "data": {
      "text/plain": [
       "<AxesSubplot:>"
      ]
     },
     "execution_count": 9,
     "metadata": {},
     "output_type": "execute_result"
    },
    {
     "data": {
      "image/png": "[encoded data removed]",
      "text/plain": [
       "<Figure size 864x432 with 1 Axes>"
      ]
     },
     "metadata": {
      "needs_background": "light"
     },
     "output_type": "display_data"
    }
   ],
   "source": [
    "df_not_zerofilled_in_balance = df.query('Balance != 0')\n",
    "df_not_zerofilled_in_balance['Balance'].hist(bins = 50, figsize = (12, 6))"
   ]
  },
  {
   "cell_type": "code",
   "execution_count": 10,
   "metadata": {},
   "outputs": [
    {
     "name": "stdout",
     "output_type": "stream",
     "text": [
      "1    4617\n",
      "2    4184\n",
      "3     234\n",
      "4      56\n",
      "Name: NumOfProducts, dtype: int64\n"
     ]
    }
   ],
   "source": [
    "print(df['NumOfProducts'].value_counts())"
   ]
  },
  {
   "cell_type": "code",
   "execution_count": 11,
   "metadata": {},
   "outputs": [
    {
     "name": "stdout",
     "output_type": "stream",
     "text": [
      "1    4687\n",
      "0    4404\n",
      "Name: IsActiveMember, dtype: int64\n"
     ]
    }
   ],
   "source": [
    "print(df['IsActiveMember'].value_counts())"
   ]
  },
  {
   "cell_type": "code",
   "execution_count": 12,
   "metadata": {},
   "outputs": [
    {
     "data": {
      "text/plain": [
       "<AxesSubplot:>"
      ]
     },
     "execution_count": 12,
     "metadata": {},
     "output_type": "execute_result"
    },
    {
     "data": {
      "image/png": "[encoded data removed]",
      "text/plain": [
       "<Figure size 864x432 with 1 Axes>"
      ]
     },
     "metadata": {
      "needs_background": "light"
     },
     "output_type": "display_data"
    }
   ],
   "source": [
    "df.boxplot('EstimatedSalary', figsize = (12, 6))"
   ]
  },
  {
   "cell_type": "markdown",
   "metadata": {},
   "source": [
    "## Вывод"
   ]
  },
  {
   "cell_type": "markdown",
   "metadata": {},
   "source": [
    "*Вначале у нас были данные из 10 тыс. строк, но в связи с пропусками в столбце \"Tenure\" мы избавились от 909 данных. Пропуски могут быть связаны с тем, что у клиентов так таковой недвижимости нет и их просто не указали (тогда логично, что там мы могли заменить пропуски на 0), либо произошла тех. ошибка при переносе данных, тогда следует такие моменты перепроверять. Также, мы исправили тип данных, чтобы значения отображались в виде целочисленных чисел*\n",
    "\n",
    "*Убрали столбцы, в которых обходимость отсутствовала: \"RowNumber\" и \"Surname\". А, столбец \"CustomerId\" сделали индексом датасета*\n",
    "\n",
    "*В датасете представлены клиенты 3-х стран: Франция(50%), Германия (25%) и Испания (25%)*"
   ]
  },
  {
   "cell_type": "markdown",
   "metadata": {},
   "source": [
    "## Подготовим обучающую, валидационную и тестовую выборки"
   ]
  },
  {
   "cell_type": "markdown",
   "metadata": {},
   "source": [
    "### Разделим данные на признаки и целевую переменную"
   ]
  },
  {
   "cell_type": "code",
   "execution_count": 13,
   "metadata": {},
   "outputs": [],
   "source": [
    "def target_features(data, target_column = 'Exited'):\n",
    "    target = data[target_column]\n",
    "    features = data.drop(target_column, axis = 1)\n",
    "    return target, features"
   ]
  },
  {
   "cell_type": "markdown",
   "metadata": {},
   "source": [
    "*Спрятанной тестовой выборки в задании нет, поэтому будем разбивать исходный набор данных на три части: обучающую, валидационную и тестовую. Размеры тестового и валидационного наборов сделаем равными. (3:1:1 или 60% - 20% - 20%)*"
   ]
  },
  {
   "cell_type": "code",
   "execution_count": 14,
   "metadata": {},
   "outputs": [],
   "source": [
    "def split_data(features, target):\n",
    "    features_train, features_valid, target_train, target_valid = train_test_split(\n",
    "        features, target, test_size = .4, random_state = 12345, stratify = target)\n",
    "\n",
    "    features_valid, features_test, target_valid, target_test = train_test_split(\n",
    "        features_valid, target_valid, test_size = .5, random_state = 12345, stratify = target_valid)\n",
    "    \n",
    "    # Выполним масштабирование количественных признаков.\n",
    "    # Числовые данные имеют большой разброс по столбцам, поэтому необходимо масштабирование признаков,\n",
    "    # чтобы модель не выделила приоритеты, а брала равные по значениям данные\n",
    "    scaler = StandardScaler()\n",
    "    numeric = ['CreditScore', 'Age', 'Tenure', 'Balance', 'NumOfProducts', 'EstimatedSalary']\n",
    "    scaler.fit(features_train[numeric])\n",
    "    \n",
    "    features_train[numeric] = scaler.transform(features_train[numeric])\n",
    "    features_valid[numeric] = scaler.transform(features_valid[numeric])\n",
    "    features_test[numeric] = scaler.transform(features_test[numeric])\n",
    "    \n",
    "    return features_train, features_valid, features_test, target_train, target_valid, target_test"
   ]
  },
  {
   "cell_type": "markdown",
   "metadata": {},
   "source": [
    "# 2. Исследование задачи"
   ]
  },
  {
   "cell_type": "markdown",
   "metadata": {},
   "source": [
    "### Подготовим функцию обучения и прогноза"
   ]
  },
  {
   "cell_type": "code",
   "execution_count": 15,
   "metadata": {},
   "outputs": [],
   "source": [
    "def train_and_predict(data, model, samplefunc = None, test = False):\n",
    "    # Функция возвращает обученную модель.\n",
    "    target, features = target_features(data)\n",
    "    features_train, features_valid, features_test, target_train, target_valid, target_test = split_data(features, target)\n",
    "    global ans\n",
    "    global auc_roc\n",
    "    \n",
    "    if samplefunc:\n",
    "        features_train, target_train = samplefunc(features_train, target_train)\n",
    "    \n",
    "    \n",
    "    model.fit(features_train, target_train)\n",
    "    predicted_valid = model.predict(features_valid)\n",
    "    ans = f1_score(target_valid, predicted_valid)\n",
    "    \n",
    "    probabilities_valid = model.predict_proba(features_valid)\n",
    "    probabilities_one_valid = probabilities_valid[:, 1]\n",
    "\n",
    "    auc_roc = roc_auc_score(target_valid, probabilities_one_valid)\n",
    "    \n",
    "    if test:\n",
    "        predicted_test = model.predict(features_test)\n",
    "        ans = f1_score(target_test, predicted_test)\n",
    "        \n",
    "        probabilities_test = model.predict_proba(features_test)\n",
    "        probabilities_one_test = probabilities_test[:, 1]\n",
    "\n",
    "        auc_roc = roc_auc_score(target_test, probabilities_one_test)\n",
    "        \n",
    "    return model"
   ]
  },
  {
   "cell_type": "markdown",
   "metadata": {},
   "source": [
    "*Функции выборки, обучения и прогноза готовы, можно приступать к обучению моделей*"
   ]
  },
  {
   "cell_type": "code",
   "execution_count": 16,
   "metadata": {},
   "outputs": [],
   "source": [
    "def lr(df, balanced=None, samplefunc = None, test = False):\n",
    "    model = LogisticRegression(class_weight=balanced, solver = 'liblinear', random_state = 12345)\n",
    "    train_and_predict(df, model, samplefunc=samplefunc, test=test)\n",
    "    print(\"F1-мера на валидационной выборке: {}\".format(round(ans,2)))\n",
    "    print(\"AUC-ROC: {}\".format(round(auc_roc,2)))\n",
    "    return ans\n",
    "    \n",
    "\n",
    "def forest(df, balanced=None, samplefunc = None, test = False):\n",
    "    best_model = None\n",
    "    best_result = 0\n",
    "    best_depth = 0\n",
    "    for max_depth in range(1, 31):\n",
    "        model = DecisionTreeClassifier(class_weight=balanced, max_depth = max_depth, random_state = 12345)\n",
    "        train_and_predict(df, model, samplefunc=samplefunc, test=test)\n",
    "        if ans > best_result:\n",
    "            best_result = ans\n",
    "            best_model = model\n",
    "            best_depth = max_depth\n",
    "\n",
    "    print(\"Глубина:\", best_depth, \"-\", \"F1-мера на валидационной выборке:\", round(best_result,2))\n",
    "    print(\"AUC-ROC: {}\".format(round(auc_roc,2)))\n",
    "    return best_depth, best_model, best_result\n",
    "    \n",
    "    \n",
    "def rf(df, balanced=None, samplefunc = None, test = False):\n",
    "    best_model = None\n",
    "    best_result = 0\n",
    "    best_est = 0\n",
    "    best_depth = 0\n",
    "    for est in range(10, 101, 10):\n",
    "        for max_depth in range(1, 11):\n",
    "            model = RandomForestClassifier(class_weight = balanced, n_estimators = est, max_depth = max_depth, random_state = 12345)\n",
    "            train_and_predict(df, model, samplefunc=samplefunc, test=test)\n",
    "            if ans > best_result:\n",
    "                best_result = ans\n",
    "                best_model = model\n",
    "                best_est = est\n",
    "                best_depth = max_depth\n",
    "\n",
    "    print(\"Кол-во деревьев:\", best_est, \"Глубина:\", best_depth, \"F1-мера на валидационной выборке:\", round(best_result,2))\n",
    "    print(\"AUC-ROC: {}\".format(round(auc_roc,2)))\n",
    "    return best_est, best_depth, best_model, best_result"
   ]
  },
  {
   "cell_type": "markdown",
   "metadata": {},
   "source": [
    "##  Выбор модели"
   ]
  },
  {
   "cell_type": "markdown",
   "metadata": {},
   "source": [
    "*Проверим, как часто в целевом признаке нашего исходного датасета встречается класс «1» или «0»:*"
   ]
  },
  {
   "cell_type": "code",
   "execution_count": 17,
   "metadata": {},
   "outputs": [
    {
     "data": {
      "text/plain": [
       "<AxesSubplot:>"
      ]
     },
     "execution_count": 17,
     "metadata": {},
     "output_type": "execute_result"
    },
    {
     "data": {
      "image/png": "[encoded data removed]",
      "text/plain": [
       "<Figure size 864x432 with 1 Axes>"
      ]
     },
     "metadata": {
      "needs_background": "light"
     },
     "output_type": "display_data"
    }
   ],
   "source": [
    "class_frequency = df['Exited'].value_counts(normalize = True)\n",
    "class_frequency.plot(kind='bar', figsize = (12, 6), grid=True)"
   ]
  },
  {
   "cell_type": "markdown",
   "metadata": {},
   "source": [
    "*Присутствует дисбаланс данных в целевом признаке*\n",
    "\n",
    "*Можно заметить, что часть признаков категориальные. Для обучения модели логистической регрессии нам потребуется преобразовать категориальные признаки прямым кодированием (OHE), а для обучения модели решающего дерева или случайного леса выполнить порядковое кодирование (OE).*"
   ]
  },
  {
   "cell_type": "markdown",
   "metadata": {},
   "source": [
    "### Логистическая регрессия"
   ]
  },
  {
   "cell_type": "code",
   "execution_count": 18,
   "metadata": {},
   "outputs": [],
   "source": [
    "import warnings\n",
    "warnings.filterwarnings(\"ignore\")"
   ]
  },
  {
   "cell_type": "code",
   "execution_count": 19,
   "metadata": {},
   "outputs": [],
   "source": [
    "df_ohe = pd.get_dummies(df, drop_first=True)"
   ]
  },
  {
   "cell_type": "code",
   "execution_count": 20,
   "metadata": {},
   "outputs": [
    {
     "name": "stdout",
     "output_type": "stream",
     "text": [
      "F1-мера на валидационной выборке: 0.33\n",
      "AUC-ROC: 0.79\n"
     ]
    }
   ],
   "source": [
    "ans_lr = lr(df_ohe)"
   ]
  },
  {
   "cell_type": "markdown",
   "metadata": {},
   "source": [
    "*При дисбалансе классов логистическая регрессия предсказывает крайне плохо. При этом AUC-ROC крайне высок*"
   ]
  },
  {
   "cell_type": "markdown",
   "metadata": {},
   "source": [
    "### Дерево решений"
   ]
  },
  {
   "cell_type": "code",
   "execution_count": 21,
   "metadata": {},
   "outputs": [],
   "source": [
    "encoder = OrdinalEncoder()\n",
    "df_oe = pd.DataFrame(encoder.fit_transform(df), columns = df.columns)"
   ]
  },
  {
   "cell_type": "code",
   "execution_count": 22,
   "metadata": {},
   "outputs": [
    {
     "name": "stdout",
     "output_type": "stream",
     "text": [
      "Глубина: 8 - F1-мера на валидационной выборке: 0.57\n",
      "AUC-ROC: 0.69\n"
     ]
    }
   ],
   "source": [
    "best_depth_f, best_model_f, best_result_f = forest(df_oe)"
   ]
  },
  {
   "cell_type": "markdown",
   "metadata": {},
   "source": [
    "*Пока лучшие результаты 0.57 получили у модели с глубиной равной 8*"
   ]
  },
  {
   "cell_type": "markdown",
   "metadata": {},
   "source": [
    "### Случайный лес"
   ]
  },
  {
   "cell_type": "code",
   "execution_count": 23,
   "metadata": {},
   "outputs": [
    {
     "name": "stdout",
     "output_type": "stream",
     "text": [
      "Кол-во деревьев: 60 Глубина: 10 F1-мера на валидационной выборке: 0.58\n",
      "AUC-ROC: 0.87\n"
     ]
    }
   ],
   "source": [
    "best_est_rf, best_depth_rf, best_model_rf, best_result_rf = rf(df_oe)"
   ]
  },
  {
   "cell_type": "markdown",
   "metadata": {},
   "source": [
    "*Как видим, модель случайного леса предсказывает чуть лучше, чем дерево решений. Лучший результат 0.58 достигается при количестве деревьев равном 60 и глубине 10.*"
   ]
  },
  {
   "cell_type": "markdown",
   "metadata": {},
   "source": [
    "# 3. Борьба с дисбалансом"
   ]
  },
  {
   "cell_type": "markdown",
   "metadata": {},
   "source": [
    "*Попробуем сразу 3 метода и сравним их (взвешивание классов, upsampling & downsampling)*"
   ]
  },
  {
   "cell_type": "markdown",
   "metadata": {},
   "source": [
    "### Взвешивание классов"
   ]
  },
  {
   "cell_type": "markdown",
   "metadata": {},
   "source": [
    "*Придадим объектам редкого класса 1 больший вес используя гиперпараметр class_weight = 'balanced'*"
   ]
  },
  {
   "cell_type": "markdown",
   "metadata": {},
   "source": [
    "### Логистическая регрессия"
   ]
  },
  {
   "cell_type": "code",
   "execution_count": 24,
   "metadata": {},
   "outputs": [
    {
     "name": "stdout",
     "output_type": "stream",
     "text": [
      "F1-мера на валидационной выборке: 0.51\n",
      "AUC-ROC: 0.79\n"
     ]
    }
   ],
   "source": [
    "ans_lr_balanced = lr(df_ohe, 'balanced')"
   ]
  },
  {
   "cell_type": "markdown",
   "metadata": {},
   "source": [
    "*Видим значительное увеличение метрики*"
   ]
  },
  {
   "cell_type": "markdown",
   "metadata": {},
   "source": [
    "### Дерево решений"
   ]
  },
  {
   "cell_type": "code",
   "execution_count": 25,
   "metadata": {},
   "outputs": [
    {
     "name": "stdout",
     "output_type": "stream",
     "text": [
      "Глубина: 5 - F1-мера на валидационной выборке: 0.6\n",
      "AUC-ROC: 0.69\n"
     ]
    }
   ],
   "source": [
    "best_depth_f_balanced, best_model_f_balanced, best_result_f_balanced = forest(df_oe, 'balanced')"
   ]
  },
  {
   "cell_type": "markdown",
   "metadata": {},
   "source": [
    "*Видим увеличение метрики*"
   ]
  },
  {
   "cell_type": "markdown",
   "metadata": {},
   "source": [
    "### Случайный лес"
   ]
  },
  {
   "cell_type": "code",
   "execution_count": 26,
   "metadata": {},
   "outputs": [
    {
     "name": "stdout",
     "output_type": "stream",
     "text": [
      "Кол-во деревьев: 90 Глубина: 10 F1-мера на валидационной выборке: 0.64\n",
      "AUC-ROC: 0.87\n"
     ]
    }
   ],
   "source": [
    "best_est_rf_balanced, best_depth_rf_balanced, best_model_rf_balanced, best_result_rf_balanced = rf(df_oe, 'balanced')"
   ]
  },
  {
   "cell_type": "markdown",
   "metadata": {},
   "source": [
    "*Видим явное увеличение*"
   ]
  },
  {
   "cell_type": "markdown",
   "metadata": {},
   "source": [
    "### Увеличение выборки"
   ]
  },
  {
   "cell_type": "code",
   "execution_count": 27,
   "metadata": {},
   "outputs": [],
   "source": [
    "def upsample(features, target, repeat = 10):\n",
    "    features_zeros = features[target == 0]\n",
    "    features_ones = features[target == 1]\n",
    "    target_zeros = target[target == 0]\n",
    "    target_ones = target[target == 1]\n",
    "\n",
    "    features_upsampled = pd.concat([features_zeros] + [features_ones] * repeat)\n",
    "    target_upsampled = pd.concat([target_zeros] + [target_ones] * repeat)\n",
    "    \n",
    "    features_upsampled, target_upsampled = shuffle(\n",
    "        features_upsampled, target_upsampled, random_state = 12345)\n",
    "    \n",
    "    return features_upsampled, target_upsampled"
   ]
  },
  {
   "cell_type": "markdown",
   "metadata": {},
   "source": [
    "### Логистическая регрессия"
   ]
  },
  {
   "cell_type": "code",
   "execution_count": 28,
   "metadata": {},
   "outputs": [
    {
     "name": "stdout",
     "output_type": "stream",
     "text": [
      "F1-мера на валидационной выборке: 0.41\n",
      "AUC-ROC: 0.79\n"
     ]
    }
   ],
   "source": [
    "lr_up = lr(df_ohe, samplefunc=upsample)"
   ]
  },
  {
   "cell_type": "markdown",
   "metadata": {},
   "source": [
    "*А вот и первые плоды. Увеличение F1 метрики*"
   ]
  },
  {
   "cell_type": "markdown",
   "metadata": {},
   "source": [
    "### Дерево решений"
   ]
  },
  {
   "cell_type": "code",
   "execution_count": 29,
   "metadata": {},
   "outputs": [
    {
     "name": "stdout",
     "output_type": "stream",
     "text": [
      "Глубина: 24 - F1-мера на валидационной выборке: 0.51\n",
      "AUC-ROC: 0.68\n"
     ]
    }
   ],
   "source": [
    "best_depth_f_up, best_model_f_up, best_result_f_up = forest(df_oe, samplefunc=upsample)"
   ]
  },
  {
   "cell_type": "markdown",
   "metadata": {},
   "source": [
    "*F1 метрика снизилась по сравнению с прошлым разом*"
   ]
  },
  {
   "cell_type": "markdown",
   "metadata": {},
   "source": [
    "### Случайный лес"
   ]
  },
  {
   "cell_type": "code",
   "execution_count": 30,
   "metadata": {},
   "outputs": [
    {
     "name": "stdout",
     "output_type": "stream",
     "text": [
      "Кол-во деревьев: 50 Глубина: 10 F1-мера на валидационной выборке: 0.55\n",
      "AUC-ROC: 0.85\n"
     ]
    }
   ],
   "source": [
    "best_est_rf_up, best_depth_rf_up, best_model_rf_up, best_result_rf_up = rf(df_oe, samplefunc=upsample)"
   ]
  },
  {
   "cell_type": "markdown",
   "metadata": {},
   "source": [
    "*Сново падение значения*"
   ]
  },
  {
   "cell_type": "markdown",
   "metadata": {},
   "source": [
    "### Уменьшение выборки"
   ]
  },
  {
   "cell_type": "code",
   "execution_count": 31,
   "metadata": {},
   "outputs": [],
   "source": [
    "def downsample(features, target, fraction = 0.1):\n",
    "    features_zeros = features[target == 0]\n",
    "    features_ones = features[target == 1]\n",
    "    target_zeros = target[target == 0]\n",
    "    target_ones = target[target == 1]\n",
    "\n",
    "    features_downsampled = pd.concat(\n",
    "        [features_zeros.sample(frac = fraction, random_state = 12345)] + [features_ones])\n",
    "    target_downsampled = pd.concat(\n",
    "        [target_zeros.sample(frac = fraction, random_state = 12345)] + [target_ones])\n",
    "    \n",
    "    features_downsampled, target_downsampled = shuffle(\n",
    "        features_downsampled, target_downsampled, random_state = 12345)\n",
    "    \n",
    "    return features_downsampled, target_downsampled"
   ]
  },
  {
   "cell_type": "markdown",
   "metadata": {},
   "source": [
    "### Логистическая регрессия"
   ]
  },
  {
   "cell_type": "code",
   "execution_count": 32,
   "metadata": {},
   "outputs": [
    {
     "name": "stdout",
     "output_type": "stream",
     "text": [
      "F1-мера на валидационной выборке: 0.42\n",
      "AUC-ROC: 0.79\n"
     ]
    }
   ],
   "source": [
    "lr_down = lr(df_ohe, samplefunc=downsample)"
   ]
  },
  {
   "cell_type": "markdown",
   "metadata": {},
   "source": [
    "*Значение F1 метрики явно повысилась по сравнению с дисбалансом, но меньше, чем при увеличении выборки*"
   ]
  },
  {
   "cell_type": "markdown",
   "metadata": {},
   "source": [
    "### Дерево решений"
   ]
  },
  {
   "cell_type": "code",
   "execution_count": 33,
   "metadata": {},
   "outputs": [
    {
     "name": "stdout",
     "output_type": "stream",
     "text": [
      "Глубина: 7 - F1-мера на валидационной выборке: 0.47\n",
      "AUC-ROC: 0.68\n"
     ]
    }
   ],
   "source": [
    "best_depth_f_down, best_model_f_down, best_result_f_downp = forest(df_oe, samplefunc=downsample)"
   ]
  },
  {
   "cell_type": "markdown",
   "metadata": {},
   "source": [
    "*В сравнении с обоими случаями F1 метрика здесь падает*"
   ]
  },
  {
   "cell_type": "markdown",
   "metadata": {},
   "source": [
    "### Случайный лес"
   ]
  },
  {
   "cell_type": "code",
   "execution_count": 34,
   "metadata": {},
   "outputs": [
    {
     "name": "stdout",
     "output_type": "stream",
     "text": [
      "Кол-во деревьев: 50 Глубина: 8 F1-мера на валидационной выборке: 0.47\n",
      "AUC-ROC: 0.85\n"
     ]
    }
   ],
   "source": [
    "est_est_rf_down, best_depth_rf_down, best_model_rf_down, best_result_rf_downp = rf(df_oe, samplefunc=downsample)"
   ]
  },
  {
   "cell_type": "markdown",
   "metadata": {},
   "source": [
    "*В сравнении с обоими случаями F1 метрика здесь падает*"
   ]
  },
  {
   "cell_type": "markdown",
   "metadata": {},
   "source": [
    "## Вывод"
   ]
  },
  {
   "cell_type": "markdown",
   "metadata": {},
   "source": [
    "*Значение F1-меры у каждой из рассмотренных моделей меньше, чем в случае балансировки классов.*\n",
    "*Очень хороший результат показал случайный лес с кол-во деревьев: 90, глубиной: 10*\n",
    "*F1-мера на валидационной выборке: 0.64. В дальнейшем будем использовать эту модель*\n",
    "\n",
    "*Также можно наблюдать, что во всех случаев AUC-ROC дает хоршие показатели, но если сранвивать с F1-мерой, то идет различие. Так например при уменьшении выборки логистическая регрессия показывает 0.42, а AUC-ROC 0.79*"
   ]
  },
  {
   "cell_type": "markdown",
   "metadata": {},
   "source": [
    "# 4. Тестирование модели"
   ]
  },
  {
   "cell_type": "markdown",
   "metadata": {},
   "source": [
    "### Тест №-1"
   ]
  },
  {
   "cell_type": "code",
   "execution_count": 35,
   "metadata": {},
   "outputs": [
    {
     "name": "stdout",
     "output_type": "stream",
     "text": [
      "F1-мера на валидационной выборке: 0.64\n",
      "AUC-ROC: 0.87\n",
      "\n",
      "F1-мера на тестовой выборке: 0.6\n",
      "AUC-ROC: 0.85\n"
     ]
    }
   ],
   "source": [
    "model = RandomForestClassifier(class_weight = 'balanced', n_estimators = 90, max_depth = 10, random_state = 12345)\n",
    "train_and_predict(df_oe, model)\n",
    "print('F1-мера на валидационной выборке: {}'.format(round(ans,2)))\n",
    "print(\"AUC-ROC: {}\".format(round(auc_roc,2)))\n",
    "print()\n",
    "train_and_predict(df_oe, model, test = True)\n",
    "print('F1-мера на тестовой выборке: {}'.format(round(ans,2)))\n",
    "print(\"AUC-ROC: {}\".format(round(auc_roc,2)))"
   ]
  },
  {
   "cell_type": "markdown",
   "metadata": {},
   "source": [
    "*На тестовой выборке значения просидают. Но достигнуто необходимое значение метрики F1*\n",
    "\n",
    "*AUC-ROC случайной модели равна 0.5, полученная метрика выше*"
   ]
  },
  {
   "cell_type": "markdown",
   "metadata": {},
   "source": [
    "### Тест №-2"
   ]
  },
  {
   "cell_type": "code",
   "execution_count": 36,
   "metadata": {},
   "outputs": [],
   "source": [
    "def train_and_predict_2(data, model, samplefunc = None, test = False):\n",
    "    # Функция возвращает обученную модель.\n",
    "    target, features = target_features(data)\n",
    "    features_train, features_valid, features_test, target_train, target_valid, target_test = split_data(features, target)\n",
    "    features_train_plus_valid = features_train.merge(features_valid, how = 'outer')\n",
    "    target_train_plus_valid = target_train.append(target_valid, ignore_index=True)\n",
    "    global ans\n",
    "    global auc_roc\n",
    "    \n",
    "    if samplefunc:\n",
    "        features_train, target_train = samplefunc(features_train, target_train)\n",
    "    \n",
    "    \n",
    "    model.fit(features_train, target_train)\n",
    "    predicted_train_plus_valid = model.predict(features_train_plus_valid)\n",
    "    ans = f1_score(target_train_plus_valid, predicted_train_plus_valid)\n",
    "    \n",
    "    probabilities_train_plus_valid = model.predict_proba(features_train_plus_valid)\n",
    "    probabilities_one_train_plus_valid = probabilities_train_plus_valid[:, 1]\n",
    "\n",
    "    auc_roc = roc_auc_score(target_train_plus_valid, probabilities_one_train_plus_valid)\n",
    "    \n",
    "    if test:\n",
    "        predicted_test = model.predict(features_test)\n",
    "        ans = f1_score(target_test, predicted_test)\n",
    "        \n",
    "        probabilities_test = model.predict_proba(features_test)\n",
    "        probabilities_one_test = probabilities_test[:, 1]\n",
    "\n",
    "        auc_roc = roc_auc_score(target_test, probabilities_one_test)\n",
    "        \n",
    "    return model"
   ]
  },
  {
   "cell_type": "code",
   "execution_count": 37,
   "metadata": {},
   "outputs": [
    {
     "name": "stdout",
     "output_type": "stream",
     "text": [
      "F1-мера на объединенной выборке: 0.78\n",
      "AUC-ROC: 0.95\n",
      "\n",
      "F1-мера на тестовой выборке: 0.6\n",
      "AUC-ROC: 0.85\n"
     ]
    }
   ],
   "source": [
    "model = RandomForestClassifier(class_weight = 'balanced', n_estimators = 90, max_depth = 10, random_state = 12345)\n",
    "train_and_predict_2(df_oe, model)\n",
    "print('F1-мера на объединенной выборке: {}'.format(round(ans,2)))\n",
    "print(\"AUC-ROC: {}\".format(round(auc_roc,2)))\n",
    "print()\n",
    "train_and_predict_2(df_oe, model, test = True)\n",
    "print('F1-мера на тестовой выборке: {}'.format(round(ans,2)))\n",
    "print(\"AUC-ROC: {}\".format(round(auc_roc,2)))"
   ]
  },
  {
   "cell_type": "markdown",
   "metadata": {},
   "source": [
    "*Результаты объединенной выборки значительно выросли, если сравнивать с валидационной. Смею предположить, что чем больше будет поступать данных на прогноз, тем лучше наша модель будет прогнозировать*"
   ]
  }
 ],
 "metadata": {
  "kernelspec": {
   "display_name": "Python 3",
   "language": "python",
   "name": "python3"
  },
  "language_info": {
   "codemirror_mode": {
    "name": "ipython",
    "version": 3
   },
   "file_extension": ".py",
   "mimetype": "text/x-python",
   "name": "python",
   "nbconvert_exporter": "python",
   "pygments_lexer": "ipython3",
   "version": "3.8.6"
  }
 },
 "nbformat": 4,
 "nbformat_minor": 2
}
