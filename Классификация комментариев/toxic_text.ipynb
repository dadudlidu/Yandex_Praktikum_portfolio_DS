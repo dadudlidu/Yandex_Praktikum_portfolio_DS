{
  "nbformat": 4,
  "nbformat_minor": 0,
  "metadata": {
    "colab": {
      "name": "toxic_text.ipynb",
      "provenance": [],
      "collapsed_sections": []
    },
    "kernelspec": {
      "name": "python3",
      "display_name": "Python 3"
    },
    "language_info": {
      "name": "python"
    },
    "accelerator": "GPU"
  },
  "cells": [
    {
      "cell_type": "markdown",
      "metadata": {
        "id": "_FRo2DQt8ML3"
      },
      "source": [
        "Интернет-магазин «Викишоп» запускает новый сервис. Теперь пользователи могут редактировать и дополнять описания товаров, как в вики-сообществах. То есть клиенты предлагают свои правки и комментируют изменения других. Магазину нужен инструмент, который будет искать токсичные комментарии и отправлять их на модерацию. \n",
        "\n",
        "Обучите модель классифицировать комментарии на позитивные и негативные. В вашем распоряжении набор данных с разметкой о токсичности правок.\n",
        "\n",
        "Постройте модель со значением метрики качества *F1* не меньше 0.75. \n",
        "\n",
        "### Инструкция по выполнению проекта\n",
        "\n",
        "1. Загрузите и подготовьте данные.\n",
        "2. Обучите разные модели. \n",
        "3. Сделайте выводы.\n",
        "\n",
        "Для выполнения проекта применять *BERT* необязательно, но вы можете попробовать.\n",
        "\n",
        "### Описание данных\n",
        "\n",
        "Данные находятся в файле `toxic_comments.csv`. Столбец *text* в нём содержит текст комментария, а *toxic* — целевой признак."
      ]
    },
    {
      "cell_type": "markdown",
      "metadata": {
        "id": "Y5nZ_1sf4vHk"
      },
      "source": [
        "### Добавим в Colab необходимые библиотеки"
      ]
    },
    {
      "cell_type": "code",
      "metadata": {
        "colab": {
          "base_uri": "https://localhost:8080/"
        },
        "id": "eBzhn43wocvL",
        "outputId": "5bd0499c-c4fa-46ae-8e3c-19b4fd2db474"
      },
      "source": [
        "!pip install transformers"
      ],
      "execution_count": 2,
      "outputs": [
        {
          "output_type": "stream",
          "text": [
            "Requirement already satisfied: transformers in /usr/local/lib/python3.7/dist-packages (4.4.2)\n",
            "Requirement already satisfied: filelock in /usr/local/lib/python3.7/dist-packages (from transformers) (3.0.12)\n",
            "Requirement already satisfied: requests in /usr/local/lib/python3.7/dist-packages (from transformers) (2.23.0)\n",
            "Requirement already satisfied: importlib-metadata; python_version < \"3.8\" in /usr/local/lib/python3.7/dist-packages (from transformers) (3.8.1)\n",
            "Requirement already satisfied: numpy>=1.17 in /usr/local/lib/python3.7/dist-packages (from transformers) (1.19.5)\n",
            "Requirement already satisfied: packaging in /usr/local/lib/python3.7/dist-packages (from transformers) (20.9)\n",
            "Requirement already satisfied: tokenizers<0.11,>=0.10.1 in /usr/local/lib/python3.7/dist-packages (from transformers) (0.10.1)\n",
            "Requirement already satisfied: sacremoses in /usr/local/lib/python3.7/dist-packages (from transformers) (0.0.44)\n",
            "Requirement already satisfied: tqdm>=4.27 in /usr/local/lib/python3.7/dist-packages (from transformers) (4.41.1)\n",
            "Requirement already satisfied: regex!=2019.12.17 in /usr/local/lib/python3.7/dist-packages (from transformers) (2019.12.20)\n",
            "Requirement already satisfied: idna<3,>=2.5 in /usr/local/lib/python3.7/dist-packages (from requests->transformers) (2.10)\n",
            "Requirement already satisfied: certifi>=2017.4.17 in /usr/local/lib/python3.7/dist-packages (from requests->transformers) (2020.12.5)\n",
            "Requirement already satisfied: urllib3!=1.25.0,!=1.25.1,<1.26,>=1.21.1 in /usr/local/lib/python3.7/dist-packages (from requests->transformers) (1.24.3)\n",
            "Requirement already satisfied: chardet<4,>=3.0.2 in /usr/local/lib/python3.7/dist-packages (from requests->transformers) (3.0.4)\n",
            "Requirement already satisfied: zipp>=0.5 in /usr/local/lib/python3.7/dist-packages (from importlib-metadata; python_version < \"3.8\"->transformers) (3.4.1)\n",
            "Requirement already satisfied: typing-extensions>=3.6.4; python_version < \"3.8\" in /usr/local/lib/python3.7/dist-packages (from importlib-metadata; python_version < \"3.8\"->transformers) (3.7.4.3)\n",
            "Requirement already satisfied: pyparsing>=2.0.2 in /usr/local/lib/python3.7/dist-packages (from packaging->transformers) (2.4.7)\n",
            "Requirement already satisfied: joblib in /usr/local/lib/python3.7/dist-packages (from sacremoses->transformers) (1.0.1)\n",
            "Requirement already satisfied: click in /usr/local/lib/python3.7/dist-packages (from sacremoses->transformers) (7.1.2)\n",
            "Requirement already satisfied: six in /usr/local/lib/python3.7/dist-packages (from sacremoses->transformers) (1.15.0)\n"
          ],
          "name": "stdout"
        }
      ]
    },
    {
      "cell_type": "code",
      "metadata": {
        "colab": {
          "base_uri": "https://localhost:8080/"
        },
        "id": "vRtjKB2rpnYo",
        "outputId": "5e4ee8a7-22dd-40b7-f59c-58d46cc0b845"
      },
      "source": [
        "!pip install PyDrive"
      ],
      "execution_count": 3,
      "outputs": [
        {
          "output_type": "stream",
          "text": [
            "Requirement already satisfied: PyDrive in /usr/local/lib/python3.7/dist-packages (1.3.1)\n",
            "Requirement already satisfied: google-api-python-client>=1.2 in /usr/local/lib/python3.7/dist-packages (from PyDrive) (1.12.8)\n",
            "Requirement already satisfied: PyYAML>=3.0 in /usr/local/lib/python3.7/dist-packages (from PyDrive) (3.13)\n",
            "Requirement already satisfied: oauth2client>=4.0.0 in /usr/local/lib/python3.7/dist-packages (from PyDrive) (4.1.3)\n",
            "Requirement already satisfied: six<2dev,>=1.13.0 in /usr/local/lib/python3.7/dist-packages (from google-api-python-client>=1.2->PyDrive) (1.15.0)\n",
            "Requirement already satisfied: google-auth-httplib2>=0.0.3 in /usr/local/lib/python3.7/dist-packages (from google-api-python-client>=1.2->PyDrive) (0.0.4)\n",
            "Requirement already satisfied: google-auth>=1.16.0 in /usr/local/lib/python3.7/dist-packages (from google-api-python-client>=1.2->PyDrive) (1.28.0)\n",
            "Requirement already satisfied: uritemplate<4dev,>=3.0.0 in /usr/local/lib/python3.7/dist-packages (from google-api-python-client>=1.2->PyDrive) (3.0.1)\n",
            "Requirement already satisfied: httplib2<1dev,>=0.15.0 in /usr/local/lib/python3.7/dist-packages (from google-api-python-client>=1.2->PyDrive) (0.17.4)\n",
            "Requirement already satisfied: google-api-core<2dev,>=1.21.0 in /usr/local/lib/python3.7/dist-packages (from google-api-python-client>=1.2->PyDrive) (1.26.2)\n",
            "Requirement already satisfied: pyasn1-modules>=0.0.5 in /usr/local/lib/python3.7/dist-packages (from oauth2client>=4.0.0->PyDrive) (0.2.8)\n",
            "Requirement already satisfied: pyasn1>=0.1.7 in /usr/local/lib/python3.7/dist-packages (from oauth2client>=4.0.0->PyDrive) (0.4.8)\n",
            "Requirement already satisfied: rsa>=3.1.4 in /usr/local/lib/python3.7/dist-packages (from oauth2client>=4.0.0->PyDrive) (4.7.2)\n",
            "Requirement already satisfied: setuptools>=40.3.0 in /usr/local/lib/python3.7/dist-packages (from google-auth>=1.16.0->google-api-python-client>=1.2->PyDrive) (54.2.0)\n",
            "Requirement already satisfied: cachetools<5.0,>=2.0.0 in /usr/local/lib/python3.7/dist-packages (from google-auth>=1.16.0->google-api-python-client>=1.2->PyDrive) (4.2.1)\n",
            "Requirement already satisfied: protobuf>=3.12.0 in /usr/local/lib/python3.7/dist-packages (from google-api-core<2dev,>=1.21.0->google-api-python-client>=1.2->PyDrive) (3.12.4)\n",
            "Requirement already satisfied: pytz in /usr/local/lib/python3.7/dist-packages (from google-api-core<2dev,>=1.21.0->google-api-python-client>=1.2->PyDrive) (2018.9)\n",
            "Requirement already satisfied: googleapis-common-protos<2.0dev,>=1.6.0 in /usr/local/lib/python3.7/dist-packages (from google-api-core<2dev,>=1.21.0->google-api-python-client>=1.2->PyDrive) (1.53.0)\n",
            "Requirement already satisfied: requests<3.0.0dev,>=2.18.0 in /usr/local/lib/python3.7/dist-packages (from google-api-core<2dev,>=1.21.0->google-api-python-client>=1.2->PyDrive) (2.23.0)\n",
            "Requirement already satisfied: packaging>=14.3 in /usr/local/lib/python3.7/dist-packages (from google-api-core<2dev,>=1.21.0->google-api-python-client>=1.2->PyDrive) (20.9)\n",
            "Requirement already satisfied: urllib3!=1.25.0,!=1.25.1,<1.26,>=1.21.1 in /usr/local/lib/python3.7/dist-packages (from requests<3.0.0dev,>=2.18.0->google-api-core<2dev,>=1.21.0->google-api-python-client>=1.2->PyDrive) (1.24.3)\n",
            "Requirement already satisfied: certifi>=2017.4.17 in /usr/local/lib/python3.7/dist-packages (from requests<3.0.0dev,>=2.18.0->google-api-core<2dev,>=1.21.0->google-api-python-client>=1.2->PyDrive) (2020.12.5)\n",
            "Requirement already satisfied: idna<3,>=2.5 in /usr/local/lib/python3.7/dist-packages (from requests<3.0.0dev,>=2.18.0->google-api-core<2dev,>=1.21.0->google-api-python-client>=1.2->PyDrive) (2.10)\n",
            "Requirement already satisfied: chardet<4,>=3.0.2 in /usr/local/lib/python3.7/dist-packages (from requests<3.0.0dev,>=2.18.0->google-api-core<2dev,>=1.21.0->google-api-python-client>=1.2->PyDrive) (3.0.4)\n",
            "Requirement already satisfied: pyparsing>=2.0.2 in /usr/local/lib/python3.7/dist-packages (from packaging>=14.3->google-api-core<2dev,>=1.21.0->google-api-python-client>=1.2->PyDrive) (2.4.7)\n"
          ],
          "name": "stdout"
        }
      ]
    },
    {
      "cell_type": "markdown",
      "metadata": {
        "id": "zsbIAxcW5P9f"
      },
      "source": [
        "### Так как датасет будет загружаться с гугл облака, необходимо указать к нему путь"
      ]
    },
    {
      "cell_type": "code",
      "metadata": {
        "id": "K4a1fwu-ptAG"
      },
      "source": [
        "from pydrive.auth import GoogleAuth\n",
        "from pydrive.drive import GoogleDrive\n",
        "from google.colab import auth\n",
        "from oauth2client.client import GoogleCredentials"
      ],
      "execution_count": 4,
      "outputs": []
    },
    {
      "cell_type": "code",
      "metadata": {
        "id": "PZ5khndEpzw-"
      },
      "source": [
        "auth.authenticate_user()\n",
        "gauth = GoogleAuth()\n",
        "gauth.credentials = GoogleCredentials.get_application_default()\n",
        "drive = GoogleDrive(gauth)"
      ],
      "execution_count": 5,
      "outputs": []
    },
    {
      "cell_type": "code",
      "metadata": {
        "id": "xm11nx6xoke5"
      },
      "source": [
        "downloaded = drive.CreateFile({'id':\"10kCOnyEljybGCMjTxPZbrKMmm_3N74vn\"})   # replace the id with id of file you want to access\n",
        "downloaded.GetContentFile('toxic_comments.csv')        # replace the file name with your file"
      ],
      "execution_count": 6,
      "outputs": []
    },
    {
      "cell_type": "markdown",
      "metadata": {
        "id": "gRIVnGmm5e0b"
      },
      "source": [
        "# 1. Подготовка"
      ]
    },
    {
      "cell_type": "code",
      "metadata": {
        "id": "XQ2pFpBR7xB9"
      },
      "source": [
        "import pandas as pd\n",
        "import numpy as np\n",
        "import matplotlib.pyplot as plt\n",
        "import seaborn as sns\n",
        "\n",
        "from sklearn.model_selection import train_test_split\n",
        "from sklearn.linear_model import LogisticRegression\n",
        "\n",
        "from sklearn.model_selection import GridSearchCV\n",
        "\n",
        "from sklearn.metrics import f1_score, roc_curve, roc_auc_score, accuracy_score\n",
        "\n",
        "import re\n",
        "import nltk\n",
        "from nltk.stem import WordNetLemmatizer\n",
        "from nltk.corpus import stopwords as nltk_stopwords\n",
        "from nltk.corpus import wordnet\n",
        "from sklearn.feature_extraction.text import TfidfVectorizer\n",
        "from sklearn.feature_extraction.text import CountVectorizer\n",
        "\n",
        "import transformers\n",
        "\n",
        "import torch\n",
        "from tqdm import notebook\n",
        "import sys\n",
        "import os\n",
        "import time\n",
        "\n",
        "import warnings\n",
        "\n",
        "import re"
      ],
      "execution_count": 7,
      "outputs": []
    },
    {
      "cell_type": "code",
      "metadata": {
        "id": "eWlhYU3pohux"
      },
      "source": [
        "warnings.filterwarnings('ignore') \n",
        "\n",
        "pd.options.display.max_rows = 100\n",
        "pd.options.display.max_columns = 100\n",
        "\n",
        "%matplotlib inline"
      ],
      "execution_count": 8,
      "outputs": []
    },
    {
      "cell_type": "markdown",
      "metadata": {
        "id": "3wpaMSE05shU"
      },
      "source": [
        "## 1.1. Общий взгляд на данные"
      ]
    },
    {
      "cell_type": "code",
      "metadata": {
        "id": "hwnoMh6Qokhm"
      },
      "source": [
        "toxic_comments = pd.read_csv('toxic_comments.csv')"
      ],
      "execution_count": 9,
      "outputs": []
    },
    {
      "cell_type": "code",
      "metadata": {
        "id": "Ngf_GoHJokkL"
      },
      "source": [
        "def df_info(df):\n",
        "    df.info()\n",
        "    display(df.head(10))\n",
        "    print(f'Кол-во дубликатов: {df.duplicated().sum()}')"
      ],
      "execution_count": 10,
      "outputs": []
    },
    {
      "cell_type": "code",
      "metadata": {
        "colab": {
          "base_uri": "https://localhost:8080/",
          "height": 529
        },
        "id": "UTCKepLSokmz",
        "outputId": "b943f761-19b3-45ad-ba7a-9cdd18d0d41f"
      },
      "source": [
        "df_info(toxic_comments)"
      ],
      "execution_count": 11,
      "outputs": [
        {
          "output_type": "stream",
          "text": [
            "<class 'pandas.core.frame.DataFrame'>\n",
            "RangeIndex: 159571 entries, 0 to 159570\n",
            "Data columns (total 2 columns):\n",
            " #   Column  Non-Null Count   Dtype \n",
            "---  ------  --------------   ----- \n",
            " 0   text    159571 non-null  object\n",
            " 1   toxic   159571 non-null  int64 \n",
            "dtypes: int64(1), object(1)\n",
            "memory usage: 2.4+ MB\n"
          ],
          "name": "stdout"
        },
        {
          "output_type": "display_data",
          "data": {
            "text/html": [
              "<div>\n",
              "<style scoped>\n",
              "    .dataframe tbody tr th:only-of-type {\n",
              "        vertical-align: middle;\n",
              "    }\n",
              "\n",
              "    .dataframe tbody tr th {\n",
              "        vertical-align: top;\n",
              "    }\n",
              "\n",
              "    .dataframe thead th {\n",
              "        text-align: right;\n",
              "    }\n",
              "</style>\n",
              "<table border=\"1\" class=\"dataframe\">\n",
              "  <thead>\n",
              "    <tr style=\"text-align: right;\">\n",
              "      <th></th>\n",
              "      <th>text</th>\n",
              "      <th>toxic</th>\n",
              "    </tr>\n",
              "  </thead>\n",
              "  <tbody>\n",
              "    <tr>\n",
              "      <th>0</th>\n",
              "      <td>Explanation\\nWhy the edits made under my usern...</td>\n",
              "      <td>0</td>\n",
              "    </tr>\n",
              "    <tr>\n",
              "      <th>1</th>\n",
              "      <td>D'aww! He matches this background colour I'm s...</td>\n",
              "      <td>0</td>\n",
              "    </tr>\n",
              "    <tr>\n",
              "      <th>2</th>\n",
              "      <td>Hey man, I'm really not trying to edit war. It...</td>\n",
              "      <td>0</td>\n",
              "    </tr>\n",
              "    <tr>\n",
              "      <th>3</th>\n",
              "      <td>\"\\nMore\\nI can't make any real suggestions on ...</td>\n",
              "      <td>0</td>\n",
              "    </tr>\n",
              "    <tr>\n",
              "      <th>4</th>\n",
              "      <td>You, sir, are my hero. Any chance you remember...</td>\n",
              "      <td>0</td>\n",
              "    </tr>\n",
              "    <tr>\n",
              "      <th>5</th>\n",
              "      <td>\"\\n\\nCongratulations from me as well, use the ...</td>\n",
              "      <td>0</td>\n",
              "    </tr>\n",
              "    <tr>\n",
              "      <th>6</th>\n",
              "      <td>COCKSUCKER BEFORE YOU PISS AROUND ON MY WORK</td>\n",
              "      <td>1</td>\n",
              "    </tr>\n",
              "    <tr>\n",
              "      <th>7</th>\n",
              "      <td>Your vandalism to the Matt Shirvington article...</td>\n",
              "      <td>0</td>\n",
              "    </tr>\n",
              "    <tr>\n",
              "      <th>8</th>\n",
              "      <td>Sorry if the word 'nonsense' was offensive to ...</td>\n",
              "      <td>0</td>\n",
              "    </tr>\n",
              "    <tr>\n",
              "      <th>9</th>\n",
              "      <td>alignment on this subject and which are contra...</td>\n",
              "      <td>0</td>\n",
              "    </tr>\n",
              "  </tbody>\n",
              "</table>\n",
              "</div>"
            ],
            "text/plain": [
              "                                                text  toxic\n",
              "0  Explanation\\nWhy the edits made under my usern...      0\n",
              "1  D'aww! He matches this background colour I'm s...      0\n",
              "2  Hey man, I'm really not trying to edit war. It...      0\n",
              "3  \"\\nMore\\nI can't make any real suggestions on ...      0\n",
              "4  You, sir, are my hero. Any chance you remember...      0\n",
              "5  \"\\n\\nCongratulations from me as well, use the ...      0\n",
              "6       COCKSUCKER BEFORE YOU PISS AROUND ON MY WORK      1\n",
              "7  Your vandalism to the Matt Shirvington article...      0\n",
              "8  Sorry if the word 'nonsense' was offensive to ...      0\n",
              "9  alignment on this subject and which are contra...      0"
            ]
          },
          "metadata": {
            "tags": []
          }
        },
        {
          "output_type": "stream",
          "text": [
            "Кол-во дубликатов: 0\n"
          ],
          "name": "stdout"
        }
      ]
    },
    {
      "cell_type": "code",
      "metadata": {
        "colab": {
          "base_uri": "https://localhost:8080/",
          "height": 740
        },
        "id": "X8z5BeEZokpP",
        "outputId": "60338fb6-3ade-4564-877c-4f99d992259e"
      },
      "source": [
        "plt.figure(figsize=(16,12))\n",
        "sns.countplot(x='toxic', data = toxic_comments, palette = \"pastel\")\n",
        "plt.title('Количество значений в классе',fontsize=20)\n",
        "plt.xlabel('Комментарий позитивный — 0, Комментарий негативный — 1', fontsize=15)\n",
        "plt.ylabel('Количество', fontsize=15)\n",
        "plt.grid(True)\n",
        "plt.show()"
      ],
      "execution_count": 12,
      "outputs": [
        {
          "output_type": "display_data",
          "data": {
            "image/png": "[encoded data removed]",
            "text/plain": [
              "<Figure size 1152x864 with 1 Axes>"
            ]
          },
          "metadata": {
            "tags": [],
            "needs_background": "light"
          }
        }
      ]
    },
    {
      "cell_type": "markdown",
      "metadata": {
        "id": "oPRmQ-BK5z4R"
      },
      "source": [
        "*Дубликатов и пропусков в данных нет, комментарии написаны  на английском языке. Присутствует дисбаланс классов*"
      ]
    },
    {
      "cell_type": "markdown",
      "metadata": {
        "id": "yRTtrqtj55Rl"
      },
      "source": [
        "## 1.2. Предобработка данных"
      ]
    },
    {
      "cell_type": "code",
      "metadata": {
        "id": "RhTTJWFzokrv"
      },
      "source": [
        "# Приведем текст к нижнему регистру с помощью str.lower()\n",
        "toxic_comments['text'] = toxic_comments['text'].str.lower()\n",
        "\n",
        "#display(toxic_comments.head())"
      ],
      "execution_count": 13,
      "outputs": []
    },
    {
      "cell_type": "markdown",
      "metadata": {
        "id": "Jd7-TEDF5-aU"
      },
      "source": [
        "### Удалим ненужные символы в тексте и уберем сокращения"
      ]
    },
    {
      "cell_type": "code",
      "metadata": {
        "id": "3k3niLsVokuW"
      },
      "source": [
        "def clean_text(text):\n",
        "    text = text.lower()\n",
        "    text = re.sub(r\"what's\", \"what is \", text)\n",
        "    text = re.sub(r\"\\'s\", \" \", text)\n",
        "    text = re.sub(r\"\\'ve\", \" have \", text)\n",
        "    text = re.sub(r\"can't\", \"cannot \", text)\n",
        "    text = re.sub(r\"n't\", \" not \", text)\n",
        "    text = re.sub(r\"i'm\", \"i am \", text)\n",
        "    text = re.sub(r\"\\'re\", \" are \", text)\n",
        "    text = re.sub(r\"\\'d\", \" would \", text)\n",
        "    text = re.sub(r\"\\'ll\", \" will \", text)\n",
        "    text = re.sub(r\"\\'scuse\", \" excuse \", text)\n",
        "    text = re.sub('\\W', ' ', text)\n",
        "    text = re.sub('\\s+', ' ', text)\n",
        "    text = text.strip(' ')\n",
        "    return text"
      ],
      "execution_count": 14,
      "outputs": []
    },
    {
      "cell_type": "code",
      "metadata": {
        "id": "X4M3oq5qokw2"
      },
      "source": [
        "# clean the comment_text in train_df [Thanks to Pulkit Jha for the useful pointer.]\n",
        "toxic_comments['text_v2'] = toxic_comments['text'].map(lambda com : clean_text(com))"
      ],
      "execution_count": 15,
      "outputs": []
    },
    {
      "cell_type": "markdown",
      "metadata": {
        "id": "6OX_bvip6KRl"
      },
      "source": [
        "### Лемматизация текста (Приведем все слова к их основе)"
      ]
    },
    {
      "cell_type": "code",
      "metadata": {
        "colab": {
          "base_uri": "https://localhost:8080/"
        },
        "id": "64i6JvO-rvLe",
        "outputId": "1c5ca4b5-054c-4a19-ccf1-cc7b17ba71ba"
      },
      "source": [
        "nltk.download('wordnet')\n",
        "nltk.download('punkt')\n",
        "nltk.download('averaged_perceptron_tagger')\n",
        "nltk.download('stopwords')"
      ],
      "execution_count": 16,
      "outputs": [
        {
          "output_type": "stream",
          "text": [
            "[nltk_data] Downloading package wordnet to /root/nltk_data...\n",
            "[nltk_data]   Package wordnet is already up-to-date!\n",
            "[nltk_data] Downloading package punkt to /root/nltk_data...\n",
            "[nltk_data]   Package punkt is already up-to-date!\n",
            "[nltk_data] Downloading package averaged_perceptron_tagger to\n",
            "[nltk_data]     /root/nltk_data...\n",
            "[nltk_data]   Package averaged_perceptron_tagger is already up-to-\n",
            "[nltk_data]       date!\n",
            "[nltk_data] Downloading package stopwords to /root/nltk_data...\n",
            "[nltk_data]   Package stopwords is already up-to-date!\n"
          ],
          "name": "stdout"
        },
        {
          "output_type": "execute_result",
          "data": {
            "text/plain": [
              "True"
            ]
          },
          "metadata": {
            "tags": []
          },
          "execution_count": 16
        }
      ]
    },
    {
      "cell_type": "code",
      "metadata": {
        "colab": {
          "base_uri": "https://localhost:8080/"
        },
        "id": "9av5hh8irvN2",
        "outputId": "cc2b0d2c-928e-46e6-d703-5b971cc14532"
      },
      "source": [
        "%%time\n",
        "\n",
        "def get_wordnet_pos(word):\n",
        "    tag = nltk.pos_tag([word])[0][1][0].upper()\n",
        "    tag_dict = {\"J\": wordnet.ADJ,\n",
        "                \"N\": wordnet.NOUN,\n",
        "                \"V\": wordnet.VERB,\n",
        "                \"R\": wordnet.ADV}\n",
        "    return tag_dict.get(tag, wordnet.NOUN)\n",
        "\n",
        "\n",
        "def lemmatize(text):\n",
        "    lemmatizer = WordNetLemmatizer()\n",
        "    lem = [lemmatizer.lemmatize(w, get_wordnet_pos(w)) for w in nltk.word_tokenize(text)]\n",
        "    result = \" \".join(lem)\n",
        "    return result\n",
        "\n",
        "\n",
        "toxic_comments['cleared_text_after_lemm'] = toxic_comments['text_v2'].apply(lemmatize)"
      ],
      "execution_count": 17,
      "outputs": [
        {
          "output_type": "stream",
          "text": [
            "CPU times: user 19min 12s, sys: 1min 2s, total: 20min 15s\n",
            "Wall time: 20min 13s\n"
          ],
          "name": "stdout"
        }
      ]
    },
    {
      "cell_type": "code",
      "metadata": {
        "colab": {
          "base_uri": "https://localhost:8080/",
          "height": 204
        },
        "id": "lFTu57uCrvQN",
        "outputId": "505451b7-2c39-4d39-fa79-e020c1fce2f8"
      },
      "source": [
        "display(toxic_comments.head())"
      ],
      "execution_count": 18,
      "outputs": [
        {
          "output_type": "display_data",
          "data": {
            "text/html": [
              "<div>\n",
              "<style scoped>\n",
              "    .dataframe tbody tr th:only-of-type {\n",
              "        vertical-align: middle;\n",
              "    }\n",
              "\n",
              "    .dataframe tbody tr th {\n",
              "        vertical-align: top;\n",
              "    }\n",
              "\n",
              "    .dataframe thead th {\n",
              "        text-align: right;\n",
              "    }\n",
              "</style>\n",
              "<table border=\"1\" class=\"dataframe\">\n",
              "  <thead>\n",
              "    <tr style=\"text-align: right;\">\n",
              "      <th></th>\n",
              "      <th>text</th>\n",
              "      <th>toxic</th>\n",
              "      <th>text_v2</th>\n",
              "      <th>cleared_text_after_lemm</th>\n",
              "    </tr>\n",
              "  </thead>\n",
              "  <tbody>\n",
              "    <tr>\n",
              "      <th>0</th>\n",
              "      <td>explanation\\nwhy the edits made under my usern...</td>\n",
              "      <td>0</td>\n",
              "      <td>explanation why the edits made under my userna...</td>\n",
              "      <td>explanation why the edits make under my userna...</td>\n",
              "    </tr>\n",
              "    <tr>\n",
              "      <th>1</th>\n",
              "      <td>d'aww! he matches this background colour i'm s...</td>\n",
              "      <td>0</td>\n",
              "      <td>d aww he matches this background colour i am s...</td>\n",
              "      <td>d aww he match this background colour i be see...</td>\n",
              "    </tr>\n",
              "    <tr>\n",
              "      <th>2</th>\n",
              "      <td>hey man, i'm really not trying to edit war. it...</td>\n",
              "      <td>0</td>\n",
              "      <td>hey man i am really not trying to edit war it ...</td>\n",
              "      <td>hey man i be really not try to edit war it jus...</td>\n",
              "    </tr>\n",
              "    <tr>\n",
              "      <th>3</th>\n",
              "      <td>\"\\nmore\\ni can't make any real suggestions on ...</td>\n",
              "      <td>0</td>\n",
              "      <td>more i cannot make any real suggestions on imp...</td>\n",
              "      <td>more i can not make any real suggestion on imp...</td>\n",
              "    </tr>\n",
              "    <tr>\n",
              "      <th>4</th>\n",
              "      <td>you, sir, are my hero. any chance you remember...</td>\n",
              "      <td>0</td>\n",
              "      <td>you sir are my hero any chance you remember wh...</td>\n",
              "      <td>you sir be my hero any chance you remember wha...</td>\n",
              "    </tr>\n",
              "  </tbody>\n",
              "</table>\n",
              "</div>"
            ],
            "text/plain": [
              "                                                text  toxic  \\\n",
              "0  explanation\\nwhy the edits made under my usern...      0   \n",
              "1  d'aww! he matches this background colour i'm s...      0   \n",
              "2  hey man, i'm really not trying to edit war. it...      0   \n",
              "3  \"\\nmore\\ni can't make any real suggestions on ...      0   \n",
              "4  you, sir, are my hero. any chance you remember...      0   \n",
              "\n",
              "                                             text_v2  \\\n",
              "0  explanation why the edits made under my userna...   \n",
              "1  d aww he matches this background colour i am s...   \n",
              "2  hey man i am really not trying to edit war it ...   \n",
              "3  more i cannot make any real suggestions on imp...   \n",
              "4  you sir are my hero any chance you remember wh...   \n",
              "\n",
              "                             cleared_text_after_lemm  \n",
              "0  explanation why the edits make under my userna...  \n",
              "1  d aww he match this background colour i be see...  \n",
              "2  hey man i be really not try to edit war it jus...  \n",
              "3  more i can not make any real suggestion on imp...  \n",
              "4  you sir be my hero any chance you remember wha...  "
            ]
          },
          "metadata": {
            "tags": []
          }
        }
      ]
    },
    {
      "cell_type": "markdown",
      "metadata": {
        "id": "dcdsWkMG6P5Z"
      },
      "source": [
        "*Лемматизировать получилось, идем дальше*"
      ]
    },
    {
      "cell_type": "markdown",
      "metadata": {
        "id": "eCqMJh_U6S4_"
      },
      "source": [
        "## 1.3. Преобразование данных"
      ]
    },
    {
      "cell_type": "markdown",
      "metadata": {
        "id": "Z23KFX5o6VO8"
      },
      "source": [
        "### TF-IDF"
      ]
    },
    {
      "cell_type": "markdown",
      "metadata": {
        "id": "sJk30UWK6YSB"
      },
      "source": [
        "#### Разделим датасет на обучающую и тестовоую выборки"
      ]
    },
    {
      "cell_type": "code",
      "metadata": {
        "id": "h6krg-_hrvSS"
      },
      "source": [
        "target = toxic_comments['toxic']\n",
        "train, test = train_test_split(\n",
        "    toxic_comments, test_size=.25, stratify=target, random_state=12345)"
      ],
      "execution_count": 19,
      "outputs": []
    },
    {
      "cell_type": "code",
      "metadata": {
        "id": "t8Gp_f4XxtkT"
      },
      "source": [
        "corpus_train = train['cleared_text_after_lemm'].values.astype('U')\n",
        "corpus_test = test['cleared_text_after_lemm'].values.astype('U')"
      ],
      "execution_count": 20,
      "outputs": []
    },
    {
      "cell_type": "code",
      "metadata": {
        "colab": {
          "base_uri": "https://localhost:8080/"
        },
        "id": "0NQSmZSDxtmt",
        "outputId": "671dab27-9bb8-4af7-df32-39919dce5aaf"
      },
      "source": [
        "count_vect = CountVectorizer()\n",
        "n_gramm_train = count_vect.fit_transform(corpus_train)\n",
        "\n",
        "n_gramm_train.shape"
      ],
      "execution_count": 21,
      "outputs": [
        {
          "output_type": "execute_result",
          "data": {
            "text/plain": [
              "(119678, 143951)"
            ]
          },
          "metadata": {
            "tags": []
          },
          "execution_count": 21
        }
      ]
    },
    {
      "cell_type": "code",
      "metadata": {
        "colab": {
          "base_uri": "https://localhost:8080/"
        },
        "id": "vJ6lpBYOxtpL",
        "outputId": "6d156f2a-bb35-425e-fecc-1193a2e5c008"
      },
      "source": [
        "n_gramm_test = count_vect.transform(corpus_test)\n",
        "n_gramm_test.shape"
      ],
      "execution_count": 22,
      "outputs": [
        {
          "output_type": "execute_result",
          "data": {
            "text/plain": [
              "(39893, 143951)"
            ]
          },
          "metadata": {
            "tags": []
          },
          "execution_count": 22
        }
      ]
    },
    {
      "cell_type": "code",
      "metadata": {
        "colab": {
          "base_uri": "https://localhost:8080/"
        },
        "id": "RpUJEyC6xtrk",
        "outputId": "d5c198ba-925d-488a-c60b-f8f37847c852"
      },
      "source": [
        "stopwords = set(nltk_stopwords.words('english'))\n",
        "\n",
        "count_tf_idf = TfidfVectorizer(stop_words=stopwords)\n",
        "features_train = count_tf_idf.fit_transform(corpus_train)\n",
        "\n",
        "features_train.shape"
      ],
      "execution_count": 23,
      "outputs": [
        {
          "output_type": "execute_result",
          "data": {
            "text/plain": [
              "(119678, 143819)"
            ]
          },
          "metadata": {
            "tags": []
          },
          "execution_count": 23
        }
      ]
    },
    {
      "cell_type": "code",
      "metadata": {
        "colab": {
          "base_uri": "https://localhost:8080/"
        },
        "id": "5lhxC91IxtuD",
        "outputId": "18defed3-3d5a-4353-baf4-194ce46e5a2b"
      },
      "source": [
        "features_test = count_tf_idf.transform(corpus_test)\n",
        "features_test.shape"
      ],
      "execution_count": 24,
      "outputs": [
        {
          "output_type": "execute_result",
          "data": {
            "text/plain": [
              "(39893, 143819)"
            ]
          },
          "metadata": {
            "tags": []
          },
          "execution_count": 24
        }
      ]
    },
    {
      "cell_type": "markdown",
      "metadata": {
        "id": "rJ8MdX6r6cT8"
      },
      "source": [
        "*Удалили стоп-слова. Их было не так много*"
      ]
    },
    {
      "cell_type": "markdown",
      "metadata": {
        "id": "oOyVu2gs64u4"
      },
      "source": [
        "### Выделим целевой признак"
      ]
    },
    {
      "cell_type": "code",
      "metadata": {
        "id": "TEEL6db1xtw1"
      },
      "source": [
        "target_train = train['toxic']\n",
        "target_test = test['toxic']"
      ],
      "execution_count": 25,
      "outputs": []
    },
    {
      "cell_type": "markdown",
      "metadata": {
        "id": "MY50ahjQ689H"
      },
      "source": [
        "## Вывод\n",
        "\n",
        "*Общий вгляд на датасет был произведен. Дубликатов и пропусков нет, но присутствует дисбаланс данных. Данные от стоп-слов были очищены, текст был лемматищирован, также преобразовали текст с помощью метода TF-IDF*"
      ]
    },
    {
      "cell_type": "markdown",
      "metadata": {
        "id": "qHfEJ0AX7CI2"
      },
      "source": [
        "# 2. Обучение"
      ]
    },
    {
      "cell_type": "markdown",
      "metadata": {
        "id": "Jlxq4bLk7JH2"
      },
      "source": [
        "## 2.1. Обучение модели на обучающей выборке"
      ]
    },
    {
      "cell_type": "markdown",
      "metadata": {
        "id": "pBRnruOP7JuY"
      },
      "source": [
        "### Logistic Regression"
      ]
    },
    {
      "cell_type": "code",
      "metadata": {
        "id": "cs9FJGyNyCIf"
      },
      "source": [
        "def lr_gridsearchcv(features, target):\n",
        "    model = LogisticRegression()\n",
        "    param_grid = { \n",
        "        'random_state': [42],\n",
        "        'solver': ['liblinear'],\n",
        "        'penalty': ['l1', 'l2'],\n",
        "        'max_iter': [300, 500, 1000], \n",
        "        'class_weight' : ['balanced'],\n",
        "        'C': [3, 5, 7]\n",
        "    }\n",
        "    CV = GridSearchCV(estimator=model, param_grid=param_grid, cv=3, scoring='f1')\n",
        "    CV.fit(features, target)\n",
        "    print('Лучшие гиперпараметры: ', CV.best_params_)\n",
        "    print('Лучшая F1-мера: {:.2f}'.format(CV.best_score_))\n",
        "    return CV.best_params_"
      ],
      "execution_count": 26,
      "outputs": []
    },
    {
      "cell_type": "code",
      "metadata": {
        "colab": {
          "base_uri": "https://localhost:8080/"
        },
        "id": "UcsyGg8hyCLG",
        "outputId": "67963132-8185-46c8-e72f-77a70271ea9b"
      },
      "source": [
        "%%time\n",
        "best_params_lr = lr_gridsearchcv(features_train, target_train)"
      ],
      "execution_count": 27,
      "outputs": [
        {
          "output_type": "stream",
          "text": [
            "Лучшие гиперпараметры:  {'C': 3, 'class_weight': 'balanced', 'max_iter': 300, 'penalty': 'l1', 'random_state': 42, 'solver': 'liblinear'}\n",
            "Лучшая F1-мера: 0.76\n",
            "CPU times: user 2min 13s, sys: 49.9 s, total: 3min 2s\n",
            "Wall time: 2min 4s\n"
          ],
          "name": "stdout"
        }
      ]
    },
    {
      "cell_type": "markdown",
      "metadata": {
        "id": "uETuMCDY7QMV"
      },
      "source": [
        "## 2.2. Проверка модели на тестовой выборке"
      ]
    },
    {
      "cell_type": "code",
      "metadata": {
        "id": "wUN3iTCQyCXZ"
      },
      "source": [
        "def check(model, features_train, target_train, features_test, target_test):\n",
        "    model.fit(features_train, target_train)\n",
        "    predictions = model.predict(features_test)\n",
        "    accuracy = accuracy_score(target_test, predictions)\n",
        "    print('Точность модели:{:.2%}'. format(accuracy))\n",
        "    print('F1-мера: {:.4f}'. format(f1_score(target_test, predictions)))\n",
        "    \n",
        "    \n",
        "def roc(model, features_test, target_test):\n",
        "    #расчитываем FPR и TPR\n",
        "    probabilities_test = model.predict_proba(features_test)\n",
        "    probabilities_one_test = probabilities_test[:, 1]\n",
        "    fpr, tpr, thresholds = roc_curve(target_test, probabilities_one_test)\n",
        "    plt.figure(figsize = (10, 6))\n",
        "    # ROC-кривая модели\n",
        "    plt.plot(fpr, tpr, linestyle='-')\n",
        "    # ROC-кривая dummy модели\n",
        "    plt.plot([0, 1], [0, 1], linestyle='--')\n",
        "    plt.xlim(0,1)\n",
        "    plt.ylim(0,1)\n",
        "    plt.title('ROC-кривая')\n",
        "    plt.xlabel('False Positive Rate') \n",
        "    plt.ylabel('True Positive Rate')\n",
        "    plt.grid(True)\n",
        "    plt.show()\n",
        "    # вычисляем AUC_ROC\n",
        "    auc_roc = roc_auc_score(target_test, probabilities_one_test)\n",
        "    print('AUC-ROC: {:.4f}'.format(auc_roc))"
      ],
      "execution_count": 28,
      "outputs": []
    },
    {
      "cell_type": "code",
      "metadata": {
        "colab": {
          "base_uri": "https://localhost:8080/",
          "height": 455
        },
        "id": "DCSZK_lwok4f",
        "outputId": "22e6aa44-665d-47a9-e62e-f24b42db52e0"
      },
      "source": [
        "model_lr = LogisticRegression(**best_params_lr)\n",
        "check(model_lr, features_train, target_train, features_test, target_test)\n",
        "roc(model_lr, features_test, target_test)"
      ],
      "execution_count": 29,
      "outputs": [
        {
          "output_type": "stream",
          "text": [
            "Точность модели:94.80%\n",
            "F1-мера: 0.7655\n"
          ],
          "name": "stdout"
        },
        {
          "output_type": "display_data",
          "data": {
            "image/png": "[encoded data removed]",
            "text/plain": [
              "<Figure size 720x432 with 1 Axes>"
            ]
          },
          "metadata": {
            "tags": [],
            "needs_background": "light"
          }
        },
        {
          "output_type": "stream",
          "text": [
            "AUC-ROC: 0.9690\n"
          ],
          "name": "stdout"
        }
      ]
    },
    {
      "cell_type": "markdown",
      "metadata": {
        "id": "clOoFGga7XPX"
      },
      "source": [
        "*Интересно, результат на тестовой даже лучше, чем на кросс-валидации. Здесь F1 = 0.77*"
      ]
    },
    {
      "cell_type": "markdown",
      "metadata": {
        "id": "83ppTO7l7ZQx"
      },
      "source": [
        "## Вывод\n",
        "\n",
        "*Обучили модель на обучающей выборке, подобрали лучшие гиперпараметры и провели тестовую проверку на тестовой выборке. Результат тестовой выборке повысился, по сравнению с обучающей. точность составила 95%*"
      ]
    },
    {
      "cell_type": "markdown",
      "metadata": {
        "id": "XBeCRXfB7fhN"
      },
      "source": [
        "# 3. Выводы"
      ]
    },
    {
      "cell_type": "markdown",
      "metadata": {
        "id": "GxVJfI3r7inR"
      },
      "source": [
        "**Шаг 1**:\n",
        "- Произвели общий вгляд на датасет. Отсутствуют пропуски и дупликаты. Присутствует дисбаланс классов\n",
        "- Привели все к нижнему регистру, удалили лишние символы, провели лемматизацию и преобразовали текст с помощью метода TF-IDF\n",
        "\n",
        "**Шаг 2**:\n",
        "- Обучили несколько моделей, самые лучшие результаты метрики F1 показала логическая регрессия\n",
        "- Сделали итоговую проверку модели на тестовой выборке и результаты метрики выдали хорошие значения (0.77)"
      ]
    }
  ]
}