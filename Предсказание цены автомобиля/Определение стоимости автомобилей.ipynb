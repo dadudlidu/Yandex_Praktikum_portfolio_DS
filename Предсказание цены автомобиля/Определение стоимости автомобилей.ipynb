{
 "cells": [
  {
   "cell_type": "markdown",
   "metadata": {},
   "source": [
    "Сервис по продаже автомобилей с пробегом «Не бит, не крашен» разрабатывает приложение для привлечения новых клиентов. В нём можно быстро узнать рыночную стоимость своего автомобиля. В вашем распоряжении исторические данные: технические характеристики, комплектации и цены автомобилей. Вам нужно построить модель для определения стоимости. \n",
    "\n",
    "Заказчику важны:\n",
    "\n",
    "- качество предсказания;\n",
    "- скорость предсказания;\n",
    "- время обучения."
   ]
  },
  {
   "cell_type": "markdown",
   "metadata": {},
   "source": [
    "# 1. Подготовка данных"
   ]
  },
  {
   "cell_type": "markdown",
   "metadata": {},
   "source": [
    "## 1.1. Откроем данные и посмотрим на общую картину"
   ]
  },
  {
   "cell_type": "markdown",
   "metadata": {},
   "source": [
    "### Импортируем нужные библиотеки"
   ]
  },
  {
   "cell_type": "code",
   "execution_count": 1,
   "metadata": {},
   "outputs": [],
   "source": [
    "import numpy as np\n",
    "import pandas as pd\n",
    "import matplotlib.pyplot as plt\n",
    "import seaborn as sns\n",
    "\n",
    "import warnings\n",
    "\n",
    "import lightgbm as lgb\n",
    "from catboost import CatBoostRegressor, Pool\n",
    "from sklearn.linear_model import LinearRegression\n",
    "\n",
    "from sklearn.metrics import mean_squared_error\n",
    "from sklearn.preprocessing import OrdinalEncoder, MinMaxScaler\n",
    "from sklearn.model_selection import train_test_split, GridSearchCV\n",
    "\n",
    "import timeit\n",
    "import time"
   ]
  },
  {
   "cell_type": "code",
   "execution_count": 2,
   "metadata": {},
   "outputs": [],
   "source": [
    "warnings.filterwarnings('ignore') \n",
    "pd.options.display.max_columns = 16\n",
    "%matplotlib inline"
   ]
  },
  {
   "cell_type": "markdown",
   "metadata": {},
   "source": [
    "### Пропишем заранее функции для 1-го шага (DRY)"
   ]
  },
  {
   "cell_type": "code",
   "execution_count": 3,
   "metadata": {},
   "outputs": [],
   "source": [
    "# Общее предстваление датасета:\n",
    "def df_info(df):\n",
    "    df.info()\n",
    "    display(df.head())\n",
    "    print('Кол-во пропусков в датасете:')\n",
    "    print(df.isnull().sum())\n",
    "    print()\n",
    "    print(f'Кол-во дубликатов: {df.duplicated().sum()}')\n",
    "    \n",
    "\n",
    "# Распределение данных:\n",
    "def df_value_counts(df, column):\n",
    "    print(df[column].value_counts())\n",
    "    print(f'Кол-во пропусков в столбце: {df[column].isnull().sum()}')\n",
    "    \n",
    "    \n",
    "# График распределения:\n",
    "def hist(df, column, title, bins):\n",
    "    plt.figure(figsize=(12, 10))\n",
    "    plt.title(title, fontsize=12)\n",
    "    sns.distplot(df[column], bins=bins, kde=True)\n",
    "    plt.grid(True)\n",
    "    \n",
    "    \n",
    "def boxplot(df, column, title):\n",
    "    plt.figure(figsize=(12, 10))\n",
    "    sns.boxplot(data=df[column])\n",
    "    plt.title(title, fontsize=12)\n",
    "    plt.grid(True)\n",
    "    plt.show()"
   ]
  },
  {
   "cell_type": "code",
   "execution_count": 4,
   "metadata": {},
   "outputs": [
    {
     "name": "stdout",
     "output_type": "stream",
     "text": [
      "<class 'pandas.core.frame.DataFrame'>\n",
      "RangeIndex: 354369 entries, 0 to 354368\n",
      "Data columns (total 16 columns):\n",
      " #   Column             Non-Null Count   Dtype \n",
      "---  ------             --------------   ----- \n",
      " 0   DateCrawled        354369 non-null  object\n",
      " 1   Price              354369 non-null  int64 \n",
      " 2   VehicleType        316879 non-null  object\n",
      " 3   RegistrationYear   354369 non-null  int64 \n",
      " 4   Gearbox            334536 non-null  object\n",
      " 5   Power              354369 non-null  int64 \n",
      " 6   Model              334664 non-null  object\n",
      " 7   Kilometer          354369 non-null  int64 \n",
      " 8   RegistrationMonth  354369 non-null  int64 \n",
      " 9   FuelType           321474 non-null  object\n",
      " 10  Brand              354369 non-null  object\n",
      " 11  NotRepaired        283215 non-null  object\n",
      " 12  DateCreated        354369 non-null  object\n",
      " 13  NumberOfPictures   354369 non-null  int64 \n",
      " 14  PostalCode         354369 non-null  int64 \n",
      " 15  LastSeen           354369 non-null  object\n",
      "dtypes: int64(7), object(9)\n",
      "memory usage: 43.3+ MB\n"
     ]
    },
    {
     "data": {
      "text/html": [
       "<div>\n",
       "<style scoped>\n",
       "    .dataframe tbody tr th:only-of-type {\n",
       "        vertical-align: middle;\n",
       "    }\n",
       "\n",
       "    .dataframe tbody tr th {\n",
       "        vertical-align: top;\n",
       "    }\n",
       "\n",
       "    .dataframe thead th {\n",
       "        text-align: right;\n",
       "    }\n",
       "</style>\n",
       "<table border=\"1\" class=\"dataframe\">\n",
       "  <thead>\n",
       "    <tr style=\"text-align: right;\">\n",
       "      <th></th>\n",
       "      <th>DateCrawled</th>\n",
       "      <th>Price</th>\n",
       "      <th>VehicleType</th>\n",
       "      <th>RegistrationYear</th>\n",
       "      <th>Gearbox</th>\n",
       "      <th>Power</th>\n",
       "      <th>Model</th>\n",
       "      <th>Kilometer</th>\n",
       "      <th>RegistrationMonth</th>\n",
       "      <th>FuelType</th>\n",
       "      <th>Brand</th>\n",
       "      <th>NotRepaired</th>\n",
       "      <th>DateCreated</th>\n",
       "      <th>NumberOfPictures</th>\n",
       "      <th>PostalCode</th>\n",
       "      <th>LastSeen</th>\n",
       "    </tr>\n",
       "  </thead>\n",
       "  <tbody>\n",
       "    <tr>\n",
       "      <th>0</th>\n",
       "      <td>2016-03-24 11:52:17</td>\n",
       "      <td>480</td>\n",
       "      <td>NaN</td>\n",
       "      <td>1993</td>\n",
       "      <td>manual</td>\n",
       "      <td>0</td>\n",
       "      <td>golf</td>\n",
       "      <td>150000</td>\n",
       "      <td>0</td>\n",
       "      <td>petrol</td>\n",
       "      <td>volkswagen</td>\n",
       "      <td>NaN</td>\n",
       "      <td>2016-03-24 00:00:00</td>\n",
       "      <td>0</td>\n",
       "      <td>70435</td>\n",
       "      <td>2016-04-07 03:16:57</td>\n",
       "    </tr>\n",
       "    <tr>\n",
       "      <th>1</th>\n",
       "      <td>2016-03-24 10:58:45</td>\n",
       "      <td>18300</td>\n",
       "      <td>coupe</td>\n",
       "      <td>2011</td>\n",
       "      <td>manual</td>\n",
       "      <td>190</td>\n",
       "      <td>NaN</td>\n",
       "      <td>125000</td>\n",
       "      <td>5</td>\n",
       "      <td>gasoline</td>\n",
       "      <td>audi</td>\n",
       "      <td>yes</td>\n",
       "      <td>2016-03-24 00:00:00</td>\n",
       "      <td>0</td>\n",
       "      <td>66954</td>\n",
       "      <td>2016-04-07 01:46:50</td>\n",
       "    </tr>\n",
       "    <tr>\n",
       "      <th>2</th>\n",
       "      <td>2016-03-14 12:52:21</td>\n",
       "      <td>9800</td>\n",
       "      <td>suv</td>\n",
       "      <td>2004</td>\n",
       "      <td>auto</td>\n",
       "      <td>163</td>\n",
       "      <td>grand</td>\n",
       "      <td>125000</td>\n",
       "      <td>8</td>\n",
       "      <td>gasoline</td>\n",
       "      <td>jeep</td>\n",
       "      <td>NaN</td>\n",
       "      <td>2016-03-14 00:00:00</td>\n",
       "      <td>0</td>\n",
       "      <td>90480</td>\n",
       "      <td>2016-04-05 12:47:46</td>\n",
       "    </tr>\n",
       "    <tr>\n",
       "      <th>3</th>\n",
       "      <td>2016-03-17 16:54:04</td>\n",
       "      <td>1500</td>\n",
       "      <td>small</td>\n",
       "      <td>2001</td>\n",
       "      <td>manual</td>\n",
       "      <td>75</td>\n",
       "      <td>golf</td>\n",
       "      <td>150000</td>\n",
       "      <td>6</td>\n",
       "      <td>petrol</td>\n",
       "      <td>volkswagen</td>\n",
       "      <td>no</td>\n",
       "      <td>2016-03-17 00:00:00</td>\n",
       "      <td>0</td>\n",
       "      <td>91074</td>\n",
       "      <td>2016-03-17 17:40:17</td>\n",
       "    </tr>\n",
       "    <tr>\n",
       "      <th>4</th>\n",
       "      <td>2016-03-31 17:25:20</td>\n",
       "      <td>3600</td>\n",
       "      <td>small</td>\n",
       "      <td>2008</td>\n",
       "      <td>manual</td>\n",
       "      <td>69</td>\n",
       "      <td>fabia</td>\n",
       "      <td>90000</td>\n",
       "      <td>7</td>\n",
       "      <td>gasoline</td>\n",
       "      <td>skoda</td>\n",
       "      <td>no</td>\n",
       "      <td>2016-03-31 00:00:00</td>\n",
       "      <td>0</td>\n",
       "      <td>60437</td>\n",
       "      <td>2016-04-06 10:17:21</td>\n",
       "    </tr>\n",
       "  </tbody>\n",
       "</table>\n",
       "</div>"
      ],
      "text/plain": [
       "           DateCrawled  Price VehicleType  RegistrationYear Gearbox  Power  \\\n",
       "0  2016-03-24 11:52:17    480         NaN              1993  manual      0   \n",
       "1  2016-03-24 10:58:45  18300       coupe              2011  manual    190   \n",
       "2  2016-03-14 12:52:21   9800         suv              2004    auto    163   \n",
       "3  2016-03-17 16:54:04   1500       small              2001  manual     75   \n",
       "4  2016-03-31 17:25:20   3600       small              2008  manual     69   \n",
       "\n",
       "   Model  Kilometer  RegistrationMonth  FuelType       Brand NotRepaired  \\\n",
       "0   golf     150000                  0    petrol  volkswagen         NaN   \n",
       "1    NaN     125000                  5  gasoline        audi         yes   \n",
       "2  grand     125000                  8  gasoline        jeep         NaN   \n",
       "3   golf     150000                  6    petrol  volkswagen          no   \n",
       "4  fabia      90000                  7  gasoline       skoda          no   \n",
       "\n",
       "           DateCreated  NumberOfPictures  PostalCode             LastSeen  \n",
       "0  2016-03-24 00:00:00                 0       70435  2016-04-07 03:16:57  \n",
       "1  2016-03-24 00:00:00                 0       66954  2016-04-07 01:46:50  \n",
       "2  2016-03-14 00:00:00                 0       90480  2016-04-05 12:47:46  \n",
       "3  2016-03-17 00:00:00                 0       91074  2016-03-17 17:40:17  \n",
       "4  2016-03-31 00:00:00                 0       60437  2016-04-06 10:17:21  "
      ]
     },
     "metadata": {},
     "output_type": "display_data"
    },
    {
     "name": "stdout",
     "output_type": "stream",
     "text": [
      "Кол-во пропусков в датасете:\n",
      "DateCrawled              0\n",
      "Price                    0\n",
      "VehicleType          37490\n",
      "RegistrationYear         0\n",
      "Gearbox              19833\n",
      "Power                    0\n",
      "Model                19705\n",
      "Kilometer                0\n",
      "RegistrationMonth        0\n",
      "FuelType             32895\n",
      "Brand                    0\n",
      "NotRepaired          71154\n",
      "DateCreated              0\n",
      "NumberOfPictures         0\n",
      "PostalCode               0\n",
      "LastSeen                 0\n",
      "dtype: int64\n",
      "\n",
      "Кол-во дубликатов: 4\n"
     ]
    }
   ],
   "source": [
    "autos = pd.read_csv('/datasets/autos.csv')\n",
    "\n",
    "df_info(autos)"
   ]
  },
  {
   "cell_type": "markdown",
   "metadata": {},
   "source": [
    "*В датасете присутствуют пропуски и дубликаты.*\n",
    "\n",
    "*Возможно возникли проблемы при переносе данных, либо заполняющие не указали параметры*\n",
    "\n",
    "*В следующем шаге удалим из датасета столбцы \"DateCrawled\", \"RegistrationMonth\", \"DateCreated\", \"PostalCode\", \"LastSeen\", так как данные столбцы могут повлиять на модели в ходе обучения*"
   ]
  },
  {
   "cell_type": "markdown",
   "metadata": {},
   "source": [
    "## 1.2. Предобработка данных"
   ]
  },
  {
   "cell_type": "markdown",
   "metadata": {},
   "source": [
    "Удалим дубликаты и столбцы, которые не влияют на ценообразование"
   ]
  },
  {
   "cell_type": "code",
   "execution_count": 5,
   "metadata": {},
   "outputs": [
    {
     "name": "stdout",
     "output_type": "stream",
     "text": [
      "Ранняя и поздняя даты анкет:\n",
      "Min: 2014-03-10 00:00:00\n",
      "Max: 2016-04-07 00:00:00\n"
     ]
    }
   ],
   "source": [
    "# Уберем дубликаты из датасета:\n",
    "autos = autos.drop_duplicates().reset_index(drop=True)\n",
    "\n",
    "# Удалим столбцы: (Прежде чем удалять, нужно понять временный интервал создания анкет)\n",
    "print('Ранняя и поздняя даты анкет:')\n",
    "print('Min:', autos['DateCreated'].min())\n",
    "print('Max:', autos['DateCreated'].max())\n",
    "autos = autos.drop(['DateCrawled', 'RegistrationMonth', 'DateCreated', 'LastSeen', 'PostalCode'], axis = 1)"
   ]
  },
  {
   "cell_type": "markdown",
   "metadata": {},
   "source": [
    "### Анализ признаков"
   ]
  },
  {
   "cell_type": "markdown",
   "metadata": {},
   "source": [
    "#### Price"
   ]
  },
  {
   "cell_type": "code",
   "execution_count": 6,
   "metadata": {},
   "outputs": [
    {
     "data": {
      "text/plain": [
       "count    354365.000000\n",
       "mean       4416.679830\n",
       "std        4514.176349\n",
       "min           0.000000\n",
       "25%        1050.000000\n",
       "50%        2700.000000\n",
       "75%        6400.000000\n",
       "max       20000.000000\n",
       "Name: Price, dtype: float64"
      ]
     },
     "execution_count": 6,
     "metadata": {},
     "output_type": "execute_result"
    }
   ],
   "source": [
    "autos['Price'].describe()"
   ]
  },
  {
   "cell_type": "code",
   "execution_count": 7,
   "metadata": {},
   "outputs": [
    {
     "name": "stdout",
     "output_type": "stream",
     "text": [
      "0        10772\n",
      "500       5670\n",
      "1500      5394\n",
      "1000      4648\n",
      "1200      4594\n",
      "         ...  \n",
      "13440        1\n",
      "1414         1\n",
      "8069         1\n",
      "10370        1\n",
      "384          1\n",
      "Name: Price, Length: 3731, dtype: int64\n",
      "Кол-во пропусков в столбце: 0\n"
     ]
    },
    {
     "data": {
      "image/png": "[encoded data removed]",
      "text/plain": [
       "<Figure size 864x720 with 1 Axes>"
      ]
     },
     "metadata": {
      "needs_background": "light"
     },
     "output_type": "display_data"
    },
    {
     "data": {
      "image/png": "[encoded data removed]",
      "text/plain": [
       "<Figure size 864x720 with 1 Axes>"
      ]
     },
     "metadata": {
      "needs_background": "light"
     },
     "output_type": "display_data"
    }
   ],
   "source": [
    "df_value_counts(autos, 'Price')\n",
    "hist(autos, 'Price', 'Распределение цен на авто', 50)\n",
    "boxplot(autos, 'Price', 'Распределение цен на авто')"
   ]
  },
  {
   "cell_type": "markdown",
   "metadata": {},
   "source": [
    "*Пропусков в столбце нет, но есть маленькие и 0-ые значения. 0-ые значения скорее всего появились из-за того, что автор объявления хотел сделать что-то наподобие аукциона или потрговаться с ценой. Маленькие значения цены - скорее всего не цена самого авто, а какой либо детали от него, либо машина в неисправном состоянии. Если от 0 мы будем точно избавляться, дабы не ухудшать качество модели некачественными данными, то вот с маленькими значениями нужно будет понять где тот самый мининимум, ниже которого значения можно убирать.*\n",
    "\n",
    "*Можно попробовать пойти сложным путем и сделать группировку по годам, после для каждого года выявить на тот год минимум, который считался бы \"дном\", ниже которого уже были бы выбросы. Либо указать некий мининум, который характеризовал бы цену для самой старой машины, возможно она еще была в авариях и что-то сломано, и относительно этой цены убрать из датасета значения поменьше*"
   ]
  },
  {
   "cell_type": "code",
   "execution_count": 8,
   "metadata": {},
   "outputs": [
    {
     "name": "stdout",
     "output_type": "stream",
     "text": [
      "500\n",
      "%: 89.8%\n"
     ]
    }
   ],
   "source": [
    "# Пойдем легким путем :D\n",
    "autos_v2 = autos.query('Price >= 500').reset_index(drop=True).copy()\n",
    "print(autos_v2['Price'].min())\n",
    "print(f'%: {autos_v2.shape[0]/autos.shape[0]:.1%}')"
   ]
  },
  {
   "cell_type": "markdown",
   "metadata": {},
   "source": [
    "*Мы избавились от данных, которые были ниже 500 у.е.*\n",
    "\n",
    "*Наш датасет сократился на 10.2%. Думаю работать дальше с таким кол-вом мы можем, поэтому идем дальше*"
   ]
  },
  {
   "cell_type": "markdown",
   "metadata": {},
   "source": [
    "#### VehicleType"
   ]
  },
  {
   "cell_type": "code",
   "execution_count": 9,
   "metadata": {},
   "outputs": [
    {
     "name": "stdout",
     "output_type": "stream",
     "text": [
      "sedan          85475\n",
      "small          68288\n",
      "wagon          60739\n",
      "bus            27835\n",
      "convertible    19549\n",
      "coupe          14842\n",
      "suv            11715\n",
      "other           2774\n",
      "Name: VehicleType, dtype: int64\n",
      "Кол-во пропусков в столбце: 27094\n"
     ]
    }
   ],
   "source": [
    "df_value_counts(autos_v2, 'VehicleType')"
   ]
  },
  {
   "cell_type": "markdown",
   "metadata": {},
   "source": [
    "*Видим пропуски, скорее всего они связаны с тем, что авторы объявления не указывали тип кузова, либо данные были утеряны при переносе. Заполнить их можно самым часто встречающимся значением по марке и моделе автомобиля. Можно попробовать еще поиграться с годами, но пока что попробуем поработать так. Остальные данные, которые не получится заполнить пока чо отнесем к notdefined*"
   ]
  },
  {
   "cell_type": "code",
   "execution_count": 10,
   "metadata": {},
   "outputs": [
    {
     "name": "stdout",
     "output_type": "stream",
     "text": [
      "sedan          92291\n",
      "small          71955\n",
      "wagon          61685\n",
      "bus            30168\n",
      "convertible    18986\n",
      "notdefined     14681\n",
      "coupe          14509\n",
      "suv            11623\n",
      "other           2413\n",
      "Name: VehicleType, dtype: int64\n",
      "Кол-во пропусков в столбце: 0\n"
     ]
    }
   ],
   "source": [
    "autos_v2['VehicleType'] = (\n",
    "    autos_v2.groupby(['Brand', 'Model'])['VehicleType']\n",
    "    .apply(lambda x: x.fillna(x.mode()[0])))\n",
    "autos_v2['VehicleType'] = autos_v2['VehicleType'].fillna('notdefined')\n",
    "\n",
    "df_value_counts(autos_v2, 'VehicleType')"
   ]
  },
  {
   "cell_type": "markdown",
   "metadata": {},
   "source": [
    "*Не все получилось заполнить (14 681 ушло как Not Defined)*"
   ]
  },
  {
   "cell_type": "markdown",
   "metadata": {},
   "source": [
    "#### RegistrationYear and Age"
   ]
  },
  {
   "cell_type": "code",
   "execution_count": 11,
   "metadata": {},
   "outputs": [
    {
     "name": "stdout",
     "output_type": "stream",
     "text": [
      "2005    21055\n",
      "2000    19872\n",
      "2006    19614\n",
      "1999    19553\n",
      "2003    19248\n",
      "        ...  \n",
      "1949        1\n",
      "1946        1\n",
      "1931        1\n",
      "1927        1\n",
      "4100        1\n",
      "Name: RegistrationYear, Length: 131, dtype: int64\n",
      "Кол-во пропусков в столбце: 0\n"
     ]
    }
   ],
   "source": [
    "df_value_counts(autos_v2, 'RegistrationYear')"
   ]
  },
  {
   "cell_type": "code",
   "execution_count": 12,
   "metadata": {},
   "outputs": [
    {
     "data": {
      "text/plain": [
       "array([1000, 1001, 1039, 1234, 1400, 1500, 1600, 1602, 1800, 1910, 1923,\n",
       "       1925, 1927, 1928, 1929, 1930, 1931, 1932, 1933, 1934, 1935, 1936,\n",
       "       1937, 1938, 1940, 1941, 1942, 1943, 1944, 1945, 1946, 1947, 1948,\n",
       "       1949, 1950, 1951, 1952, 1953, 1954, 1955, 1956, 1957, 1958, 1959,\n",
       "       1960, 1961, 1962, 1963, 1964, 1965, 1966, 1967, 1968, 1969, 1970,\n",
       "       1971, 1972, 1973, 1974, 1975, 1976, 1977, 1978, 1979, 1980, 1981,\n",
       "       1982, 1983, 1984, 1985, 1986, 1987, 1988, 1989, 1990, 1991, 1992,\n",
       "       1993, 1994, 1995, 1996, 1997, 1998, 1999, 2000, 2001, 2002, 2003,\n",
       "       2004, 2005, 2006, 2007, 2008, 2009, 2010, 2011, 2012, 2013, 2014,\n",
       "       2015, 2016, 2017, 2018, 2019, 2066, 2290, 2500, 2800, 2900, 3000,\n",
       "       3200, 3700, 3800, 4000, 4100, 4500, 4800, 5000, 5300, 5555, 5911,\n",
       "       6000, 7000, 7100, 7800, 8200, 8500, 8888, 9000, 9450, 9999],\n",
       "      dtype=int64)"
      ]
     },
     "execution_count": 12,
     "metadata": {},
     "output_type": "execute_result"
    }
   ],
   "source": [
    "np.sort(autos_v2['RegistrationYear'].unique())"
   ]
  },
  {
   "cell_type": "markdown",
   "metadata": {},
   "source": [
    "*Все, что выше 2016 янвно выбросы, мы от них избавимся, а вот касательно старых машин, то укажем машины после 1910 года, до этого значения идут выбросы*"
   ]
  },
  {
   "cell_type": "code",
   "execution_count": 13,
   "metadata": {},
   "outputs": [
    {
     "name": "stdout",
     "output_type": "stream",
     "text": [
      "2005    21055\n",
      "2000    19872\n",
      "2006    19614\n",
      "1999    19553\n",
      "2003    19248\n",
      "        ...  \n",
      "1931        1\n",
      "1946        1\n",
      "1927        1\n",
      "1925        1\n",
      "1949        1\n",
      "Name: RegistrationYear, Length: 92, dtype: int64\n",
      "Кол-во пропусков в столбце: 0\n",
      "\n",
      "%: 86.1%\n"
     ]
    }
   ],
   "source": [
    "autos_v2 = autos_v2.query('(RegistrationYear >= 1910) & (RegistrationYear <= 2016)').reset_index(drop=True)\n",
    "df_value_counts(autos_v2, 'RegistrationYear')\n",
    "print()\n",
    "print(f'%: {autos_v2.shape[0]/autos.shape[0]:.1%}')"
   ]
  },
  {
   "cell_type": "markdown",
   "metadata": {},
   "source": [
    "*Убрали выбросы по годам. Осталось 86.1% от нашего изначального датасета, пока что работать дальше можно*"
   ]
  },
  {
   "cell_type": "markdown",
   "metadata": {},
   "source": [
    "*Создадим новый признак Age, который будет содержать информацию о возрасте автомобиля на момент продажи*"
   ]
  },
  {
   "cell_type": "code",
   "execution_count": 14,
   "metadata": {},
   "outputs": [],
   "source": [
    "autos_v2['Age'] = 2016 - autos_v2['RegistrationYear']"
   ]
  },
  {
   "cell_type": "code",
   "execution_count": 15,
   "metadata": {},
   "outputs": [
    {
     "data": {
      "image/png": "[encoded data removed]",
      "text/plain": [
       "<Figure size 864x720 with 1 Axes>"
      ]
     },
     "metadata": {
      "needs_background": "light"
     },
     "output_type": "display_data"
    }
   ],
   "source": [
    "hist(autos_v2, 'Age', 'Распредление по возрасту авто', 80)"
   ]
  },
  {
   "cell_type": "code",
   "execution_count": 16,
   "metadata": {},
   "outputs": [
    {
     "data": {
      "image/png": "[encoded data removed]",
      "text/plain": [
       "<Figure size 864x720 with 1 Axes>"
      ]
     },
     "metadata": {
      "needs_background": "light"
     },
     "output_type": "display_data"
    }
   ],
   "source": [
    "boxplot(autos_v2, 'Age', 'Распредление возраста авто')"
   ]
  },
  {
   "cell_type": "markdown",
   "metadata": {},
   "source": [
    "*Распределение явно \"шумное\". Видне падение популярно после 18-20 лет, рынок также показывает, что чаще всего продают автомобили с возрастом в 10 лет, имеются также выбросы. Выбросы здесь - автомибили старше 29 лет, желательно эти данные убрать из датасета, после столбец \"RegistrationYear\" удалить*"
   ]
  },
  {
   "cell_type": "code",
   "execution_count": 17,
   "metadata": {},
   "outputs": [
    {
     "name": "stdout",
     "output_type": "stream",
     "text": [
      "%: 84.5%\n"
     ]
    }
   ],
   "source": [
    "autos_v2 = autos_v2.query('Age < 30').reset_index(drop=True)\n",
    "autos_v2 = autos_v2.drop(['RegistrationYear'], axis=1)\n",
    "print(f'%: {autos_v2.shape[0]/autos.shape[0]:.1%}')"
   ]
  },
  {
   "cell_type": "markdown",
   "metadata": {},
   "source": [
    "#### Gearbox"
   ]
  },
  {
   "cell_type": "code",
   "execution_count": 18,
   "metadata": {},
   "outputs": [
    {
     "name": "stdout",
     "output_type": "stream",
     "text": [
      "manual    228149\n",
      "auto       60349\n",
      "Name: Gearbox, dtype: int64\n",
      "Кол-во пропусков в столбце: 11038\n"
     ]
    }
   ],
   "source": [
    "df_value_counts(autos_v2, 'Gearbox')"
   ]
  },
  {
   "cell_type": "markdown",
   "metadata": {},
   "source": [
    "*Gearbox является категориальным признаком, который необходиму будет в дальнейшем закодировать. Заполнить пропуски не представляется возможным, так как автомобил может иметь комплектацию как с ручной коробкой передач, так и с автоматической. Пока что заполним как Not Defined*"
   ]
  },
  {
   "cell_type": "code",
   "execution_count": 19,
   "metadata": {},
   "outputs": [],
   "source": [
    "autos_v2['Gearbox'] = autos_v2['Gearbox'].fillna('notdefined')"
   ]
  },
  {
   "cell_type": "markdown",
   "metadata": {},
   "source": [
    "#### Power"
   ]
  },
  {
   "cell_type": "code",
   "execution_count": 20,
   "metadata": {
    "scrolled": true
   },
   "outputs": [
    {
     "name": "stdout",
     "output_type": "stream",
     "text": [
      "0        24164\n",
      "75       19474\n",
      "150      13377\n",
      "140      12185\n",
      "60       11897\n",
      "         ...  \n",
      "685          1\n",
      "13636        1\n",
      "1090         1\n",
      "10311        1\n",
      "6512         1\n",
      "Name: Power, Length: 645, dtype: int64\n",
      "Кол-во пропусков в столбце: 0\n"
     ]
    },
    {
     "data": {
      "image/png": "[encoded data removed]",
      "text/plain": [
       "<Figure size 864x720 with 1 Axes>"
      ]
     },
     "metadata": {
      "needs_background": "light"
     },
     "output_type": "display_data"
    },
    {
     "data": {
      "image/png": "[encoded data removed]",
      "text/plain": [
       "<Figure size 864x720 with 1 Axes>"
      ]
     },
     "metadata": {
      "needs_background": "light"
     },
     "output_type": "display_data"
    }
   ],
   "source": [
    "df_value_counts(autos_v2, 'Power')\n",
    "hist(autos_v2, 'Power', 'Распредление по л.с. авто', 100)\n",
    "boxplot(autos_v2, 'Power', 'Распредление по л.с. авто')"
   ]
  },
  {
   "cell_type": "markdown",
   "metadata": {},
   "source": [
    "*Присутствуют выбросы и явно масштабные. Пропусков нет, но есть 0, заполним их средним значением относительно марки и модели*"
   ]
  },
  {
   "cell_type": "code",
   "execution_count": 21,
   "metadata": {},
   "outputs": [],
   "source": [
    "autos_v2['Power'] = autos['Power'].replace(0, np.nan)\n",
    "autos_v2['Power'] = autos_v2['Power'].fillna(autos_v2.groupby(['Brand', 'Model'])['Power'].transform('mean'))"
   ]
  },
  {
   "cell_type": "code",
   "execution_count": 22,
   "metadata": {},
   "outputs": [
    {
     "data": {
      "text/plain": [
       "count    298171.000000\n",
       "mean        124.354256\n",
       "std         192.532977\n",
       "min           1.000000\n",
       "25%          83.000000\n",
       "50%         116.000000\n",
       "75%         143.000000\n",
       "max       20000.000000\n",
       "Name: Power, dtype: float64"
      ]
     },
     "execution_count": 22,
     "metadata": {},
     "output_type": "execute_result"
    }
   ],
   "source": [
    "autos_v2['Power'].describe()"
   ]
  },
  {
   "cell_type": "markdown",
   "metadata": {},
   "source": [
    "*Наврятли в этот список входят суперкары (на 2016 год вроде бы топом был буггати с 1500 лс), поэтому уберем значения свыше 500 л.с.. Касательно маленьких мощностей, то возьмем значения от 18 л.с.*"
   ]
  },
  {
   "cell_type": "code",
   "execution_count": 23,
   "metadata": {},
   "outputs": [
    {
     "data": {
      "image/png": "[encoded data removed]",
      "text/plain": [
       "<Figure size 864x720 with 1 Axes>"
      ]
     },
     "metadata": {
      "needs_background": "light"
     },
     "output_type": "display_data"
    }
   ],
   "source": [
    "autos_v2 = autos_v2.query('(Power >= 18) & (Power <= 500)').reset_index(drop=True)\n",
    "hist(autos_v2, 'Power', 'Распредление мощности (л.с.)', 100)"
   ]
  },
  {
   "cell_type": "code",
   "execution_count": 24,
   "metadata": {},
   "outputs": [
    {
     "name": "stdout",
     "output_type": "stream",
     "text": [
      "%: 83.9%\n"
     ]
    }
   ],
   "source": [
    "print(f'%: {autos_v2.shape[0]/autos.shape[0]:.1%}')"
   ]
  },
  {
   "cell_type": "markdown",
   "metadata": {},
   "source": [
    "#### Model"
   ]
  },
  {
   "cell_type": "code",
   "execution_count": 25,
   "metadata": {},
   "outputs": [
    {
     "name": "stdout",
     "output_type": "stream",
     "text": [
      "golf                  24398\n",
      "other                 19168\n",
      "3er                   17810\n",
      "polo                  10013\n",
      "corsa                  9302\n",
      "                      ...  \n",
      "i3                        6\n",
      "samara                    5\n",
      "elefantino                4\n",
      "rangerover                3\n",
      "range_rover_evoque        2\n",
      "Name: Model, Length: 247, dtype: int64\n",
      "Кол-во пропусков в столбце: 10502\n"
     ]
    }
   ],
   "source": [
    "df_value_counts(autos_v2, 'Model')"
   ]
  },
  {
   "cell_type": "markdown",
   "metadata": {},
   "source": [
    "*Колонка Model содержит данные о моделе автомобиля. Колонка содержит пропуски. Это категориальный признак, который необходимо будет закодировать перед обучением модели. Те модели, которые не удалось установить отнесем к типу not defined*"
   ]
  },
  {
   "cell_type": "code",
   "execution_count": 26,
   "metadata": {},
   "outputs": [],
   "source": [
    "autos_v2['Model'] = autos_v2['Model'].fillna('notdefined')"
   ]
  },
  {
   "cell_type": "markdown",
   "metadata": {},
   "source": [
    "#### Kilometer"
   ]
  },
  {
   "cell_type": "code",
   "execution_count": 27,
   "metadata": {},
   "outputs": [
    {
     "name": "stdout",
     "output_type": "stream",
     "text": [
      "150000    197595\n",
      "125000     32068\n",
      "100000     12744\n",
      "90000      10337\n",
      "80000       9008\n",
      "70000       7780\n",
      "60000       6832\n",
      "50000       5641\n",
      "40000       4508\n",
      "30000       3870\n",
      "20000       3272\n",
      "5000        2938\n",
      "10000        889\n",
      "Name: Kilometer, dtype: int64\n",
      "Кол-во пропусков в столбце: 0\n"
     ]
    },
    {
     "data": {
      "image/png": "[encoded data removed]",
      "text/plain": [
       "<Figure size 864x720 with 1 Axes>"
      ]
     },
     "metadata": {
      "needs_background": "light"
     },
     "output_type": "display_data"
    },
    {
     "data": {
      "image/png": "[encoded data removed]",
      "text/plain": [
       "<Figure size 864x720 with 1 Axes>"
      ]
     },
     "metadata": {
      "needs_background": "light"
     },
     "output_type": "display_data"
    }
   ],
   "source": [
    "df_value_counts(autos_v2, 'Kilometer')\n",
    "hist(autos_v2, 'Kilometer', 'Распредление по пробегу авто', 50)\n",
    "boxplot(autos_v2, 'Kilometer', 'Распредление по пробегу авто')"
   ]
  },
  {
   "cell_type": "markdown",
   "metadata": {},
   "source": [
    "*Пробегом может быть любым, макс значение похоже на правду, поэтому данные трогать не будем*"
   ]
  },
  {
   "cell_type": "markdown",
   "metadata": {},
   "source": [
    "#### FuelType"
   ]
  },
  {
   "cell_type": "code",
   "execution_count": 28,
   "metadata": {},
   "outputs": [
    {
     "name": "stdout",
     "output_type": "stream",
     "text": [
      "petrol      181895\n",
      "gasoline     92844\n",
      "lpg           4805\n",
      "cng            503\n",
      "hybrid         215\n",
      "other           88\n",
      "electric        77\n",
      "Name: FuelType, dtype: int64\n",
      "Кол-во пропусков в столбце: 17055\n"
     ]
    }
   ],
   "source": [
    "df_value_counts(autos_v2, 'FuelType')"
   ]
  },
  {
   "cell_type": "markdown",
   "metadata": {},
   "source": [
    "*FuelType является категориальным признаком, который необходиму будет в дальнейшем закодировать. Заполнить пропуски  относительно марки и модели, а оставшиеся значения заполним как Not Defined*"
   ]
  },
  {
   "cell_type": "code",
   "execution_count": 29,
   "metadata": {},
   "outputs": [
    {
     "name": "stdout",
     "output_type": "stream",
     "text": [
      "petrol        181895\n",
      "gasoline       92844\n",
      "notdefined     17055\n",
      "lpg             4805\n",
      "cng              503\n",
      "hybrid           215\n",
      "other             88\n",
      "electric          77\n",
      "Name: FuelType, dtype: int64\n",
      "Кол-во пропусков в столбце: 0\n"
     ]
    }
   ],
   "source": [
    "autos_v2['VehicleType'] = (\n",
    "    autos_v2.groupby(['Brand', 'Model'])['FuelType']\n",
    "    .apply(lambda x: x.fillna(x.mode()[0])))\n",
    "autos_v2['FuelType'] = autos_v2['FuelType'].fillna('notdefined')\n",
    "\n",
    "df_value_counts(autos_v2, 'FuelType')"
   ]
  },
  {
   "cell_type": "markdown",
   "metadata": {},
   "source": [
    "*Не получилось распределить относительно модели и марки ((((*"
   ]
  },
  {
   "cell_type": "markdown",
   "metadata": {},
   "source": [
    "#### Brand"
   ]
  },
  {
   "cell_type": "code",
   "execution_count": 30,
   "metadata": {},
   "outputs": [
    {
     "name": "stdout",
     "output_type": "stream",
     "text": [
      "volkswagen        64058\n",
      "bmw               33151\n",
      "opel              31226\n",
      "mercedes_benz     28699\n",
      "audi              26421\n",
      "ford              19774\n",
      "renault           13941\n",
      "peugeot            9506\n",
      "fiat               7385\n",
      "seat               5784\n",
      "skoda              5132\n",
      "smart              4865\n",
      "mazda              4738\n",
      "citroen            4299\n",
      "toyota             4272\n",
      "nissan             4118\n",
      "hyundai            3243\n",
      "mini               3008\n",
      "volvo              2761\n",
      "mitsubishi         2440\n",
      "honda              2395\n",
      "kia                2213\n",
      "suzuki             1978\n",
      "alfa_romeo         1898\n",
      "sonstige_autos     1494\n",
      "chevrolet          1461\n",
      "chrysler           1207\n",
      "dacia               860\n",
      "subaru              616\n",
      "jeep                586\n",
      "daihatsu            584\n",
      "porsche             544\n",
      "land_rover          487\n",
      "saab                464\n",
      "jaguar              447\n",
      "daewoo              390\n",
      "rover               337\n",
      "lancia              330\n",
      "trabant             199\n",
      "lada                171\n",
      "Name: Brand, dtype: int64\n",
      "Кол-во пропусков в столбце: 0\n"
     ]
    }
   ],
   "source": [
    "df_value_counts(autos_v2, 'Brand')"
   ]
  },
  {
   "cell_type": "markdown",
   "metadata": {},
   "source": [
    "*Колонка Brand содержит данные о бренде автомобиля. Это категориальный признак, который необходимо будет закодировать перед обучением модели. Колонка не содержит пропусков*"
   ]
  },
  {
   "cell_type": "markdown",
   "metadata": {},
   "source": [
    "#### NotRepaired"
   ]
  },
  {
   "cell_type": "code",
   "execution_count": 31,
   "metadata": {},
   "outputs": [
    {
     "name": "stdout",
     "output_type": "stream",
     "text": [
      "no     225882\n",
      "yes     24839\n",
      "Name: NotRepaired, dtype: int64\n",
      "Кол-во пропусков в столбце: 46761\n"
     ]
    }
   ],
   "source": [
    "df_value_counts(autos_v2, 'NotRepaired')"
   ]
  },
  {
   "cell_type": "markdown",
   "metadata": {},
   "source": [
    "*Пропуски заполним как Not Defined*"
   ]
  },
  {
   "cell_type": "code",
   "execution_count": 32,
   "metadata": {},
   "outputs": [],
   "source": [
    "autos_v2['NotRepaired'] = autos_v2['NotRepaired'].fillna('notdefined')"
   ]
  },
  {
   "cell_type": "markdown",
   "metadata": {},
   "source": [
    "#### NumberOfPictures"
   ]
  },
  {
   "cell_type": "code",
   "execution_count": 33,
   "metadata": {},
   "outputs": [
    {
     "name": "stdout",
     "output_type": "stream",
     "text": [
      "0    297482\n",
      "Name: NumberOfPictures, dtype: int64\n",
      "Кол-во пропусков в столбце: 0\n"
     ]
    }
   ],
   "source": [
    "df_value_counts(autos_v2, 'NumberOfPictures')"
   ]
  },
  {
   "cell_type": "markdown",
   "metadata": {},
   "source": [
    "*Колонка VehicleType содержит данные о количестве фотографий автомобиля. У всех автомобилей отсутствуют фотографии. Эта колонка также не повлияет на модель, удалим ее из датасета.*"
   ]
  },
  {
   "cell_type": "code",
   "execution_count": 34,
   "metadata": {},
   "outputs": [],
   "source": [
    "autos_v2 = autos_v2.drop(['NumberOfPictures'], axis = 1)"
   ]
  },
  {
   "cell_type": "markdown",
   "metadata": {},
   "source": [
    "### Выделим обучающую и валидационную выборки"
   ]
  },
  {
   "cell_type": "code",
   "execution_count": 35,
   "metadata": {},
   "outputs": [],
   "source": [
    "autos_train, autos_valid = train_test_split(autos_v2, test_size = .25, random_state = 12345)"
   ]
  },
  {
   "cell_type": "code",
   "execution_count": 36,
   "metadata": {},
   "outputs": [],
   "source": [
    "autos_train_cb = autos_train.copy()\n",
    "autos_valid_cb = autos_valid.copy()"
   ]
  },
  {
   "cell_type": "markdown",
   "metadata": {},
   "source": [
    "### Закодируем категориальные признаки и масштабируем количественные"
   ]
  },
  {
   "cell_type": "markdown",
   "metadata": {},
   "source": [
    "*Преобразованные данные содержат категориальные признаки VehicleType, Gearbox, Model, FuelType, Brand, NotRepaired, которые необходимо закодировать для дальнейшего обучения модели. Для этого используем метод кодирования OrdinalEncoder на данных, у которых больше 3 категорий и One-Hot Encoding на данных, у которых не болee 3-х категорий.*"
   ]
  },
  {
   "cell_type": "code",
   "execution_count": 37,
   "metadata": {},
   "outputs": [],
   "source": [
    "category_oe = ['VehicleType','Model', 'FuelType', 'Brand']\n",
    "category_ohe = ['Gearbox', 'NotRepaired']\n",
    "encoder = OrdinalEncoder()\n",
    "encoder.fit(autos_v2[category_oe])\n",
    "\n",
    "# закодируем обучающую выборку\n",
    "autos_train[category_oe] = encoder.transform(autos_train[category_oe])\n",
    "autos_train = pd.get_dummies(autos_train, columns = category_ohe, drop_first = True)\n",
    "\n",
    "# закодируем тестовую выборку\n",
    "autos_valid[category_oe] = encoder.transform(autos_valid[category_oe])\n",
    "autos_valid = pd.get_dummies(autos_valid, columns = category_ohe, drop_first = True)"
   ]
  },
  {
   "cell_type": "markdown",
   "metadata": {},
   "source": [
    "*В данных присутствуют колличественные признаки с разными разбросами значений. Для того, чтобы алгоритм не решил, что признаки с большими значениями и разбросом важнее, маcштабируем количественные признаки*"
   ]
  },
  {
   "cell_type": "code",
   "execution_count": 38,
   "metadata": {},
   "outputs": [],
   "source": [
    "numeric = ['Kilometer','Age', 'Power']\n",
    "scaler = MinMaxScaler()\n",
    "scaler.fit(autos_train[numeric])\n",
    "\n",
    "# масштабируем обучающую выборку\n",
    "autos_train[numeric] = scaler.transform(autos_train[numeric])\n",
    "autos_train_cb[numeric] = scaler.transform(autos_train_cb[numeric])\n",
    "\n",
    "# масштабируем тестовую выборку\n",
    "autos_valid[numeric] = scaler.transform(autos_valid[numeric])\n",
    "autos_valid_cb[numeric] = scaler.transform(autos_valid_cb[numeric])"
   ]
  },
  {
   "cell_type": "markdown",
   "metadata": {},
   "source": [
    "# Вывод\n",
    "\n",
    "*Провели предобработку данных. Заполнени пропуски, удалили выбросы. Категориальные данные были закодированы, а количественные масштабированы. Разделили выборку на обучающую и валидационную*"
   ]
  },
  {
   "cell_type": "markdown",
   "metadata": {},
   "source": [
    "# 2. Обучение моделей"
   ]
  },
  {
   "cell_type": "markdown",
   "metadata": {},
   "source": [
    "### Разделим выборки на признаки и целевые признаки"
   ]
  },
  {
   "cell_type": "code",
   "execution_count": 39,
   "metadata": {},
   "outputs": [],
   "source": [
    "# Обучающая выборка\n",
    "features_train = autos_train.drop(['Price'], axis=1)\n",
    "features_train_cb = autos_train_cb.drop(['Price'], axis=1)\n",
    "target_train = autos_train['Price']\n",
    "\n",
    "\n",
    "# Валидационная\n",
    "features_valid = autos_valid.drop(['Price'], axis=1)\n",
    "features_valid_cb = autos_valid_cb.drop(['Price'], axis=1)\n",
    "target_valid = autos_valid['Price']"
   ]
  },
  {
   "cell_type": "code",
   "execution_count": 40,
   "metadata": {},
   "outputs": [],
   "source": [
    "def chart_feature_imp(model):\n",
    "    feature_imp = pd.Series(model.feature_importances_, index=features_train.columns).sort_values(ascending=False)\n",
    "    fig, ax = plt.subplots(figsize=(12,6))\n",
    "    sns.barplot(x=feature_imp, y=feature_imp.index)\n",
    "    _ = ax.set(xlabel='Оценка важности признаков', ylabel='Признаки')\n",
    "    _ = ax.set_title('Визуализация важности признаков')"
   ]
  },
  {
   "cell_type": "markdown",
   "metadata": {},
   "source": [
    "### Линейная регрессия"
   ]
  },
  {
   "cell_type": "code",
   "execution_count": 41,
   "metadata": {},
   "outputs": [],
   "source": [
    "def lr_gridsearchcv(features, target):    \n",
    "    model = LinearRegression()\n",
    "    param_grid = {\n",
    "        'copy_X': [True, False],\n",
    "        'fit_intercept' : [True, False],\n",
    "        'normalize': [True, False]\n",
    "    }\n",
    "    CV = GridSearchCV(estimator = model, param_grid = param_grid, cv=5, scoring = 'neg_mean_squared_error')\n",
    "    CV.fit(features, target)\n",
    "    \n",
    "    print('Лучшее значение метрики RMSE: {:.2f}'.format((-CV.best_score_) ** .5))\n",
    "    print('Лучшие гиперпараметры: ', CV.best_params_)\n",
    "    return CV.best_params_, -CV.best_score_"
   ]
  },
  {
   "cell_type": "code",
   "execution_count": 42,
   "metadata": {},
   "outputs": [
    {
     "name": "stdout",
     "output_type": "stream",
     "text": [
      "Лучшее значение метрики RMSE: 3266.59\n",
      "Лучшие гиперпараметры:  {'copy_X': True, 'fit_intercept': True, 'normalize': True}\n",
      "Wall time: 20.4 s\n"
     ]
    }
   ],
   "source": [
    "%%time\n",
    "best_params_lr, rmse_lr_result = lr_gridsearchcv(features_train, target_train)"
   ]
  },
  {
   "cell_type": "markdown",
   "metadata": {},
   "source": [
    "*Гипперпараметры подобраны, лучшее значение RMSE 3266.59, подбор выполнен за 10.6 сек.*"
   ]
  },
  {
   "cell_type": "markdown",
   "metadata": {},
   "source": [
    "### CatBoost"
   ]
  },
  {
   "cell_type": "code",
   "execution_count": 43,
   "metadata": {},
   "outputs": [],
   "source": [
    "cat_col = ['VehicleType','Model', 'FuelType', 'Brand', 'Gearbox', 'NotRepaired']"
   ]
  },
  {
   "cell_type": "code",
   "execution_count": 44,
   "metadata": {},
   "outputs": [],
   "source": [
    "features_train_cb[cat_col] = features_train_cb[cat_col].astype('category')"
   ]
  },
  {
   "cell_type": "code",
   "execution_count": 45,
   "metadata": {},
   "outputs": [],
   "source": [
    "def catboost_gridsearchcv(features, target, cat_features=None):\n",
    "    model = CatBoostRegressor(cat_features=cat_features)\n",
    "    param_grid = {\n",
    "        'n_estimators': [500],\n",
    "        'learning_rate': [0.1, 0.15],\n",
    "        'depth': np.arange(4, 10),\n",
    "        'random_state': [42],\n",
    "        'boosting_type': ['Plain']\n",
    "    }\n",
    "    CV = model.grid_search(param_grid, \n",
    "                           X=features, \n",
    "                           y=target, \n",
    "                           cv=5)\n",
    "    print('Лучшее значение метрики RMSE: {:.2f}'.format(model.get_best_score()['learn']['RMSE']))\n",
    "    print('Лучшие гиперпараметры: ', CV['params'])\n",
    "    return  CV['params'], model.get_best_score()['learn']['RMSE']"
   ]
  },
  {
   "cell_type": "code",
   "execution_count": 46,
   "metadata": {},
   "outputs": [
    {
     "name": "stdout",
     "output_type": "stream",
     "text": [
      "\n",
      "bestTest = 2010.196977\n",
      "bestIteration = 499\n",
      "\n",
      "0:\tloss: 2010.1969767\tbest: 2010.1969767 (0)\ttotal: 50.4s\tremaining: 9m 14s\n",
      "\n",
      "bestTest = 1980.434565\n",
      "bestIteration = 499\n",
      "\n",
      "1:\tloss: 1980.4345653\tbest: 1980.4345653 (1)\ttotal: 1m 41s\tremaining: 8m 25s\n",
      "\n",
      "bestTest = 1964.785128\n",
      "bestIteration = 499\n",
      "\n",
      "2:\tloss: 1964.7851277\tbest: 1964.7851277 (2)\ttotal: 2m 44s\tremaining: 8m 13s\n",
      "\n",
      "bestTest = 1945.24373\n",
      "bestIteration = 499\n",
      "\n",
      "3:\tloss: 1945.2437302\tbest: 1945.2437302 (3)\ttotal: 3m 44s\tremaining: 7m 28s\n",
      "\n",
      "bestTest = 1934.195993\n",
      "bestIteration = 499\n",
      "\n",
      "4:\tloss: 1934.1959925\tbest: 1934.1959925 (4)\ttotal: 4m 53s\tremaining: 6m 51s\n",
      "\n",
      "bestTest = 1914.997568\n",
      "bestIteration = 499\n",
      "\n",
      "5:\tloss: 1914.9975682\tbest: 1914.9975682 (5)\ttotal: 6m 3s\tremaining: 6m 3s\n",
      "\n",
      "bestTest = 1907.925732\n",
      "bestIteration = 499\n",
      "\n",
      "6:\tloss: 1907.9257319\tbest: 1907.9257319 (6)\ttotal: 7m 25s\tremaining: 5m 18s\n",
      "\n",
      "bestTest = 1890.79535\n",
      "bestIteration = 499\n",
      "\n",
      "7:\tloss: 1890.7953501\tbest: 1890.7953501 (7)\ttotal: 8m 49s\tremaining: 4m 24s\n",
      "\n",
      "bestTest = 1891.112672\n",
      "bestIteration = 499\n",
      "\n",
      "8:\tloss: 1891.1126722\tbest: 1890.7953501 (7)\ttotal: 10m 22s\tremaining: 3m 27s\n",
      "\n",
      "bestTest = 1877.757839\n",
      "bestIteration = 499\n",
      "\n",
      "9:\tloss: 1877.7578393\tbest: 1877.7578393 (9)\ttotal: 11m 57s\tremaining: 2m 23s\n",
      "\n",
      "bestTest = 1873.030773\n",
      "bestIteration = 499\n",
      "\n",
      "10:\tloss: 1873.0307728\tbest: 1873.0307728 (10)\ttotal: 13m 45s\tremaining: 1m 15s\n",
      "\n",
      "bestTest = 1866.743076\n",
      "bestIteration = 499\n",
      "\n",
      "11:\tloss: 1866.7430763\tbest: 1866.7430763 (11)\ttotal: 15m 35s\tremaining: 0us\n",
      "Estimating final quality...\n",
      "Лучшее значение метрики RMSE: 1751.52\n",
      "Лучшие гиперпараметры:  {'depth': 9, 'random_seed': 42, 'iterations': 500, 'learning_rate': 0.15, 'boosting_type': 'Plain'}\n",
      "Wall time: 28min 49s\n"
     ]
    }
   ],
   "source": [
    "%%time\n",
    "best_param_catboost_cat, rmse_cb_result_cat = catboost_gridsearchcv(features_train_cb, target_train, cat_col)"
   ]
  },
  {
   "cell_type": "code",
   "execution_count": 47,
   "metadata": {},
   "outputs": [
    {
     "name": "stdout",
     "output_type": "stream",
     "text": [
      "\n",
      "bestTest = 2073.996392\n",
      "bestIteration = 499\n",
      "\n",
      "0:\tloss: 2073.9963924\tbest: 2073.9963924 (0)\ttotal: 9.76s\tremaining: 1m 47s\n",
      "\n",
      "bestTest = 2007.637048\n",
      "bestIteration = 499\n",
      "\n",
      "1:\tloss: 2007.6370481\tbest: 2007.6370481 (1)\ttotal: 19.6s\tremaining: 1m 37s\n",
      "\n",
      "bestTest = 2016.104448\n",
      "bestIteration = 499\n",
      "\n",
      "2:\tloss: 2016.1044478\tbest: 2007.6370481 (1)\ttotal: 30.9s\tremaining: 1m 32s\n",
      "\n",
      "bestTest = 1958.783375\n",
      "bestIteration = 499\n",
      "\n",
      "3:\tloss: 1958.7833749\tbest: 1958.7833749 (3)\ttotal: 42.5s\tremaining: 1m 24s\n",
      "\n",
      "bestTest = 1963.997897\n",
      "bestIteration = 499\n",
      "\n",
      "4:\tloss: 1963.9978968\tbest: 1958.7833749 (3)\ttotal: 55.7s\tremaining: 1m 17s\n",
      "\n",
      "bestTest = 1917.914958\n",
      "bestIteration = 499\n",
      "\n",
      "5:\tloss: 1917.9149585\tbest: 1917.9149585 (5)\ttotal: 1m 8s\tremaining: 1m 8s\n",
      "\n",
      "bestTest = 1927.220652\n",
      "bestIteration = 499\n",
      "\n",
      "6:\tloss: 1927.2206519\tbest: 1917.9149585 (5)\ttotal: 1m 23s\tremaining: 59.8s\n",
      "\n",
      "bestTest = 1892.160368\n",
      "bestIteration = 499\n",
      "\n",
      "7:\tloss: 1892.1603684\tbest: 1892.1603684 (7)\ttotal: 1m 38s\tremaining: 49.2s\n",
      "\n",
      "bestTest = 1904.131466\n",
      "bestIteration = 499\n",
      "\n",
      "8:\tloss: 1904.1314660\tbest: 1892.1603684 (7)\ttotal: 1m 54s\tremaining: 38.3s\n",
      "\n",
      "bestTest = 1872.59006\n",
      "bestIteration = 498\n",
      "\n",
      "9:\tloss: 1872.5900598\tbest: 1872.5900598 (9)\ttotal: 2m 11s\tremaining: 26.3s\n",
      "\n",
      "bestTest = 1880.605142\n",
      "bestIteration = 499\n",
      "\n",
      "10:\tloss: 1880.6051422\tbest: 1872.5900598 (9)\ttotal: 2m 30s\tremaining: 13.7s\n",
      "\n",
      "bestTest = 1863.438756\n",
      "bestIteration = 499\n",
      "\n",
      "11:\tloss: 1863.4387564\tbest: 1863.4387564 (11)\ttotal: 2m 49s\tremaining: 0us\n",
      "Estimating final quality...\n",
      "Лучшее значение метрики RMSE: 1766.10\n",
      "Лучшие гиперпараметры:  {'depth': 9, 'random_seed': 42, 'iterations': 500, 'learning_rate': 0.15, 'boosting_type': 'Plain'}\n",
      "Wall time: 5min 47s\n"
     ]
    }
   ],
   "source": [
    "%%time\n",
    "best_param_catboost, rmse_cb_result = catboost_gridsearchcv(features_train, target_train)"
   ]
  },
  {
   "cell_type": "code",
   "execution_count": 48,
   "metadata": {},
   "outputs": [
    {
     "data": {
      "image/png": "[encoded data removed]",
      "text/plain": [
       "<Figure size 864x432 with 1 Axes>"
      ]
     },
     "metadata": {
      "needs_background": "light"
     },
     "output_type": "display_data"
    }
   ],
   "source": [
    "model_cb = CatBoostRegressor(**best_param_catboost)\n",
    "model_cb.fit(features_train, target_train, verbose=0)\n",
    "chart_feature_imp(model_cb)"
   ]
  },
  {
   "cell_type": "markdown",
   "metadata": {},
   "source": [
    "*Гипперпараметры подобраны. Можно наблюдать, что ручная кодировка эффективнее (время) справляется, чем указание категориальных признаков в самом кэтбусте. Время на обучение составило 4 мин 3 сек*"
   ]
  },
  {
   "cell_type": "markdown",
   "metadata": {},
   "source": [
    "### LightGBM"
   ]
  },
  {
   "cell_type": "code",
   "execution_count": 49,
   "metadata": {},
   "outputs": [],
   "source": [
    "def lgbm_gridsearchcv(features, target):\n",
    "    model = lgb.LGBMRegressor()\n",
    "    param_grid = {\n",
    "        'n_jobs': [-1],\n",
    "        'boosting_type': ['gbdt'],\n",
    "        'objective': ['regression'],\n",
    "        'metric': ['rmse'],\n",
    "        'n_estimators': [500],\n",
    "        'max_depth': np.arange(4, 10),\n",
    "        'learning_rate': [0.1, 0.15],\n",
    "        'random_state': [42],\n",
    "    }\n",
    "    CV = GridSearchCV(estimator=model, param_grid=param_grid, cv=5, scoring = 'neg_mean_squared_error')\n",
    "    CV.fit(features, target)\n",
    "    print('Лучшее значение метрики RMSE: {:.2f}'.format((-CV.best_score_) ** .5))\n",
    "    print('Лучшие гиперпараметры: ', CV.best_params_)\n",
    "    return CV.best_params_, -CV.best_score_"
   ]
  },
  {
   "cell_type": "code",
   "execution_count": 50,
   "metadata": {},
   "outputs": [
    {
     "name": "stdout",
     "output_type": "stream",
     "text": [
      "[LightGBM] [Warning] Accuracy may be bad since you didn't explicitly set num_leaves OR 2^max_depth > num_leaves. (num_leaves=31).\n",
      "[LightGBM] [Warning] Accuracy may be bad since you didn't explicitly set num_leaves OR 2^max_depth > num_leaves. (num_leaves=31).\n",
      "[LightGBM] [Warning] Accuracy may be bad since you didn't explicitly set num_leaves OR 2^max_depth > num_leaves. (num_leaves=31).\n",
      "[LightGBM] [Warning] Accuracy may be bad since you didn't explicitly set num_leaves OR 2^max_depth > num_leaves. (num_leaves=31).\n",
      "[LightGBM] [Warning] Accuracy may be bad since you didn't explicitly set num_leaves OR 2^max_depth > num_leaves. (num_leaves=31).\n",
      "[LightGBM] [Warning] Accuracy may be bad since you didn't explicitly set num_leaves OR 2^max_depth > num_leaves. (num_leaves=31).\n",
      "[LightGBM] [Warning] Accuracy may be bad since you didn't explicitly set num_leaves OR 2^max_depth > num_leaves. (num_leaves=31).\n",
      "[LightGBM] [Warning] Accuracy may be bad since you didn't explicitly set num_leaves OR 2^max_depth > num_leaves. (num_leaves=31).\n",
      "[LightGBM] [Warning] Accuracy may be bad since you didn't explicitly set num_leaves OR 2^max_depth > num_leaves. (num_leaves=31).\n",
      "[LightGBM] [Warning] Accuracy may be bad since you didn't explicitly set num_leaves OR 2^max_depth > num_leaves. (num_leaves=31).\n",
      "[LightGBM] [Warning] Accuracy may be bad since you didn't explicitly set num_leaves OR 2^max_depth > num_leaves. (num_leaves=31).\n",
      "[LightGBM] [Warning] Accuracy may be bad since you didn't explicitly set num_leaves OR 2^max_depth > num_leaves. (num_leaves=31).\n",
      "[LightGBM] [Warning] Accuracy may be bad since you didn't explicitly set num_leaves OR 2^max_depth > num_leaves. (num_leaves=31).\n",
      "[LightGBM] [Warning] Accuracy may be bad since you didn't explicitly set num_leaves OR 2^max_depth > num_leaves. (num_leaves=31).\n",
      "[LightGBM] [Warning] Accuracy may be bad since you didn't explicitly set num_leaves OR 2^max_depth > num_leaves. (num_leaves=31).\n",
      "[LightGBM] [Warning] Accuracy may be bad since you didn't explicitly set num_leaves OR 2^max_depth > num_leaves. (num_leaves=31).\n",
      "[LightGBM] [Warning] Accuracy may be bad since you didn't explicitly set num_leaves OR 2^max_depth > num_leaves. (num_leaves=31).\n",
      "[LightGBM] [Warning] Accuracy may be bad since you didn't explicitly set num_leaves OR 2^max_depth > num_leaves. (num_leaves=31).\n",
      "[LightGBM] [Warning] Accuracy may be bad since you didn't explicitly set num_leaves OR 2^max_depth > num_leaves. (num_leaves=31).\n",
      "[LightGBM] [Warning] Accuracy may be bad since you didn't explicitly set num_leaves OR 2^max_depth > num_leaves. (num_leaves=31).\n",
      "[LightGBM] [Warning] Accuracy may be bad since you didn't explicitly set num_leaves OR 2^max_depth > num_leaves. (num_leaves=31).\n",
      "[LightGBM] [Warning] Accuracy may be bad since you didn't explicitly set num_leaves OR 2^max_depth > num_leaves. (num_leaves=31).\n",
      "[LightGBM] [Warning] Accuracy may be bad since you didn't explicitly set num_leaves OR 2^max_depth > num_leaves. (num_leaves=31).\n",
      "[LightGBM] [Warning] Accuracy may be bad since you didn't explicitly set num_leaves OR 2^max_depth > num_leaves. (num_leaves=31).\n",
      "[LightGBM] [Warning] Accuracy may be bad since you didn't explicitly set num_leaves OR 2^max_depth > num_leaves. (num_leaves=31).\n",
      "[LightGBM] [Warning] Accuracy may be bad since you didn't explicitly set num_leaves OR 2^max_depth > num_leaves. (num_leaves=31).\n",
      "[LightGBM] [Warning] Accuracy may be bad since you didn't explicitly set num_leaves OR 2^max_depth > num_leaves. (num_leaves=31).\n",
      "[LightGBM] [Warning] Accuracy may be bad since you didn't explicitly set num_leaves OR 2^max_depth > num_leaves. (num_leaves=31).\n",
      "[LightGBM] [Warning] Accuracy may be bad since you didn't explicitly set num_leaves OR 2^max_depth > num_leaves. (num_leaves=31).\n",
      "[LightGBM] [Warning] Accuracy may be bad since you didn't explicitly set num_leaves OR 2^max_depth > num_leaves. (num_leaves=31).\n",
      "[LightGBM] [Warning] Accuracy may be bad since you didn't explicitly set num_leaves OR 2^max_depth > num_leaves. (num_leaves=31).\n",
      "[LightGBM] [Warning] Accuracy may be bad since you didn't explicitly set num_leaves OR 2^max_depth > num_leaves. (num_leaves=31).\n",
      "[LightGBM] [Warning] Accuracy may be bad since you didn't explicitly set num_leaves OR 2^max_depth > num_leaves. (num_leaves=31).\n",
      "[LightGBM] [Warning] Accuracy may be bad since you didn't explicitly set num_leaves OR 2^max_depth > num_leaves. (num_leaves=31).\n",
      "[LightGBM] [Warning] Accuracy may be bad since you didn't explicitly set num_leaves OR 2^max_depth > num_leaves. (num_leaves=31).\n",
      "[LightGBM] [Warning] Accuracy may be bad since you didn't explicitly set num_leaves OR 2^max_depth > num_leaves. (num_leaves=31).\n",
      "[LightGBM] [Warning] Accuracy may be bad since you didn't explicitly set num_leaves OR 2^max_depth > num_leaves. (num_leaves=31).\n",
      "[LightGBM] [Warning] Accuracy may be bad since you didn't explicitly set num_leaves OR 2^max_depth > num_leaves. (num_leaves=31).\n",
      "[LightGBM] [Warning] Accuracy may be bad since you didn't explicitly set num_leaves OR 2^max_depth > num_leaves. (num_leaves=31).\n",
      "[LightGBM] [Warning] Accuracy may be bad since you didn't explicitly set num_leaves OR 2^max_depth > num_leaves. (num_leaves=31).\n",
      "[LightGBM] [Warning] Accuracy may be bad since you didn't explicitly set num_leaves OR 2^max_depth > num_leaves. (num_leaves=31).\n",
      "[LightGBM] [Warning] Accuracy may be bad since you didn't explicitly set num_leaves OR 2^max_depth > num_leaves. (num_leaves=31).\n",
      "[LightGBM] [Warning] Accuracy may be bad since you didn't explicitly set num_leaves OR 2^max_depth > num_leaves. (num_leaves=31).\n",
      "[LightGBM] [Warning] Accuracy may be bad since you didn't explicitly set num_leaves OR 2^max_depth > num_leaves. (num_leaves=31).\n",
      "[LightGBM] [Warning] Accuracy may be bad since you didn't explicitly set num_leaves OR 2^max_depth > num_leaves. (num_leaves=31).\n",
      "[LightGBM] [Warning] Accuracy may be bad since you didn't explicitly set num_leaves OR 2^max_depth > num_leaves. (num_leaves=31).\n",
      "[LightGBM] [Warning] Accuracy may be bad since you didn't explicitly set num_leaves OR 2^max_depth > num_leaves. (num_leaves=31).\n",
      "[LightGBM] [Warning] Accuracy may be bad since you didn't explicitly set num_leaves OR 2^max_depth > num_leaves. (num_leaves=31).\n",
      "[LightGBM] [Warning] Accuracy may be bad since you didn't explicitly set num_leaves OR 2^max_depth > num_leaves. (num_leaves=31).\n",
      "[LightGBM] [Warning] Accuracy may be bad since you didn't explicitly set num_leaves OR 2^max_depth > num_leaves. (num_leaves=31).\n",
      "[LightGBM] [Warning] Accuracy may be bad since you didn't explicitly set num_leaves OR 2^max_depth > num_leaves. (num_leaves=31).\n",
      "Лучшее значение метрики RMSE: 1853.44\n",
      "Лучшие гиперпараметры:  {'boosting_type': 'gbdt', 'learning_rate': 0.15, 'max_depth': 9, 'metric': 'rmse', 'n_estimators': 500, 'n_jobs': -1, 'objective': 'regression', 'random_state': 42}\n",
      "Wall time: 3min 29s\n"
     ]
    }
   ],
   "source": [
    "%%time\n",
    "best_param_lgbmregressor, rmse_lgbm_result = lgbm_gridsearchcv(features_train, target_train)"
   ]
  },
  {
   "cell_type": "code",
   "execution_count": 51,
   "metadata": {},
   "outputs": [
    {
     "data": {
      "image/png": "[encoded data removed]",
      "text/plain": [
       "<Figure size 864x432 with 1 Axes>"
      ]
     },
     "metadata": {
      "needs_background": "light"
     },
     "output_type": "display_data"
    }
   ],
   "source": [
    "model_lgb = lgb.LGBMRegressor(**best_param_lgbmregressor)\n",
    "model_lgb.fit(features_train, target_train, verbose=0)\n",
    "chart_feature_imp(model_lgb)"
   ]
  },
  {
   "cell_type": "markdown",
   "metadata": {},
   "source": [
    "*Гипперпарамеиры подобраны, лучшее значение метрики 1853.44, подбор проходит за 1 мин 37 сек.*"
   ]
  },
  {
   "cell_type": "markdown",
   "metadata": {},
   "source": [
    "## Вывод\n",
    "\n",
    "*Провели кросс-валидацию обучающей выборки и подобрали для каждой модели лучшие гипперпараметры. Самые хорошие показатели метрики на обучающей выборке показала модель ЛГБМ, Кэтбуст не сильно отстал, В плане обучения, то Кэтбуст явно оказался быстрее ЛГБМ. Линейная регресия хоть и посчитала все быстро, но показатель метрики RMSE явно желает лучшего.*"
   ]
  },
  {
   "cell_type": "markdown",
   "metadata": {},
   "source": [
    "# 3. Анализ моделей"
   ]
  },
  {
   "cell_type": "markdown",
   "metadata": {},
   "source": [
    "## Проанализируем обученные модели на тестовой выборке"
   ]
  },
  {
   "cell_type": "markdown",
   "metadata": {},
   "source": [
    "### Линейная регрессия"
   ]
  },
  {
   "cell_type": "code",
   "execution_count": 59,
   "metadata": {},
   "outputs": [
    {
     "name": "stdout",
     "output_type": "stream",
     "text": [
      "RMSE: 3278.48935099325\n",
      "Wall time: 67 ms\n"
     ]
    }
   ],
   "source": [
    "%%time\n",
    "model_lr = LinearRegression(**best_params_lr)\n",
    "model_lr.fit(features_train, target_train)\n",
    "predictions_lr = model_lr.predict(features_valid)\n",
    "rmse_lr = mean_squared_error(predictions_lr, target_valid) ** .5\n",
    "print('RMSE:', rmse_lr)"
   ]
  },
  {
   "cell_type": "markdown",
   "metadata": {},
   "source": [
    "*Линейная регрессия показала себя плохо как на обучающей выборке, так и на валидационной*"
   ]
  },
  {
   "cell_type": "markdown",
   "metadata": {},
   "source": [
    "### CatBoost"
   ]
  },
  {
   "cell_type": "code",
   "execution_count": 55,
   "metadata": {},
   "outputs": [
    {
     "name": "stdout",
     "output_type": "stream",
     "text": [
      "0:\tlearn: 4126.7447152\ttotal: 32.3ms\tremaining: 16.1s\n",
      "1:\tlearn: 3796.2282905\ttotal: 59.4ms\tremaining: 14.8s\n",
      "2:\tlearn: 3530.8318579\ttotal: 89.9ms\tremaining: 14.9s\n",
      "3:\tlearn: 3319.2543500\ttotal: 119ms\tremaining: 14.8s\n",
      "4:\tlearn: 3131.7815282\ttotal: 145ms\tremaining: 14.3s\n",
      "5:\tlearn: 2984.5942812\ttotal: 172ms\tremaining: 14.2s\n",
      "6:\tlearn: 2865.0732186\ttotal: 203ms\tremaining: 14.3s\n",
      "7:\tlearn: 2775.3197888\ttotal: 231ms\tremaining: 14.2s\n",
      "8:\tlearn: 2696.3804194\ttotal: 261ms\tremaining: 14.3s\n",
      "9:\tlearn: 2629.1504403\ttotal: 291ms\tremaining: 14.2s\n",
      "10:\tlearn: 2577.8553612\ttotal: 320ms\tremaining: 14.2s\n",
      "11:\tlearn: 2532.8104449\ttotal: 348ms\tremaining: 14.2s\n",
      "12:\tlearn: 2500.2289275\ttotal: 376ms\tremaining: 14.1s\n",
      "13:\tlearn: 2466.6698197\ttotal: 403ms\tremaining: 14s\n",
      "14:\tlearn: 2434.4896248\ttotal: 432ms\tremaining: 14s\n",
      "15:\tlearn: 2410.5984754\ttotal: 460ms\tremaining: 13.9s\n",
      "16:\tlearn: 2384.4553095\ttotal: 488ms\tremaining: 13.9s\n",
      "17:\tlearn: 2366.0903460\ttotal: 517ms\tremaining: 13.8s\n",
      "18:\tlearn: 2353.0924964\ttotal: 541ms\tremaining: 13.7s\n",
      "19:\tlearn: 2340.5234784\ttotal: 568ms\tremaining: 13.6s\n",
      "20:\tlearn: 2323.8549051\ttotal: 594ms\tremaining: 13.6s\n",
      "21:\tlearn: 2315.8948299\ttotal: 621ms\tremaining: 13.5s\n",
      "22:\tlearn: 2306.0140588\ttotal: 648ms\tremaining: 13.4s\n",
      "23:\tlearn: 2295.1074742\ttotal: 675ms\tremaining: 13.4s\n",
      "24:\tlearn: 2282.3723469\ttotal: 702ms\tremaining: 13.3s\n",
      "25:\tlearn: 2268.6490882\ttotal: 731ms\tremaining: 13.3s\n",
      "26:\tlearn: 2260.3138876\ttotal: 759ms\tremaining: 13.3s\n",
      "27:\tlearn: 2253.6880208\ttotal: 784ms\tremaining: 13.2s\n",
      "28:\tlearn: 2247.6452150\ttotal: 809ms\tremaining: 13.1s\n",
      "29:\tlearn: 2243.8758144\ttotal: 837ms\tremaining: 13.1s\n",
      "30:\tlearn: 2238.0883384\ttotal: 862ms\tremaining: 13s\n",
      "31:\tlearn: 2234.3372657\ttotal: 887ms\tremaining: 13s\n",
      "32:\tlearn: 2228.6614654\ttotal: 917ms\tremaining: 13s\n",
      "33:\tlearn: 2218.1042839\ttotal: 944ms\tremaining: 12.9s\n",
      "34:\tlearn: 2210.4672105\ttotal: 972ms\tremaining: 12.9s\n",
      "35:\tlearn: 2201.7834239\ttotal: 999ms\tremaining: 12.9s\n",
      "36:\tlearn: 2194.8728282\ttotal: 1.03s\tremaining: 12.9s\n",
      "37:\tlearn: 2188.3929511\ttotal: 1.06s\tremaining: 12.9s\n",
      "38:\tlearn: 2184.4700464\ttotal: 1.09s\tremaining: 12.9s\n",
      "39:\tlearn: 2176.8036667\ttotal: 1.11s\tremaining: 12.8s\n",
      "40:\tlearn: 2173.6608003\ttotal: 1.15s\tremaining: 12.8s\n",
      "41:\tlearn: 2170.9354901\ttotal: 1.17s\tremaining: 12.8s\n",
      "42:\tlearn: 2162.5831510\ttotal: 1.2s\tremaining: 12.8s\n",
      "43:\tlearn: 2158.4959486\ttotal: 1.23s\tremaining: 12.8s\n",
      "44:\tlearn: 2154.2483510\ttotal: 1.26s\tremaining: 12.7s\n",
      "45:\tlearn: 2150.7321852\ttotal: 1.28s\tremaining: 12.7s\n",
      "46:\tlearn: 2148.6266383\ttotal: 1.31s\tremaining: 12.6s\n",
      "47:\tlearn: 2145.2143163\ttotal: 1.34s\tremaining: 12.6s\n",
      "48:\tlearn: 2140.4941308\ttotal: 1.36s\tremaining: 12.5s\n",
      "49:\tlearn: 2137.9608812\ttotal: 1.39s\tremaining: 12.5s\n",
      "50:\tlearn: 2131.5715281\ttotal: 1.42s\tremaining: 12.5s\n",
      "51:\tlearn: 2127.8025805\ttotal: 1.44s\tremaining: 12.4s\n",
      "52:\tlearn: 2124.9041574\ttotal: 1.47s\tremaining: 12.4s\n",
      "53:\tlearn: 2120.2634282\ttotal: 1.5s\tremaining: 12.4s\n",
      "54:\tlearn: 2116.9529626\ttotal: 1.53s\tremaining: 12.4s\n",
      "55:\tlearn: 2114.2074395\ttotal: 1.55s\tremaining: 12.3s\n",
      "56:\tlearn: 2109.5663640\ttotal: 1.58s\tremaining: 12.3s\n",
      "57:\tlearn: 2106.0597287\ttotal: 1.61s\tremaining: 12.3s\n",
      "58:\tlearn: 2102.0530928\ttotal: 1.64s\tremaining: 12.3s\n",
      "59:\tlearn: 2099.7804568\ttotal: 1.67s\tremaining: 12.2s\n",
      "60:\tlearn: 2097.2002144\ttotal: 1.69s\tremaining: 12.2s\n",
      "61:\tlearn: 2093.4885204\ttotal: 1.72s\tremaining: 12.1s\n",
      "62:\tlearn: 2091.0263611\ttotal: 1.75s\tremaining: 12.1s\n",
      "63:\tlearn: 2088.0103306\ttotal: 1.77s\tremaining: 12.1s\n",
      "64:\tlearn: 2086.4817344\ttotal: 1.8s\tremaining: 12.1s\n",
      "65:\tlearn: 2081.8364461\ttotal: 1.83s\tremaining: 12s\n",
      "66:\tlearn: 2080.0567204\ttotal: 1.85s\tremaining: 12s\n",
      "67:\tlearn: 2077.2154393\ttotal: 1.88s\tremaining: 12s\n",
      "68:\tlearn: 2075.2595853\ttotal: 1.91s\tremaining: 11.9s\n",
      "69:\tlearn: 2073.1476377\ttotal: 1.94s\tremaining: 11.9s\n",
      "70:\tlearn: 2072.1175331\ttotal: 1.96s\tremaining: 11.9s\n",
      "71:\tlearn: 2068.5002133\ttotal: 1.99s\tremaining: 11.8s\n",
      "72:\tlearn: 2065.9387476\ttotal: 2.02s\tremaining: 11.8s\n",
      "73:\tlearn: 2063.2317778\ttotal: 2.05s\tremaining: 11.8s\n",
      "74:\tlearn: 2060.7814802\ttotal: 2.07s\tremaining: 11.7s\n",
      "75:\tlearn: 2057.1749477\ttotal: 2.1s\tremaining: 11.7s\n",
      "76:\tlearn: 2053.9979317\ttotal: 2.13s\tremaining: 11.7s\n",
      "77:\tlearn: 2050.6871226\ttotal: 2.16s\tremaining: 11.7s\n",
      "78:\tlearn: 2048.1304557\ttotal: 2.19s\tremaining: 11.7s\n",
      "79:\tlearn: 2045.7674526\ttotal: 2.21s\tremaining: 11.6s\n",
      "80:\tlearn: 2043.0371032\ttotal: 2.24s\tremaining: 11.6s\n",
      "81:\tlearn: 2040.4834085\ttotal: 2.27s\tremaining: 11.6s\n",
      "82:\tlearn: 2038.1119179\ttotal: 2.3s\tremaining: 11.6s\n",
      "83:\tlearn: 2035.5469002\ttotal: 2.33s\tremaining: 11.5s\n",
      "84:\tlearn: 2032.2445961\ttotal: 2.35s\tremaining: 11.5s\n",
      "85:\tlearn: 2030.4321045\ttotal: 2.38s\tremaining: 11.5s\n",
      "86:\tlearn: 2027.4692472\ttotal: 2.41s\tremaining: 11.4s\n",
      "87:\tlearn: 2025.8899689\ttotal: 2.43s\tremaining: 11.4s\n",
      "88:\tlearn: 2023.3535963\ttotal: 2.46s\tremaining: 11.4s\n",
      "89:\tlearn: 2021.0100082\ttotal: 2.49s\tremaining: 11.3s\n",
      "90:\tlearn: 2019.0130122\ttotal: 2.51s\tremaining: 11.3s\n",
      "91:\tlearn: 2017.9040359\ttotal: 2.54s\tremaining: 11.3s\n",
      "92:\tlearn: 2016.2813857\ttotal: 2.57s\tremaining: 11.2s\n",
      "93:\tlearn: 2015.0864149\ttotal: 2.59s\tremaining: 11.2s\n",
      "94:\tlearn: 2012.3524308\ttotal: 2.62s\tremaining: 11.2s\n",
      "95:\tlearn: 2010.9974684\ttotal: 2.65s\tremaining: 11.1s\n",
      "96:\tlearn: 2009.0162149\ttotal: 2.68s\tremaining: 11.1s\n",
      "97:\tlearn: 2007.8264655\ttotal: 2.7s\tremaining: 11.1s\n",
      "98:\tlearn: 2006.5477964\ttotal: 2.73s\tremaining: 11s\n",
      "99:\tlearn: 2004.2627510\ttotal: 2.75s\tremaining: 11s\n",
      "100:\tlearn: 2001.6931938\ttotal: 2.78s\tremaining: 11s\n",
      "101:\tlearn: 1999.6322342\ttotal: 2.81s\tremaining: 11s\n",
      "102:\tlearn: 1997.5860296\ttotal: 2.83s\tremaining: 10.9s\n",
      "103:\tlearn: 1996.1874477\ttotal: 2.86s\tremaining: 10.9s\n",
      "104:\tlearn: 1995.2029993\ttotal: 2.89s\tremaining: 10.9s\n",
      "105:\tlearn: 1993.1257133\ttotal: 2.92s\tremaining: 10.8s\n",
      "106:\tlearn: 1991.4536951\ttotal: 2.94s\tremaining: 10.8s\n",
      "107:\tlearn: 1989.2988148\ttotal: 2.96s\tremaining: 10.8s\n",
      "108:\tlearn: 1987.5812168\ttotal: 2.99s\tremaining: 10.7s\n",
      "109:\tlearn: 1986.1804301\ttotal: 3.02s\tremaining: 10.7s\n",
      "110:\tlearn: 1984.1834779\ttotal: 3.05s\tremaining: 10.7s\n",
      "111:\tlearn: 1983.0526899\ttotal: 3.07s\tremaining: 10.6s\n",
      "112:\tlearn: 1981.0859227\ttotal: 3.1s\tremaining: 10.6s\n",
      "113:\tlearn: 1979.2109701\ttotal: 3.13s\tremaining: 10.6s\n",
      "114:\tlearn: 1977.8526400\ttotal: 3.16s\tremaining: 10.6s\n",
      "115:\tlearn: 1976.4586962\ttotal: 3.19s\tremaining: 10.6s\n",
      "116:\tlearn: 1974.0553581\ttotal: 3.21s\tremaining: 10.5s\n",
      "117:\tlearn: 1972.4290385\ttotal: 3.24s\tremaining: 10.5s\n",
      "118:\tlearn: 1970.9520556\ttotal: 3.27s\tremaining: 10.5s\n",
      "119:\tlearn: 1969.6150623\ttotal: 3.3s\tremaining: 10.4s\n",
      "120:\tlearn: 1968.5388983\ttotal: 3.33s\tremaining: 10.4s\n",
      "121:\tlearn: 1967.6567250\ttotal: 3.35s\tremaining: 10.4s\n",
      "122:\tlearn: 1966.2253913\ttotal: 3.38s\tremaining: 10.4s\n",
      "123:\tlearn: 1964.4522194\ttotal: 3.41s\tremaining: 10.3s\n",
      "124:\tlearn: 1963.4346767\ttotal: 3.44s\tremaining: 10.3s\n",
      "125:\tlearn: 1962.2135679\ttotal: 3.46s\tremaining: 10.3s\n",
      "126:\tlearn: 1960.7911624\ttotal: 3.49s\tremaining: 10.3s\n",
      "127:\tlearn: 1960.0666146\ttotal: 3.52s\tremaining: 10.2s\n",
      "128:\tlearn: 1958.8908165\ttotal: 3.55s\tremaining: 10.2s\n",
      "129:\tlearn: 1957.7532178\ttotal: 3.57s\tremaining: 10.2s\n",
      "130:\tlearn: 1955.1096619\ttotal: 3.6s\tremaining: 10.1s\n",
      "131:\tlearn: 1953.6934920\ttotal: 3.63s\tremaining: 10.1s\n",
      "132:\tlearn: 1952.4551222\ttotal: 3.66s\tremaining: 10.1s\n",
      "133:\tlearn: 1950.5116557\ttotal: 3.68s\tremaining: 10.1s\n",
      "134:\tlearn: 1949.6739759\ttotal: 3.71s\tremaining: 10s\n",
      "135:\tlearn: 1948.3560035\ttotal: 3.73s\tremaining: 9.99s\n",
      "136:\tlearn: 1947.0613616\ttotal: 3.76s\tremaining: 9.97s\n",
      "137:\tlearn: 1945.9681389\ttotal: 3.79s\tremaining: 9.94s\n",
      "138:\tlearn: 1945.2056453\ttotal: 3.82s\tremaining: 9.91s\n",
      "139:\tlearn: 1944.2142390\ttotal: 3.84s\tremaining: 9.88s\n",
      "140:\tlearn: 1942.2493589\ttotal: 3.87s\tremaining: 9.86s\n",
      "141:\tlearn: 1941.5353938\ttotal: 3.9s\tremaining: 9.82s\n",
      "142:\tlearn: 1940.3263959\ttotal: 3.92s\tremaining: 9.79s\n",
      "143:\tlearn: 1938.7889594\ttotal: 3.95s\tremaining: 9.77s\n",
      "144:\tlearn: 1937.8777795\ttotal: 3.98s\tremaining: 9.75s\n",
      "145:\tlearn: 1937.0644714\ttotal: 4.01s\tremaining: 9.71s\n",
      "146:\tlearn: 1935.7238642\ttotal: 4.04s\tremaining: 9.7s\n",
      "147:\tlearn: 1935.0052876\ttotal: 4.07s\tremaining: 9.67s\n",
      "148:\tlearn: 1934.0728733\ttotal: 4.09s\tremaining: 9.63s\n",
      "149:\tlearn: 1931.9817219\ttotal: 4.12s\tremaining: 9.61s\n",
      "150:\tlearn: 1931.1226580\ttotal: 4.14s\tremaining: 9.57s\n",
      "151:\tlearn: 1929.6504046\ttotal: 4.17s\tremaining: 9.54s\n",
      "152:\tlearn: 1928.8298166\ttotal: 4.2s\tremaining: 9.52s\n",
      "153:\tlearn: 1927.4432709\ttotal: 4.22s\tremaining: 9.49s\n",
      "154:\tlearn: 1926.8366216\ttotal: 4.25s\tremaining: 9.46s\n",
      "155:\tlearn: 1925.2149063\ttotal: 4.28s\tremaining: 9.43s\n",
      "156:\tlearn: 1923.7298546\ttotal: 4.31s\tremaining: 9.41s\n",
      "157:\tlearn: 1921.9162791\ttotal: 4.33s\tremaining: 9.38s\n",
      "158:\tlearn: 1921.0378993\ttotal: 4.36s\tremaining: 9.35s\n",
      "159:\tlearn: 1920.2520497\ttotal: 4.38s\tremaining: 9.32s\n",
      "160:\tlearn: 1919.0618727\ttotal: 4.41s\tremaining: 9.29s\n",
      "161:\tlearn: 1917.7781292\ttotal: 4.44s\tremaining: 9.27s\n",
      "162:\tlearn: 1916.3995312\ttotal: 4.47s\tremaining: 9.24s\n",
      "163:\tlearn: 1915.5517936\ttotal: 4.5s\tremaining: 9.21s\n",
      "164:\tlearn: 1914.6131760\ttotal: 4.52s\tremaining: 9.18s\n",
      "165:\tlearn: 1913.1845241\ttotal: 4.55s\tremaining: 9.15s\n",
      "166:\tlearn: 1912.3721770\ttotal: 4.58s\tremaining: 9.12s\n",
      "167:\tlearn: 1911.4874129\ttotal: 4.6s\tremaining: 9.1s\n",
      "168:\tlearn: 1910.4267655\ttotal: 4.63s\tremaining: 9.07s\n",
      "169:\tlearn: 1909.4703510\ttotal: 4.66s\tremaining: 9.04s\n",
      "170:\tlearn: 1908.7303525\ttotal: 4.68s\tremaining: 9.01s\n",
      "171:\tlearn: 1908.2649033\ttotal: 4.71s\tremaining: 8.99s\n",
      "172:\tlearn: 1907.3046220\ttotal: 4.74s\tremaining: 8.96s\n",
      "173:\tlearn: 1906.8079467\ttotal: 4.77s\tremaining: 8.94s\n",
      "174:\tlearn: 1905.7447714\ttotal: 4.79s\tremaining: 8.91s\n",
      "175:\tlearn: 1904.6901939\ttotal: 4.83s\tremaining: 8.88s\n",
      "176:\tlearn: 1903.5308673\ttotal: 4.86s\tremaining: 8.86s\n",
      "177:\tlearn: 1902.5944932\ttotal: 4.88s\tremaining: 8.83s\n",
      "178:\tlearn: 1902.1192276\ttotal: 4.91s\tremaining: 8.81s\n",
      "179:\tlearn: 1901.7063189\ttotal: 4.94s\tremaining: 8.78s\n",
      "180:\tlearn: 1901.5199186\ttotal: 4.96s\tremaining: 8.74s\n",
      "181:\tlearn: 1900.5490083\ttotal: 4.99s\tremaining: 8.71s\n",
      "182:\tlearn: 1899.8548146\ttotal: 5.01s\tremaining: 8.68s\n",
      "183:\tlearn: 1898.9656672\ttotal: 5.04s\tremaining: 8.66s\n",
      "184:\tlearn: 1898.3624835\ttotal: 5.07s\tremaining: 8.63s\n",
      "185:\tlearn: 1897.6701419\ttotal: 5.09s\tremaining: 8.6s\n",
      "186:\tlearn: 1897.2500207\ttotal: 5.12s\tremaining: 8.57s\n",
      "187:\tlearn: 1896.5961672\ttotal: 5.15s\tremaining: 8.55s\n",
      "188:\tlearn: 1895.8700939\ttotal: 5.18s\tremaining: 8.52s\n",
      "189:\tlearn: 1894.9842577\ttotal: 5.21s\tremaining: 8.49s\n",
      "190:\tlearn: 1894.2693568\ttotal: 5.24s\tremaining: 8.47s\n",
      "191:\tlearn: 1893.0606011\ttotal: 5.26s\tremaining: 8.45s\n",
      "192:\tlearn: 1892.5979481\ttotal: 5.29s\tremaining: 8.41s\n",
      "193:\tlearn: 1891.7958474\ttotal: 5.32s\tremaining: 8.39s\n",
      "194:\tlearn: 1891.1522512\ttotal: 5.35s\tremaining: 8.36s\n",
      "195:\tlearn: 1890.5601359\ttotal: 5.37s\tremaining: 8.33s\n",
      "196:\tlearn: 1889.5093437\ttotal: 5.4s\tremaining: 8.31s\n",
      "197:\tlearn: 1888.7034013\ttotal: 5.43s\tremaining: 8.28s\n",
      "198:\tlearn: 1888.3716197\ttotal: 5.46s\tremaining: 8.25s\n",
      "199:\tlearn: 1887.6613874\ttotal: 5.48s\tremaining: 8.23s\n",
      "200:\tlearn: 1886.2721741\ttotal: 5.51s\tremaining: 8.2s\n",
      "201:\tlearn: 1885.5249007\ttotal: 5.54s\tremaining: 8.17s\n",
      "202:\tlearn: 1884.9705901\ttotal: 5.56s\tremaining: 8.14s\n",
      "203:\tlearn: 1884.4873664\ttotal: 5.59s\tremaining: 8.11s\n",
      "204:\tlearn: 1883.8488757\ttotal: 5.62s\tremaining: 8.08s\n",
      "205:\tlearn: 1883.1544887\ttotal: 5.64s\tremaining: 8.05s\n",
      "206:\tlearn: 1882.4795600\ttotal: 5.67s\tremaining: 8.03s\n",
      "207:\tlearn: 1881.5352809\ttotal: 5.7s\tremaining: 8s\n",
      "208:\tlearn: 1880.8732004\ttotal: 5.73s\tremaining: 7.97s\n",
      "209:\tlearn: 1880.3184551\ttotal: 5.75s\tremaining: 7.95s\n",
      "210:\tlearn: 1879.6154754\ttotal: 5.78s\tremaining: 7.92s\n",
      "211:\tlearn: 1879.2304345\ttotal: 5.81s\tremaining: 7.89s\n",
      "212:\tlearn: 1878.2337201\ttotal: 5.83s\tremaining: 7.86s\n",
      "213:\tlearn: 1877.5674418\ttotal: 5.86s\tremaining: 7.83s\n",
      "214:\tlearn: 1876.9347653\ttotal: 5.89s\tremaining: 7.8s\n",
      "215:\tlearn: 1876.1226020\ttotal: 5.91s\tremaining: 7.78s\n",
      "216:\tlearn: 1875.3408958\ttotal: 5.94s\tremaining: 7.75s\n",
      "217:\tlearn: 1874.7115118\ttotal: 5.97s\tremaining: 7.72s\n",
      "218:\tlearn: 1873.8734493\ttotal: 6s\tremaining: 7.69s\n",
      "219:\tlearn: 1873.5009968\ttotal: 6.02s\tremaining: 7.66s\n",
      "220:\tlearn: 1872.5751214\ttotal: 6.05s\tremaining: 7.64s\n",
      "221:\tlearn: 1871.7698786\ttotal: 6.08s\tremaining: 7.61s\n",
      "222:\tlearn: 1871.3798893\ttotal: 6.1s\tremaining: 7.58s\n",
      "223:\tlearn: 1870.2849209\ttotal: 6.13s\tremaining: 7.55s\n",
      "224:\tlearn: 1869.7642245\ttotal: 6.16s\tremaining: 7.53s\n",
      "225:\tlearn: 1869.2599308\ttotal: 6.18s\tremaining: 7.5s\n",
      "226:\tlearn: 1868.5601376\ttotal: 6.21s\tremaining: 7.47s\n",
      "227:\tlearn: 1867.9137958\ttotal: 6.24s\tremaining: 7.44s\n",
      "228:\tlearn: 1867.6136453\ttotal: 6.27s\tremaining: 7.42s\n",
      "229:\tlearn: 1866.8700420\ttotal: 6.29s\tremaining: 7.39s\n",
      "230:\tlearn: 1866.2390436\ttotal: 6.32s\tremaining: 7.36s\n",
      "231:\tlearn: 1865.2033845\ttotal: 6.35s\tremaining: 7.33s\n",
      "232:\tlearn: 1864.6938077\ttotal: 6.38s\tremaining: 7.31s\n",
      "233:\tlearn: 1864.1020134\ttotal: 6.41s\tremaining: 7.28s\n",
      "234:\tlearn: 1863.3228896\ttotal: 6.44s\tremaining: 7.26s\n",
      "235:\tlearn: 1862.6722225\ttotal: 6.47s\tremaining: 7.23s\n",
      "236:\tlearn: 1862.1059908\ttotal: 6.5s\tremaining: 7.21s\n",
      "237:\tlearn: 1861.7776202\ttotal: 6.52s\tremaining: 7.18s\n",
      "238:\tlearn: 1860.9347545\ttotal: 6.55s\tremaining: 7.16s\n",
      "239:\tlearn: 1860.2204567\ttotal: 6.58s\tremaining: 7.13s\n",
      "240:\tlearn: 1859.7742102\ttotal: 6.61s\tremaining: 7.1s\n",
      "241:\tlearn: 1859.4554291\ttotal: 6.64s\tremaining: 7.08s\n",
      "242:\tlearn: 1858.7897347\ttotal: 6.67s\tremaining: 7.05s\n",
      "243:\tlearn: 1858.2209644\ttotal: 6.69s\tremaining: 7.02s\n",
      "244:\tlearn: 1857.9874536\ttotal: 6.72s\tremaining: 6.99s\n",
      "245:\tlearn: 1857.4448253\ttotal: 6.75s\tremaining: 6.97s\n",
      "246:\tlearn: 1856.8357132\ttotal: 6.78s\tremaining: 6.94s\n",
      "247:\tlearn: 1856.0136392\ttotal: 6.8s\tremaining: 6.91s\n",
      "248:\tlearn: 1855.6895534\ttotal: 6.83s\tremaining: 6.89s\n",
      "249:\tlearn: 1855.2460400\ttotal: 6.86s\tremaining: 6.86s\n",
      "250:\tlearn: 1854.7933483\ttotal: 6.88s\tremaining: 6.83s\n",
      "251:\tlearn: 1854.2256361\ttotal: 6.91s\tremaining: 6.8s\n",
      "252:\tlearn: 1853.8509359\ttotal: 6.94s\tremaining: 6.77s\n",
      "253:\tlearn: 1853.4742888\ttotal: 6.96s\tremaining: 6.74s\n",
      "254:\tlearn: 1853.1586825\ttotal: 6.99s\tremaining: 6.72s\n",
      "255:\tlearn: 1852.7595061\ttotal: 7.02s\tremaining: 6.69s\n",
      "256:\tlearn: 1852.0053599\ttotal: 7.05s\tremaining: 6.67s\n",
      "257:\tlearn: 1851.5424588\ttotal: 7.08s\tremaining: 6.64s\n",
      "258:\tlearn: 1850.8399605\ttotal: 7.11s\tremaining: 6.61s\n",
      "259:\tlearn: 1850.4715895\ttotal: 7.14s\tremaining: 6.59s\n",
      "260:\tlearn: 1850.2029752\ttotal: 7.17s\tremaining: 6.56s\n",
      "261:\tlearn: 1849.7851761\ttotal: 7.19s\tremaining: 6.53s\n",
      "262:\tlearn: 1849.1668497\ttotal: 7.22s\tremaining: 6.51s\n",
      "263:\tlearn: 1848.3235587\ttotal: 7.26s\tremaining: 6.49s\n",
      "264:\tlearn: 1847.7875998\ttotal: 7.28s\tremaining: 6.46s\n",
      "265:\tlearn: 1847.1934236\ttotal: 7.31s\tremaining: 6.43s\n",
      "266:\tlearn: 1846.6480001\ttotal: 7.34s\tremaining: 6.41s\n",
      "267:\tlearn: 1846.2928519\ttotal: 7.37s\tremaining: 6.38s\n",
      "268:\tlearn: 1845.8874324\ttotal: 7.39s\tremaining: 6.35s\n",
      "269:\tlearn: 1845.4986323\ttotal: 7.42s\tremaining: 6.32s\n",
      "270:\tlearn: 1844.9014083\ttotal: 7.45s\tremaining: 6.3s\n",
      "271:\tlearn: 1844.5776186\ttotal: 7.47s\tremaining: 6.26s\n",
      "272:\tlearn: 1844.2211559\ttotal: 7.5s\tremaining: 6.24s\n",
      "273:\tlearn: 1843.7899967\ttotal: 7.53s\tremaining: 6.21s\n",
      "274:\tlearn: 1843.3851892\ttotal: 7.56s\tremaining: 6.18s\n",
      "275:\tlearn: 1842.9001549\ttotal: 7.59s\tremaining: 6.16s\n",
      "276:\tlearn: 1842.3639918\ttotal: 7.61s\tremaining: 6.13s\n",
      "277:\tlearn: 1842.1088543\ttotal: 7.64s\tremaining: 6.1s\n",
      "278:\tlearn: 1841.7895816\ttotal: 7.67s\tremaining: 6.08s\n",
      "279:\tlearn: 1841.3657787\ttotal: 7.7s\tremaining: 6.05s\n",
      "280:\tlearn: 1840.6758631\ttotal: 7.73s\tremaining: 6.03s\n",
      "281:\tlearn: 1840.3885033\ttotal: 7.76s\tremaining: 6s\n",
      "282:\tlearn: 1840.0063845\ttotal: 7.79s\tremaining: 5.97s\n",
      "283:\tlearn: 1839.7283012\ttotal: 7.81s\tremaining: 5.94s\n",
      "284:\tlearn: 1839.0662325\ttotal: 7.84s\tremaining: 5.91s\n",
      "285:\tlearn: 1838.5969356\ttotal: 7.87s\tremaining: 5.89s\n",
      "286:\tlearn: 1837.8198515\ttotal: 7.9s\tremaining: 5.87s\n",
      "287:\tlearn: 1837.2191928\ttotal: 7.93s\tremaining: 5.84s\n",
      "288:\tlearn: 1836.9172300\ttotal: 7.96s\tremaining: 5.81s\n",
      "289:\tlearn: 1836.4421970\ttotal: 7.99s\tremaining: 5.78s\n",
      "290:\tlearn: 1836.0106838\ttotal: 8.02s\tremaining: 5.76s\n",
      "291:\tlearn: 1835.5185016\ttotal: 8.05s\tremaining: 5.73s\n",
      "292:\tlearn: 1834.9689666\ttotal: 8.07s\tremaining: 5.7s\n",
      "293:\tlearn: 1834.7722544\ttotal: 8.1s\tremaining: 5.68s\n",
      "294:\tlearn: 1834.2983131\ttotal: 8.13s\tremaining: 5.65s\n",
      "295:\tlearn: 1833.8906950\ttotal: 8.16s\tremaining: 5.62s\n",
      "296:\tlearn: 1833.4291082\ttotal: 8.19s\tremaining: 5.6s\n",
      "297:\tlearn: 1832.9382347\ttotal: 8.22s\tremaining: 5.57s\n",
      "298:\tlearn: 1832.5802406\ttotal: 8.25s\tremaining: 5.55s\n",
      "299:\tlearn: 1832.4057033\ttotal: 8.28s\tremaining: 5.52s\n",
      "300:\tlearn: 1832.0551340\ttotal: 8.31s\tremaining: 5.49s\n",
      "301:\tlearn: 1831.6897498\ttotal: 8.34s\tremaining: 5.46s\n",
      "302:\tlearn: 1831.1433497\ttotal: 8.37s\tremaining: 5.44s\n",
      "303:\tlearn: 1830.7489946\ttotal: 8.39s\tremaining: 5.41s\n",
      "304:\tlearn: 1830.2497999\ttotal: 8.42s\tremaining: 5.39s\n",
      "305:\tlearn: 1829.8622573\ttotal: 8.45s\tremaining: 5.36s\n",
      "306:\tlearn: 1829.5518082\ttotal: 8.48s\tremaining: 5.33s\n",
      "307:\tlearn: 1829.1470503\ttotal: 8.51s\tremaining: 5.3s\n",
      "308:\tlearn: 1828.4739618\ttotal: 8.54s\tremaining: 5.28s\n",
      "309:\tlearn: 1828.1817486\ttotal: 8.57s\tremaining: 5.25s\n",
      "310:\tlearn: 1827.7172572\ttotal: 8.6s\tremaining: 5.23s\n",
      "311:\tlearn: 1827.4402414\ttotal: 8.63s\tremaining: 5.2s\n",
      "312:\tlearn: 1826.7715952\ttotal: 8.66s\tremaining: 5.17s\n",
      "313:\tlearn: 1826.3857999\ttotal: 8.68s\tremaining: 5.14s\n",
      "314:\tlearn: 1825.9360095\ttotal: 8.71s\tremaining: 5.12s\n",
      "315:\tlearn: 1825.6141390\ttotal: 8.75s\tremaining: 5.09s\n",
      "316:\tlearn: 1825.1167800\ttotal: 8.78s\tremaining: 5.07s\n",
      "317:\tlearn: 1824.8743581\ttotal: 8.81s\tremaining: 5.04s\n",
      "318:\tlearn: 1824.4048886\ttotal: 8.84s\tremaining: 5.01s\n",
      "319:\tlearn: 1824.1437684\ttotal: 8.86s\tremaining: 4.98s\n",
      "320:\tlearn: 1823.6628196\ttotal: 8.89s\tremaining: 4.96s\n",
      "321:\tlearn: 1823.4798818\ttotal: 8.92s\tremaining: 4.93s\n",
      "322:\tlearn: 1822.9325796\ttotal: 8.94s\tremaining: 4.9s\n",
      "323:\tlearn: 1822.4570634\ttotal: 8.97s\tremaining: 4.87s\n",
      "324:\tlearn: 1822.1789122\ttotal: 9s\tremaining: 4.85s\n",
      "325:\tlearn: 1821.7099693\ttotal: 9.03s\tremaining: 4.82s\n",
      "326:\tlearn: 1821.0807894\ttotal: 9.06s\tremaining: 4.79s\n",
      "327:\tlearn: 1820.5484111\ttotal: 9.09s\tremaining: 4.76s\n",
      "328:\tlearn: 1820.0546683\ttotal: 9.12s\tremaining: 4.74s\n",
      "329:\tlearn: 1819.3642112\ttotal: 9.15s\tremaining: 4.71s\n",
      "330:\tlearn: 1818.9063069\ttotal: 9.18s\tremaining: 4.69s\n",
      "331:\tlearn: 1818.1782061\ttotal: 9.21s\tremaining: 4.66s\n",
      "332:\tlearn: 1817.6534043\ttotal: 9.23s\tremaining: 4.63s\n",
      "333:\tlearn: 1817.3428732\ttotal: 9.26s\tremaining: 4.6s\n",
      "334:\tlearn: 1816.9810081\ttotal: 9.29s\tremaining: 4.58s\n",
      "335:\tlearn: 1816.4537393\ttotal: 9.32s\tremaining: 4.55s\n",
      "336:\tlearn: 1816.0739079\ttotal: 9.35s\tremaining: 4.52s\n",
      "337:\tlearn: 1815.5942009\ttotal: 9.38s\tremaining: 4.49s\n",
      "338:\tlearn: 1815.3606992\ttotal: 9.4s\tremaining: 4.47s\n",
      "339:\tlearn: 1815.1317511\ttotal: 9.43s\tremaining: 4.44s\n",
      "340:\tlearn: 1814.8608899\ttotal: 9.46s\tremaining: 4.41s\n",
      "341:\tlearn: 1814.5165239\ttotal: 9.48s\tremaining: 4.38s\n",
      "342:\tlearn: 1814.0120896\ttotal: 9.51s\tremaining: 4.35s\n",
      "343:\tlearn: 1813.3929688\ttotal: 9.54s\tremaining: 4.33s\n",
      "344:\tlearn: 1813.0624764\ttotal: 9.57s\tremaining: 4.3s\n",
      "345:\tlearn: 1812.4971803\ttotal: 9.6s\tremaining: 4.27s\n",
      "346:\tlearn: 1812.2122789\ttotal: 9.63s\tremaining: 4.25s\n",
      "347:\tlearn: 1812.0017112\ttotal: 9.66s\tremaining: 4.22s\n",
      "348:\tlearn: 1811.8539132\ttotal: 9.69s\tremaining: 4.19s\n",
      "349:\tlearn: 1811.3601681\ttotal: 9.72s\tremaining: 4.16s\n",
      "350:\tlearn: 1810.9195111\ttotal: 9.74s\tremaining: 4.13s\n",
      "351:\tlearn: 1810.7045964\ttotal: 9.77s\tremaining: 4.11s\n",
      "352:\tlearn: 1810.4072844\ttotal: 9.8s\tremaining: 4.08s\n",
      "353:\tlearn: 1809.8323567\ttotal: 9.83s\tremaining: 4.05s\n",
      "354:\tlearn: 1809.3902968\ttotal: 9.86s\tremaining: 4.03s\n",
      "355:\tlearn: 1809.0168935\ttotal: 9.89s\tremaining: 4s\n",
      "356:\tlearn: 1808.6446150\ttotal: 9.92s\tremaining: 3.97s\n",
      "357:\tlearn: 1808.3304555\ttotal: 9.95s\tremaining: 3.94s\n",
      "358:\tlearn: 1808.0193120\ttotal: 9.97s\tremaining: 3.92s\n",
      "359:\tlearn: 1807.7812766\ttotal: 10s\tremaining: 3.89s\n",
      "360:\tlearn: 1807.5041077\ttotal: 10s\tremaining: 3.86s\n",
      "361:\tlearn: 1807.2856619\ttotal: 10.1s\tremaining: 3.83s\n",
      "362:\tlearn: 1806.9090768\ttotal: 10.1s\tremaining: 3.81s\n",
      "363:\tlearn: 1806.6930429\ttotal: 10.1s\tremaining: 3.78s\n",
      "364:\tlearn: 1806.5233981\ttotal: 10.1s\tremaining: 3.75s\n",
      "365:\tlearn: 1806.0986959\ttotal: 10.2s\tremaining: 3.73s\n",
      "366:\tlearn: 1805.8031014\ttotal: 10.2s\tremaining: 3.7s\n",
      "367:\tlearn: 1805.5083033\ttotal: 10.2s\tremaining: 3.67s\n",
      "368:\tlearn: 1805.2308336\ttotal: 10.3s\tremaining: 3.64s\n",
      "369:\tlearn: 1804.8441389\ttotal: 10.3s\tremaining: 3.61s\n",
      "370:\tlearn: 1804.5077444\ttotal: 10.3s\tremaining: 3.59s\n",
      "371:\tlearn: 1804.3912574\ttotal: 10.3s\tremaining: 3.56s\n",
      "372:\tlearn: 1804.2633078\ttotal: 10.4s\tremaining: 3.53s\n",
      "373:\tlearn: 1803.7765503\ttotal: 10.4s\tremaining: 3.5s\n",
      "374:\tlearn: 1803.2410393\ttotal: 10.4s\tremaining: 3.47s\n",
      "375:\tlearn: 1803.0882674\ttotal: 10.5s\tremaining: 3.45s\n",
      "376:\tlearn: 1802.7249032\ttotal: 10.5s\tremaining: 3.42s\n",
      "377:\tlearn: 1802.2047857\ttotal: 10.5s\tremaining: 3.39s\n",
      "378:\tlearn: 1801.7949485\ttotal: 10.5s\tremaining: 3.36s\n",
      "379:\tlearn: 1801.6377175\ttotal: 10.6s\tremaining: 3.34s\n",
      "380:\tlearn: 1801.3645950\ttotal: 10.6s\tremaining: 3.31s\n",
      "381:\tlearn: 1801.1651991\ttotal: 10.6s\tremaining: 3.28s\n",
      "382:\tlearn: 1800.8832253\ttotal: 10.6s\tremaining: 3.25s\n",
      "383:\tlearn: 1800.6255283\ttotal: 10.7s\tremaining: 3.22s\n",
      "384:\tlearn: 1800.1959067\ttotal: 10.7s\tremaining: 3.2s\n",
      "385:\tlearn: 1799.9276574\ttotal: 10.7s\tremaining: 3.17s\n",
      "386:\tlearn: 1799.5620942\ttotal: 10.8s\tremaining: 3.14s\n",
      "387:\tlearn: 1799.3708425\ttotal: 10.8s\tremaining: 3.12s\n",
      "388:\tlearn: 1798.9766246\ttotal: 10.8s\tremaining: 3.09s\n",
      "389:\tlearn: 1798.6486853\ttotal: 10.9s\tremaining: 3.06s\n",
      "390:\tlearn: 1798.1689348\ttotal: 10.9s\tremaining: 3.03s\n",
      "391:\tlearn: 1797.9487852\ttotal: 10.9s\tremaining: 3s\n",
      "392:\tlearn: 1797.6344151\ttotal: 10.9s\tremaining: 2.98s\n",
      "393:\tlearn: 1797.4410205\ttotal: 11s\tremaining: 2.95s\n",
      "394:\tlearn: 1797.0961692\ttotal: 11s\tremaining: 2.92s\n",
      "395:\tlearn: 1796.2618953\ttotal: 11s\tremaining: 2.89s\n",
      "396:\tlearn: 1796.0251215\ttotal: 11s\tremaining: 2.87s\n",
      "397:\tlearn: 1795.8375760\ttotal: 11.1s\tremaining: 2.84s\n",
      "398:\tlearn: 1795.4084145\ttotal: 11.1s\tremaining: 2.81s\n",
      "399:\tlearn: 1795.1812597\ttotal: 11.1s\tremaining: 2.78s\n",
      "400:\tlearn: 1794.7651633\ttotal: 11.2s\tremaining: 2.76s\n",
      "401:\tlearn: 1794.4242635\ttotal: 11.2s\tremaining: 2.73s\n",
      "402:\tlearn: 1794.1266329\ttotal: 11.2s\tremaining: 2.7s\n",
      "403:\tlearn: 1793.9009602\ttotal: 11.2s\tremaining: 2.67s\n",
      "404:\tlearn: 1793.4982651\ttotal: 11.3s\tremaining: 2.65s\n",
      "405:\tlearn: 1793.2702662\ttotal: 11.3s\tremaining: 2.62s\n",
      "406:\tlearn: 1792.8363140\ttotal: 11.3s\tremaining: 2.59s\n",
      "407:\tlearn: 1792.6516950\ttotal: 11.4s\tremaining: 2.56s\n",
      "408:\tlearn: 1792.3729253\ttotal: 11.4s\tremaining: 2.53s\n",
      "409:\tlearn: 1792.0301412\ttotal: 11.4s\tremaining: 2.51s\n",
      "410:\tlearn: 1791.4410795\ttotal: 11.4s\tremaining: 2.48s\n",
      "411:\tlearn: 1791.1457810\ttotal: 11.5s\tremaining: 2.45s\n",
      "412:\tlearn: 1790.8947353\ttotal: 11.5s\tremaining: 2.42s\n",
      "413:\tlearn: 1790.7421656\ttotal: 11.5s\tremaining: 2.4s\n",
      "414:\tlearn: 1790.5411027\ttotal: 11.6s\tremaining: 2.37s\n",
      "415:\tlearn: 1790.2922287\ttotal: 11.6s\tremaining: 2.34s\n",
      "416:\tlearn: 1789.8473073\ttotal: 11.6s\tremaining: 2.31s\n",
      "417:\tlearn: 1789.5615842\ttotal: 11.6s\tremaining: 2.29s\n",
      "418:\tlearn: 1789.1794395\ttotal: 11.7s\tremaining: 2.26s\n",
      "419:\tlearn: 1788.7907408\ttotal: 11.7s\tremaining: 2.23s\n",
      "420:\tlearn: 1788.4807033\ttotal: 11.7s\tremaining: 2.2s\n",
      "421:\tlearn: 1788.1689892\ttotal: 11.8s\tremaining: 2.17s\n",
      "422:\tlearn: 1787.9635412\ttotal: 11.8s\tremaining: 2.15s\n",
      "423:\tlearn: 1787.7653633\ttotal: 11.8s\tremaining: 2.12s\n",
      "424:\tlearn: 1787.3882265\ttotal: 11.8s\tremaining: 2.09s\n",
      "425:\tlearn: 1787.2426509\ttotal: 11.9s\tremaining: 2.06s\n",
      "426:\tlearn: 1786.8762812\ttotal: 11.9s\tremaining: 2.03s\n",
      "427:\tlearn: 1786.7413741\ttotal: 11.9s\tremaining: 2.01s\n",
      "428:\tlearn: 1786.4892230\ttotal: 12s\tremaining: 1.98s\n",
      "429:\tlearn: 1786.1461056\ttotal: 12s\tremaining: 1.95s\n",
      "430:\tlearn: 1785.8966491\ttotal: 12s\tremaining: 1.92s\n",
      "431:\tlearn: 1785.7647800\ttotal: 12s\tremaining: 1.9s\n",
      "432:\tlearn: 1785.5542502\ttotal: 12.1s\tremaining: 1.87s\n",
      "433:\tlearn: 1785.1890770\ttotal: 12.1s\tremaining: 1.84s\n",
      "434:\tlearn: 1784.9671735\ttotal: 12.1s\tremaining: 1.81s\n",
      "435:\tlearn: 1784.8480453\ttotal: 12.2s\tremaining: 1.78s\n",
      "436:\tlearn: 1784.5517652\ttotal: 12.2s\tremaining: 1.76s\n",
      "437:\tlearn: 1784.2964320\ttotal: 12.2s\tremaining: 1.73s\n",
      "438:\tlearn: 1783.9959872\ttotal: 12.2s\tremaining: 1.7s\n",
      "439:\tlearn: 1783.7077914\ttotal: 12.3s\tremaining: 1.67s\n",
      "440:\tlearn: 1783.4513403\ttotal: 12.3s\tremaining: 1.65s\n",
      "441:\tlearn: 1783.1461395\ttotal: 12.3s\tremaining: 1.62s\n",
      "442:\tlearn: 1783.0176043\ttotal: 12.4s\tremaining: 1.59s\n",
      "443:\tlearn: 1782.4913334\ttotal: 12.4s\tremaining: 1.56s\n",
      "444:\tlearn: 1782.1804585\ttotal: 12.4s\tremaining: 1.53s\n",
      "445:\tlearn: 1781.6677014\ttotal: 12.4s\tremaining: 1.51s\n",
      "446:\tlearn: 1781.1504200\ttotal: 12.5s\tremaining: 1.48s\n",
      "447:\tlearn: 1780.6827408\ttotal: 12.5s\tremaining: 1.45s\n",
      "448:\tlearn: 1780.3929590\ttotal: 12.5s\tremaining: 1.42s\n",
      "449:\tlearn: 1780.1756018\ttotal: 12.6s\tremaining: 1.4s\n",
      "450:\tlearn: 1779.8810719\ttotal: 12.6s\tremaining: 1.37s\n",
      "451:\tlearn: 1779.2890092\ttotal: 12.6s\tremaining: 1.34s\n",
      "452:\tlearn: 1779.0050138\ttotal: 12.6s\tremaining: 1.31s\n",
      "453:\tlearn: 1778.7838233\ttotal: 12.7s\tremaining: 1.28s\n",
      "454:\tlearn: 1778.3747145\ttotal: 12.7s\tremaining: 1.25s\n",
      "455:\tlearn: 1778.0399519\ttotal: 12.7s\tremaining: 1.23s\n",
      "456:\tlearn: 1777.7992280\ttotal: 12.8s\tremaining: 1.2s\n",
      "457:\tlearn: 1777.4970997\ttotal: 12.8s\tremaining: 1.17s\n",
      "458:\tlearn: 1777.1268682\ttotal: 12.8s\tremaining: 1.14s\n",
      "459:\tlearn: 1776.8643461\ttotal: 12.8s\tremaining: 1.12s\n",
      "460:\tlearn: 1776.6011444\ttotal: 12.9s\tremaining: 1.09s\n",
      "461:\tlearn: 1776.2885334\ttotal: 12.9s\tremaining: 1.06s\n",
      "462:\tlearn: 1776.0537936\ttotal: 12.9s\tremaining: 1.03s\n",
      "463:\tlearn: 1775.7606371\ttotal: 13s\tremaining: 1s\n",
      "464:\tlearn: 1775.5470015\ttotal: 13s\tremaining: 978ms\n",
      "465:\tlearn: 1775.3224280\ttotal: 13s\tremaining: 950ms\n",
      "466:\tlearn: 1775.0935644\ttotal: 13s\tremaining: 922ms\n",
      "467:\tlearn: 1774.9579257\ttotal: 13.1s\tremaining: 894ms\n",
      "468:\tlearn: 1774.4872279\ttotal: 13.1s\tremaining: 866ms\n",
      "469:\tlearn: 1773.9260693\ttotal: 13.1s\tremaining: 838ms\n",
      "470:\tlearn: 1773.7522813\ttotal: 13.2s\tremaining: 810ms\n",
      "471:\tlearn: 1773.5825736\ttotal: 13.2s\tremaining: 782ms\n",
      "472:\tlearn: 1773.2257474\ttotal: 13.2s\tremaining: 754ms\n",
      "473:\tlearn: 1772.8986579\ttotal: 13.2s\tremaining: 726ms\n",
      "474:\tlearn: 1772.7629636\ttotal: 13.3s\tremaining: 698ms\n",
      "475:\tlearn: 1772.5055762\ttotal: 13.3s\tremaining: 670ms\n",
      "476:\tlearn: 1772.3124419\ttotal: 13.3s\tremaining: 642ms\n",
      "477:\tlearn: 1772.0187030\ttotal: 13.3s\tremaining: 614ms\n",
      "478:\tlearn: 1771.8852226\ttotal: 13.4s\tremaining: 586ms\n",
      "479:\tlearn: 1771.5098327\ttotal: 13.4s\tremaining: 559ms\n",
      "480:\tlearn: 1771.2184068\ttotal: 13.4s\tremaining: 531ms\n",
      "481:\tlearn: 1771.0786762\ttotal: 13.5s\tremaining: 503ms\n",
      "482:\tlearn: 1770.8181064\ttotal: 13.5s\tremaining: 475ms\n",
      "483:\tlearn: 1770.6749774\ttotal: 13.5s\tremaining: 447ms\n",
      "484:\tlearn: 1770.1595879\ttotal: 13.5s\tremaining: 419ms\n",
      "485:\tlearn: 1769.8725943\ttotal: 13.6s\tremaining: 391ms\n",
      "486:\tlearn: 1769.6519815\ttotal: 13.6s\tremaining: 363ms\n",
      "487:\tlearn: 1769.2033471\ttotal: 13.6s\tremaining: 335ms\n",
      "488:\tlearn: 1768.7909287\ttotal: 13.7s\tremaining: 307ms\n",
      "489:\tlearn: 1768.3710931\ttotal: 13.7s\tremaining: 279ms\n",
      "490:\tlearn: 1768.1267632\ttotal: 13.7s\tremaining: 251ms\n",
      "491:\tlearn: 1767.8470171\ttotal: 13.7s\tremaining: 223ms\n",
      "492:\tlearn: 1767.4902728\ttotal: 13.8s\tremaining: 195ms\n",
      "493:\tlearn: 1767.3508362\ttotal: 13.8s\tremaining: 168ms\n",
      "494:\tlearn: 1767.1477556\ttotal: 13.8s\tremaining: 140ms\n",
      "495:\tlearn: 1766.9665825\ttotal: 13.8s\tremaining: 112ms\n",
      "496:\tlearn: 1766.6491354\ttotal: 13.9s\tremaining: 83.7ms\n",
      "497:\tlearn: 1766.4363804\ttotal: 13.9s\tremaining: 55.8ms\n",
      "498:\tlearn: 1766.3067301\ttotal: 13.9s\tremaining: 27.9ms\n",
      "499:\tlearn: 1766.0965715\ttotal: 13.9s\tremaining: 0us\n",
      "RMSE: 1853.536655581725\n",
      "Wall time: 14.4 s\n"
     ]
    }
   ],
   "source": [
    "%%time\n",
    "model_cb = CatBoostRegressor(**best_param_catboost)\n",
    "model_cb.fit(features_train, target_train)\n",
    "predictions_cb = model_cb.predict(features_valid)\n",
    "rmse_cb = mean_squared_error(predictions_cb, target_valid) ** .5\n",
    "print('RMSE:', rmse_cb)"
   ]
  },
  {
   "cell_type": "markdown",
   "metadata": {},
   "source": [
    "*Показатель метрики RMSE чуть упал. Значительно сократилось время, так как мы уже не перебирали гипперпараметры, а взяли лучшие*"
   ]
  },
  {
   "cell_type": "markdown",
   "metadata": {},
   "source": [
    "### LightGBM"
   ]
  },
  {
   "cell_type": "code",
   "execution_count": 56,
   "metadata": {},
   "outputs": [
    {
     "name": "stdout",
     "output_type": "stream",
     "text": [
      "RMSE: 1846.4896822507146\n",
      "Wall time: 1.96 s\n"
     ]
    }
   ],
   "source": [
    "%%time\n",
    "model_lgb = lgb.LGBMRegressor(**best_param_lgbmregressor)\n",
    "model_lgb.fit(features_train, target_train)\n",
    "predictions_lgb = model_lgb.predict(features_valid)\n",
    "rmse_lgbm = mean_squared_error(predictions_lgb, target_valid)**.5\n",
    "print('RMSE:', rmse_lgbm)"
   ]
  },
  {
   "cell_type": "markdown",
   "metadata": {},
   "source": [
    "*ЛГБМ на валидационной выборке показал себя получше, чем на обучающей.*"
   ]
  },
  {
   "cell_type": "markdown",
   "metadata": {},
   "source": [
    "### Dummy"
   ]
  },
  {
   "cell_type": "code",
   "execution_count": 57,
   "metadata": {},
   "outputs": [
    {
     "name": "stdout",
     "output_type": "stream",
     "text": [
      "RMSE (константная модель): 4544.446567523317\n"
     ]
    }
   ],
   "source": [
    "mean = target_train.mean()\n",
    "len = features_valid.shape[0]\n",
    "dummy_predictions = np.full((len, 1), mean)\n",
    "dummy_rmse = mean_squared_error(dummy_predictions, target_valid)**0.5\n",
    "print('RMSE (константная модель):',dummy_rmse)"
   ]
  },
  {
   "cell_type": "markdown",
   "metadata": {},
   "source": [
    "## Вывод\n",
    "\n",
    "*LGBM показала лучшие результаты*\n",
    "\n",
    "*Обучение LGBMt было быстрее, чем у CatBoost, а результаты CatBoost по метрике RMSE были чуть лучше. Так как модели показали себя +/- одинаково по показателям метрики RMSE, будем смотреть на времязатратность на обучение, и тут LGBM явный фаворит*"
   ]
  },
  {
   "cell_type": "markdown",
   "metadata": {},
   "source": [
    "## Итог"
   ]
  },
  {
   "cell_type": "code",
   "execution_count": 62,
   "metadata": {},
   "outputs": [
    {
     "data": {
      "text/html": [
       "<div>\n",
       "<style scoped>\n",
       "    .dataframe tbody tr th:only-of-type {\n",
       "        vertical-align: middle;\n",
       "    }\n",
       "\n",
       "    .dataframe tbody tr th {\n",
       "        vertical-align: top;\n",
       "    }\n",
       "\n",
       "    .dataframe thead th {\n",
       "        text-align: right;\n",
       "    }\n",
       "</style>\n",
       "<table border=\"1\" class=\"dataframe\">\n",
       "  <thead>\n",
       "    <tr style=\"text-align: right;\">\n",
       "      <th></th>\n",
       "      <th>RMSE</th>\n",
       "      <th>RMSE(mean)</th>\n",
       "    </tr>\n",
       "  </thead>\n",
       "  <tbody>\n",
       "    <tr>\n",
       "      <th>Линейная регрессия</th>\n",
       "      <td>3278.489351</td>\n",
       "      <td>4544.446568</td>\n",
       "    </tr>\n",
       "    <tr>\n",
       "      <th>CatBoostRegressor</th>\n",
       "      <td>1853.536656</td>\n",
       "      <td>4544.446568</td>\n",
       "    </tr>\n",
       "    <tr>\n",
       "      <th>LGBMRegressor</th>\n",
       "      <td>1846.489682</td>\n",
       "      <td>4544.446568</td>\n",
       "    </tr>\n",
       "  </tbody>\n",
       "</table>\n",
       "</div>"
      ],
      "text/plain": [
       "                           RMSE   RMSE(mean)\n",
       "Линейная регрессия  3278.489351  4544.446568\n",
       "CatBoostRegressor   1853.536656  4544.446568\n",
       "LGBMRegressor       1846.489682  4544.446568"
      ]
     },
     "metadata": {},
     "output_type": "display_data"
    }
   ],
   "source": [
    "d = {'RMSE': [rmse_lr, rmse_cb, rmse_lgbm],'RMSE(mean)' : [dummy_rmse, dummy_rmse, dummy_rmse]}\n",
    "final = pd.DataFrame(data=d, index = ['Линейная регрессия', 'CatBoostRegressor', 'LGBMRegressor'])\n",
    "display(final)"
   ]
  },
  {
   "cell_type": "markdown",
   "metadata": {},
   "source": [
    "## Вывод\n",
    "\n",
    "*Данные проанализированы, а также обработаны (пропуски заполнены, нулевые значения изменены, выбросы и дубликаты удалены). Категориальные признаки закодированы, а количественные масштабированы. Использовали 3 модели (Линейная регрессия, CatBoost, LightGBM. Лучше всех себя показал CatBoost и LGBM*"
   ]
  }
 ],
 "metadata": {
  "kernelspec": {
   "display_name": "Python 3",
   "language": "python",
   "name": "python3"
  },
  "language_info": {
   "codemirror_mode": {
    "name": "ipython",
    "version": 3
   },
   "file_extension": ".py",
   "mimetype": "text/x-python",
   "name": "python",
   "nbconvert_exporter": "python",
   "pygments_lexer": "ipython3",
   "version": "3.8.6"
  }
 },
 "nbformat": 4,
 "nbformat_minor": 2
}
